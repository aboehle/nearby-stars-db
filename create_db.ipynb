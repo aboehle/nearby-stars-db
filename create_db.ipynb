{
 "cells": [
  {
   "cell_type": "code",
   "execution_count": 430,
   "metadata": {
    "collapsed": true
   },
   "outputs": [],
   "source": [
    "import sqlite3\n",
    "from astroquery.simbad import Simbad\n",
    "import numpy as np"
   ]
  },
  {
   "cell_type": "code",
   "execution_count": 431,
   "metadata": {
    "collapsed": true
   },
   "outputs": [],
   "source": [
    "connection = sqlite3.connect('nearby_stars.db')"
   ]
  },
  {
   "cell_type": "code",
   "execution_count": 432,
   "metadata": {
    "collapsed": true
   },
   "outputs": [],
   "source": [
    "c = connection.cursor()"
   ]
  },
  {
   "cell_type": "markdown",
   "metadata": {},
   "source": [
    "## Create stars_simbad table"
   ]
  },
  {
   "cell_type": "code",
   "execution_count": 433,
   "metadata": {},
   "outputs": [],
   "source": [
    "# only run if deleting the table to re-make it:\n",
    "#c.execute('DROP TABLE IF EXISTS stars_simbad')"
   ]
  },
  {
   "cell_type": "code",
   "execution_count": 434,
   "metadata": {
    "collapsed": true
   },
   "outputs": [],
   "source": [
    "create_table = '''\n",
    "CREATE TABLE IF NOT EXISTS stars_simbad (\n",
    "id INTEGER PRIMARY KEY AUTOINCREMENT,\n",
    "main_id TEXT,\n",
    "hd TEXT,\n",
    "gj TEXT,\n",
    "wds TEXT,\n",
    "ra TEXT,\n",
    "dec TEXT,\n",
    "plx REAL,\n",
    "plx_err REAL,\n",
    "sptype TEXT,\n",
    "V_mag REAL,\n",
    "V_mag_err REAL,\n",
    "G_mag REAL,\n",
    "G_mag_err REAL\n",
    ")\n",
    "'''"
   ]
  },
  {
   "cell_type": "code",
   "execution_count": 435,
   "metadata": {},
   "outputs": [
    {
     "data": {
      "text/plain": [
       "<sqlite3.Cursor at 0x112875570>"
      ]
     },
     "execution_count": 435,
     "metadata": {},
     "output_type": "execute_result"
    }
   ],
   "source": [
    "c.execute(create_table)"
   ]
  },
  {
   "cell_type": "markdown",
   "metadata": {},
   "source": [
    "## Query Simbad for nearby stars"
   ]
  },
  {
   "cell_type": "markdown",
   "metadata": {},
   "source": [
    "Set maximum distance below."
   ]
  },
  {
   "cell_type": "code",
   "execution_count": 436,
   "metadata": {},
   "outputs": [
    {
     "name": "stdout",
     "output_type": "stream",
     "text": [
      "plx >= 50 mas for d <= 20 pc\n"
     ]
    }
   ],
   "source": [
    "d_max = 20 #pc\n",
    "plx_min = 1/(d_max*1e-3)\n",
    "print 'plx >= {:1.0f} mas for d <= {:1.0f} pc'.format(plx_min, d_max)"
   ]
  },
  {
   "cell_type": "markdown",
   "metadata": {},
   "source": [
    "Create custom output fields from Simbad."
   ]
  },
  {
   "cell_type": "code",
   "execution_count": 437,
   "metadata": {
    "collapsed": true
   },
   "outputs": [],
   "source": [
    "customSimbad = Simbad()"
   ]
  },
  {
   "cell_type": "code",
   "execution_count": 438,
   "metadata": {},
   "outputs": [
    {
     "data": {
      "text/plain": [
       "['main_id',\n",
       " 'coordinates',\n",
       " 'id(gj)',\n",
       " 'id(hd)',\n",
       " 'id(wds)',\n",
       " 'plx',\n",
       " 'plx_error',\n",
       " 'sp',\n",
       " 'flux(V)',\n",
       " 'flux_error(V)',\n",
       " 'flux(G)',\n",
       " 'flux_error(G)']"
      ]
     },
     "execution_count": 438,
     "metadata": {},
     "output_type": "execute_result"
    }
   ],
   "source": [
    "customSimbad.reset_votable_fields()\n",
    "customSimbad.add_votable_fields('id(gj)','id(hd)','id(wds)','plx','plx_error','sp',\n",
    "                                'flux(V)','flux_error(V)',\n",
    "                                'flux(G)','flux_error(G)')\n",
    "customSimbad.get_votable_fields()"
   ]
  },
  {
   "cell_type": "markdown",
   "metadata": {},
   "source": [
    "Do Simbad query:\n",
    "- solar-type stars (F/G/K)\n",
    "- plx > plx_min from above\n",
    "- excluding double stars (and the corresponding sub-categories, see: http://simbad.u-strasbg.fr/simbad/sim-display?data=otypes)"
   ]
  },
  {
   "cell_type": "code",
   "execution_count": 439,
   "metadata": {
    "collapsed": true
   },
   "outputs": [],
   "source": [
    "result = customSimbad.query_criteria(\"(spstring ~ 'F' | spstring ~ 'G' | spstring ~ 'K') & \\\n",
    "                                      (plx >= 50) & \\\n",
    "                                      (maintypes != '**')\")"
   ]
  },
  {
   "cell_type": "code",
   "execution_count": 440,
   "metadata": {},
   "outputs": [
    {
     "name": "stdout",
     "output_type": "stream",
     "text": [
      "['MAIN_ID', 'RA', 'DEC', 'RA_PREC', 'DEC_PREC', 'COO_ERR_MAJA', 'COO_ERR_MINA', 'COO_ERR_ANGLE', 'COO_QUAL', 'COO_WAVELENGTH', 'COO_BIBCODE', 'ID_gj', 'ID_hd', 'ID_wds', 'PLX_VALUE', 'PLX_ERROR', 'SP_TYPE', 'FLUX_V', 'FLUX_ERROR_V', 'FLUX_G', 'FLUX_ERROR_G']\n"
     ]
    }
   ],
   "source": [
    "print result.colnames"
   ]
  },
  {
   "cell_type": "markdown",
   "metadata": {},
   "source": [
    "## Change empty values to NULL"
   ]
  },
  {
   "cell_type": "markdown",
   "metadata": {},
   "source": [
    "Some columns can be empty, so I want to have NULL values in those columns:\n",
    "- ID_hd (empty string, not a masked value)\n",
    "- ID_gj (same as ID_hd)\n",
    "- FLUX_ERROR (a masked value)\n",
    "- FLUX (a masked value)"
   ]
  },
  {
   "cell_type": "markdown",
   "metadata": {},
   "source": [
    "For string columns it's easy to rename the empty strings:"
   ]
  },
  {
   "cell_type": "code",
   "execution_count": 441,
   "metadata": {
    "scrolled": true
   },
   "outputs": [],
   "source": [
    "result[:]['ID_hd'][np.where(result[:]['ID_hd'] == '')] = 'NULL'\n",
    "result[:]['ID_gj'][np.where(result[:]['ID_gj'] == '')] = 'NULL'\n",
    "result[:]['ID_wds'][np.where(result[:]['ID_wds'] == '')] = 'NULL'\n",
    "result[:]['MAIN_ID'][np.where(result[:]['MAIN_ID'] == '')] = 'NULL'"
   ]
  },
  {
   "cell_type": "code",
   "execution_count": 442,
   "metadata": {},
   "outputs": [
    {
     "name": "stdout",
     "output_type": "stream",
     "text": [
      "<type 'str'>\n"
     ]
    }
   ],
   "source": [
    "print type(result['ID_wds'][0])"
   ]
  },
  {
   "cell_type": "markdown",
   "metadata": {},
   "source": [
    "More difficult for the flux values... will make a new string-type array for these."
   ]
  },
  {
   "cell_type": "code",
   "execution_count": 443,
   "metadata": {},
   "outputs": [],
   "source": [
    "flux_table = np.column_stack( ( np.array(result['FLUX_V'],dtype=str),\n",
    "                                np.array(result['FLUX_ERROR_V'],dtype=str),\n",
    "                                np.array(result['FLUX_G'],dtype=str),\n",
    "                                np.array(result['FLUX_ERROR_G'],dtype=str),\n",
    "                              )\n",
    "                            )"
   ]
  },
  {
   "cell_type": "code",
   "execution_count": 444,
   "metadata": {},
   "outputs": [],
   "source": [
    "flux_table[np.where(flux_table == 'nan')] = 'NULL'"
   ]
  },
  {
   "cell_type": "code",
   "execution_count": 445,
   "metadata": {},
   "outputs": [
    {
     "name": "stdout",
     "output_type": "stream",
     "text": [
      "[['6.03000020981' 'NULL' '5.4236998558' '0.00150000001304']\n",
      " ['5.21000003815' 'NULL' '4.71649980545' '0.00260000000708']\n",
      " ['9.67399978638' '0.019999999553' '9.03890037537' '0.000399999989895']\n",
      " ..., \n",
      " ['10.8870000839' 'NULL' '10.0215997696' '0.000600000028498']\n",
      " ['11.2559995651' 'NULL' '10.2636003494' '0.0010000000475']\n",
      " ['10.3240003586' 'NULL' '9.3983001709' '0.000699999975041']]\n"
     ]
    }
   ],
   "source": [
    "print flux_table"
   ]
  },
  {
   "cell_type": "markdown",
   "metadata": {},
   "source": [
    "## Add results to stars_simbad table"
   ]
  },
  {
   "cell_type": "code",
   "execution_count": 446,
   "metadata": {},
   "outputs": [],
   "source": [
    "add_simbad_results = '''\n",
    "INSERT INTO stars_simbad (main_id, hd, gj, wds, ra, dec, plx, plx_err, sptype, V_mag, V_mag_err, G_mag, G_mag_err) \n",
    "VALUES('{:s}',{:s},{:s},{:s},'{:s}','{:s}',{:f},{:f},'{:s}',{:s},{:s},{:s},{:s});\n",
    "'''"
   ]
  },
  {
   "cell_type": "code",
   "execution_count": 447,
   "metadata": {
    "scrolled": true
   },
   "outputs": [],
   "source": [
    "null_str_format = '{:s}'\n",
    "str_format = \"'{:s}'\"\n",
    "\n",
    "for r,row in enumerate(result):\n",
    "    star_id_str = []\n",
    "    for star_id in [row['ID_hd'],row['ID_gj'],row['ID_wds']]:\n",
    "        if star_id == 'NULL':\n",
    "            star_id_str.append(null_str_format.format(star_id))\n",
    "        else:\n",
    "            star_id_str.append(str_format.format(star_id))\n",
    "            \n",
    "    c.execute(add_simbad_results.format(row['MAIN_ID'],\n",
    "                                        star_id_str[0],\n",
    "                                        star_id_str[1],\n",
    "                                        star_id_str[2],\n",
    "                                        row['RA'],\n",
    "                                        row['DEC'],\n",
    "                                        row['PLX_VALUE'],\n",
    "                                        row['PLX_ERROR'],\n",
    "                                        row['SP_TYPE'],\n",
    "                                        flux_table[r][0],\n",
    "                                        flux_table[r][1],\n",
    "                                        flux_table[r][2],\n",
    "                                        flux_table[r][3],\n",
    "                                       )\n",
    "             )"
   ]
  },
  {
   "cell_type": "markdown",
   "metadata": {},
   "source": [
    "## Save database"
   ]
  },
  {
   "cell_type": "code",
   "execution_count": 451,
   "metadata": {
    "collapsed": true
   },
   "outputs": [],
   "source": [
    "connection.commit()"
   ]
  },
  {
   "cell_type": "markdown",
   "metadata": {},
   "source": [
    "## Perform some SQL queries to check table"
   ]
  },
  {
   "cell_type": "code",
   "execution_count": 452,
   "metadata": {},
   "outputs": [
    {
     "name": "stdout",
     "output_type": "stream",
     "text": [
      "452\n",
      "\n",
      "(1, u'*  61 Cyg B', u'HD 201092', u'GJ 820 B', u'WDS J21069+3845B', u'21 06 55.2640', u'+38 44 31.362', 286.1457, 0.059, u'K7V', 6.03000020981, None, 5.4236998558, 0.00150000001304)\n",
      "(2, u'*  61 Cyg A', u'HD 201091', u'GJ 820 A', u'WDS J21069+3845A', u'21 06 53.9396', u'+38 44 57.897', 285.9459, 0.1008, u'K5V', 5.21000003815, None, 4.71649980545, 0.00260000000708)\n",
      "(3, u'BD+40  4631', None, u'GJ 836.8', None, u'21 44 29.9616', u'+41 35 50.862', 50.4206, 0.0281, u'K8V', 9.67399978638, 0.019999999553, 9.03890037537, 0.000399999989895)\n",
      "(4, u'BD+45  4378', None, u'GJ 913', None, u'23 58 43.4881', u'+46 43 44.737', 58.4067, 0.8984, u'K7V', 9.61999988556, None, 8.87279987335, 0.000500000023749)\n",
      "(5, u'HD 200560', u'HD 200560', u'GJ 9717 A', u'WDS J21028+4551CD', u'21 02 40.7539', u'+45 53 05.165', 51.3456, 0.0324, u'K2.5V', 7.67999982834, None, 7.4156999588, 0.000300000014249)\n",
      "(6, u'HD 219134', u'HD 219134', u'GJ 892', u'WDS J23133+5710A', u'23 13 16.9747', u'+57 10 06.076', 153.0808, 0.0895, u'K3V', 5.57000017166, 0.00899999961257, 5.2079000473, 0.00159999995958)\n",
      "(7, u'* eta Cas B', u'HD 4614B', u'GJ 34 B', u'WDS J00491+5749B', u'00 49 05.1920', u'+57 49 04.170', 168.7521, 0.0377, u'K7Ve', 7.51000022888, None, 6.75470018387, 0.000399999989895)\n",
      "(8, u'* tet Per', u'HD 16895', u'GJ 107 A', u'WDS J02442+4914A', u'02 44 11.9870', u'+49 13 42.411', 89.87, 0.22, u'F8V', 4.11000013351, 0.0500000007451, 3.89170002937, 0.00400000018999)\n",
      "(9, u'HD 221354', u'HD 221354', u'GJ 895.4', None, u'23 31 22.2087', u'+59 09 55.866', 59.2528, 0.031, u'K0V', 6.73999977112, None, 6.52139997482, 0.000199999994948)\n",
      "(10, u'* bet Cas', u'HD 432', u'GJ 8', u'WDS J00092+5909A', u'00 09 10.6851', u'+59 08 59.212', 59.58, 0.38, u'F2III', 2.26999998093, None, None, None)\n"
     ]
    }
   ],
   "source": [
    "c.execute('SELECT * FROM stars_simbad')\n",
    "rows = c.fetchall()\n",
    "print len(rows)\n",
    "print\n",
    "for row in rows[0:10]:\n",
    "    print row"
   ]
  },
  {
   "cell_type": "code",
   "execution_count": 453,
   "metadata": {},
   "outputs": [
    {
     "name": "stdout",
     "output_type": "stream",
     "text": [
      "221\n",
      "\n",
      "(u'*  61 Cyg B', u'HD 201092', u'GJ 820 B', u'WDS J21069+3845B')\n",
      "(u'*  61 Cyg A', u'HD 201091', u'GJ 820 A', u'WDS J21069+3845A')\n",
      "(u'HD 200560', u'HD 200560', u'GJ 9717 A', u'WDS J21028+4551CD')\n",
      "(u'HD 219134', u'HD 219134', u'GJ 892', u'WDS J23133+5710A')\n",
      "(u'* eta Cas B', u'HD 4614B', u'GJ 34 B', u'WDS J00491+5749B')\n",
      "(u'* tet Per', u'HD 16895', u'GJ 107 A', u'WDS J02442+4914A')\n",
      "(u'* bet Cas', u'HD 432', u'GJ 8', u'WDS J00092+5909A')\n",
      "(u'* iot Per', u'HD 19373', u'GJ 124', u'WDS J03091+4937A')\n",
      "(u'HD  10780', u'HD 10780', u'GJ 75', u'WDS J01477+6351A')\n",
      "(u'* tet Cyg', u'HD 185395', u'GJ 765 A', u'WDS J19364+5013AB')\n"
     ]
    }
   ],
   "source": [
    "cmd = '''\n",
    "SELECT main_id,hd,gj,wds FROM stars_simbad\n",
    "WHERE wds NOT NULL\n",
    "'''\n",
    "c.execute(cmd)\n",
    "rows = c.fetchall()\n",
    "print len(rows)\n",
    "print\n",
    "for row in rows[0:10]:\n",
    "    print row"
   ]
  },
  {
   "cell_type": "code",
   "execution_count": 454,
   "metadata": {},
   "outputs": [
    {
     "name": "stdout",
     "output_type": "stream",
     "text": [
      "92\n",
      "\n",
      "(u'HD 219134', u'HD 219134', u'GJ 892', u'WDS J23133+5710A')\n",
      "(u'* bet Cas', u'HD 432', u'GJ 8', u'WDS J00092+5909A')\n",
      "(u'* iot Per', u'HD 19373', u'GJ 124', u'WDS J03091+4937A')\n",
      "(u'HD  10780', u'HD 10780', u'GJ 75', u'WDS J01477+6351A')\n",
      "(u'* eta Cep', u'HD 198149', u'GJ 807', u'WDS J20453+6150A')\n",
      "(u'HD  13579', u'HD 13579', u'GJ 90', u'WDS J02157+6740A')\n",
      "(u'V* BY Dra', u'HD 234677', u'GJ 719', u'WDS J18339+5144A')\n",
      "(u'* sig Dra', u'HD 185144', u'GJ 764', u'WDS J19324+6940A')\n",
      "(u'HD  37394', u'HD 37394', u'GJ 211', u'WDS J05413+5329A')\n",
      "(u'HD 153525', u'HD 153525', u'GJ 649.1 C', u'WDS J16579+4722C')\n"
     ]
    }
   ],
   "source": [
    "cmd = '''\n",
    "SELECT main_id,hd,gj,wds FROM stars_simbad\n",
    "WHERE wds NOT NULL AND \n",
    "  (hd NOT LIKE '%A' AND hd NOT LIKE '%B' AND hd NOT LIKE '%C' AND hd NOT LIKE '%D') AND\n",
    "  (gj NOT LIKE '%A' AND gj NOT LIKE '%B' AND hd NOT LIKE '%C' AND hd NOT LIKE '%D')\n",
    "'''\n",
    "c.execute(cmd)\n",
    "rows = c.fetchall()\n",
    "print len(rows)\n",
    "print\n",
    "for row in rows[0:10]:\n",
    "    print row"
   ]
  },
  {
   "cell_type": "markdown",
   "metadata": {},
   "source": [
    "## Close connection when finished"
   ]
  },
  {
   "cell_type": "code",
   "execution_count": 455,
   "metadata": {
    "collapsed": true
   },
   "outputs": [],
   "source": [
    "connection.close()"
   ]
  },
  {
   "cell_type": "code",
   "execution_count": null,
   "metadata": {
    "collapsed": true
   },
   "outputs": [],
   "source": []
  }
 ],
 "metadata": {
  "kernelspec": {
   "display_name": "Python 2",
   "language": "python",
   "name": "python2"
  },
  "language_info": {
   "codemirror_mode": {
    "name": "ipython",
    "version": 2
   },
   "file_extension": ".py",
   "mimetype": "text/x-python",
   "name": "python",
   "nbconvert_exporter": "python",
   "pygments_lexer": "ipython2",
   "version": "2.7.13"
  }
 },
 "nbformat": 4,
 "nbformat_minor": 2
}
