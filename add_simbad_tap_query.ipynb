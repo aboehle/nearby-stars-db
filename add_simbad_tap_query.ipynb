{
 "cells": [
  {
   "cell_type": "code",
   "execution_count": 66,
   "metadata": {
    "collapsed": true
   },
   "outputs": [],
   "source": [
    "import pandas\n",
    "import sqlite3\n",
    "import numpy as np"
   ]
  },
  {
   "cell_type": "code",
   "execution_count": 67,
   "metadata": {
    "collapsed": true
   },
   "outputs": [],
   "source": [
    "connection = sqlite3.connect('nearby_stars.db')\n",
    "c = connection.cursor()"
   ]
  },
  {
   "cell_type": "markdown",
   "metadata": {},
   "source": [
    "## Simbad TAP query information"
   ]
  },
  {
   "cell_type": "markdown",
   "metadata": {},
   "source": [
    "The <code>simbad_FGK_nobinaries.csv</code> file was created using the ADQL query in the next cell through the Simbad TAP (Table Access Protocol\") service. I used TOPCAT to query Simbad and then saved the resulting table as a .csv file, but the TAP service can also be accessed here: https://simbad.u-strasbg.fr/simbad/sim-tap\n",
    "\n",
    "Information on available Simbad tables is here: http://simbad.u-strasbg.fr/simbad/tap/tapsearch.html"
   ]
  },
  {
   "cell_type": "markdown",
   "metadata": {},
   "source": [
    "**Simbad TAP query**\n",
    "<code>\n",
    "SELECT sub.main_id, sub.ra, sub.dec,  sub_hd.id as hd, sub_gj.id as gj, sub_hip.id as hip, sub_wds.id as wds, sub.sp_type, sub.sp_bibcode, \n",
    "sub.plx_value as plx_value, sub.plx_err, sub.plx_bibcode, \n",
    "sub_v.flux as V, sub_v.flux_err as V_err, sub_v.bibcode as V_bibcode, sub_g.flux as G, sub_g.flux_err as G_err, sub_g.bibcode as G_bibcode\n",
    "FROM (\n",
    "SELECT basic.main_id, basic.oid, basic.ra, basic.dec, (alltypes.otypes || '|' || otypedef.otype_shortname) AS otypes_all, basic.sp_type, basic.sp_bibcode, \n",
    "basic.plx_value, basic.plx_err, basic.plx_bibcode, allfluxes.V, allfluxes.G\n",
    "FROM alltypes\n",
    "    INNER JOIN basic ON basic.oid = alltypes.oidref\n",
    "    LEFT OUTER JOIN otypedef ON basic.otype = otypedef.otype\n",
    "    LEFT OUTER JOIN h_link ON h_link.parent = alltypes.oidref\n",
    "    LEFT OUTER JOIN basic AS basic_child ON h_link.child = basic_child.oid\n",
    "    LEFT OUTER JOIN alltypes AS alltypes_child ON h_link.child = alltypes_child.oidref\n",
    "    LEFT OUTER JOIN allfluxes ON allfluxes.oidref = basic.oid\n",
    "WHERE basic.plx_value > 0\n",
    "AND 1/(basic.plx_value\\*1e-3) &#60; 20\n",
    "AND (basic.sp_type LIKE 'F%' OR basic.sp_type LIKE 'G%' OR basic.sp_type LIKE 'K%')\n",
    "AND ((basic.sp_type NOT LIKE '%II%') \n",
    "    OR (basic.sp_type NOT LIKE '%I%' AND basic.sp_type NOT LIKE '%V%'))\n",
    "AND ((alltypes.otypes || '|' || otypedef.otype_shortname LIKE '%\\*\\*%' \n",
    "    AND alltypes.otypes || '|' || otypedef.otype_shortname NOT LIKE '%SB%' \n",
    "    AND alltypes_child.otypes LIKE '%Pl%') \n",
    "    OR (alltypes.otypes || '|' || otypedef.otype_shortname NOT LIKE '%\\*\\*%' \n",
    "    AND alltypes.otypes || '|' || otypedef.otype_shortname NOT LIKE '%SB\\*%' \n",
    "    AND alltypes.otypes || '|' || otypedef.otype_shortname NOT LIKE '%EB\\*%'))\n",
    "AND (basic.main_id NOT LIKE '% A' AND basic.main_id NOT LIKE '% B' AND basic.main_id NOT LIKE '% C' AND basic.main_id NOT LIKE '% D')\n",
    "GROUP BY basic.main_id,basic.oid, basic.ra, basic.dec, otypes_all, basic.sp_type, basic.plx_value, basic.plx_err, allfluxes.V, allfluxes.G\n",
    ") AS sub\n",
    "LEFT OUTER JOIN (\n",
    "    SELECT basic.oid, STRING_AGG(ident.id,',') as id\n",
    "    FROM basic\n",
    "        INNER JOIN ident ON basic.oid = ident.oidref\n",
    "    WHERE (ident.id LIKE 'WDS%')\n",
    "    AND ident.id NOT LIKE '%.0'\n",
    "    GROUP BY basic.oid\n",
    "    ) AS sub_wds ON sub.oid = sub_wds.oid\n",
    "LEFT OUTER JOIN (\n",
    "    SELECT basic.oid, STRING_AGG(ident.id,',') as id\n",
    "    FROM basic\n",
    "        INNER JOIN ident ON basic.oid = ident.oidref\n",
    "    WHERE (ident.id LIKE 'HD%')\n",
    "    AND ident.id NOT LIKE '%.0'\n",
    "    GROUP BY basic.oid\n",
    "    ) AS sub_hd ON sub.oid = sub_hd.oid\n",
    "LEFT OUTER JOIN (\n",
    "    SELECT basic.oid, STRING_AGG(ident.id,',') as id\n",
    "    FROM basic\n",
    "        INNER JOIN ident ON basic.oid = ident.oidref\n",
    "    WHERE (ident.id LIKE 'GJ%')\n",
    "    AND ident.id NOT LIKE '%.0'\n",
    "    GROUP BY basic.oid\n",
    "    ) AS sub_gj ON sub.oid = sub_gj.oid\n",
    "LEFT OUTER JOIN (\n",
    "    SELECT basic.oid, STRING_AGG(ident.id,',') as id\n",
    "    FROM basic\n",
    "        INNER JOIN ident ON basic.oid = ident.oidref\n",
    "    WHERE (ident.id LIKE 'HIP%')\n",
    "    AND ident.id NOT LIKE '%.0'\n",
    "    GROUP BY basic.oid\n",
    "    ) AS sub_hip ON sub.oid = sub_hip.oid\n",
    "LEFT OUTER JOIN (\n",
    "    SELECT basic.oid, flux.filter, flux.flux, flux.flux_err, flux.bibcode\n",
    "    FROM basic INNER JOIN flux ON flux.oidref = basic.oid \n",
    "    WHERE flux.filter = 'V') AS sub_v ON sub.oid = sub_v.oid\n",
    "LEFT OUTER JOIN (\n",
    "    SELECT basic.oid, flux.filter, flux.flux, flux.flux_err, flux.bibcode\n",
    "    FROM basic INNER JOIN flux ON flux.oidref = basic.oid \n",
    "    WHERE flux.filter = 'G') AS sub_g ON sub.oid = sub_g.oid\n",
    "GROUP BY sub.main_id, sub.ra, sub.dec,  hd, gj, hip, wds, sub.sp_type, sub.sp_bibcode,  \n",
    "plx_value, sub.plx_err, sub.plx_bibcode,\n",
    " V, V_err, V_bibcode, G, G_err, G_bibcode\n",
    "HAVING ((sub_hd.id NOT LIKE '%A%' AND sub_hd.id NOT LIKE '%B%') OR sub_hd.id IS NULL)\n",
    "    AND ((sub_gj.id NOT LIKE '%A%' AND sub_gj.id NOT LIKE '%B%') OR sub_gj.id IS NULL)\n",
    "ORDER BY plx_value DESC\n",
    "</code>"
   ]
  },
  {
   "cell_type": "markdown",
   "metadata": {},
   "source": [
    "## Add TAP query saved in .csv file to database"
   ]
  },
  {
   "cell_type": "code",
   "execution_count": 16,
   "metadata": {
    "collapsed": true
   },
   "outputs": [],
   "source": [
    "dat = pandas.read_csv('simbad_FGK_nobinaries.csv')"
   ]
  },
  {
   "cell_type": "code",
   "execution_count": 26,
   "metadata": {},
   "outputs": [
    {
     "data": {
      "text/plain": [
       "<sqlite3.Cursor at 0x10e630730>"
      ]
     },
     "execution_count": 26,
     "metadata": {},
     "output_type": "execute_result"
    }
   ],
   "source": [
    "c.execute('DROP TABLE IF EXISTS stars_FGK_nobinaries')"
   ]
  },
  {
   "cell_type": "code",
   "execution_count": 17,
   "metadata": {
    "collapsed": true
   },
   "outputs": [],
   "source": [
    "dat.to_sql('stars_FGK_nobinaries', connection, index_label='sid')"
   ]
  },
  {
   "cell_type": "code",
   "execution_count": 6,
   "metadata": {},
   "outputs": [
    {
     "data": {
      "text/plain": [
       "[(0, u'sid', u'INTEGER', 0, None, 1),\n",
       " (1, u'main_id', u'TEXT', 0, None, 0),\n",
       " (2, u'ra', u'TEXT', 0, None, 0),\n",
       " (3, u'dec', u'TEXT', 0, None, 0),\n",
       " (4, u'hd', u'TEXT', 0, None, 0),\n",
       " (5, u'gj', u'TEXT', 0, None, 0),\n",
       " (6, u'hip', u'TEXT', 0, None, 0),\n",
       " (7, u'wds', u'TEXT', 0, None, 0),\n",
       " (8, u'sp_type', u'TEXT', 0, None, 0),\n",
       " (9, u'sp_bibcode', u'TEXT', 0, None, 0),\n",
       " (10, u'plx_value', u'REAL', 0, None, 0),\n",
       " (11, u'plx_err', u'REAL', 0, None, 0),\n",
       " (12, u'plx_bibcode', u'TEXT', 0, None, 0),\n",
       " (13, u'v', u'REAL', 0, None, 0),\n",
       " (14, u'v_err', u'REAL', 0, None, 0),\n",
       " (15, u'v_bibcode', u'TEXT', 0, None, 0),\n",
       " (16, u'G', u'REAL', 0, None, 0),\n",
       " (17, u'G_err', u'REAL', 0, None, 0),\n",
       " (18, u'G_bibcode', u'TEXT', 0, None, 0)]"
      ]
     },
     "execution_count": 6,
     "metadata": {},
     "output_type": "execute_result"
    }
   ],
   "source": [
    "c.execute('PRAGMA table_info(stars_FGK_nobinaries);')\n",
    "c.fetchall()"
   ]
  },
  {
   "cell_type": "code",
   "execution_count": 19,
   "metadata": {
    "collapsed": true
   },
   "outputs": [],
   "source": [
    "connection.commit()"
   ]
  },
  {
   "cell_type": "markdown",
   "metadata": {},
   "source": [
    "## Make sid (\"star id\") column a Primary Key"
   ]
  },
  {
   "cell_type": "markdown",
   "metadata": {},
   "source": [
    "Create a temporary backup table."
   ]
  },
  {
   "cell_type": "code",
   "execution_count": 28,
   "metadata": {},
   "outputs": [
    {
     "data": {
      "text/plain": [
       "<sqlite3.Cursor at 0x1069f45e0>"
      ]
     },
     "execution_count": 28,
     "metadata": {},
     "output_type": "execute_result"
    }
   ],
   "source": [
    "c.execute('DROP TABLE IF EXISTS stars_backup')"
   ]
  },
  {
   "cell_type": "code",
   "execution_count": 29,
   "metadata": {},
   "outputs": [
    {
     "data": {
      "text/plain": [
       "<sqlite3.Cursor at 0x1069f45e0>"
      ]
     },
     "execution_count": 29,
     "metadata": {},
     "output_type": "execute_result"
    }
   ],
   "source": [
    "cmd = '''\n",
    "CREATE TEMPORARY TABLE IF NOT EXISTS stars_backup(sid, main_id, ra, dec, hd, gj, hip, wds, sp_type, \n",
    "sp_bibcode, plx_value, plx_err, plx_bibcode, v, v_err,\n",
    "       v_bibcode, g, g_err, g_bibcode);\n",
    "'''\n",
    "\n",
    "c.execute(cmd)"
   ]
  },
  {
   "cell_type": "code",
   "execution_count": 30,
   "metadata": {},
   "outputs": [
    {
     "data": {
      "text/plain": [
       "<sqlite3.Cursor at 0x1069f45e0>"
      ]
     },
     "execution_count": 30,
     "metadata": {},
     "output_type": "execute_result"
    }
   ],
   "source": [
    "cmd = '''\n",
    "INSERT INTO stars_backup SELECT * FROM stars_FGK_nobinaries;\n",
    "'''\n",
    "\n",
    "c.execute(cmd)"
   ]
  },
  {
   "cell_type": "code",
   "execution_count": 31,
   "metadata": {},
   "outputs": [
    {
     "data": {
      "text/plain": [
       "<sqlite3.Cursor at 0x1069f45e0>"
      ]
     },
     "execution_count": 31,
     "metadata": {},
     "output_type": "execute_result"
    }
   ],
   "source": [
    "cmd = '''\n",
    "DROP TABLE stars_FGK_nobinaries\n",
    "'''\n",
    "c.execute(cmd)"
   ]
  },
  {
   "cell_type": "code",
   "execution_count": 32,
   "metadata": {},
   "outputs": [
    {
     "data": {
      "text/plain": [
       "<sqlite3.Cursor at 0x1069f45e0>"
      ]
     },
     "execution_count": 32,
     "metadata": {},
     "output_type": "execute_result"
    }
   ],
   "source": [
    "cmd = '''\n",
    "CREATE TABLE stars_FGK_nobinaries (\n",
    "sid INTEGER PRIMARY KEY AUTOINCREMENT,\n",
    "main_id TEXT,\n",
    "ra REAL,\n",
    "dec REAL,\n",
    "hd TEXT,\n",
    "gj TEXT,\n",
    "hip TEXT,\n",
    "wds TEXT,\n",
    "sp_type TEXT,\n",
    "sp_bibcode TEXT,\n",
    "plx_value REAL,\n",
    "plx_err REAL,\n",
    "plx_bibcode TEXT,\n",
    "v REAL,\n",
    "v_err REAL,\n",
    "v_bibcode TEXT,\n",
    "G REAL,\n",
    "G_err REAL,\n",
    "G_bibcode TEXT\n",
    ")\n",
    "'''\n",
    "c.execute(cmd)"
   ]
  },
  {
   "cell_type": "code",
   "execution_count": 33,
   "metadata": {},
   "outputs": [
    {
     "data": {
      "text/plain": [
       "<sqlite3.Cursor at 0x1069f45e0>"
      ]
     },
     "execution_count": 33,
     "metadata": {},
     "output_type": "execute_result"
    }
   ],
   "source": [
    "cmd = '''\n",
    "INSERT INTO stars_FGK_nobinaries SELECT * FROM stars_backup\n",
    "'''\n",
    "c.execute(cmd)"
   ]
  },
  {
   "cell_type": "code",
   "execution_count": 34,
   "metadata": {
    "collapsed": true
   },
   "outputs": [],
   "source": [
    "connection.commit()"
   ]
  },
  {
   "cell_type": "code",
   "execution_count": 35,
   "metadata": {},
   "outputs": [
    {
     "data": {
      "text/plain": [
       "[(u'sqlite_sequence',),\n",
       " (u'stars_simbad',),\n",
       " (u'mh08_agetable',),\n",
       " (u'gaspar13_agetable',),\n",
       " (u'ramirez13_agetable',),\n",
       " (u'ramirez12_agetable',),\n",
       " (u'isaacson10_agetable',),\n",
       " (u'tsantaki13_agetable',),\n",
       " (u'casagrande11_agetable',),\n",
       " (u'chen01_agetable',),\n",
       " (u'david15_agetable',),\n",
       " (u'yee17_agetable',),\n",
       " (u'ages',),\n",
       " (u'luck17_agetable',),\n",
       " (u'gray06_rhktable',),\n",
       " (u'gray03_rhktable',),\n",
       " (u'jenkins06_rhktable',),\n",
       " (u'jenkins11_rhktable',),\n",
       " (u'stars_M0to4_nobinaries',),\n",
       " (u'stars_FGK_nobinaries',)]"
      ]
     },
     "execution_count": 35,
     "metadata": {},
     "output_type": "execute_result"
    }
   ],
   "source": [
    "c.execute(\"SELECT name FROM sqlite_master WHERE type='table';\")\n",
    "c.fetchall()"
   ]
  },
  {
   "cell_type": "markdown",
   "metadata": {},
   "source": [
    "## Add in M0 - M4 stars within 20 pc"
   ]
  },
  {
   "cell_type": "code",
   "execution_count": 9,
   "metadata": {},
   "outputs": [
    {
     "data": {
      "text/plain": [
       "<sqlite3.Cursor at 0x1069f45e0>"
      ]
     },
     "execution_count": 9,
     "metadata": {},
     "output_type": "execute_result"
    }
   ],
   "source": [
    "cmd = '''\n",
    "DROP TABLE stars_M0to4_nobinaries\n",
    "'''\n",
    "c.execute(cmd)"
   ]
  },
  {
   "cell_type": "code",
   "execution_count": 10,
   "metadata": {
    "collapsed": true
   },
   "outputs": [],
   "source": [
    "dat = pandas.read_csv('simbad_M0to4_nobinaries.csv')"
   ]
  },
  {
   "cell_type": "code",
   "execution_count": 11,
   "metadata": {
    "collapsed": true
   },
   "outputs": [],
   "source": [
    "dat.to_sql('stars_M0to4_nobinaries', connection)"
   ]
  },
  {
   "cell_type": "code",
   "execution_count": 16,
   "metadata": {
    "collapsed": true
   },
   "outputs": [],
   "source": [
    "cmd = '''INSERT INTO stars_FGK_nobinaries (main_id, ra, dec, hd, gj,hip,wds,sp_type,sp_bibcode,plx_value,plx_err,plx_bibcode,v,v_err,v_bibcode,g,g_err,g_bibcode)\n",
    "SELECT main_id, ra, dec, hd, gj,hip,wds,sp_type,sp_bibcode,plx_value,plx_err,plx_bibcode,v,v_err,v_bibcode,g,g_err,g_bibcode\n",
    "FROM stars_M0to4_nobinaries\n",
    "'''\n",
    "c.execute(cmd)\n",
    "for row in c.fetchall():\n",
    "    print row"
   ]
  },
  {
   "cell_type": "markdown",
   "metadata": {},
   "source": [
    "Noticed during Simbad query that one star changed spectral types since last query! Delete the new row (since sp_type ref is much older)."
   ]
  },
  {
   "cell_type": "code",
   "execution_count": 24,
   "metadata": {},
   "outputs": [
    {
     "name": "stdout",
     "output_type": "stream",
     "text": [
      "(739, u'CD-46    76', u'5.3317491193017', u'-45.7464190295317', None, u'GJ  9010,GJ    17.1', u'HIP   1696', None, u'M1V', u'1974PhDT........10S', 56.8562, 0.0315, u'2018yCat.1345....0G', 10.394, None, u'2010MNRAS.403.1949K', 9.6286, 0.0004, u'2018yCat.1345....0G')\n"
     ]
    }
   ],
   "source": [
    "cmd = '''SELECT * FROM stars_FGK_nobinaries \n",
    "WHERE main_id LIKE 'CD-46%76' AND sp_type = 'M1V'\n",
    "'''\n",
    "c.execute(cmd)\n",
    "for row in c.fetchall():\n",
    "    print row"
   ]
  },
  {
   "cell_type": "code",
   "execution_count": 26,
   "metadata": {},
   "outputs": [
    {
     "data": {
      "text/plain": [
       "<sqlite3.Cursor at 0x1069f45e0>"
      ]
     },
     "execution_count": 26,
     "metadata": {},
     "output_type": "execute_result"
    }
   ],
   "source": [
    "cmd = '''\n",
    "DELETE FROM stars_FGK_nobinaries\n",
    "WHERE main_id LIKE 'CD-46%76' AND sp_type = 'M1V'\n",
    "'''\n",
    "c.execute(cmd)"
   ]
  },
  {
   "cell_type": "code",
   "execution_count": 27,
   "metadata": {
    "collapsed": true
   },
   "outputs": [],
   "source": [
    "connection.commit()"
   ]
  },
  {
   "cell_type": "markdown",
   "metadata": {},
   "source": [
    "## Look at the new table"
   ]
  },
  {
   "cell_type": "code",
   "execution_count": 31,
   "metadata": {},
   "outputs": [
    {
     "data": {
      "text/plain": [
       "[(0, u'sid', u'INTEGER', 0, None, 1),\n",
       " (1, u'main_id', u'TEXT', 0, None, 0),\n",
       " (2, u'ra', u'TEXT', 0, None, 0),\n",
       " (3, u'dec', u'TEXT', 0, None, 0),\n",
       " (4, u'hd', u'TEXT', 0, None, 0),\n",
       " (5, u'gj', u'TEXT', 0, None, 0),\n",
       " (6, u'hip', u'TEXT', 0, None, 0),\n",
       " (7, u'wds', u'TEXT', 0, None, 0),\n",
       " (8, u'sp_type', u'TEXT', 0, None, 0),\n",
       " (9, u'sp_bibcode', u'TEXT', 0, None, 0),\n",
       " (10, u'plx_value', u'REAL', 0, None, 0),\n",
       " (11, u'plx_err', u'REAL', 0, None, 0),\n",
       " (12, u'plx_bibcode', u'TEXT', 0, None, 0),\n",
       " (13, u'v', u'REAL', 0, None, 0),\n",
       " (14, u'v_err', u'REAL', 0, None, 0),\n",
       " (15, u'v_bibcode', u'TEXT', 0, None, 0),\n",
       " (16, u'G', u'REAL', 0, None, 0),\n",
       " (17, u'G_err', u'REAL', 0, None, 0),\n",
       " (18, u'G_bibcode', u'TEXT', 0, None, 0)]"
      ]
     },
     "execution_count": 31,
     "metadata": {},
     "output_type": "execute_result"
    }
   ],
   "source": [
    "c.execute('PRAGMA table_info(stars_FGK_nobinaries);')\n",
    "c.fetchall()"
   ]
  },
  {
   "cell_type": "code",
   "execution_count": 32,
   "metadata": {},
   "outputs": [
    {
     "name": "stdout",
     "output_type": "stream",
     "text": [
      "227\n",
      "\n",
      "(0, u'* eps Eri', u'53.2326873475', u'-9.45825865694444', u'HD  22049', u'GJ   144', u'HIP  16537', u'WDS J03329-0927A,WDS J03329-0927Aa,Ab', u'K2V', u'1989ApJS...71..245K', 310.94, 0.16, u'2007A&A...474..653V', 3.73, None, u'2002yCat.2237....0D', 3.3691, 0.004, u'2018yCat.1345....0G')\n",
      "(1, u'* tau Cet', u'26.0170142608333', u'-15.9374795977778', u'HD  10700', u'GJ    71', u'HIP   8102', u'WDS J01441-1556A', u'G8V', u'1989ApJS...71..245K', 273.96, 0.17, u'2007A&A...474..653V', 3.5, None, u'2002yCat.2237....0D', 3.1336, 0.0075, u'2018yCat.1345....0G')\n",
      "(2, u'* e Eri', u'49.9818788966667', u'-43.0697826375', u'HD  20794', u'GJ   139', u'HIP  15510', None, u'G6V', u'1989ApJS...71..245K', 165.47, 0.19, u'2007A&A...474..653V', 4.27, None, u'2002yCat.2237....0D', 3.9814, 0.0037, u'2018yCat.1345....0G')\n",
      "(3, u'* del Pav', u'302.18170612375', u'-66.1820675763889', u'HD 190248', u'GJ   780', u'HIP  99240', None, u'G8IV', u'2006AJ....132..161G', 163.71, 0.17, u'2007A&A...474..653V', 3.56, None, u'2002yCat.2237....0D', 3.2664, 0.0025, u'2018yCat.1345....0G')\n",
      "(4, u'HD 219134', u'348.320728258755', u'57.1683545891647', u'HD 219134', u'GJ   892', u'HIP 114622', u'WDS J23133+5710A', u'K3V', u'1989ApJS...71..245K', 153.0808, 0.0895, u'2018yCat.1345....0G', 5.57, 0.009000000000000001, u'1993A&AS..100..591O', 5.2079, 0.0016, u'2018yCat.1345....0G')\n",
      "(5, u'* bet Hyi', u'6.43779315502228', u'-77.254246119986', u'HD   2151', u'GJ    19', u'HIP   2021', None, u'G0V', u'2006AJ....132..161G', 134.07, 0.11, u'2007A&A...474..653V', 2.79, None, u'2002yCat.2237....0D', 2.5271, 0.0062, u'2018yCat.1345....0G')\n",
      "(6, u'HD 157881', u'261.438467934862', u'2.1114232411388', u'HD 157881', u'GJ   673', u'HIP  85295', None, u'K7V', u'2002AJ....123.2002H', 129.6231, 0.0286, u'2018yCat.1345....0G', 7.56, 0.05, u'2009ApJ...694.1085V', 6.9265, 0.0004, u'2018yCat.1345....0G')\n",
      "(7, u'HD 217357', u'345.067176987993', u'-22.5243476190278', u'HD 217357', u'GJ   884', u'HIP 113576', None, u'K7+Vk', u'2006AJ....132..161G', 121.4918, 0.0507, u'2018yCat.1345....0G', 7.869, None, u'2010MNRAS.403.1949K', 7.2521, 0.0006, u'2018yCat.1345....0G')\n",
      "(8, u'*  61 Vir', u'199.601309481667', u'-18.3111957355556', u'HD 115617', u'GJ   506', u'HIP  64924', u'WDS J13184-1819A', u'G6.5V', u'1989ApJS...71..245K', 116.89, 0.22, u'2007A&A...474..653V', 4.74, 0.009000000000000001, u'1993A&AS..100..591O', 4.4772, 0.004, u'2018yCat.1345....0G')\n",
      "(9, u'* zet Tuc', u'5.01774988041667', u'-64.8747929888889', u'HD   1581', u'GJ    17', u'HIP   1599', None, u'F9.5V', u'2006AJ....132..161G', 116.46, 0.16, u'2007A&A...474..653V', 4.23, None, u'2002yCat.2237....0D', 3.9872, 0.0081, u'2018yCat.1345....0G')\n",
      "(10, u'HD 192310', u'303.822465232751', u'-27.0329759957211', u'HD 192310', u'GJ   785', u'HIP  99825', None, u'K2+V', u'2006AJ....132..161G', 113.6481, 0.1186, u'2018yCat.1345....0G', 5.723, 0.009000000000000001, u'2000A&A...355L..27H', 5.4532, 0.0014, u'2018yCat.1345....0G')\n",
      "(11, u'HD  32147', u'75.2041630608936', u'-5.7536723172099', u'HD  32147', u'GJ   183', u'HIP  23311', None, u'K3+V', u'2003AJ....126.2048G', 113.0236, 0.0324, u'2018yCat.1345....0G', 6.21, None, u'2002yCat.2237....0D', 5.8694, 0.0006, u'2018yCat.1345....0G')\n",
      "(12, u'* del Eri', u'55.8120869945833', u'-9.76339123444444', u'HD  23249', u'GJ   150', u'HIP  17378', None, u'K0+IV', u'1989ApJS...71..245K', 110.61, 0.22, u'2007A&A...474..653V', 3.54, None, u'2002yCat.2237....0D', 3.1347, 0.0037, u'2018yCat.1345....0G')\n",
      "(13, u'HD 103095', u'178.244868250647', u'37.7186778007958', u'HD 103095', u'GJ   451', u'HIP  57939', None, u'K1V_Fe-1.5', u'2003AJ....126.2048G', 108.9551, 0.049, u'2018yCat.1345....0G', 6.45, None, u'2002yCat.2237....0D', 6.182, 0.0003, u'2018yCat.1345....0G')\n",
      "(14, u'* gam Pav', u'321.610853488333', u'-65.3661984677778', u'HD 203608', u'GJ   827', u'HIP 105858', None, u'F9VFe-1.4CH-0.7', u'2006AJ....132..161G', 107.97, 0.19, u'2007A&A...474..653V', 4.22, None, u'2002yCat.2237....0D', 4.0003, 0.0035, u'2018yCat.1345....0G')\n",
      "(15, u'HD 151288', u'251.276460742948', u'33.5092260787878', u'HD 151288', u'GJ   638', u'HIP  82003', None, u'K7.5Ve', u'1989ApJS...71..245K', 101.5116, 0.0281, u'2018yCat.1345....0G', 8.799, 0.1, u'2012yCat.1322....0Z', 7.4813, 0.0005, u'2018yCat.1345....0G')\n",
      "(16, u'HD 122064', u'209.383579889153', u'61.4928609327902', u'HD 122064', None, u'HIP  68184', None, u'K3V', None, 99.2285, 0.0232, u'2018yCat.1345....0G', 6.52, 0.009000000000000001, u'1991A&AS...89..415O', 6.1542, 0.0003, u'2018yCat.1345....0G')\n",
      "(17, u'HD 103932', u'179.484193176684', u'-27.7070456229115', u'HD 103932', u'GJ   453', u'HIP  58345', None, u'K4+V', u'2006AJ....132..161G', 98.1908, 0.0413, u'2018yCat.1345....0G', 6.9639999999999995, None, u'2010MNRAS.403.1949K', 6.5654, 0.0002, u'2018yCat.1345....0G')\n",
      "(18, u'* alf Men', u'92.5603088308903', u'-74.7530454408681', u'HD  43834', u'GJ   231', u'HIP  29271', None, u'G7V', u'2006AJ....132..161G', 97.8983, 0.0719, u'2018yCat.1345....0G', 5.09, None, None, 4.8503, 0.0022, u'2018yCat.1345....0G')\n",
      "(19, u'BD+36  2393', u'204.369869188137', u'35.7177624393468', None, u'GJ   519', u'HIP  66459', None, u'K7.5Ve', u'2013AJ....145..102L', 91.2519, 0.0353, u'2018yCat.1345....0G', 9.07, None, None, 8.3568, 0.0004, u'2018yCat.1345....0G')\n",
      "(20, u'HD 166620', u'272.405901171196', u'38.4577766448776', u'HD 166620', u'GJ   706', u'HIP  88972', None, u'K2V', u'2003AJ....126.2048G', 90.1264, 0.02, u'2018yCat.1345....0G', 6.4, None, u'2002yCat.2237....0D', 6.1126, 0.0003, u'2018yCat.1345....0G')\n",
      "(21, u'*  54 Psc', u'9.84085629751208', u'21.2504766813144', u'HD   3651', u'GJ    27', u'HIP   3093', u'WDS J00394+2115A', u'K0.5V', u'1989ApJS...71..245K', 89.7891, 0.0581, u'2018yCat.1345....0G', 5.88, 0.05, u'2009ApJ...694.1085V', 5.635, 0.0008, u'2018yCat.1345....0G')\n",
      "(22, u'HD  74576', u'130.825126668911', u'-38.8823805626667', u'HD  74576', u'GJ   320', u'HIP  42808', None, u'K3V', u'2006A&A...460..695T', 89.3972, 0.0254, u'2018yCat.1345....0G', 6.56, None, None, 6.2696, 0.0005, u'2018yCat.1345....0G')\n",
      "(23, u'HD  85512', u'147.779383461151', u'-43.5027838752447', u'HD  85512', u'GJ   370', u'HIP  48331', None, u'K6Vk:', u'2006AJ....132..161G', 88.6158, 0.0406, u'2018yCat.1345....0G', 7.651, None, u'2010MNRAS.403.1949K', 7.1873, 0.0003, u'2018yCat.1345....0G')\n",
      "(24, u'V* V2689 Ori', u'84.129126793325', u'11.3278699997849', u'HD 245409', u'GJ   208', u'HIP  26335', None, u'K6V', u'1986AJ.....92..139S', 87.4367, 0.0562, u'2018yCat.1345....0G', 8.898, 0.044000000000000004, u'2012AcA....62...67K', 8.208, 0.0012, u'2018yCat.1345....0G')\n",
      "(25, u'HD 222237', u'354.905779713581', u'-72.7221548166411', u'HD 222237', u'GJ   902', u'HIP 116745', None, u'K3+V', u'2006AJ....132..161G', 87.3306, 0.0259, u'2018yCat.1345....0G', 7.087000000000001, None, u'2010MNRAS.403.1949K', 6.7399, 0.0002, u'2018yCat.1345....0G')\n",
      "(26, u'HD 125072', u'214.770142236424', u'-59.3790375076325', u'HD 125072', u'GJ   542', u'HIP  69972', None, u'K3IV', u'2006AJ....132..161G', 84.4535, 0.0349, u'2018yCat.1345....0G', 6.66, None, None, 6.3391, 0.0003, u'2018yCat.1345....0G')\n",
      "(27, u'HD  72673', u'128.214565963134', u'-31.500850807352', u'HD  72673', u'GJ   309', u'HIP  41926', None, u'K1V', u'1989ApJS...71..245K', 82.09, 0.0294, u'2018yCat.1345....0G', 6.38, None, None, 6.151, 0.0003, u'2018yCat.1345....0G')\n",
      "(28, u'HD 196877', u'310.578261536437', u'-52.6992651435641', u'HD 196877', u'GJ   798', u'HIP 102186', None, u'K7V', u'1963MNRAS.126...61W', 81.12, 0.048, u'2018yCat.1345....0G', 8.82, None, u'1982MNRAS.201...51R', 8.2371, 0.0005, u'2018yCat.1345....0G')\n",
      "(29, u'HD  21531', u'51.9683584704451', u'-19.8044835784009', u'HD  21531', u'GJ   142', u'HIP  16134', None, u'K5V', u'1988MSS...C04....0H', 80.04, 0.99, u'2007A&A...474..653V', 8.367, None, u'2010MNRAS.403.1949K', 7.8111, 0.0007, u'2018yCat.1345....0G')\n",
      "(30, u'HD  69830', u'124.599779038536', u'-12.6321695007144', u'HD  69830', u'GJ   302', u'HIP  40693', None, u'G8:V', u'1989ApJS...71..245K', 79.5945, 0.0607, u'2018yCat.1345....0G', 5.95, None, None, 5.7393, 0.0007, u'2018yCat.1345....0G')\n",
      "(31, u'HD 104304', u'180.185254830493', u'-10.4461263954408', u'HD 104304', u'GJ   454', u'HIP  58576', None, u'G8IV', u'2006AJ....132..161G', 78.7565, 0.1206, u'2018yCat.1345....0G', 5.55, None, u'2002yCat.2237....0D', 5.3289, 0.0015, u'2018yCat.1345....0G')\n",
      "(32, u'HD 190007', u'300.696023297043', u'3.3261846682692', u'HD 190007', u'GJ   775', u'HIP  98698', None, u'K5V', u'1991ApJS...77..417K', 78.6238, 0.0617, u'2018yCat.1345....0G', 7.48, None, None, 7.0634, 0.0003, u'2018yCat.1345....0G')\n",
      "(33, u'HD 101581', u'175.260284087649', u'-44.405189564126', u'HD 101581', u'GJ   435', u'HIP  56998', None, u'K4.5Vk:', u'2006AJ....132..161G', 78.23, 0.0694, u'2018yCat.1345....0G', 7.7620000000000005, None, u'2010MNRAS.403.1949K', 7.3839999999999995, 0.0003, u'2018yCat.1345....0G')\n",
      "(34, u'HD  82106', u'142.478439477339', u'5.6551331129547', u'HD  82106', u'GJ   349', u'HIP  46580', None, u'K3V', u'2010MNRAS.403.1949K', 78.229, 0.0473, u'2018yCat.1345....0G', 7.197, None, u'2010MNRAS.403.1949K', 6.8756, 0.0005, u'2018yCat.1345....0G')\n",
      "(35, u'HD 158633', u'261.250409461907', u'67.3067083726557', u'HD 158633', u'GJ   675', u'HIP  85235', None, u'K0', u'1985ApJS...59..197B', 78.1653, 0.0266, u'2018yCat.1345....0G', 6.43, None, None, 6.2097, 0.0002, u'2018yCat.1345....0G')\n",
      "(36, u'HD  14412', u'34.7437695599448', u'-25.945687076905', u'HD  14412', u'GJ    95', u'HIP  10798', None, u'G8V', u'2006AJ....132..161G', 77.9153, 0.0602, u'2018yCat.1345....0G', 6.34, None, None, 6.1311, 0.0005, u'2018yCat.1345....0G')\n",
      "(37, u'HD  40307', u'88.517670814135', u'-60.023469929958', u'HD  40307', u'GJ  2046', u'HIP  27887', None, u'K2.5V', u'2006AJ....132..161G', 77.2727, 0.0276, u'2018yCat.1345....0G', 7.147, None, u'2010MNRAS.403.1949K', 6.8437, 0.0003, u'2018yCat.1345....0G')\n",
      "(38, u'HD  27274', u'63.9870920154234', u'-53.3098080832095', u'HD  27274', u'GJ   167', u'HIP  19884', None, u'K4.5Vk:', u'2006AJ....132..161G', 76.5847, 0.0304, u'2018yCat.1345....0G', 7.6339999999999995, None, u'2010MNRAS.403.1949K', 7.2323, 0.0003, u'2018yCat.1345....0G')\n",
      "(39, u'HD 211970', u'335.567525243296', u'-54.5606128931153', u'HD 211970', u'GJ  1267', u'HIP 110443', None, u'K7Vk:', u'2006AJ....132..161G', 76.1461, 0.04, u'2018yCat.1345....0G', 8.992, None, u'2010MNRAS.403.1949K', 8.4044, 0.0005, u'2018yCat.1345....0G')\n",
      "(40, u'HD 170657', u'277.829005084719', u'-18.9088146012824', u'HD 170657', u'GJ   716', u'HIP  90790', None, u'K2V', u'2006AJ....132..161G', 75.9773, 0.0458, u'2018yCat.1345....0G', 6.81, None, u'2010MNRAS.403.1949K', 6.5475, 0.0004, u'2018yCat.1345....0G')\n",
      "(41, u'HD  29697', u'70.3285639326502', u'20.9015133196549', u'HD  29697', u'GJ   174', u'HIP  21818', None, u'K4V', u'1986AJ.....92..139S', 75.5395, 0.057, u'2018yCat.1345....0G', 7.985, 0.068, u'2012AcA....62...67K', 7.5259, 0.0012, u'2018yCat.1345....0G')\n",
      "(42, u'*  58 Eri', u'71.9012156698201', u'-16.934456090932', u'HD  30495', u'GJ   177', u'HIP  22263', None, u'G2.5IV-V', u'1989ApJS...71..245K', 75.5213, 0.0795, u'2018yCat.1345....0G', 5.5, None, None, 5.292999999999999, 0.0015, u'2018yCat.1345....0G')\n",
      "(43, u'HD 128165', u'218.370283373637', u'52.9087908184112', u'HD 128165', u'GJ   556', u'HIP  71181', None, u'K3', u'1985ApJS...59..197B', 75.5094, 0.0242, u'2018yCat.1345....0G', 7.23, None, None, 6.9062, 0.0002, u'2018yCat.1345....0G')\n",
      "(44, u'HD 214749', u'340.180768466143', u'-29.674479914138', u'HD 214749', u'GJ   868', u'HIP 111960', None, u'K4.5Vk', u'2006AJ....132..161G', 75.26, 0.0511, u'2018yCat.1345....0G', 7.841, None, u'2010MNRAS.403.1949K', 7.414, 0.0007, u'2018yCat.1345....0G')\n",
      "(45, u'BD+62   780', u'86.4511504789031', u'62.2367739070248', None, u'GJ   215', u'HIP  27188', None, u'K7V', u'1986AJ.....92..139S', 73.998, 0.0416, u'2018yCat.1345....0G', 9.209, None, u'2012yCat.1322....0Z', 8.3801, 0.0005, u'2018yCat.1345....0G')\n",
      "(46, u'HD  10436', u'25.9196823939791', u'63.8233980740082', u'HD  10436', u'GJ    69', u'HIP   8070', None, u'K5Vbe', u'1989ApJS...71..245K', 73.9913, 0.0353, u'2018yCat.1345....0G', 8.41, None, None, 7.9254, 0.0003, u'2018yCat.1345....0G')\n",
      "(47, u'HD  22496', u'53.7539159412185', u'-48.4191407642097', u'HD  22496', u'GJ   146', u'HIP  16711', None, u'K5/M0V', u'1978MSS...C02....0H', 73.5244, 0.0387, u'2018yCat.1345....0G', 8.57, None, None, 8.0195, 0.0005, u'2018yCat.1345....0G')\n",
      "(48, u'HD 145417', u'243.452326965899', u'-57.5705121968851', u'HD 145417', u'GJ   615', u'HIP  79537', None, u'K3VFe-1.7', u'2006AJ....132..161G', 73.4265, 0.0374, u'2018yCat.1345....0G', 7.54, None, u'2010MNRAS.403.1949K', 7.2546, 0.0002, u'2018yCat.1345....0G')\n",
      "(49, u'HD 154577', u'257.543128990087', u'-60.728771769936', u'HD 154577', u'GJ   656', u'HIP  83990', None, u'K2.5Vk:', u'2006AJ....132..161G', 72.7317, 0.0467, u'2018yCat.1345....0G', 7.41, None, None, 7.1022, 0.0002, u'2018yCat.1345....0G')\n",
      "(50, u'*  47 UMa', u'164.866557768705', u'40.4302562191439', u'HD  95128', u'GJ   407', u'HIP  53721', None, u'G1-VFe-0.5', u'1989ApJS...71..245K', 72.4528, 0.1507, u'2018yCat.1345....0G', 5.04, 0.05, u'2009ApJ...694.1085V', 4.8306, 0.0028, u'2018yCat.1345....0G')\n",
      "(51, u'HD 281621', u'62.1558290007145', u'33.6370368353611', u'HD 281621', u'GJ   162', u'HIP  19337', None, u'K7V', u'1986AJ.....92..139S', 71.813, 0.0431, u'2018yCat.1345....0G', 10.213, 0.05, u'2012yCat.1322....0Z', 9.365, 0.0005, u'2018yCat.1345....0G')\n",
      "(52, u'HD  23356', u'55.98059557661', u'-19.1108981395438', u'HD  23356', None, u'HIP  17420', None, u'K2V', u'1988MSS...C04....0H', 71.6588, 0.0364, u'2018yCat.1345....0G', 7.081, None, u'2010MNRAS.403.1949K', 6.8047, 0.0002, u'2018yCat.1345....0G')\n",
      "(53, u'*  10 Tau', u'54.21727000939', u'0.399593588260556', u'HD  22484', u'GJ   147', u'HIP  16852', None, u'F9IV-V', u'1989ApJS...71..245K', 71.62, 0.54, u'2007A&A...474..653V', 4.3, 0.05, u'2009ApJ...694.1085V', 4.075, 0.0003, u'2018yCat.1345....0G')\n",
      "(54, u'HD   5133', u'13.2547298273308', u'-30.3569148492065', u'HD   5133', u'GJ    42', u'HIP   4148', None, u'K2.5Vk:', u'2006AJ....132..161G', 71.5472, 0.0573, u'2018yCat.1345....0G', 7.171, None, u'2010MNRAS.403.1949K', 6.8708, 0.0002, u'2018yCat.1345....0G')\n",
      "(55, u'HD 120467', u'207.436693324934', u'-22.1110927323432', u'HD 120467', u'GJ   529', u'HIP  67487', None, u'K6Va', u'1989ApJS...71..245K', 71.1199, 0.0843, u'2018yCat.1345....0G', 8.166, None, u'2010MNRAS.403.1949K', 7.6831, 0.0005, u'2018yCat.1345....0G')\n",
      "(56, u'HD 110315', u'190.277019039061', u'15.3766675273692', u'HD 110315', u'GJ   481', u'HIP  61901', None, u'K4.5V', u'2010MNRAS.403.1949K', 70.8894, 0.1099, u'2018yCat.1345....0G', 7.9, 0.02, u'1997JApA...18..161Y', 7.4994, 0.0004, u'2018yCat.1345....0G')\n",
      "(57, u'HD 150689', u'251.062565321682', u'-38.9436357956149', u'HD 150689', None, u'HIP  81935', None, u'K3V', u'2006A&A...460..695T', 70.3716, 0.0468, u'2018yCat.1345....0G', 7.513999999999999, None, u'2010MNRAS.403.1949K', 7.1783, 0.0002, u'2018yCat.1345....0G')\n",
      "(58, u'HD 234078', u'208.000022911678', u'49.9509097673892', u'HD 234078', u'GJ   532', u'HIP  67691', None, u'K7V', u'2003AJ....126.2048G', 70.1809, 0.0353, u'2018yCat.1345....0G', 9.094, 0.08, u'2012yCat.1322....0Z', 8.2512, 0.0006, u'2018yCat.1345....0G')\n",
      "(59, u'HD 173818', u'281.863543946506', u'-3.6398334230301', u'HD 173818', u'GJ   726', u'HIP  92200', None, u'K5V', u'1999MSS...C05....0H', 70.1428, 0.0609, u'2018yCat.1345....0G', 8.766, None, u'2010MNRAS.403.1949K', 8.2594, 0.0012, u'2018yCat.1345....0G')\n",
      "(60, u'V* pi.01 UMa', u'129.798768027211', u'65.020907853664', u'HD  72905', u'GJ   311', u'HIP  42438', None, u'G0.5V', u'2001AJ....121.2148G', 69.2004, 0.0652, u'2018yCat.1345....0G', 5.64, None, u'2002yCat.2237....0D', 5.4796, 0.0009, u'2018yCat.1345....0G')\n",
      "(61, u'BD-08  2582', u'136.688957012247', u'-8.8068365959072', None, u'GJ   334', u'HIP  44722', None, u'K7V', u'1986AJ.....92..139S', 68.8876, 0.0386, u'2018yCat.1345....0G', 9.478, None, u'2010MNRAS.403.1949K', 8.783, 0.0004, u'2018yCat.1345....0G')\n",
      "(62, u'BD+30  2512', u'215.488401024899', u'29.6296158774174', None, u'GJ   546', u'HIP  70218', None, u'K6V', u'2003AJ....126.2048G', 68.8608, 0.0398, u'2018yCat.1345....0G', 8.61, 0.009000000000000001, u'1991A&AS...89..415O', 8.0159, 0.0006, u'2018yCat.1345....0G')\n",
      "(63, u'HD  52698', u'105.307185415982', u'-25.948740845306', u'HD  52698', u'GJ   259', u'HIP  33817', None, u'K1V', u'2006A&A...460..695T', 68.1526, 0.0746, u'2018yCat.1345....0G', 6.688, None, u'2010MNRAS.403.1949K', 6.4533, 0.0003, u'2018yCat.1345....0G')\n",
      "(64, u'HD 196761', u'310.048977640405', u'-23.7738679651309', u'HD 196761', u'GJ   796', u'HIP 101997', None, u'G7.5IV-V', u'1989ApJS...71..245K', 68.1348, 0.0682, u'2018yCat.1345....0G', 6.37, None, None, 6.1636, 0.0002, u'2018yCat.1345....0G')\n",
      "(65, u'* psi Cap', u'311.52388594375', u'-25.2708975430556', u'HD 197692', u'GJ   805', u'HIP 102485', None, u'F5V', u'2006AJ....132..161G', 68.13, 0.27, u'2007A&A...474..653V', 4.122, 0.009000000000000001, u'2000A&A...355L..27H', 3.9696, 0.0031, u'2018yCat.1345....0G')\n",
      "(66, u'* nu.02 Lup', u'230.45062965463', u'-48.3176284677703', u'HD 136352', u'GJ   582', u'HIP  75181', None, u'G3/5V', u'1978MSS...C02....0H', 68.0818, 0.0915, u'2018yCat.1345....0G', 5.65, None, u'2002yCat.2237....0D', 5.4618, 0.0011, u'2018yCat.1345....0G')\n",
      "(67, u'BD+40    45', u'4.2765577931941', u'40.9482969960645', None, u'GJ    14', u'HIP   1368', None, u'K7', u'1985ApJS...59..197B', 68.0351, 0.0566, u'2018yCat.1345....0G', 9.0, 0.02, u'2000A&A...355L..27H', 8.3701, 0.0006, u'2018yCat.1345....0G')\n",
      "(68, u'HD 142709', u'239.419765735069', u'-42.6242339703312', u'HD 142709', u'GJ   604', u'HIP  78170', None, u'K4V', u'1978MSS...C02....0H', 67.8795, 0.0466, u'2018yCat.1345....0G', 8.055, None, u'2010MNRAS.403.1949K', 7.6501, 0.0003, u'2018yCat.1345....0G')\n",
      "(69, u'BD+33   529', u'43.0297387351705', u'34.3893519352817', None, u'GJ   116', u'HIP  13375', None, u'K4', u'1985ApJS...59..197B', 67.7365, 0.038, u'2018yCat.1345....0G', 9.55, None, None, 9.0216, 0.0003, u'2018yCat.1345....0G')\n",
      "(70, u'HD 205390', u'324.171847434287', u'-50.8453856672401', u'HD 205390', u'GJ   833', u'HIP 106696', None, u'K1V', u'2006A&A...460..695T', 67.5029, 0.0299, u'2018yCat.1345....0G', 7.157, None, u'2010MNRAS.403.1949K', 6.8831, 0.0004, u'2018yCat.1345....0G')\n",
      "(71, u'HD  84117', u'145.560068855975', u'-23.9155705775205', u'HD  84117', u'GJ   364', u'HIP  47592', None, u'F9V', u'1989ApJS...71..245K', 67.4693, 0.1921, u'2018yCat.1345....0G', 4.94, None, None, 4.7239, 0.003, u'2018yCat.1345....0G')\n",
      "(72, u'HD 144628', u'242.428310100618', u'-56.4451511529935', u'HD 144628', u'GJ   613', u'HIP  79190', None, u'K2V', u'1989ApJS...71..245K', 67.4096, 0.0486, u'2018yCat.1345....0G', 7.124, None, u'2010MNRAS.403.1949K', 6.8515, 0.0002, u'2018yCat.1345....0G')\n",
      "(73, u'HD 218511', u'347.420628962817', u'-67.7328226114255', u'HD 218511', u'GJ  1279', u'HIP 114361', None, u'K6V', u'2006A&A...460..695T', 67.396, 0.0382, u'2018yCat.1345....0G', 8.39, None, None, 7.8248, 0.0005, u'2018yCat.1345....0G')\n",
      "(74, u'* eta Lep', u'89.1012208508333', u'-14.16769969', u'HD  40136', u'GJ   225', u'HIP  28103', None, u'F2V', u'2006AJ....132..161G', 67.21, 0.25, u'2007A&A...474..653V', 3.72, None, u'2002yCat.2237....0D', 3.5512, 0.0058, u'2018yCat.1345....0G')\n",
      "(75, u'* alf Crv', u'182.10340218375', u'-24.7288750983333', u'HD 105452', u'GJ  9389,GJ   455.3', u'HIP  59199', None, u'F1V', u'2006AJ....132..161G', 66.95, 0.15, u'2007A&A...474..653V', 4.0, None, None, 3.8519, 0.0031, u'2018yCat.1345....0G')\n",
      "(76, u'BD+63   137', u'16.7841584992869', u'63.9413268220948', None, u'GJ    52', u'HIP   5247', None, u'K7V', u'2003AJ....126.2048G', 66.3671, 0.0375, u'2018yCat.1345....0G', 8.98, None, None, 8.4113, 0.0004, u'2018yCat.1345....0G')\n",
      "(77, u'HD 118926', u'205.029715441366', u'-4.1861067629986', u'HD 118926', u'GJ  9456,GJ   521.1', u'HIP  66675', None, u'K5V', u'1999MSS...C05....0H', 66.3269, 0.098, u'2018yCat.1345....0G', 9.589, None, u'2010MNRAS.403.1949K', 8.9392, 0.0006, u'2018yCat.1345....0G')\n",
      "(78, u'* nu. Phe', u'18.7963441219758', u'-45.5316687864624', u'HD   7570', u'GJ    55', u'HIP   5862', None, u'F9VFe+0.4', u'2006AJ....132..161G', 65.8894, 0.1803, u'2018yCat.1345....0G', 4.96, None, u'2002yCat.2237....0D', 4.7638, 0.0032, u'2018yCat.1345....0G')\n",
      "(79, u'HD  38858', u'87.1455839388217', u'-4.09464431372389', u'HD  38858', u'GJ  1085', u'HIP  27435', None, u'G2V', u'2003AJ....126.2048G', 65.5534, 0.0621, u'2018yCat.1345....0G', 5.97, None, u'2002yCat.2237....0D', 5.7923, 0.0009, u'2018yCat.1345....0G')\n",
      "(80, u'HD  21197', u'51.248877484508', u'-5.3637555461085', u'HD  21197', u'GJ   141', u'HIP  15919', None, u'K4V', u'1999MSS...C05....0H', 65.1422, 0.0502, u'2018yCat.1345....0G', 7.841, None, u'2010MNRAS.403.1949K', 7.4584, 0.0005, u'2018yCat.1345....0G')\n",
      "(81, u'*  51 Peg', u'344.366585069781', u'20.7688284001983', u'HD 217014', u'GJ   882', u'HIP 113357', u'WDS J22575+2046AB', u'G2IV', u'1989ApJS...71..245K', 64.6488, 0.1232, u'2018yCat.1345....0G', 5.46, 0.05, u'2009ApJ...694.1085V', 5.256, 0.002, u'2018yCat.1345....0G')\n",
      "(82, u'HD 139763', u'235.144041841384', u'-18.04902664622', u'HD 139763', None, u'HIP  76779', None, u'K6Vk', u'2006AJ....132..161G', 64.2263, 0.07400000000000001, u'2018yCat.1345....0G', 8.91, None, u'2010MNRAS.403.1949K', 8.3594, 0.0007, u'2018yCat.1345....0G')\n",
      "(83, u'* mu. Ara', u'266.036265142615', u'-51.8340530692008', u'HD 160691', u'GJ   691', u'HIP  86796', None, u'G3IV-V', u'2006AJ....132..161G', 64.0817, 0.1202, u'2018yCat.1345....0G', 5.15, None, None, 4.9046, 0.002, u'2018yCat.1345....0G')\n",
      "(84, u'HD 190404', u'300.967196180637', u'23.3406851207477', u'HD 190404', u'GJ   778', u'HIP  98792', None, u'K1V', u'2010MNRAS.403.1949K', 64.0307, 0.03, u'2018yCat.1345....0G', 7.27, 0.009000000000000001, u'1991A&AS...89..415O', 7.0202, 0.0002, u'2018yCat.1345....0G')\n",
      "(85, u'* tau Boo', u'206.815597502309', u'17.4569042178508', u'HD 120136', u'GJ   527', u'HIP  67275', u'WDS J13473+1727AB', u'F7IV-V', u'2001AJ....121.2148G', 64.03, 0.19, u'2007A&A...474..653V', 4.49, 0.05, u'2009ApJ...694.1085V', None, None, None)\n",
      "(86, u'HD 152705', u'254.177801573765', u'-39.1368770313455', u'HD 152705', None, None, None, u'K3/4V', u'1982MSS...C03....0H', 63.7411, 0.0564, u'2018yCat.1345....0G', 8.59, 0.02, u'2000A&A...355L..27H', 8.0622, 0.0011, u'2018yCat.1345....0G')\n",
      "(87, u'HD 213042', u'337.313484793786', u'-30.0184062754796', u'HD 213042', u'GJ   862', u'HIP 110996', None, u'K4V', u'1982MSS...C03....0H', 63.7236, 0.0857, u'2018yCat.1345....0G', 7.645, None, u'2010MNRAS.403.1949K', 7.289, 0.0004, u'2018yCat.1345....0G')\n",
      "(88, u'HD 118972', u'205.267378858606', u'-34.4641581506564', u'HD 118972', u'GJ  1175', u'HIP  66765', None, u'K0V', u'2006A&A...460..695T', 63.7208, 0.0573, u'2018yCat.1345....0G', 6.92, None, u'1970MNSSA..29....7C', 6.6804, 0.0005, u'2018yCat.1345....0G')\n",
      "(89, u'BD-07   699', u'58.6477755897279', u'-6.8260147641867', None, u'GJ   156', u'HIP  18280', None, u'K5V', u'1986AJ.....92..139S', 63.7059, 0.0468, u'2018yCat.1345....0G', 9.015, None, u'2010MNRAS.403.1949K', 8.4204, 0.0005, u'2018yCat.1345....0G')\n",
      "(90, u'V* V1386 Ori', u'91.6686582205681', u'15.5421053385108', u'HD  41593', u'GJ   227', u'HIP  28954', None, u'K0V', None, 63.3684, 0.0551, u'2018yCat.1345....0G', 6.74, None, u'2010MNRAS.403.1949K', 6.5242, 0.001, u'2018yCat.1345....0G')\n",
      "(91, u'HD 203040', u'320.057588130406', u'-19.8522851852201', u'HD 203040', u'GJ   826.1,GJ  9736', u'HIP 105341', None, u'K6.5Vk', u'2006AJ....132..161G', 63.3493, 0.0899, u'2018yCat.1345....0G', 9.086, None, u'2010MNRAS.403.1949K', 8.4948, 0.0009, u'2018yCat.1345....0G')\n",
      "(92, u'BD+41  2695', u'245.21974905745', u'40.9614499626743', None, u'GJ   619', u'HIP  80093', None, u'K5V', u'1986AJ.....92..139S', 63.3463, 0.0281, u'2018yCat.1345....0G', 9.0, None, None, 8.4376, 0.0005, u'2018yCat.1345....0G')\n",
      "(93, u'HD 191391', u'302.581546043621', u'-20.4934359561692', u'HD 191391', u'GJ   782', u'HIP  99385', None, u'K6Vk', u'2006AJ....132..161G', 63.2814, 0.0714, u'2018yCat.1345....0G', 8.901, None, u'2010MNRAS.403.1949K', 8.3698, 0.0008, u'2018yCat.1345....0G')\n",
      "(94, u'HD 135599', u'228.996528936001', u'0.7963614233157', u'HD 135599', None, u'HIP  74702', None, u'K0V', u'1999MSS...C05....0H', 63.2318, 0.0407, u'2018yCat.1345....0G', 6.905, None, u'2010MNRAS.403.1949K', 6.6866, 0.0004, u'2018yCat.1345....0G')\n",
      "(95, u'* chi Her', u'238.168921405049', u'42.4515141958648', u'HD 142373', u'GJ   602', u'HIP  77760', None, u'F8VFe-2Hdel-1', u'1989ApJS...71..245K', 63.1627, 0.149, u'2018yCat.1345....0G', 4.62, None, u'2002yCat.2237....0D', 4.3655, 0.0037, u'2018yCat.1345....0G')\n",
      "(96, u'* phi02 Cet', u'12.5316191217328', u'-10.6443291141835', u'HD   4813', u'GJ    37', u'HIP   3909', None, u'F7V', u'2003AJ....126.2048G', 62.9723, 0.1614, u'2018yCat.1345....0G', 5.19, None, None, 4.9961, 0.002, u'2018yCat.1345....0G')\n",
      "(97, u'HD  17230', u'41.5719867098561', u'11.7752391919043', u'HD  17230', u'GJ   112.1,GJ  9100', u'HIP  12929', None, u'K6V', u'2010MNRAS.403.1949K', 61.9128, 0.0461, u'2018yCat.1345....0G', 8.574, None, u'2010MNRAS.403.1949K', 8.1068, 0.0007, u'2018yCat.1345....0G')\n",
      "(98, u'HD 202575', u'319.135279461837', u'9.3938262954429', u'HD 202575', u'GJ   824', u'HIP 105038', None, u'K3V', u'2010MNRAS.403.1949K', 61.8699, 0.0441, u'2018yCat.1345....0G', 7.877999999999999, None, u'2010MNRAS.403.1949K', 7.5692, 0.0004, u'2018yCat.1345....0G')\n",
      "(99, u'HD  23484', u'56.0382214697508', u'-38.2817700105762', u'HD  23484', u'GJ   152', u'HIP  17439', None, u'K2V', u'2006A&A...460..695T', 61.8451, 0.0219, u'2018yCat.1345....0G', 6.996, None, u'2010MNRAS.403.1949K', 6.7349, 0.0003, u'2018yCat.1345....0G')\n",
      "(100, u'HD 109200', u'188.380758285751', u'-68.7558087982804', u'HD 109200', u'GJ   472', u'HIP  61291', None, u'K1V', u'1975MSS...C01....0H', 61.7191, 0.0279, u'2018yCat.1345....0G', 7.14, None, u'2010MNRAS.403.1949K', 6.8894, 0.0002, u'2018yCat.1345....0G')\n",
      "(101, u'* I Car', u'156.098774880833', u'-74.031612105', u'HD  90589', u'GJ   391', u'HIP  50954', None, u'F3V', u'2006AJ....132..161G', 61.64, 0.12, u'2007A&A...474..653V', 4.01, None, u'2002yCat.2237....0D', 3.8257, 0.0044, u'2018yCat.1345....0G')\n",
      "(102, u'HD  24451', u'60.3317679575844', u'76.1593738496639', u'HD  24451', u'GJ   156.2,GJ  9139', u'HIP  18774', None, u'K4', u'1985ApJS...59..197B', 61.6177, 0.0262, u'2018yCat.1345....0G', 8.25, None, None, 7.7999, 0.0003, u'2018yCat.1345....0G')\n",
      "(103, u'HD 113538', u'196.23948519313', u'-52.4429245680131', u'HD 113538', u'GJ  9425,GJ   496.1', u'HIP  63833', None, u'K9Vk:', u'2006AJ....132..161G', 61.3899, 0.0523, u'2018yCat.1345....0G', 9.057, None, u'2010MNRAS.403.1949K', 8.4428, 0.0005, u'2018yCat.1345....0G')\n",
      "(104, u'HD 128311', u'219.002336393011', u'9.74651490096805', u'HD 128311', u'GJ  3860', u'HIP  71395', None, u'K3V', u'2010MNRAS.403.1949K', 61.2111, 0.07400000000000001, u'2018yCat.1345....0G', 7.446000000000001, None, u'2010MNRAS.403.1949K', 7.1672, 0.0005, u'2018yCat.1345....0G')\n",
      "(105, u'HD     55', u'1.3237030248377', u'-67.8325904533938', u'HD     55', u'GJ     3', u'HIP    436', None, u'K4.5V', u'2006AJ....132..161G', 61.0313, 0.0325, u'2018yCat.1345....0G', 8.485, None, u'2010MNRAS.403.1949K', 8.0841, 0.0003, u'2018yCat.1345....0G')\n",
      "(106, u'BD+66   582', u'133.001449840749', u'66.1314969083332', None, u'GJ   322', u'HIP  43534', None, u'K5', None, 60.5523, 0.0303, u'2018yCat.1345....0G', 9.28, None, None, 8.6786, 0.0005, u'2018yCat.1345....0G')\n",
      "(107, u'L  266-166', u'248.729916724666', u'-53.5773164887212', None, u'GJ  3961', None, None, u'K7', None, 59.9648, 0.0802, u'2018yCat.1345....0G', 12.0, None, None, 11.0748, 0.0014, u'2018yCat.1345....0G')\n",
      "(108, u'HD 229590', u'282.216131894247', u'17.4389471414656', u'HD 229590', u'GJ   728', u'HIP  92311', None, u'K7', u'2010MNRAS.403.1949K', 59.9538, 0.0428, u'2018yCat.1345....0G', 9.155, None, u'2010MNRAS.403.1949K', 8.605, 0.0004, u'2018yCat.1345....0G')\n",
      "(109, u'HD 130992', u'222.918604459977', u'-24.3041323841181', u'HD 130992', u'GJ   565', u'HIP  72688', None, u'K3.5V', u'2006AJ....132..161G', 59.6682, 0.0443, u'2018yCat.1345....0G', 7.805, None, u'2010MNRAS.403.1949K', 7.4769, 0.0003, u'2018yCat.1345....0G')\n",
      "(110, u'HD 152391', u'253.245010594734', u'-0.0264211943524', u'HD 152391', u'GJ   641', u'HIP  82588', None, u'G8.5Vk:', u'2006AJ....132..161G', 59.5382, 0.0328, u'2018yCat.1345....0G', 6.64, None, None, 6.4270000000000005, 0.0007, u'2018yCat.1345....0G')\n",
      "(111, u'HD 193202', u'302.718407489268', u'77.2389720454709', u'HD 193202', u'GJ   786', u'HIP  99427', None, u'K7V', u'1991ApJS...77..417K', 59.4428, 0.026000000000000002, u'2018yCat.1345....0G', 8.88, None, None, 8.3133, 0.0004, u'2018yCat.1345....0G')\n",
      "(112, u'HD  76151', u'133.57477908704', u'-5.4344573577189', u'HD  76151', u'GJ   327', u'HIP  43726', None, u'G2V', u'1989ApJS...71..245K', 59.3469, 0.0447, u'2018yCat.1345....0G', 6.0, None, u'2002yCat.2237....0D', 5.8315, 0.0007, u'2018yCat.1345....0G')\n",
      "(113, u'HD  55575', u'108.958913397578', u'47.2399655022431', u'HD  55575', u'GJ  1095', u'HIP  35136', None, u'F9V', u'2003AJ....126.2048G', 59.287, 0.1222, u'2018yCat.1345....0G', 5.58, None, u'2002yCat.2237....0D', 5.3678, 0.0014, u'2018yCat.1345....0G')\n",
      "(114, u'HD 174080', u'282.121771875589', u'10.7454508517027', u'HD 174080', u'GJ   727', u'HIP  92283', u'WDS J18485+1045A', u'K0', u'2010MNRAS.403.1949K', 59.2621, 0.0481, u'2018yCat.1345....0G', 7.912000000000001, None, u'2010MNRAS.403.1949K', 7.5976, 0.0007, u'2018yCat.1345....0G')\n",
      "(115, u'HD 221354', u'352.842536327353', u'59.1655184681585', u'HD 221354', u'GJ   895.4', u'HIP 116085', None, u'K0V', u'2003AJ....126.2048G', 59.2528, 0.031, u'2018yCat.1345....0G', 6.74, None, None, 6.5214, 0.0002, u'2018yCat.1345....0G')\n",
      "(116, u'HD  48948', u'102.487607807754', u'60.335545083342', u'HD  48948', u'GJ   247', u'HIP  32769', None, u'K5', u'1985ApJS...59..197B', 59.1275, 0.0659, u'2018yCat.1345....0G', 8.58, None, None, 8.1131, 0.0004, u'2018yCat.1345....0G')\n",
      "(117, u'HD 177565', u'286.718601307846', u'-37.8106591114617', u'HD 177565', u'GJ   744', u'HIP  93858', None, u'G6V', u'2006AJ....132..161G', 59.0802, 0.0667, u'2018yCat.1345....0G', 6.16, None, None, 5.9647, 0.0007, u'2018yCat.1345....0G')\n",
      "(118, u'HD   7924', u'20.4963050876571', u'76.7102881446778', u'HD   7924', u'GJ  9054,GJ    56.5', u'HIP   6379', None, u'K0.5V', u'2014MNRAS.438.2413V', 58.8216, 0.0249, u'2018yCat.1345....0G', 7.167000000000001, 0.01, u'2000A&A...355L..27H', 6.9252, 0.0002, u'2018yCat.1345....0G')\n",
      "(119, u'HD 111395', u'192.196034357239', u'24.840227848043', u'HD 111395', u'GJ   486.1', u'HIP  62523', None, u'G5V', None, 58.4809, 0.0501, u'2018yCat.1345....0G', 6.29, 0.02, u'1997JApA...18..161Y', 6.0983, 0.0004, u'2018yCat.1345....0G')\n",
      "(120, u'HD  65583', u'120.133873812251', u'29.2123546225954', u'HD  65583', u'GJ   295', u'HIP  39157', None, u'K0V_Fe-1.3', u'2003AJ....126.2048G', 58.4791, 0.045, u'2018yCat.1345....0G', 7.0, None, u'2002yCat.2237....0D', 6.7639, 0.0002, u'2018yCat.1345....0G')\n",
      "(121, u'BD+45  4378', u'359.681200671061', u'46.7290936826221', None, u'GJ   913', u'HIP 118212', None, u'K7V', u'1986AJ.....92..139S', 58.4067, 0.8984, u'2018yCat.1345....0G', 9.62, None, None, 8.8728, 0.0005, u'2018yCat.1345....0G')\n",
      "(122, u'HD  62613', u'119.071783686949', u'80.2655429470217', u'HD  62613', u'GJ   290', u'HIP  38784', None, u'G9', u'1985ApJS...59..197B', 58.3088, 0.0244, u'2018yCat.1345....0G', 6.56, None, None, 6.3603, 0.0002, u'2018yCat.1345....0G')\n",
      "(123, u'HD 124642', u'213.487826514856', u'30.2171872985343', u'HD 124642', u'GJ  3833', u'HIP  69526', None, u'K3.5V', u'2003AJ....126.2048G', 58.1145, 0.0472, u'2018yCat.1345....0G', 8.06, None, None, 7.6666, 0.0004, u'2018yCat.1345....0G')\n",
      "(124, u'HD  47752', u'100.315463029813', u'23.9577162078236', u'HD  47752', u'GJ   241', u'HIP  32010', None, u'K3.5V', u'2010MNRAS.403.1949K', 57.8889, 0.0499, u'2018yCat.1345....0G', 8.056000000000001, None, u'2010MNRAS.403.1949K', 7.7333, 0.0004, u'2018yCat.1345....0G')\n",
      "(125, u'HD  67199', u'120.629946680538', u'-66.0209388431651', u'HD  67199', u'GJ  3476', u'HIP  39342', None, u'K2Vk:', u'2006AJ....132..161G', 57.8823, 0.0356, u'2018yCat.1345....0G', 7.166, None, u'2010MNRAS.403.1949K', 6.9215, 0.0003, u'2018yCat.1345....0G')\n",
      "(126, u'HD  94765', u'164.128330518382', u'7.3884746641671', u'HD  94765', u'GJ  3633', u'HIP  53486', None, u'K0V', None, 57.7619, 0.0343, u'2018yCat.1345....0G', 7.379, 0.064, u'2012AcA....62...67K', 7.0991, 0.0005, u'2018yCat.1345....0G')\n",
      "(127, u'* iot Hor', u'40.6394436828442', u'-50.8002933950417', u'HD  17051', u'GJ   108', u'HIP  12653', None, u'F8V', u'2006A&A...460..695T', 57.7143, 0.0537, u'2018yCat.1345....0G', 5.4, None, None, 5.2242, 0.0016, u'2018yCat.1345....0G')\n",
      "(128, u'* q01 Eri', u'25.6221453427163', u'-53.7408308792417', u'HD  10647', u'GJ  3109', u'HIP   7978', None, u'F9V', u'1989ApJS...71..245K', 57.6556, 0.0737, u'2018yCat.1345....0G', 5.52, None, None, 5.3549, 0.0013, u'2018yCat.1345....0G')\n",
      "(129, u'* g Lup', u'235.29740413375', u'-44.6612063369445', u'HD 139664', u'GJ   594', u'HIP  76829', None, u'F3/5V', u'1978MSS...C02....0H', 57.35, 0.16, u'2007A&A...474..653V', 4.64, None, None, 4.4891, 0.0036, u'2018yCat.1345....0G')\n",
      "(130, u'HD 193664', u'304.380534503091', u'66.853689331402', u'HD 193664', u'GJ   788', u'HIP 100017', None, u'G3V', u'2011ARep...55...31S', 57.2564, 0.0371, u'2018yCat.1345....0G', 5.93, None, None, 5.7519, 0.0007, u'2018yCat.1345....0G')\n",
      "(131, u'*  37 Gem', u'103.827777938613', u'25.3756955006603', u'HD  50692', u'GJ   252', u'HIP  33277', None, u'G0V', u'2003AJ....126.2048G', 57.2425, 0.1005, u'2018yCat.1345....0G', 5.747999999999999, 0.009000000000000001, u'2000A&A...355L..27H', 5.584, 0.0013, u'2018yCat.1345....0G')\n",
      "(132, u'* rho CrB', u'240.261086688454', u'33.3035117348703', u'HD 143761', u'GJ  9537,GJ   606.2', u'HIP  78459', u'WDS J16010+3318A', u'G0+VaFe-1', u'1989ApJS...71..245K', 57.2216, 0.0782, u'2018yCat.1345....0G', 5.41, 0.05, u'2009ApJ...694.1085V', 5.2094, 0.0016, u'2018yCat.1345....0G')\n",
      "(133, u'HD  35650', u'81.1257071391423', u'-38.9696517534358', u'HD  35650', None, u'HIP  25283', None, u'K6V', u'2006A&A...460..695T', 57.2104, 0.0281, u'2018yCat.1345....0G', 9.054, 0.040999999999999995, u'2012AcA....62...67K', 8.5263, 0.0011, u'2018yCat.1345....0G')\n",
      "(134, u'HD 148467', u'246.987113487588', u'7.305443665335', u'HD 148467', u'GJ   626', u'HIP  80644', None, u'K6V', u'2003AJ....126.2048G', 57.0479, 0.0414, u'2018yCat.1345....0G', 8.85, 0.013999999999999999, u'2000A&A...355L..27H', 8.3327, 0.0002, u'2018yCat.1345....0G')\n",
      "(135, u'* e Vir', u'199.193817329996', u'9.424157557205', u'HD 115383', u'GJ   504', u'HIP  64792', u'WDS J13168+0925A', u'G0V', u'2010A&A...522A..81A', 57.0186, 0.2524, u'2018yCat.1345....0G', 5.22, None, None, 5.001, 0.0029, u'2018yCat.1345....0G')\n",
      "(136, u'*  10 CVn', u'191.247521113808', u'39.2789161990675', u'HD 110897', u'GJ   484', u'HIP  62207', None, u'F9V_Fe-0.3', u'2003AJ....126.2048G', 56.9309, 0.073, u'2018yCat.1345....0G', 5.95, None, u'2002yCat.2237....0D', 5.7853, 0.0007, u'2018yCat.1345....0G')\n",
      "(137, u'HD  25004', u'59.1515848907585', u'-41.3435694353512', u'HD  25004', u'GJ  1066', u'HIP  18450', None, u'K6Vk:', u'2006AJ....132..161G', 56.9195, 0.0257, u'2018yCat.1345....0G', 8.847000000000001, None, u'2010MNRAS.403.1949K', 8.3704, 0.0004, u'2018yCat.1345....0G')\n",
      "(138, u'CD-46    76', u'5.3317491193017', u'-45.7464190295317', None, u'GJ  9010,GJ    17.1', u'HIP   1696', None, u'K7.0', u'2010MNRAS.403.1949K', 56.8562, 0.0315, u'2018yCat.1345....0G', 10.394, None, u'2010MNRAS.403.1949K', 9.6286, 0.0004, u'2018yCat.1345....0G')\n",
      "(139, u'* tau06 Eri', u'56.7120341295833', u'-23.2497234958333', u'HD  23754', u'GJ   155', u'HIP  17651', None, u'F5IV-V', u'2006AJ....132..161G', 56.73, 0.19, u'2007A&A...474..653V', 4.2, None, None, 4.044, 0.0052, u'2018yCat.1345....0G')\n",
      "(140, u'*  58 Oph', u'265.857473755', u'-21.6831938761111', u'HD 160915', u'GJ   692', u'HIP  86736', None, u'F5V', u'2006AJ....132..161G', 56.65, 0.24, u'2007A&A...474..653V', 4.861000000000001, 0.009000000000000001, u'2000A&A...355L..27H', 4.6927, 0.0029, u'2018yCat.1345....0G')\n",
      "(141, u'CD-27 13268', u'282.588178844588', u'-26.9236348034903', None, None, u'HIP  92444', None, u'K8Vk', u'2006AJ....132..161G', 56.6218, 0.0418, u'2018yCat.1345....0G', 9.68, None, u'2010MNRAS.403.1949K', 9.0476, 0.0005, u'2018yCat.1345....0G')\n",
      "(142, u'CD-27  7978', u'169.281278928663', u'-27.8135307893965', None, u'GJ  1145', u'HIP  55119', None, u'K7', u'2010MNRAS.403.1949K', 56.608999999999995, 0.036000000000000004, u'2018yCat.1345....0G', 9.758, None, u'2010MNRAS.403.1949K', 9.1052, 0.0004, u'2018yCat.1345....0G')\n",
      "(143, u'HD 152606', u'253.908393471783', u'-32.0677020087793', u'HD 152606', None, u'HIP  82834', None, u'K8Vk', u'2006AJ....132..161G', 56.6076, 0.0514, u'2018yCat.1345....0G', 9.572000000000001, None, u'2010MNRAS.403.1949K', 8.9392, 0.0003, u'2018yCat.1345....0G')\n",
      "(144, u'HD  30876', u'72.4680497323941', u'-35.1076300176025', u'HD  30876', u'GJ  3317', u'HIP  22451', None, u'K2V', u'1982MSS...C03....0H', 56.4713, 0.024, u'2018yCat.1345....0G', 7.495, None, u'2010MNRAS.403.1949K', 7.2421, 0.0004, u'2018yCat.1345....0G')\n",
      "(145, u'HD 204587', u'322.511483619527', u'-12.5100685268788', u'HD 204587', u'GJ   830', u'HIP 106147', None, u'K7Vk:', u'2006AJ....132..161G', 56.4251, 0.06, u'2018yCat.1345....0G', 9.075, None, u'2010MNRAS.403.1949K', 8.536, 0.0007, u'2018yCat.1345....0G')\n",
      "(146, u'HD 113194', u'195.586202990906', u'-26.78711802841', u'HD 113194', None, u'HIP  63618', None, u'K5Vk:', u'2006AJ....132..161G', 56.3997, 0.1368, u'2018yCat.1345....0G', 8.351, None, u'2010MNRAS.403.1949K', 7.8616, 0.0006, u'2018yCat.1345....0G')\n",
      "(147, u'HD 102438', u'176.815865620902', u'-30.2865103764475', u'HD 102438', u'GJ   446', u'HIP  57507', None, u'G6V', u'2006AJ....132..161G', 56.3677, 0.0342, u'2018yCat.1345....0G', 6.48, None, None, 6.2875, 0.0002, u'2018yCat.1345....0G')\n",
      "(148, u'* iot Pav', u'272.608963238743', u'-62.0022386929854', u'HD 165499', u'GJ  9616,GJ   705.1', u'HIP  89042', None, u'G0V', u'2006AJ....132..161G', 56.328, 0.1231, u'2018yCat.1345....0G', 5.49, None, None, 5.2901, 0.0012, u'2018yCat.1345....0G')\n",
      "(149, u'BD+17  2785', u'221.597009882395', u'16.4966991577585', None, u'GJ   562', u'HIP  72237', None, u'K5V', u'2010MNRAS.403.1949K', 56.3208, 0.0432, u'2018yCat.1345....0G', 9.23, 0.02, u'2000A&A...355L..27H', 8.7102, 0.0007, u'2018yCat.1345....0G')\n",
      "(150, u'HD 132683', u'225.180888026334', u'-11.1351297143899', u'HD 132683', u'GJ   571.1,GJ  9507', u'HIP  73457', None, u'K8Vk', u'2006AJ....132..161G', 56.0214, 0.0529, u'2018yCat.1345....0G', 9.472000000000001, None, u'2010MNRAS.403.1949K', 8.8441, 0.001, u'2018yCat.1345....0G')\n",
      "(151, u'HD  35854', u'81.5614089571171', u'-32.504760253901', u'HD  35854', u'GJ  1079', u'HIP  25421', None, u'K2/3V', u'1982MSS...C03....0H', 55.9232, 0.0235, u'2018yCat.1345....0G', 7.711, None, u'2010MNRAS.403.1949K', 7.4087, 0.0002, u'2018yCat.1345....0G')\n",
      "(152, u'HD 189567', u'301.386521819993', u'-67.3208969062228', u'HD 189567', u'GJ   776', u'HIP  98959', None, u'G2V', u'2006AJ....132..161G', 55.8197, 0.0381, u'2018yCat.1345....0G', 6.07, None, u'2002yCat.2237....0D', 5.8992, 0.0004, u'2018yCat.1345....0G')\n",
      "(153, u'HD   3765', u'10.2052912922363', u'40.1871721461014', u'HD   3765', u'GJ    28', u'HIP   3206', None, u'K2V', u'1989ApJS...71..245K', 55.7562, 0.1002, u'2018yCat.1345....0G', 7.36, None, None, 7.0783, 0.0002, u'2018yCat.1345....0G')\n",
      "(154, u'*  14 Her', u'242.601313647729', u'43.8176385373797', u'HD 145675', u'GJ   614', u'HIP  79248', u'WDS J16104+4349AB', u'K0V', u'1989ApJS...71..245K', 55.7363, 0.0226, u'2018yCat.1345....0G', 6.67, None, None, 6.3793, 0.0002, u'2018yCat.1345....0G')\n",
      "(155, u'HD 217486', u'345.40794614767', u'-44.988548292988', u'HD 217486', None, u'HIP 113697', None, u'K3+V', u'2006AJ....132..161G', 55.7205, 0.4377, u'2018yCat.1345....0G', 8.96, None, None, 8.5713, 0.0003, u'2018yCat.1345....0G')\n",
      "(156, u'HD   2025', u'6.1080561057659', u'-27.0267729437561', u'HD   2025', u'GJ    18', u'HIP   1936', None, u'K3V', u'2006AJ....132..161G', 55.7055, 0.071, u'2018yCat.1345....0G', 7.916, None, u'2010MNRAS.403.1949K', 7.6169, 0.0003, u'2018yCat.1345....0G')\n",
      "(157, u'UPM J0901-6526', u'135.382138405403', u'-65.4445161244102', None, None, None, None, u'K5', u'2006AJ....132..866R', 55.6139, 0.0609, u'2018yCat.1345....0G', None, None, None, 13.3712, 0.0006, u'2018yCat.1345....0G')\n",
      "(158, u'*  70 Vir', u'202.107535833333', u'13.7787880555556', u'HD 117176', u'GJ  9446,GJ   512.1', u'HIP  65721', u'WDS J13284+1347A', u'G4Va', u'1989ApJS...71..245K', 55.6, 0.24, u'2007A&A...474..653V', 4.97, 0.009000000000000001, u'1993A&AS..100..591O', 4.7087, 0.0032, u'2018yCat.1345....0G')\n",
      "(159, u'*   6 Cet', u'2.8160454159002', u'-15.4679835277425', u'HD    693', u'GJ    10', u'HIP    910', None, u'F8VFe-0.8CH-0.5', u'2006AJ....132..161G', 55.586999999999996, 0.3324, u'2018yCat.1345....0G', 4.89, None, u'2002yCat.2237....0D', 4.6906, 0.0044, u'2018yCat.1345....0G')\n",
      "(160, u'* ksi Gem', u'101.322351335417', u'12.8955919797222', u'HD  48737', u'GJ   242', u'HIP  32362', None, u'F5IV-V', u'2003AJ....126.2048G', 55.56, 0.19, u'2007A&A...474..653V', 3.36, None, u'2002yCat.2237....0D', 3.123, 0.0051, u'2018yCat.1345....0G')\n",
      "(161, u'HD  84035', u'145.856918875074', u'42.6915598240029', u'HD  84035', u'GJ   365', u'HIP  47690', None, u'K4V', u'2003AJ....126.2048G', 55.4519, 0.1298, u'2018yCat.1345....0G', 8.16, 0.009000000000000001, u'1991A&AS...89..415O', 7.7351, 0.0004, u'2018yCat.1345....0G')\n",
      "(162, u'HD 117936', u'203.384998395339', u'8.5867630048631', u'HD 117936', u'GJ  2102', u'HIP  66147', None, u'K3V', u'2010MNRAS.403.1949K', 55.3898, 0.1452, u'2018yCat.1345....0G', 7.959, None, u'2010MNRAS.403.1949K', 7.6268, 0.0005, u'2018yCat.1345....0G')\n",
      "(163, u'HD 206860', u'326.130541555706', u'14.7719395363997', u'HD 206860', u'GJ   836.7,GJ  9751', u'HIP 107350', u'WDS J21445+1446A', u'G0V+', u'2001AJ....121.2148G', 55.1631, 0.0608, u'2018yCat.1345....0G', 5.95, 0.01, u'2000A&A...355L..27H', 5.8109, 0.0013, u'2018yCat.1345....0G')\n",
      "(164, u'V* V376 Gem', u'112.257369590401', u'31.9938437345588', None, u'GJ   273.1,GJ  9233', u'HIP  36357', None, u'K2.5V', u'2003AJ....126.2048G', 55.0668, 0.0423, u'2018yCat.1345....0G', 7.71, None, None, 7.4389, 0.0005, u'2018yCat.1345....0G')\n",
      "(165, u'* chi Cnc', u'125.016086235277', u'27.2177073344785', u'HD  69897', u'GJ   303', u'HIP  40843', None, u'F6V', u'2007AJ....133.2524W', 54.864, 0.1728, u'2018yCat.1345....0G', 5.1, None, None, 4.9581, 0.0029, u'2018yCat.1345....0G')\n",
      "(166, u'HD  31560', u'73.9246267376178', u'-28.5639122812935', u'HD  31560', u'GJ  2037', u'HIP  22907', None, u'K3.5Vk:', u'2006AJ....132..161G', 54.843, 0.0342, u'2018yCat.1345....0G', 8.122, None, u'2010MNRAS.403.1949K', 7.7609, 0.0003, u'2018yCat.1345....0G')\n",
      "(167, u'HD 222335', u'354.963775747449', u'-32.7434070730393', u'HD 222335', u'GJ  9833,GJ   902.1', u'HIP 116763', None, u'G9.5V', u'2006AJ....132..161G', 54.7891, 0.0493, u'2018yCat.1345....0G', 7.191, None, u'2010MNRAS.403.1949K', 6.9578, 0.0003, u'2018yCat.1345....0G')\n",
      "(168, u'BD+13  3578', u'274.009377665575', u'13.9133902220479', None, u'GJ   708.2,GJ  9620', u'HIP  89517', None, u'K7V', u'1986AJ.....92..139S', 54.761, 0.0504, u'2018yCat.1345....0G', 10.179, None, u'2010MNRAS.403.1949K', 9.4737, 0.0004, u'2018yCat.1345....0G')\n",
      "(169, u'BD-13  3333', u'169.09227671107', u'-14.6933763281128', None, u'GJ  9355,GJ  1144', u'HIP  55066', None, u'K7V', u'1986AJ.....92..139S', 54.731, 0.0847, u'2018yCat.1345....0G', 9.98, None, u'2010MNRAS.403.1949K', 9.3285, 0.0005, u'2018yCat.1345....0G')\n",
      "(170, u'HD 154088', u'256.116013360398', u'-28.5826777216767', u'HD 154088', u'GJ   652', u'HIP  83541', None, u'K0IV-V', u'2006AJ....132..161G', 54.708, 0.0468, u'2018yCat.1345....0G', 6.584, 0.01, u'2000A&A...355L..27H', 6.3631, 0.0002, u'2018yCat.1345....0G')\n",
      "(171, u'* pi. Men', u'84.2911880010838', u'-80.4691198186791', u'HD  39091', u'GJ  9189', u'HIP  26394', None, u'G0V', u'2006AJ....132..161G', 54.7052, 0.0671, u'2018yCat.1345....0G', 5.67, None, None, 5.4907, 0.0014, u'2018yCat.1345....0G')\n",
      "(172, u'* eta Crv', u'188.0176105425', u'-16.1960045758333', u'HD 109085', u'GJ  9411,GJ   471.2', u'HIP  61174', None, u'F2V', u'2006AJ....132..161G', 54.7, 0.17, u'2007A&A...474..653V', 4.31, None, None, 4.1916, 0.0176, u'2018yCat.1345....0G')\n",
      "(173, u'V* LQ Hya', u'143.106535032968', u'-11.1846353918718', u'HD  82558', u'GJ   355', u'HIP  46816', None, u'K1Vp', u'1999MSS...C05....0H', 54.675, 0.0671, u'2018yCat.1345....0G', 7.891, 0.096, u'2012AcA....62...67K', 7.4967, 0.0018, u'2018yCat.1345....0G')\n",
      "(174, u'HD 154345', u'255.651682936624', u'47.0818785219314', u'HD 154345', u'GJ   651', u'HIP  83389', None, u'G9', u'1985ApJS...59..197B', 54.6636, 0.0212, u'2018yCat.1345....0G', 6.74, None, None, 6.5677, 0.0002, u'2018yCat.1345....0G')\n",
      "(175, u'HD  87883', u'152.179753800659', u'34.2422635292617', u'HD  87883', None, u'HIP  49699', None, u'K0V', None, 54.6421, 0.0369, u'2018yCat.1345....0G', 7.55, 0.01, u'2000A&A...355L..27H', 7.2719, 0.0002, u'2018yCat.1345....0G')\n",
      "(176, u'* tau PsA', u'332.536584748119', u'-32.5484098617725', u'HD 210302', u'GJ   849.1,GJ  9770', u'HIP 109422', None, u'F6V', u'2006AJ....132..161G', 54.4879, 0.154, u'2018yCat.1345....0G', 4.92, None, None, 4.7641, 0.0026, u'2018yCat.1345....0G')\n",
      "(177, u'HD  53143', u'104.998564418979', u'-61.3361804749317', u'HD  53143', u'GJ   260', u'HIP  33690', None, u'G9V', u'2006A&A...460..695T', 54.4655, 0.0233, u'2018yCat.1345....0G', 6.803, None, u'2010MNRAS.403.1949K', 6.6049, 0.0007, u'2018yCat.1345....0G')\n",
      "(178, u'HD  97503', u'168.305144050085', u'4.4823445548839', u'HD  97503', u'GJ   418', u'HIP  54810', None, u'K5V', u'2010MNRAS.403.1949K', 54.4599, 0.062, u'2018yCat.1345....0G', 9.32, 0.01, u'2012yCat.1322....0Z', 8.2556, 0.0007, u'2018yCat.1345....0G')\n",
      "(179, u'HD 158233', u'262.277317495603', u'-23.8361121722806', u'HD 158233', u'GJ  4008', u'HIP  85561', None, u'K5V', u'1988MSS...C04....0H', 54.3679, 0.0593, u'2018yCat.1345....0G', 9.597000000000001, None, u'2010MNRAS.403.1949K', 9.0597, 0.0005, u'2018yCat.1345....0G')\n",
      "(180, u'HD 192961', u'304.903900241726', u'-46.4281151685674', u'HD 192961', u'GJ   787', u'HIP 100223', None, u'K5.5V', u'2006AJ....132..161G', 54.1449, 0.0596, u'2018yCat.1345....0G', 8.708, None, u'2010MNRAS.403.1949K', 8.2735, 0.0004, u'2018yCat.1345....0G')\n",
      "(181, u'HD  25329', u'60.8124931520908', u'35.2732795152558', u'HD  25329', u'GJ   158', u'HIP  18915', None, u'K1VbFe-2', u'1989ApJS...71..245K', 53.9806, 0.0521, u'2018yCat.1345....0G', 8.5, None, u'2002yCat.2237....0D', 8.2205, 0.0002, u'2018yCat.1345....0G')\n",
      "(182, u'HD  42807', u'93.3020947823679', u'10.6271426145449', u'HD  42807', u'GJ   230', u'HIP  29525', None, u'G4', u'1985ApJS...59..197B', 53.6335, 0.0716, u'2018yCat.1345....0G', 6.44, None, None, 6.2613, 0.0009, u'2018yCat.1345....0G')\n",
      "(183, u'HD  49601', u'102.8849739795', u'47.3678194316394', u'HD  49601', u'GJ   249', u'HIP  32919', None, u'K6V', u'2003AJ....126.2048G', 53.5873, 0.0377, u'2018yCat.1345....0G', 8.98, None, None, 8.457, 0.0005, u'2018yCat.1345....0G')\n",
      "(184, u'HD  20280', u'48.6859349253919', u'-26.4462487063324', u'HD  20280', u'GJ   131', u'HIP  15095', None, u'K5.5Vk:', u'2006AJ....132..161G', 53.5696, 0.040999999999999995, u'2018yCat.1345....0G', 9.141, None, u'2010MNRAS.403.1949K', 8.6513, 0.0007, u'2018yCat.1345....0G')\n",
      "(185, u'BD-18  3106', u'166.865425323186', u'-19.2914876796619', None, None, u'HIP  54373', None, u'K5V', u'1986AJ.....92..139S', 53.3991, 0.0465, u'2018yCat.1345....0G', 10.379000000000001, None, u'2010MNRAS.403.1949K', 9.6408, 0.0004, u'2018yCat.1345....0G')\n",
      "(186, u'HD  25665', u'62.3959994205427', u'69.5413913311491', u'HD  25665', u'GJ   161', u'HIP  19422', None, u'K2.5V', u'2003AJ....126.2048G', 53.284, 0.0347, u'2018yCat.1345....0G', 7.697, 0.01, u'2000A&A...355L..27H', 7.4167, 0.0002, u'2018yCat.1345....0G')\n",
      "(187, u'HD  25457', u'60.6531047681552', u'-0.2689218240574', u'HD  25457', u'GJ   159', u'HIP  18859', None, u'F7/8V', u'1999MSS...C05....0H', 53.273, 0.1157, u'2018yCat.1345....0G', 5.38, None, None, 5.2304, 0.0015, u'2018yCat.1345....0G')\n",
      "(188, u'HD 170493', u'277.468364476718', u'-1.8181025236799', u'HD 170493', u'GJ   715', u'HIP  90656', None, u'K4V', u'1999MSS...C05....0H', 53.2422, 0.07, u'2018yCat.1345....0G', 8.004, None, u'2010MNRAS.403.1949K', 7.6722, 0.0006, u'2018yCat.1345....0G')\n",
      "(189, u'HD 130004', u'221.35076180387', u'13.8463156306293', u'HD 130004', None, u'HIP  72146', None, u'K0V', None, 53.1567, 0.0405, u'2018yCat.1345....0G', 7.87, 0.009000000000000001, u'1987A&AS...71..561O', 7.5836, 0.0003, u'2018yCat.1345....0G')\n",
      "(190, u'HD 266611', u'104.269552249992', u'30.7564919076566', u'HD 266611', u'GJ   254', u'HIP  33428', None, u'K5V', u'1986AJ.....92..139S', 52.9498, 0.1017, u'2018yCat.1345....0G', 9.745, 0.07, u'2012yCat.1322....0Z', 9.0951, 0.0006, u'2018yCat.1345....0G')\n",
      "(191, u'*  15 LMi', u'147.147380418865', u'46.0210093814971', u'HD  84737', u'GJ   368', u'HIP  48113', None, u'G0.5Va', u'1989ApJS...71..245K', 52.8994, 0.126, u'2018yCat.1345....0G', 5.1, None, u'2002yCat.2237....0D', 4.8944, 0.0021, u'2018yCat.1345....0G')\n",
      "(192, u'CD-39  2700', u'99.0761665384013', u'-40.0065616275003', None, None, u'HIP  31555', None, u'K8Vk', u'2006AJ....132..161G', 52.803999999999995, 0.2911, u'2018yCat.1345....0G', 10.592, None, u'2010MNRAS.403.1949K', 9.8495, 0.0007, u'2018yCat.1345....0G')\n",
      "(193, u'HD  52711', u'105.876911998789', u'29.3370824966074', u'HD  52711', u'GJ   262', u'HIP  34017', None, u'G0V', u'2003AJ....126.2048G', 52.7681, 0.0929, u'2018yCat.1345....0G', 5.93, None, u'2002yCat.2237....0D', 5.7732, 0.0009, u'2018yCat.1345....0G')\n",
      "(194, u'BD+06  2986', u'226.223025812576', u'5.6381001423014', None, u'GJ   576', u'HIP  73786', None, u'K8V', u'2010MNRAS.403.1949K', 52.5873, 0.0668, u'2018yCat.1345....0G', 9.815, None, u'2010MNRAS.403.1949K', 9.2357, 0.0006, u'2018yCat.1345....0G')\n",
      "(195, u'HD  78366', u'137.212793928203', u'33.882218922011', u'HD  78366', u'GJ   334.2', u'HIP  44897', None, u'G0IV-V', u'2003AJ....126.2048G', 52.5197, 0.0801, u'2018yCat.1345....0G', 5.9, None, None, 5.7947, 0.0005, u'2018yCat.1345....0G')\n",
      "(196, u'HD 168442', u'274.961838343295', u'-1.938612589349', u'HD 168442', u'GJ   710', u'HIP  89825', None, u'K7Vk', u'2006AJ....132..161G', 52.5185, 0.0478, u'2018yCat.1345....0G', 9.656, None, u'2010MNRAS.403.1949K', 9.0608, 0.0005, u'2018yCat.1345....0G')\n",
      "(197, u'HD 160964', u'264.055654353856', u'71.8783564845964', u'HD 160964', u'GJ   689', u'HIP  86141', None, u'K4V', u'1989ApJS...71..245K', 52.455, 0.0261, u'2018yCat.1345....0G', 8.59, None, None, 8.1642, 0.0004, u'2018yCat.1345....0G')\n",
      "(198, u'HD 170573', u'278.271168726017', u'-54.2631900947533', u'HD 170573', None, u'HIP  90945', None, u'K4.5Vk:', u'2006AJ....132..161G', 52.3688, 0.0581, u'2018yCat.1345....0G', 8.53, 0.01, u'2000A&A...355L..27H', 8.0792, 0.0004, u'2018yCat.1345....0G')\n",
      "(199, u'HD  52919', u'105.678822702153', u'-6.7992262311065', u'HD  52919', u'GJ  1094', u'HIP  33955', None, u'K4V', u'1999MSS...C05....0H', 52.3185, 0.0488, u'2018yCat.1345....0G', 8.351, None, u'2010MNRAS.403.1949K', 7.9849, 0.0004, u'2018yCat.1345....0G')\n",
      "(200, u'BD-04  3873', u'230.517083833839', u'-4.7774525511489', None, u'GJ   583', u'HIP  75201', None, u'K4V', u'1986AJ.....92..139S', 52.1506, 0.0532, u'2018yCat.1345....0G', 9.459, None, u'2010MNRAS.403.1949K', 8.8991, 0.0007, u'2018yCat.1345....0G')\n",
      "(201, u'HD 220339', u'350.770396665463', u'-10.7642439444714', u'HD 220339', u'GJ  9824,GJ   894.5', u'HIP 115445', None, u'K2V', u'1999MSS...C05....0H', 52.1313, 0.0573, u'2018yCat.1345....0G', 7.796, None, u'2010MNRAS.403.1949K', 7.5312, 0.0003, u'2018yCat.1345....0G')\n",
      "(202, u'HD  68834', u'123.649643102974', u'13.0228261574527', u'HD  68834', u'GJ  3488', u'HIP  40375', None, u'K5V', u'2010MNRAS.403.1949K', 52.1185, 0.044000000000000004, u'2018yCat.1345....0G', 8.797, None, u'2010MNRAS.403.1949K', 8.3404, 0.0004, u'2018yCat.1345....0G')\n",
      "(203, u'* 110 Her', u'281.415523767083', u'20.5463103052778', u'HD 173667', u'GJ  9635,GJ   725.2', u'HIP  92043', u'WDS J18457+2033A', u'F5.5IV-V', u'2001AJ....121.2148G', 52.06, 0.25, u'2007A&A...474..653V', 4.19, None, u'2002yCat.2237....0D', 4.0296, 0.0089, u'2018yCat.1345....0G')\n",
      "(204, u'BD+00  3077', u'203.853218178181', u'-0.389101831292', None, u'GJ  9413,GJ  1173', None, None, u'K7V', u'1986AJ.....92..139S', 51.941, 0.0731, u'2018yCat.1345....0G', 10.27, 0.006, u'1992AJ....104..340L', 9.5788, 0.0006, u'2018yCat.1345....0G')\n",
      "(205, u'HD 194640', u'306.93434503906', u'-30.8678462946428', u'HD 194640', u'GJ   790', u'HIP 100925', None, u'G8V', u'2006AJ....132..161G', 51.7896, 0.0486, u'2018yCat.1345....0G', 6.62, None, None, 6.4261, 0.0003, u'2018yCat.1345....0G')\n",
      "(206, u'HD 130307', u'221.817088160622', u'2.7032263004449', u'HD 130307', u'GJ  3867', u'HIP  72312', None, u'K1V', u'1999MSS...C05....0H', 51.5701, 0.0785, u'2018yCat.1345....0G', 7.755, None, u'2010MNRAS.403.1949K', 7.5045, 0.0005, u'2018yCat.1345....0G')\n",
      "(207, u'CD-33  4354', u'119.452162778368', u'-33.952010997632', None, u'GJ  1106', u'HIP  38910', None, u'K4.5Vk:', u'2006AJ....132..161G', 51.4977, 0.5547, u'2018yCat.1345....0G', 8.824, None, u'2010MNRAS.403.1949K', 8.3859, 0.0004, u'2018yCat.1345....0G')\n",
      "(208, u'HD  36435', u'81.9139681466151', u'-60.415995711059', u'HD  36435', u'GJ   204.1,GJ  9180', u'HIP  25544', None, u'G5V', u'2006A&A...460..695T', 51.3404, 0.0303, u'2018yCat.1345....0G', 6.983, None, u'2010MNRAS.403.1949K', 6.7886, 0.0005, u'2018yCat.1345....0G')\n",
      "(209, u'* alf Cha', u'124.631471620833', u'-76.9197212311111', u'HD  71243', u'GJ   305', u'HIP  40702', None, u'F5VFe-0.8', u'2006AJ....132..161G', 51.12, 0.12, u'2007A&A...474..653V', 4.047, 0.009000000000000001, u'2000A&A...355L..27H', 3.8856, 0.0053, u'2018yCat.1345....0G')\n",
      "(210, u'HD 216520', u'341.882818761701', u'83.697027580338', u'HD 216520', None, u'HIP 112527', None, u'K0V', u'2003AJ....126.2048G', 51.1167, 0.0292, u'2018yCat.1345....0G', 7.524, 0.01, u'2000A&A...355L..27H', 7.279, 0.0002, u'2018yCat.1345....0G')\n",
      "(211, u'HD 188474', u'299.154275553387', u'-31.3353177000478', u'HD 188474', u'GJ  1246', u'HIP  98130', None, u'K3.5Vk:', u'2006AJ....132..161G', 51.0671, 0.0976, u'2018yCat.1345....0G', 8.44, 0.01, u'2000A&A...355L..27H', 8.0659, 0.0004, u'2018yCat.1345....0G')\n",
      "(212, u'BD+82   733', u'355.241612804855', u'82.872040808799', None, None, None, None, u'K2', None, 51.0042, 0.1137, u'2018yCat.1345....0G', 8.35, 0.01, u'2000A&A...355L..27H', 8.0097, 0.0006, u'2018yCat.1345....0G')\n",
      "(213, u'HD  56533', u'108.279536635107', u'-63.3449481421887', u'HD  56533', u'GJ   268.2,GJ  9226', u'HIP  34890', None, u'K6Vk:', u'2006AJ....132..161G', 50.9662, 0.0306, u'2018yCat.1345....0G', 9.079, None, u'2010MNRAS.403.1949K', 8.5667, 0.0004, u'2018yCat.1345....0G')\n",
      "(214, u'CD-34   239', u'10.3769758749132', u'-33.6255645562669', None, u'GJ  1016', u'HIP   3261', None, u'K9V', u'2006AJ....132..161G', 50.9542, 0.0453, u'2018yCat.1345....0G', 10.525, None, u'2010MNRAS.403.1949K', 9.835, 0.0006, u'2018yCat.1345....0G')\n",
      "(215, u'G 188-49', u'333.630889607815', u'27.8551924988027', None, u'GJ   851.5', u'HIP 109812', None, u'K7.5Ve', u'2013AJ....145..102L', 50.9308, 0.0741, u'2018yCat.1345....0G', 10.314, 0.04, u'2012yCat.1322....0Z', 9.6556, 0.0004, u'2018yCat.1345....0G')\n",
      "(216, u'HD 192263', u'303.499356311778', u'-0.8668810181375', u'HD 192263', None, u'HIP  99711', u'WDS J20140-0052A', u'K1/2V', u'1999MSS...C05....0H', 50.8982, 0.0561, u'2018yCat.1345....0G', 7.767, None, u'2010MNRAS.403.1949K', 7.4956, 0.0006, u'2018yCat.1345....0G')\n",
      "(217, u'HD 157347', u'260.71369878972', u'-2.3881777294933', u'HD 157347', None, u'HIP  85042', None, u'G3V', u'2003AJ....126.2048G', 50.8591, 0.0544, u'2018yCat.1345....0G', 6.278, 0.01, u'2000A&A...355L..27H', 6.1037, 0.0005, u'2018yCat.1345....0G')\n",
      "(218, u'CD-38 13254', u'284.956041869919', u'-38.215640138091', None, None, None, None, u'G0', u'1955AnCap..18....0J', 50.7617, 0.8124, u'2018yCat.1345....0G', 10.27, 0.05, u'2000A&A...355L..27H', 10.1729, 0.001, u'2018yCat.1345....0G')\n",
      "(219, u'HD 136923', u'230.695141267123', u'18.9189608381123', u'HD 136923', None, u'HIP  75277', None, u'G9V', u'2010MNRAS.403.1949K', 50.6409, 0.0342, u'2018yCat.1345....0G', 7.122999999999999, None, u'2010MNRAS.403.1949K', 6.943, 0.0003, u'2018yCat.1345....0G')\n",
      "(220, u'HD 219764', u'349.772496265934', u'-60.520663463809', u'HD 219764', u'GJ  1283', u'HIP 115123', None, u'K5Vk:', u'2006AJ....132..161G', 50.5944, 0.0359, u'2018yCat.1345....0G', 8.93, None, None, 8.4784, 0.0003, u'2018yCat.1345....0G')\n",
      "(221, u'HD 189733', u'300.182137659537', u'22.7108532809064', u'HD 189733', u'GJ  4130', u'HIP  98505', None, u'K0V+M4V', u'2014A&A...565L...1P', 50.5685, 0.0323, u'2018yCat.1345....0G', 7.648, None, u'2010MNRAS.403.1949K', 7.4143, 0.0004, u'2018yCat.1345....0G')\n",
      "(222, u'HD 110810', u'191.310054742487', u'-57.3580010678286', u'HD 110810', None, u'HIP  62229', None, u'K4V', u'2006A&A...460..695T', 50.4855, 0.045, u'2018yCat.1345....0G', 7.843, None, u'2010MNRAS.403.1949K', 7.528, 0.0009, u'2018yCat.1345....0G')\n",
      "(223, u'G 130-9', u'356.456254447987', u'36.2550490639808', None, u'GJ   906', u'HIP 117197', None, u'K4V', u'1986AJ.....92..139S', 50.4494, 0.0522, u'2018yCat.1345....0G', 9.932, 0.01, u'2012yCat.1322....0Z', 9.3016, 0.0003, u'2018yCat.1345....0G')\n",
      "(224, u'BD+40  4631', u'326.124840391643', u'41.5974618233972', None, u'GJ  9752,GJ   836.8', u'HIP 107346', None, u'K8V', u'2003AJ....126.2048G', 50.4206, 0.0281, u'2018yCat.1345....0G', 9.674, 0.02, u'2012yCat.1322....0Z', 9.0389, 0.0004, u'2018yCat.1345....0G')\n",
      "(225, u'HD  97214', u'167.794587018658', u'-10.9508863569284', u'HD  97214', u'GJ   415', u'HIP  54651', None, u'K5V', u'2006AJ....132..161G', 50.333999999999996, 0.0478, u'2018yCat.1345....0G', 9.219, None, u'2010MNRAS.403.1949K', 8.7891, 0.0003, u'2018yCat.1345....0G')\n",
      "(226, u'HD 181321', u'290.373865717938', u'-34.9834323141701', u'HD 181321', u'GJ   755', u'HIP  95149', None, u'G2V', u'2006A&A...460..695T', 50.2864, 0.3959, u'2018yCat.1345....0G', 6.48, None, u'2002yCat.2237....0D', 6.3121, 0.0008, u'2018yCat.1345....0G')\n"
     ]
    }
   ],
   "source": [
    "c.execute('SELECT * FROM stars_FGK_nobinaries')\n",
    "rows = c.fetchall()\n",
    "print len(rows)\n",
    "print\n",
    "for row in rows:\n",
    "    print row"
   ]
  },
  {
   "cell_type": "markdown",
   "metadata": {},
   "source": [
    "## Add columns for R, I, J magnitudes"
   ]
  },
  {
   "cell_type": "code",
   "execution_count": 68,
   "metadata": {},
   "outputs": [
    {
     "name": "stdout",
     "output_type": "stream",
     "text": [
      "(954,)\n"
     ]
    }
   ],
   "source": [
    "cmd = '''\n",
    "SELECT COUNT(*)\n",
    "FROM stars_FGK_nobinaries\n",
    "'''\n",
    "c.execute(cmd)\n",
    "rows = c.fetchall()\n",
    "for row in rows:\n",
    "    print row"
   ]
  },
  {
   "cell_type": "code",
   "execution_count": 69,
   "metadata": {
    "collapsed": true
   },
   "outputs": [],
   "source": [
    "dat = pandas.read_csv('simbad_FGKM0to4_nobinaries_wRIJmags.csv')\n",
    "dat.to_sql('stars_RIJmags_temp', connection)"
   ]
  },
  {
   "cell_type": "code",
   "execution_count": 11,
   "metadata": {},
   "outputs": [
    {
     "data": {
      "text/plain": [
       "<sqlite3.Cursor at 0x1052f8c70>"
      ]
     },
     "execution_count": 11,
     "metadata": {},
     "output_type": "execute_result"
    }
   ],
   "source": [
    "cmd = '''\n",
    "ALTER TABLE stars_FGK_nobinaries ADD COLUMN r REAL;\n",
    "'''\n",
    "c.execute(cmd)\n",
    "cmd = '''\n",
    "ALTER TABLE stars_FGK_nobinaries ADD COLUMN r_err REAL;\n",
    "'''\n",
    "c.execute(cmd)\n",
    "cmd = '''\n",
    "ALTER TABLE stars_FGK_nobinaries ADD COLUMN r_bibcode TEXT;\n",
    "'''\n",
    "c.execute(cmd)\n",
    "cmd = '''\n",
    "ALTER TABLE stars_FGK_nobinaries ADD COLUMN I REAL;\n",
    "'''\n",
    "c.execute(cmd)\n",
    "cmd = '''\n",
    "ALTER TABLE stars_FGK_nobinaries ADD COLUMN I_err REAL;\n",
    "'''\n",
    "c.execute(cmd)\n",
    "cmd = '''\n",
    "ALTER TABLE stars_FGK_nobinaries ADD COLUMN I_bibcode TEXT;\n",
    "'''\n",
    "c.execute(cmd)"
   ]
  },
  {
   "cell_type": "code",
   "execution_count": 70,
   "metadata": {},
   "outputs": [
    {
     "data": {
      "text/plain": [
       "<sqlite3.Cursor at 0x105823030>"
      ]
     },
     "execution_count": 70,
     "metadata": {},
     "output_type": "execute_result"
    }
   ],
   "source": [
    "cmd = '''\n",
    "ALTER TABLE stars_FGK_nobinaries ADD COLUMN J REAL;\n",
    "'''\n",
    "c.execute(cmd)\n",
    "cmd = '''\n",
    "ALTER TABLE stars_FGK_nobinaries ADD COLUMN J_err REAL;\n",
    "'''\n",
    "c.execute(cmd)\n",
    "cmd = '''\n",
    "ALTER TABLE stars_FGK_nobinaries ADD COLUMN J_bibcode TEXT;\n",
    "'''\n",
    "c.execute(cmd)"
   ]
  },
  {
   "cell_type": "code",
   "execution_count": 71,
   "metadata": {},
   "outputs": [
    {
     "name": "stdout",
     "output_type": "stream",
     "text": [
      "(None,)\n",
      "(None,)\n",
      "(None,)\n",
      "(None,)\n",
      "(None,)\n",
      "(None,)\n",
      "(None,)\n",
      "(None,)\n",
      "(None,)\n",
      "(None,)\n"
     ]
    }
   ],
   "source": [
    "cmd = '''\n",
    "SELECT J FROM stars_FGK_nobinaries\n",
    "LIMIT 10\n",
    "'''\n",
    "c.execute(cmd)\n",
    "rows = c.fetchall()\n",
    "for row in rows:\n",
    "    print row"
   ]
  },
  {
   "cell_type": "code",
   "execution_count": 73,
   "metadata": {
    "collapsed": true
   },
   "outputs": [],
   "source": [
    "cmd = ''' \n",
    "UPDATE stars_FGK_nobinaries\n",
    "SET\n",
    "    r = (SELECT r FROM stars_RIJmags_temp WHERE stars_FGK_nobinaries.main_id = stars_RIJmags_temp.main_id),\n",
    "    r_err = (SELECT r_err FROM stars_RIJmags_temp WHERE stars_FGK_nobinaries.main_id = stars_RIJmags_temp.main_id),\n",
    "    r_bibcode = (SELECT r_bibcode FROM stars_RIJmags_temp WHERE stars_FGK_nobinaries.main_id = stars_RIJmags_temp.main_id),\n",
    "    I = (SELECT I FROM stars_RIJmags_temp WHERE stars_FGK_nobinaries.main_id = stars_RIJmags_temp.main_id),\n",
    "    I_err = (SELECT I_err FROM stars_RIJmags_temp WHERE stars_FGK_nobinaries.main_id = stars_RIJmags_temp.main_id),\n",
    "    I_bibcode = (SELECT I_bibcode FROM stars_RIJmags_temp WHERE stars_FGK_nobinaries.main_id = stars_RIJmags_temp.main_id),\n",
    "    J = (SELECT J FROM stars_RIJmags_temp WHERE stars_FGK_nobinaries.main_id = stars_RIJmags_temp.main_id),\n",
    "    J_err = (SELECT J_err FROM stars_RIJmags_temp WHERE stars_FGK_nobinaries.main_id = stars_RIJmags_temp.main_id),\n",
    "    J_bibcode = (SELECT J_bibcode FROM stars_RIJmags_temp WHERE stars_FGK_nobinaries.main_id = stars_RIJmags_temp.main_id)\n",
    "'''\n",
    "\n",
    "c.execute(cmd)\n",
    "\n",
    "rows = c.fetchall()\n",
    "for row in rows:\n",
    "    print row"
   ]
  },
  {
   "cell_type": "markdown",
   "metadata": {},
   "source": [
    "Check new columns:"
   ]
  },
  {
   "cell_type": "code",
   "execution_count": 75,
   "metadata": {},
   "outputs": [
    {
     "name": "stdout",
     "output_type": "stream",
     "text": [
      "(u'* eps Eri', 3.0, None, u'2002yCat.2237....0D', 2.23)\n",
      "(u'* tau Cet', 2.88, None, u'2002yCat.2237....0D', 2.14)\n",
      "(u'* e Eri', 3.65, None, u'2002yCat.2237....0D', 2.99)\n",
      "(u'* del Pav', 2.95, None, u'2002yCat.2237....0D', 2.45)\n",
      "(u'HD 219134', 4.76, None, u'2002yCat.2237....0D', 3.86)\n",
      "(u'* bet Hyi', 2.28, None, u'2002yCat.2237....0D', 1.72)\n",
      "(u'HD 157881', 6.649, None, u'2010MNRAS.403.1949K', 4.934)\n",
      "(u'HD 217357', 7.013999999999999, None, u'2010MNRAS.403.1949K', 5.346)\n",
      "(u'*  61 Vir', None, None, None, 3.3339999999999996)\n",
      "(u'* zet Tuc', 3.73, None, u'2002yCat.2237....0D', 3.19)\n"
     ]
    }
   ],
   "source": [
    "cmd = '''\n",
    "SELECT main_id,r,r_err,r_bibcode, J FROM stars_FGK_nobinaries\n",
    "LIMIT 10\n",
    "'''\n",
    "c.execute(cmd)\n",
    "rows = c.fetchall()\n",
    "for row in rows:\n",
    "    print row"
   ]
  },
  {
   "cell_type": "code",
   "execution_count": 76,
   "metadata": {},
   "outputs": [
    {
     "data": {
      "text/plain": [
       "<sqlite3.Cursor at 0x105823030>"
      ]
     },
     "execution_count": 76,
     "metadata": {},
     "output_type": "execute_result"
    }
   ],
   "source": [
    "cmd = '''\n",
    "DROP TABLE stars_RIJmags_temp\n",
    "'''\n",
    "c.execute(cmd)"
   ]
  },
  {
   "cell_type": "markdown",
   "metadata": {},
   "source": [
    "## Close connection when done"
   ]
  },
  {
   "cell_type": "code",
   "execution_count": 77,
   "metadata": {
    "collapsed": true
   },
   "outputs": [],
   "source": [
    "connection.commit()"
   ]
  },
  {
   "cell_type": "code",
   "execution_count": 78,
   "metadata": {
    "collapsed": true
   },
   "outputs": [],
   "source": [
    "connection.close()"
   ]
  },
  {
   "cell_type": "code",
   "execution_count": null,
   "metadata": {
    "collapsed": true
   },
   "outputs": [],
   "source": []
  }
 ],
 "metadata": {
  "kernelspec": {
   "display_name": "Python 2",
   "language": "python",
   "name": "python2"
  },
  "language_info": {
   "codemirror_mode": {
    "name": "ipython",
    "version": 2
   },
   "file_extension": ".py",
   "mimetype": "text/x-python",
   "name": "python",
   "nbconvert_exporter": "python",
   "pygments_lexer": "ipython2",
   "version": "2.7.13"
  }
 },
 "nbformat": 4,
 "nbformat_minor": 2
}
