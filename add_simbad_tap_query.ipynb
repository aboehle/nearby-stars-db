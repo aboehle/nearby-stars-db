{
 "cells": [
  {
   "cell_type": "code",
   "execution_count": 2,
   "metadata": {
    "collapsed": true
   },
   "outputs": [],
   "source": [
    "import pandas\n",
    "import sqlite3\n",
    "import numpy as np"
   ]
  },
  {
   "cell_type": "code",
   "execution_count": 3,
   "metadata": {
    "collapsed": true
   },
   "outputs": [],
   "source": [
    "connection = sqlite3.connect('nearby_stars.db')\n",
    "c = connection.cursor()"
   ]
  },
  {
   "cell_type": "markdown",
   "metadata": {},
   "source": [
    "## Simbad TAP query information"
   ]
  },
  {
   "cell_type": "markdown",
   "metadata": {},
   "source": [
    "The <code>simbad_FGK_nobinaries.csv</code> file was created using the ADQL query in the next cell through the Simbad TAP (Table Access Protocol\") service. I used TOPCAT to query Simbad and then saved the resulting table as a .csv file, but the TAP service can also be accessed here: https://simbad.u-strasbg.fr/simbad/sim-tap\n",
    "\n",
    "Information on available Simbad tables is here: http://simbad.u-strasbg.fr/simbad/tap/tapsearch.html"
   ]
  },
  {
   "cell_type": "markdown",
   "metadata": {},
   "source": [
    "**Simbad TAP query**\n",
    "<code>\n",
    "SELECT sub.main_id, sub.ra, sub.dec,  sub_hd.id as hd, sub_gj.id as gj, sub_wds.id as wds, sub.sp_type, sub.sp_bibcode, \n",
    "sub.plx_value as plx_value, sub.plx_err, sub.plx_bibcode, \n",
    "sub_v.flux as V, sub_v.flux_err as V_err, sub_v.bibcode as V_bibcode, sub_g.flux as G, sub_g.flux_err as G_err, sub_g.bibcode as G_bibcode\n",
    "FROM (\n",
    "SELECT basic.main_id, basic.oid, basic.ra, basic.dec, (alltypes.otypes || '|' || otypedef.otype_shortname) AS otypes_all, basic.sp_type, basic.sp_bibcode, \n",
    "basic.plx_value, basic.plx_err, basic.plx_bibcode, allfluxes.V, allfluxes.G\n",
    "FROM alltypes\n",
    "    INNER JOIN basic ON basic.oid = alltypes.oidref\n",
    "    LEFT OUTER JOIN otypedef ON basic.otype = otypedef.otype\n",
    "    LEFT OUTER JOIN h_link ON h_link.parent = alltypes.oidref\n",
    "    LEFT OUTER JOIN basic AS basic_child ON h_link.child = basic_child.oid\n",
    "    LEFT OUTER JOIN alltypes AS alltypes_child ON h_link.child = alltypes_child.oidref\n",
    "    LEFT OUTER JOIN allfluxes ON allfluxes.oidref = basic.oid\n",
    "WHERE basic.plx_value > 0\n",
    "AND 1/(basic.plx_value\\*1e-3) &#60; 20\n",
    "AND (basic.sp_type LIKE 'F%' OR basic.sp_type LIKE 'G%' OR basic.sp_type LIKE 'K%')\n",
    "AND ((basic.sp_type NOT LIKE '%II%') \n",
    "    OR (basic.sp_type NOT LIKE '%I%' AND basic.sp_type NOT LIKE '%V%'))\n",
    "AND ((alltypes.otypes || '|' || otypedef.otype_shortname LIKE '%\\*\\*%' \n",
    "    AND alltypes.otypes || '|' || otypedef.otype_shortname NOT LIKE '%SB%' \n",
    "    AND alltypes_child.otypes LIKE '%Pl%') \n",
    "    OR (alltypes.otypes || '|' || otypedef.otype_shortname NOT LIKE '%\\*\\*%' \n",
    "    AND alltypes.otypes || '|' || otypedef.otype_shortname NOT LIKE '%SB\\*%' \n",
    "    AND alltypes.otypes || '|' || otypedef.otype_shortname NOT LIKE '%EB\\*%'))\n",
    "AND (basic.main_id NOT LIKE '% A' AND basic.main_id NOT LIKE '% B' AND basic.main_id NOT LIKE '% C' AND basic.main_id NOT LIKE '% D')\n",
    "GROUP BY basic.main_id,basic.oid, basic.ra, basic.dec, otypes_all, basic.sp_type, basic.plx_value, basic.plx_err, allfluxes.V, allfluxes.G\n",
    ") AS sub\n",
    "LEFT OUTER JOIN (\n",
    "    SELECT basic.oid, STRING_AGG(ident.id,',') as id\n",
    "    FROM basic\n",
    "        INNER JOIN ident ON basic.oid = ident.oidref\n",
    "    WHERE (ident.id LIKE 'WDS%')\n",
    "    AND ident.id NOT LIKE '%.0'\n",
    "    GROUP BY basic.oid\n",
    "    ) AS sub_wds ON sub.oid = sub_wds.oid\n",
    "LEFT OUTER JOIN (\n",
    "    SELECT basic.oid, STRING_AGG(ident.id,',') as id\n",
    "    FROM basic\n",
    "        INNER JOIN ident ON basic.oid = ident.oidref\n",
    "    WHERE (ident.id LIKE 'HD%')\n",
    "    AND ident.id NOT LIKE '%.0'\n",
    "    GROUP BY basic.oid\n",
    "    ) AS sub_hd ON sub.oid = sub_hd.oid\n",
    "LEFT OUTER JOIN (\n",
    "    SELECT basic.oid, STRING_AGG(ident.id,',') as id\n",
    "    FROM basic\n",
    "        INNER JOIN ident ON basic.oid = ident.oidref\n",
    "    WHERE (ident.id LIKE 'GJ%')\n",
    "    AND ident.id NOT LIKE '%.0'\n",
    "    GROUP BY basic.oid\n",
    "    ) AS sub_gj ON sub.oid = sub_gj.oid\n",
    "LEFT OUTER JOIN (\n",
    "    SELECT basic.oid, flux.filter, flux.flux, flux.flux_err, flux.bibcode\n",
    "    FROM basic INNER JOIN flux ON flux.oidref = basic.oid \n",
    "    WHERE flux.filter = 'V') AS sub_v ON sub.oid = sub_v.oid\n",
    "LEFT OUTER JOIN (\n",
    "    SELECT basic.oid, flux.filter, flux.flux, flux.flux_err, flux.bibcode\n",
    "    FROM basic INNER JOIN flux ON flux.oidref = basic.oid \n",
    "    WHERE flux.filter = 'G') AS sub_g ON sub.oid = sub_g.oid\n",
    "GROUP BY sub.main_id, sub.ra, sub.dec,  hd, gj, wds, sub.sp_type, sub.sp_bibcode, \n",
    "plx_value, sub.plx_err, sub.plx_bibcode,\n",
    " V, V_err, V_bibcode, G, G_err, G_bibcode\n",
    "HAVING ((sub_hd.id NOT LIKE '%A%' AND sub_hd.id NOT LIKE '%B%') OR sub_hd.id IS NULL)\n",
    "    AND ((sub_gj.id NOT LIKE '%A%' AND sub_gj.id NOT LIKE '%B%') OR sub_gj.id IS NULL)\n",
    "ORDER BY plx_value DESC\n",
    "</code>"
   ]
  },
  {
   "cell_type": "markdown",
   "metadata": {},
   "source": [
    "## Add TAP query saved in .csv file to database"
   ]
  },
  {
   "cell_type": "code",
   "execution_count": 3,
   "metadata": {
    "collapsed": true
   },
   "outputs": [],
   "source": [
    "dat = pandas.read_csv('simbad_FGK_nobinaries.csv')"
   ]
  },
  {
   "cell_type": "code",
   "execution_count": 5,
   "metadata": {
    "collapsed": true
   },
   "outputs": [],
   "source": [
    "#c.execute('DROP TABLE IF EXISTS stars_FGK_nobinaries')"
   ]
  },
  {
   "cell_type": "code",
   "execution_count": 6,
   "metadata": {
    "collapsed": true
   },
   "outputs": [],
   "source": [
    "dat.to_sql('stars_FGK_nobinaries', connection, index_label='sid')"
   ]
  },
  {
   "cell_type": "code",
   "execution_count": 11,
   "metadata": {
    "collapsed": true
   },
   "outputs": [],
   "source": [
    "connection.commit()"
   ]
  },
  {
   "cell_type": "markdown",
   "metadata": {},
   "source": [
    "## Make sid (\"star id\") column a Primary Key"
   ]
  },
  {
   "cell_type": "markdown",
   "metadata": {},
   "source": [
    "Create a temporary backup table."
   ]
  },
  {
   "cell_type": "code",
   "execution_count": 4,
   "metadata": {},
   "outputs": [
    {
     "data": {
      "text/plain": [
       "<sqlite3.Cursor at 0x10becbce0>"
      ]
     },
     "execution_count": 4,
     "metadata": {},
     "output_type": "execute_result"
    }
   ],
   "source": [
    "cmd = '''\n",
    "CREATE TEMPORARY TABLE IF NOT EXISTS stars_backup(sid, main_id, ra, dec, hd, gj, wds, sp_type, \n",
    "sp_bibcode, plx_value, plx_err, plx_bibcode, v, v_err,\n",
    "       v_bibcode, g, g_err, g_bibcode);\n",
    "'''\n",
    "\n",
    "c.execute(cmd)"
   ]
  },
  {
   "cell_type": "code",
   "execution_count": 5,
   "metadata": {},
   "outputs": [
    {
     "data": {
      "text/plain": [
       "<sqlite3.Cursor at 0x10becbce0>"
      ]
     },
     "execution_count": 5,
     "metadata": {},
     "output_type": "execute_result"
    }
   ],
   "source": [
    "cmd = '''\n",
    "INSERT INTO stars_backup SELECT * FROM stars_FGK_nobinaries;\n",
    "'''\n",
    "\n",
    "c.execute(cmd)"
   ]
  },
  {
   "cell_type": "code",
   "execution_count": 6,
   "metadata": {},
   "outputs": [
    {
     "data": {
      "text/plain": [
       "<sqlite3.Cursor at 0x10becbce0>"
      ]
     },
     "execution_count": 6,
     "metadata": {},
     "output_type": "execute_result"
    }
   ],
   "source": [
    "cmd = '''\n",
    "DROP TABLE stars_FGK_nobinaries\n",
    "'''\n",
    "c.execute(cmd)"
   ]
  },
  {
   "cell_type": "code",
   "execution_count": 7,
   "metadata": {},
   "outputs": [
    {
     "data": {
      "text/plain": [
       "<sqlite3.Cursor at 0x10becbce0>"
      ]
     },
     "execution_count": 7,
     "metadata": {},
     "output_type": "execute_result"
    }
   ],
   "source": [
    "cmd = '''\n",
    "CREATE TABLE stars_FGK_nobinaries (\n",
    "sid INTEGER PRIMARY KEY AUTOINCREMENT,\n",
    "main_id TEXT,\n",
    "ra TEXT,\n",
    "dec TEXT,\n",
    "hd TEXT,\n",
    "gj TEXT,\n",
    "wds TEXT,\n",
    "sp_type TEXT,\n",
    "sp_bibcode TEXT,\n",
    "plx_value REAL,\n",
    "plx_err REAL,\n",
    "plx_bibcode TEXT,\n",
    "v REAL,\n",
    "v_err REAL,\n",
    "v_bibcode TEXT,\n",
    "G REAL,\n",
    "G_err REAL,\n",
    "G_bibcode TEXT\n",
    ")\n",
    "'''\n",
    "c.execute(cmd)"
   ]
  },
  {
   "cell_type": "code",
   "execution_count": 8,
   "metadata": {},
   "outputs": [
    {
     "data": {
      "text/plain": [
       "<sqlite3.Cursor at 0x10becbce0>"
      ]
     },
     "execution_count": 8,
     "metadata": {},
     "output_type": "execute_result"
    }
   ],
   "source": [
    "cmd = '''\n",
    "INSERT INTO stars_FGK_nobinaries SELECT * FROM stars_backup\n",
    "'''\n",
    "c.execute(cmd)"
   ]
  },
  {
   "cell_type": "code",
   "execution_count": 10,
   "metadata": {},
   "outputs": [],
   "source": [
    "connection.commit()"
   ]
  },
  {
   "cell_type": "code",
   "execution_count": 13,
   "metadata": {},
   "outputs": [
    {
     "data": {
      "text/plain": [
       "[(u'sqlite_sequence',),\n",
       " (u'stars_simbad',),\n",
       " (u'ages',),\n",
       " (u'stars_FGK_nobinaries',)]"
      ]
     },
     "execution_count": 13,
     "metadata": {},
     "output_type": "execute_result"
    }
   ],
   "source": [
    "c.execute(\"SELECT name FROM sqlite_master WHERE type='table';\")\n",
    "c.fetchall()"
   ]
  },
  {
   "cell_type": "markdown",
   "metadata": {},
   "source": [
    "## Look at the new table"
   ]
  },
  {
   "cell_type": "code",
   "execution_count": 11,
   "metadata": {},
   "outputs": [
    {
     "data": {
      "text/plain": [
       "[(0, u'sid', u'INTEGER', 0, None, 1),\n",
       " (1, u'main_id', u'TEXT', 0, None, 0),\n",
       " (2, u'ra', u'TEXT', 0, None, 0),\n",
       " (3, u'dec', u'TEXT', 0, None, 0),\n",
       " (4, u'hd', u'TEXT', 0, None, 0),\n",
       " (5, u'gj', u'TEXT', 0, None, 0),\n",
       " (6, u'wds', u'TEXT', 0, None, 0),\n",
       " (7, u'sp_type', u'TEXT', 0, None, 0),\n",
       " (8, u'sp_bibcode', u'TEXT', 0, None, 0),\n",
       " (9, u'plx_value', u'REAL', 0, None, 0),\n",
       " (10, u'plx_err', u'REAL', 0, None, 0),\n",
       " (11, u'plx_bibcode', u'TEXT', 0, None, 0),\n",
       " (12, u'v', u'REAL', 0, None, 0),\n",
       " (13, u'v_err', u'REAL', 0, None, 0),\n",
       " (14, u'v_bibcode', u'TEXT', 0, None, 0),\n",
       " (15, u'G', u'REAL', 0, None, 0),\n",
       " (16, u'G_err', u'REAL', 0, None, 0),\n",
       " (17, u'G_bibcode', u'TEXT', 0, None, 0)]"
      ]
     },
     "execution_count": 11,
     "metadata": {},
     "output_type": "execute_result"
    }
   ],
   "source": [
    "c.execute('PRAGMA table_info(stars_FGK_nobinaries);')\n",
    "c.fetchall()"
   ]
  },
  {
   "cell_type": "code",
   "execution_count": 17,
   "metadata": {},
   "outputs": [
    {
     "name": "stdout",
     "output_type": "stream",
     "text": [
      "227\n",
      "\n",
      "(0, u'* eps Eri', 53.2326873475, -9.458258656944443, u'HD  22049', u'GJ   144', u'WDS J03329-0927A,WDS J03329-0927Aa,Ab', u'K2V', u'1989ApJS...71..245K', 310.94, 0.16, u'2007A&A...474..653V', 3.73, None, u'2002yCat.2237....0D', 3.3691, 0.004, u'2018yCat.1345....0G')\n",
      "(1, u'* tau Cet', 26.01701426083333, -15.937479597777779, u'HD  10700', u'GJ    71', u'WDS J01441-1556A', u'G8V', u'1989ApJS...71..245K', 273.96, 0.17, u'2007A&A...474..653V', 3.5, None, u'2002yCat.2237....0D', 3.1336, 0.0075, u'2018yCat.1345....0G')\n",
      "(2, u'* e Eri', 49.98187889666666, -43.06978263750001, u'HD  20794', u'GJ   139', None, u'G6V', u'1989ApJS...71..245K', 165.47, 0.19, u'2007A&A...474..653V', 4.27, None, u'2002yCat.2237....0D', 3.9814, 0.0037, u'2018yCat.1345....0G')\n",
      "(3, u'* del Pav', 302.18170612375, -66.1820675763889, u'HD 190248', u'GJ   780', None, u'G8IV', u'2006AJ....132..161G', 163.71, 0.17, u'2007A&A...474..653V', 3.56, None, u'2002yCat.2237....0D', 3.2664, 0.0025, u'2018yCat.1345....0G')\n",
      "(4, u'HD 219134', 348.32072825875497, 57.168354589164714, u'HD 219134', u'GJ   892', u'WDS J23133+5710A', u'K3V', u'1989ApJS...71..245K', 153.0808, 0.0895, u'2018yCat.1345....0G', 5.57, 0.009000000000000001, u'1993A&AS..100..591O', 5.2079, 0.0016, u'2018yCat.1345....0G')\n",
      "(5, u'* bet Hyi', 6.43779315502228, -77.25424611998605, u'HD   2151', u'GJ    19', None, u'G0V', u'2006AJ....132..161G', 134.07, 0.11, u'2007A&A...474..653V', 2.79, None, u'2002yCat.2237....0D', 2.5271, 0.0062, u'2018yCat.1345....0G')\n",
      "(6, u'HD 157881', 261.4384679348621, 2.1114232411388, u'HD 157881', u'GJ   673', None, u'K7V', u'2002AJ....123.2002H', 129.6231, 0.0286, u'2018yCat.1345....0G', 7.56, 0.05, u'2009ApJ...694.1085V', 6.9265, 0.0004, u'2018yCat.1345....0G')\n",
      "(7, u'HD 217357', 345.0671769879931, -22.5243476190278, u'HD 217357', u'GJ   884', None, u'K7+Vk', u'2006AJ....132..161G', 121.4918, 0.0507, u'2018yCat.1345....0G', 7.869, None, u'2010MNRAS.403.1949K', 7.2521, 0.0006, u'2018yCat.1345....0G')\n",
      "(8, u'*  61 Vir', 199.60130948166668, -18.311195735555557, u'HD 115617', u'GJ   506', u'WDS J13184-1819A', u'G6.5V', u'1989ApJS...71..245K', 116.89, 0.22, u'2007A&A...474..653V', 4.74, 0.009000000000000001, u'1993A&AS..100..591O', 4.4772, 0.004, u'2018yCat.1345....0G')\n",
      "(9, u'* zet Tuc', 5.017749880416666, -64.87479298888888, u'HD   1581', u'GJ    17', None, u'F9.5V', u'2006AJ....132..161G', 116.46, 0.16, u'2007A&A...474..653V', 4.23, None, u'2002yCat.2237....0D', 3.9872, 0.0081, u'2018yCat.1345....0G')\n"
     ]
    }
   ],
   "source": [
    "c.execute('SELECT * FROM stars_FGK_nobinaries')\n",
    "rows = c.fetchall()\n",
    "print len(rows)\n",
    "print\n",
    "for row in rows[0:10]:\n",
    "    print row"
   ]
  },
  {
   "cell_type": "markdown",
   "metadata": {},
   "source": [
    "## Close connection when done"
   ]
  },
  {
   "cell_type": "code",
   "execution_count": 14,
   "metadata": {
    "collapsed": true
   },
   "outputs": [],
   "source": [
    "connection.close()"
   ]
  },
  {
   "cell_type": "code",
   "execution_count": null,
   "metadata": {
    "collapsed": true
   },
   "outputs": [],
   "source": []
  }
 ],
 "metadata": {
  "kernelspec": {
   "display_name": "Python 2",
   "language": "python",
   "name": "python2"
  },
  "language_info": {
   "codemirror_mode": {
    "name": "ipython",
    "version": 2
   },
   "file_extension": ".py",
   "mimetype": "text/x-python",
   "name": "python",
   "nbconvert_exporter": "python",
   "pygments_lexer": "ipython2",
   "version": "2.7.13"
  }
 },
 "nbformat": 4,
 "nbformat_minor": 2
}
