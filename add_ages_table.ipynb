{
 "cells": [
  {
   "cell_type": "code",
   "execution_count": 1,
   "metadata": {
    "collapsed": true
   },
   "outputs": [],
   "source": [
    "import pandas\n",
    "import sqlite3"
   ]
  },
  {
   "cell_type": "code",
   "execution_count": 2,
   "metadata": {
    "collapsed": true
   },
   "outputs": [],
   "source": [
    "connection = sqlite3.connect('nearby_stars.db')\n",
    "c = connection.cursor()"
   ]
  },
  {
   "cell_type": "markdown",
   "metadata": {},
   "source": [
    "## Add full MH08 age table to database"
   ]
  },
  {
   "cell_type": "code",
   "execution_count": 3,
   "metadata": {},
   "outputs": [
    {
     "ename": "ValueError",
     "evalue": "Table 'mh08_agetable' already exists.",
     "output_type": "error",
     "traceback": [
      "\u001b[0;31m---------------------------------------------------------------------------\u001b[0m",
      "\u001b[0;31mValueError\u001b[0m                                Traceback (most recent call last)",
      "\u001b[0;32m<ipython-input-3-df0f1241ac8a>\u001b[0m in \u001b[0;36m<module>\u001b[0;34m()\u001b[0m\n\u001b[1;32m      1\u001b[0m \u001b[0mage_tab\u001b[0m \u001b[0;34m=\u001b[0m \u001b[0mpandas\u001b[0m\u001b[0;34m.\u001b[0m\u001b[0mread_csv\u001b[0m\u001b[0;34m(\u001b[0m\u001b[0;34m'mh08_agetable.csv'\u001b[0m\u001b[0;34m)\u001b[0m\u001b[0;34m\u001b[0m\u001b[0m\n\u001b[0;32m----> 2\u001b[0;31m \u001b[0mage_tab\u001b[0m\u001b[0;34m.\u001b[0m\u001b[0mto_sql\u001b[0m\u001b[0;34m(\u001b[0m\u001b[0;34m'mh08_agetable'\u001b[0m\u001b[0;34m,\u001b[0m \u001b[0mconnection\u001b[0m\u001b[0;34m)\u001b[0m\u001b[0;34m\u001b[0m\u001b[0m\n\u001b[0m",
      "\u001b[0;32m/Users/annaboehle/anaconda2/lib/python2.7/site-packages/pandas/core/generic.pyc\u001b[0m in \u001b[0;36mto_sql\u001b[0;34m(self, name, con, flavor, schema, if_exists, index, index_label, chunksize, dtype)\u001b[0m\n\u001b[1;32m   1360\u001b[0m         sql.to_sql(self, name, con, flavor=flavor, schema=schema,\n\u001b[1;32m   1361\u001b[0m                    \u001b[0mif_exists\u001b[0m\u001b[0;34m=\u001b[0m\u001b[0mif_exists\u001b[0m\u001b[0;34m,\u001b[0m \u001b[0mindex\u001b[0m\u001b[0;34m=\u001b[0m\u001b[0mindex\u001b[0m\u001b[0;34m,\u001b[0m \u001b[0mindex_label\u001b[0m\u001b[0;34m=\u001b[0m\u001b[0mindex_label\u001b[0m\u001b[0;34m,\u001b[0m\u001b[0;34m\u001b[0m\u001b[0m\n\u001b[0;32m-> 1362\u001b[0;31m                    chunksize=chunksize, dtype=dtype)\n\u001b[0m\u001b[1;32m   1363\u001b[0m \u001b[0;34m\u001b[0m\u001b[0m\n\u001b[1;32m   1364\u001b[0m     \u001b[0;32mdef\u001b[0m \u001b[0mto_pickle\u001b[0m\u001b[0;34m(\u001b[0m\u001b[0mself\u001b[0m\u001b[0;34m,\u001b[0m \u001b[0mpath\u001b[0m\u001b[0;34m,\u001b[0m \u001b[0mcompression\u001b[0m\u001b[0;34m=\u001b[0m\u001b[0;34m'infer'\u001b[0m\u001b[0;34m)\u001b[0m\u001b[0;34m:\u001b[0m\u001b[0;34m\u001b[0m\u001b[0m\n",
      "\u001b[0;32m/Users/annaboehle/anaconda2/lib/python2.7/site-packages/pandas/io/sql.pyc\u001b[0m in \u001b[0;36mto_sql\u001b[0;34m(frame, name, con, flavor, schema, if_exists, index, index_label, chunksize, dtype)\u001b[0m\n\u001b[1;32m    469\u001b[0m     pandas_sql.to_sql(frame, name, if_exists=if_exists, index=index,\n\u001b[1;32m    470\u001b[0m                       \u001b[0mindex_label\u001b[0m\u001b[0;34m=\u001b[0m\u001b[0mindex_label\u001b[0m\u001b[0;34m,\u001b[0m \u001b[0mschema\u001b[0m\u001b[0;34m=\u001b[0m\u001b[0mschema\u001b[0m\u001b[0;34m,\u001b[0m\u001b[0;34m\u001b[0m\u001b[0m\n\u001b[0;32m--> 471\u001b[0;31m                       chunksize=chunksize, dtype=dtype)\n\u001b[0m\u001b[1;32m    472\u001b[0m \u001b[0;34m\u001b[0m\u001b[0m\n\u001b[1;32m    473\u001b[0m \u001b[0;34m\u001b[0m\u001b[0m\n",
      "\u001b[0;32m/Users/annaboehle/anaconda2/lib/python2.7/site-packages/pandas/io/sql.pyc\u001b[0m in \u001b[0;36mto_sql\u001b[0;34m(self, frame, name, if_exists, index, index_label, schema, chunksize, dtype)\u001b[0m\n\u001b[1;32m   1503\u001b[0m                             \u001b[0mif_exists\u001b[0m\u001b[0;34m=\u001b[0m\u001b[0mif_exists\u001b[0m\u001b[0;34m,\u001b[0m \u001b[0mindex_label\u001b[0m\u001b[0;34m=\u001b[0m\u001b[0mindex_label\u001b[0m\u001b[0;34m,\u001b[0m\u001b[0;34m\u001b[0m\u001b[0m\n\u001b[1;32m   1504\u001b[0m                             dtype=dtype)\n\u001b[0;32m-> 1505\u001b[0;31m         \u001b[0mtable\u001b[0m\u001b[0;34m.\u001b[0m\u001b[0mcreate\u001b[0m\u001b[0;34m(\u001b[0m\u001b[0;34m)\u001b[0m\u001b[0;34m\u001b[0m\u001b[0m\n\u001b[0m\u001b[1;32m   1506\u001b[0m         \u001b[0mtable\u001b[0m\u001b[0;34m.\u001b[0m\u001b[0minsert\u001b[0m\u001b[0;34m(\u001b[0m\u001b[0mchunksize\u001b[0m\u001b[0;34m)\u001b[0m\u001b[0;34m\u001b[0m\u001b[0m\n\u001b[1;32m   1507\u001b[0m \u001b[0;34m\u001b[0m\u001b[0m\n",
      "\u001b[0;32m/Users/annaboehle/anaconda2/lib/python2.7/site-packages/pandas/io/sql.pyc\u001b[0m in \u001b[0;36mcreate\u001b[0;34m(self)\u001b[0m\n\u001b[1;32m    586\u001b[0m         \u001b[0;32mif\u001b[0m \u001b[0mself\u001b[0m\u001b[0;34m.\u001b[0m\u001b[0mexists\u001b[0m\u001b[0;34m(\u001b[0m\u001b[0;34m)\u001b[0m\u001b[0;34m:\u001b[0m\u001b[0;34m\u001b[0m\u001b[0m\n\u001b[1;32m    587\u001b[0m             \u001b[0;32mif\u001b[0m \u001b[0mself\u001b[0m\u001b[0;34m.\u001b[0m\u001b[0mif_exists\u001b[0m \u001b[0;34m==\u001b[0m \u001b[0;34m'fail'\u001b[0m\u001b[0;34m:\u001b[0m\u001b[0;34m\u001b[0m\u001b[0m\n\u001b[0;32m--> 588\u001b[0;31m                 \u001b[0;32mraise\u001b[0m \u001b[0mValueError\u001b[0m\u001b[0;34m(\u001b[0m\u001b[0;34m\"Table '%s' already exists.\"\u001b[0m \u001b[0;34m%\u001b[0m \u001b[0mself\u001b[0m\u001b[0;34m.\u001b[0m\u001b[0mname\u001b[0m\u001b[0;34m)\u001b[0m\u001b[0;34m\u001b[0m\u001b[0m\n\u001b[0m\u001b[1;32m    589\u001b[0m             \u001b[0;32melif\u001b[0m \u001b[0mself\u001b[0m\u001b[0;34m.\u001b[0m\u001b[0mif_exists\u001b[0m \u001b[0;34m==\u001b[0m \u001b[0;34m'replace'\u001b[0m\u001b[0;34m:\u001b[0m\u001b[0;34m\u001b[0m\u001b[0m\n\u001b[1;32m    590\u001b[0m                 \u001b[0mself\u001b[0m\u001b[0;34m.\u001b[0m\u001b[0mpd_sql\u001b[0m\u001b[0;34m.\u001b[0m\u001b[0mdrop_table\u001b[0m\u001b[0;34m(\u001b[0m\u001b[0mself\u001b[0m\u001b[0;34m.\u001b[0m\u001b[0mname\u001b[0m\u001b[0;34m,\u001b[0m \u001b[0mself\u001b[0m\u001b[0;34m.\u001b[0m\u001b[0mschema\u001b[0m\u001b[0;34m)\u001b[0m\u001b[0;34m\u001b[0m\u001b[0m\n",
      "\u001b[0;31mValueError\u001b[0m: Table 'mh08_agetable' already exists."
     ]
    }
   ],
   "source": [
    "age_tab = pandas.read_csv('mh08_agetable.csv')\n",
    "age_tab.to_sql('mh08_agetable', connection)"
   ]
  },
  {
   "cell_type": "code",
   "execution_count": 4,
   "metadata": {},
   "outputs": [
    {
     "data": {
      "text/plain": [
       "[(0, u'index', u'INTEGER', 0, None, 0),\n",
       " (1, u'HD', u'INTEGER', 0, None, 0),\n",
       " (2, u'GJ', u'TEXT', 0, None, 0),\n",
       " (3, u'OName', u'TEXT', 0, None, 0),\n",
       " (4, u'l_tau1', u'TEXT', 0, None, 0),\n",
       " (5, u'tau1', u'REAL', 0, None, 0),\n",
       " (6, u'l_tau2', u'TEXT', 0, None, 0),\n",
       " (7, u'tau2', u'REAL', 0, None, 0)]"
      ]
     },
     "execution_count": 4,
     "metadata": {},
     "output_type": "execute_result"
    }
   ],
   "source": [
    "c.execute('PRAGMA table_info(mh08_agetable);')\n",
    "c.fetchall()"
   ]
  },
  {
   "cell_type": "markdown",
   "metadata": {},
   "source": [
    "## Create ages table"
   ]
  },
  {
   "cell_type": "markdown",
   "metadata": {},
   "source": [
    "Create table with primary key <tt>ageid</tt> (age measurement ID) and foreign key <tt>sid</tt> linking this table to the main <tt>stars_FGK_nobinaries</tt> table. Having a separation <tt>ageid</tt> allows this table to hold multiple age measurements per star if they exist."
   ]
  },
  {
   "cell_type": "code",
   "execution_count": 30,
   "metadata": {},
   "outputs": [
    {
     "data": {
      "text/plain": [
       "<sqlite3.Cursor at 0x11415e730>"
      ]
     },
     "execution_count": 30,
     "metadata": {},
     "output_type": "execute_result"
    }
   ],
   "source": [
    "c.execute('DROP TABLE ages')"
   ]
  },
  {
   "cell_type": "code",
   "execution_count": 31,
   "metadata": {
    "collapsed": true
   },
   "outputs": [],
   "source": [
    "create_table = '''\n",
    "CREATE TABLE ages (\n",
    "ageid INTEGER PRIMARY KEY AUTOINCREMENT,\n",
    "age REAL,\n",
    "age_err REAL,\n",
    "bibcode TEXT,\n",
    "sid INTEGER,\n",
    "CONSTRAINT sid \n",
    "    FOREIGN KEY (sid)\n",
    "    REFERENCES stars_FGK_nobinaries(sid)\n",
    ")\n",
    "'''"
   ]
  },
  {
   "cell_type": "code",
   "execution_count": 32,
   "metadata": {},
   "outputs": [
    {
     "data": {
      "text/plain": [
       "<sqlite3.Cursor at 0x11415e730>"
      ]
     },
     "execution_count": 32,
     "metadata": {},
     "output_type": "execute_result"
    }
   ],
   "source": [
    "c.execute(create_table)"
   ]
  },
  {
   "cell_type": "code",
   "execution_count": 33,
   "metadata": {},
   "outputs": [
    {
     "data": {
      "text/plain": [
       "[(0, u'ageid', u'INTEGER', 0, None, 1),\n",
       " (1, u'age', u'REAL', 0, None, 0),\n",
       " (2, u'age_err', u'REAL', 0, None, 0),\n",
       " (3, u'bibcode', u'TEXT', 0, None, 0),\n",
       " (4, u'sid', u'INTEGER', 0, None, 0)]"
      ]
     },
     "execution_count": 33,
     "metadata": {},
     "output_type": "execute_result"
    }
   ],
   "source": [
    "c.execute('PRAGMA table_info(ages);')\n",
    "c.fetchall()"
   ]
  },
  {
   "cell_type": "markdown",
   "metadata": {},
   "source": [
    "## Create subquery connecting star in MH08 table to star in main simbad_FGK_nobinaries table"
   ]
  },
  {
   "cell_type": "code",
   "execution_count": 34,
   "metadata": {},
   "outputs": [
    {
     "name": "stdout",
     "output_type": "stream",
     "text": [
      "39\n",
      "(0, u'epsilon Eri', u'* eps Eri', u'HD 22049', u'HD  22049', u'144', u'144')\n",
      "(1, u'tau Cet', u'* tau Cet', u'HD 10700', u'HD  10700', u'71', u'71')\n",
      "(2, u'82 Eri', u'* e Eri', u'HD 20794', u'HD  20794', u'139', u'139')\n",
      "(3, u'delta Pav', u'* del Pav', u'HD 190248', u'HD 190248', u'780', u'780')\n",
      "(8, u'61 Vir', u'*  61 Vir', u'HD 115617', u'HD 115617', u'506', u'506')\n",
      "(9, u'zeta Tuc', u'* zet Tuc', u'HD 1581', u'HD   1581', u'17', u'17')\n",
      "(10, u'HR 7722', u'HD 192310', u'HD 192310', u'HD 192310', u'785', u'785')\n",
      "(13, u'CF UMa', u'HD 103095', u'HD 103095', u'HD 103095', u'451A', u'451')\n",
      "(18, u'alpha Men', u'* alf Men', u'HD 43834', u'HD  43834', u'231', u'231')\n",
      "(20, u'HR 6806', u'HD 166620', u'HD 166620', u'HD 166620', u'706', u'706')\n",
      "(21, u'54 Psc', u'*  54 Psc', u'HD 3651', u'HD   3651', u'27A', u'27')\n",
      "(27, u'HR 3384', u'HD  72673', u'HD 72673', u'HD  72673', u'309', u'309')\n",
      "(30, u'HR 3259', u'HD  69830', u'HD 69830', u'HD  69830', u'302', u'302')\n",
      "(36, u'HR 683', u'HD  14412', u'HD 14412', u'HD  14412', u'95', u'95')\n",
      "(35, u'HR 6518', u'HD 158633', u'HD 158633', u'HD 158633', u'675', u'675')\n",
      "(31, u'HR 4587', u'HD 104304', u'HD 104304', u'HD 104304', u'454', u'454')\n",
      "(40, u'NLTT 46596', u'HD 170657', u'HD 170657', u'HD 170657', u'716', u'716')\n",
      "(42, u'58 Eri', u'*  58 Eri', u'HD 30495', u'HD  30495', u'177', u'177')\n",
      "(49, u'NLTT 44221', u'HD 154577', u'HD 154577', u'HD 154577', u'656', u'656')\n",
      "(53, u'10 Tau', u'*  10 Tau', u'HD 22484', u'HD  22484', u'147', u'147')\n",
      "(48, u'LHS 413', u'HD 145417', u'HD 145417', u'HD 145417', u'615', u'615')\n",
      "(50, u'47 UMa', u'*  47 UMa', u'HD 95128', u'HD  95128', u'407', u'407')\n",
      "(60, u'3 UMa', u'V* pi.01 UMa', u'HD 72905', u'HD  72905', u'311', u'311')\n",
      "(72, u'NLTT 42064', u'HD 144628', u'HD 144628', u'HD 144628', u'613', u'613')\n",
      "(66, u'nu22 Lup', u'* nu.02 Lup', u'HD 136352', u'HD 136352', u'582', u'582')\n",
      "(63, u'NLTT 17311', u'HD  52698', u'HD 52698', u'HD  52698', u'259', u'259')\n",
      "(64, u'HR 7898', u'HD 196761', u'HD 196761', u'HD 196761', u'796', u'796')\n",
      "(70, u'NLTT 51629', u'HD 205390', u'HD 205390', u'HD 205390', u'833', u'833')\n",
      "(78, u'nu Phe', u'* nu. Phe', u'HD 7570', u'HD   7570', u'55', u'55')\n",
      "(83, u'mu Ara', u'* mu. Ara', u'HD 160691', u'HD 160691', u'691', u'691')\n",
      "(81, u'51 Peg', u'*  51 Peg', u'HD 217014', u'HD 217014', u'882', u'882')\n",
      "(90, u'V1386 Ori', u'V* V1386 Ori', u'HD 41593', u'HD  41593', u'227', u'227')\n",
      "(96, u'19 Cet', u'* phi02 Cet', u'HD 4813', u'HD   4813', u'37', u'37')\n",
      "(79, u'HR 2007', u'HD  38858', u'HD 38858', u'HD  38858', u'1085', u'1085')\n",
      "(94, u'V739 Ser', u'HD 135599', u'HD 135599', u'HD 135599', u'...', None)\n",
      "(84, u'LHS 481', u'HD 190404', u'HD 190404', u'HD 190404', u'778', u'778')\n",
      "(85, u'tau Boo', u'* tau Boo', u'HD 120136', u'HD 120136', u'527A', u'527')\n",
      "(88, u'NLTT 34858', u'HD 118972', u'HD 118972', u'HD 118972', u'1175', u'1175')\n",
      "(95, u'chi Her', u'* chi Her', u'HD 142373', u'HD 142373', u'602', u'602')\n"
     ]
    }
   ],
   "source": [
    "cmd = '''\n",
    "SELECT stars_FGK_nobinaries.sid, mh08_agetable.OName, stars_FGK_nobinaries.main_id, \n",
    "'HD ' || mh08_agetable.hd, stars_FGK_nobinaries.hd, mh08_agetable.gj, LTRIM(LTRIM(stars_FGK_nobinaries.GJ,'GJ'))\n",
    "FROM mh08_agetable\n",
    "    INNER JOIN stars_FGK_nobinaries \n",
    "    ON LTRIM(LTRIM(stars_FGK_nobinaries.hd,'HD')) LIKE mh08_agetable.hd\n",
    "    OR LTRIM(LTRIM(stars_FGK_nobinaries.GJ,'GJ')) LIKE mh08_agetable.gj\n",
    "'''\n",
    "c.execute(cmd)\n",
    "rows = c.fetchall()\n",
    "print len(rows)\n",
    "for row in rows:\n",
    "    print row"
   ]
  },
  {
   "cell_type": "markdown",
   "metadata": {},
   "source": [
    "39 is the same number of stars I found when querying Simbad with the MH08 sample list and eliminating binaries in the same way I did to create stars_FGK_nobinaries, so this cross match catches all of them!"
   ]
  },
  {
   "cell_type": "markdown",
   "metadata": {},
   "source": [
    "Now check query to get the columns that I actually want to put in the ages table.\n",
    "\n",
    "NOTES\n",
    "- Sec 4.4 states that tau2 are the preferred ages and that the conservative error is 50%, so I will directly put the error in now.\n",
    "- Found bibcode using ADS: 2008ApJ...687.1264M"
   ]
  },
  {
   "cell_type": "code",
   "execution_count": 35,
   "metadata": {},
   "outputs": [
    {
     "name": "stdout",
     "output_type": "stream",
     "text": [
      "39\n",
      "(0.8, 0.4, u'2008ApJ...687.1264M', 0)\n",
      "(5.8, 2.9, u'2008ApJ...687.1264M', 1)\n",
      "(6.1, 3.05, u'2008ApJ...687.1264M', 2)\n",
      "(6.9, 3.45, u'2008ApJ...687.1264M', 3)\n",
      "(6.1, 3.05, u'2008ApJ...687.1264M', 8)\n",
      "(2.1, 1.05, u'2008ApJ...687.1264M', 9)\n",
      "(8.9, 4.45, u'2008ApJ...687.1264M', 10)\n",
      "(5.3, 2.65, u'2008ApJ...687.1264M', 13)\n",
      "(5.5, 2.75, u'2008ApJ...687.1264M', 18)\n",
      "(7.1, 3.55, u'2008ApJ...687.1264M', 20)\n",
      "(7.7, 3.85, u'2008ApJ...687.1264M', 21)\n",
      "(6.5, 3.25, u'2008ApJ...687.1264M', 27)\n",
      "(6.1, 3.05, u'2008ApJ...687.1264M', 30)\n",
      "(4.3, 2.15, u'2008ApJ...687.1264M', 36)\n",
      "(5.9, 2.95, u'2008ApJ...687.1264M', 35)\n",
      "(5.9, 2.95, u'2008ApJ...687.1264M', 31)\n",
      "(2.6, 1.3, u'2008ApJ...687.1264M', 40)\n",
      "(0.6, 0.3, u'2008ApJ...687.1264M', 42)\n",
      "(4.8, 2.4, u'2008ApJ...687.1264M', 49)\n",
      "(4.2, 2.1, u'2008ApJ...687.1264M', 53)\n",
      "(8.8, 4.4, u'2008ApJ...687.1264M', 48)\n",
      "(4.4, 2.2, u'2008ApJ...687.1264M', 50)\n",
      "(0.2, 0.1, u'2008ApJ...687.1264M', 60)\n",
      "(6.8, 3.4, u'2008ApJ...687.1264M', 72)\n",
      "(3.6, 1.8, u'2008ApJ...687.1264M', 66)\n",
      "(2.5, 1.25, u'2008ApJ...687.1264M', 63)\n",
      "(5.2, 2.6, u'2008ApJ...687.1264M', 64)\n",
      "(1.4, 0.7, u'2008ApJ...687.1264M', 70)\n",
      "(2.8, 1.4, u'2008ApJ...687.1264M', 78)\n",
      "(6.5, 3.25, u'2008ApJ...687.1264M', 83)\n",
      "(6.1, 3.05, u'2008ApJ...687.1264M', 81)\n",
      "(0.6, 0.3, u'2008ApJ...687.1264M', 90)\n",
      "(1.7, 0.85, u'2008ApJ...687.1264M', 96)\n",
      "(3.2, 1.6, u'2008ApJ...687.1264M', 79)\n",
      "(1.3, 0.65, u'2008ApJ...687.1264M', 94)\n",
      "(7.3, 3.65, u'2008ApJ...687.1264M', 84)\n",
      "(1.6, 0.8, u'2008ApJ...687.1264M', 85)\n",
      "(0.4, 0.2, u'2008ApJ...687.1264M', 88)\n",
      "(4.4, 2.2, u'2008ApJ...687.1264M', 95)\n"
     ]
    }
   ],
   "source": [
    "cmd = '''\n",
    "SELECT mh08_agetable.tau2, 0.5*mh08_agetable.tau2, '2008ApJ...687.1264M', stars_FGK_nobinaries.sid\n",
    "FROM mh08_agetable\n",
    "    INNER JOIN stars_FGK_nobinaries \n",
    "    ON LTRIM(LTRIM(stars_FGK_nobinaries.hd,'HD')) LIKE mh08_agetable.hd\n",
    "    OR LTRIM(LTRIM(stars_FGK_nobinaries.GJ,'GJ')) LIKE mh08_agetable.gj\n",
    "'''\n",
    "c.execute(cmd)\n",
    "rows = c.fetchall()\n",
    "print len(rows)\n",
    "for row in rows:\n",
    "    print row"
   ]
  },
  {
   "cell_type": "markdown",
   "metadata": {},
   "source": [
    "## Add rows to the ages table"
   ]
  },
  {
   "cell_type": "code",
   "execution_count": 36,
   "metadata": {},
   "outputs": [
    {
     "data": {
      "text/plain": [
       "<sqlite3.Cursor at 0x11415e730>"
      ]
     },
     "execution_count": 36,
     "metadata": {},
     "output_type": "execute_result"
    }
   ],
   "source": [
    "cmd = '''\n",
    "INSERT INTO ages (age, age_err, bibcode, sid)\n",
    "SELECT mh08_agetable.tau2, 0.5*mh08_agetable.tau2, '2008ApJ...687.1264M', stars_FGK_nobinaries.sid\n",
    "FROM mh08_agetable\n",
    "    INNER JOIN stars_FGK_nobinaries \n",
    "    ON LTRIM(LTRIM(stars_FGK_nobinaries.hd,'HD')) LIKE mh08_agetable.hd\n",
    "    OR LTRIM(LTRIM(stars_FGK_nobinaries.GJ,'GJ')) LIKE mh08_agetable.gj\n",
    "'''\n",
    "c.execute(cmd)"
   ]
  },
  {
   "cell_type": "markdown",
   "metadata": {},
   "source": [
    "Check result!"
   ]
  },
  {
   "cell_type": "code",
   "execution_count": 37,
   "metadata": {},
   "outputs": [
    {
     "data": {
      "text/plain": [
       "[(1, 0.8, 0.4, u'2008ApJ...687.1264M', 0),\n",
       " (2, 5.8, 2.9, u'2008ApJ...687.1264M', 1),\n",
       " (3, 6.1, 3.05, u'2008ApJ...687.1264M', 2),\n",
       " (4, 6.9, 3.45, u'2008ApJ...687.1264M', 3),\n",
       " (5, 6.1, 3.05, u'2008ApJ...687.1264M', 8),\n",
       " (6, 2.1, 1.05, u'2008ApJ...687.1264M', 9),\n",
       " (7, 8.9, 4.45, u'2008ApJ...687.1264M', 10),\n",
       " (8, 5.3, 2.65, u'2008ApJ...687.1264M', 13),\n",
       " (9, 5.5, 2.75, u'2008ApJ...687.1264M', 18),\n",
       " (10, 7.1, 3.55, u'2008ApJ...687.1264M', 20),\n",
       " (11, 7.7, 3.85, u'2008ApJ...687.1264M', 21),\n",
       " (12, 6.5, 3.25, u'2008ApJ...687.1264M', 27),\n",
       " (13, 6.1, 3.05, u'2008ApJ...687.1264M', 30),\n",
       " (14, 4.3, 2.15, u'2008ApJ...687.1264M', 36),\n",
       " (15, 5.9, 2.95, u'2008ApJ...687.1264M', 35),\n",
       " (16, 5.9, 2.95, u'2008ApJ...687.1264M', 31),\n",
       " (17, 2.6, 1.3, u'2008ApJ...687.1264M', 40),\n",
       " (18, 0.6, 0.3, u'2008ApJ...687.1264M', 42),\n",
       " (19, 4.8, 2.4, u'2008ApJ...687.1264M', 49),\n",
       " (20, 4.2, 2.1, u'2008ApJ...687.1264M', 53),\n",
       " (21, 8.8, 4.4, u'2008ApJ...687.1264M', 48),\n",
       " (22, 4.4, 2.2, u'2008ApJ...687.1264M', 50),\n",
       " (23, 0.2, 0.1, u'2008ApJ...687.1264M', 60),\n",
       " (24, 6.8, 3.4, u'2008ApJ...687.1264M', 72),\n",
       " (25, 3.6, 1.8, u'2008ApJ...687.1264M', 66),\n",
       " (26, 2.5, 1.25, u'2008ApJ...687.1264M', 63),\n",
       " (27, 5.2, 2.6, u'2008ApJ...687.1264M', 64),\n",
       " (28, 1.4, 0.7, u'2008ApJ...687.1264M', 70),\n",
       " (29, 2.8, 1.4, u'2008ApJ...687.1264M', 78),\n",
       " (30, 6.5, 3.25, u'2008ApJ...687.1264M', 83),\n",
       " (31, 6.1, 3.05, u'2008ApJ...687.1264M', 81),\n",
       " (32, 0.6, 0.3, u'2008ApJ...687.1264M', 90),\n",
       " (33, 1.7, 0.85, u'2008ApJ...687.1264M', 96),\n",
       " (34, 3.2, 1.6, u'2008ApJ...687.1264M', 79),\n",
       " (35, 1.3, 0.65, u'2008ApJ...687.1264M', 94),\n",
       " (36, 7.3, 3.65, u'2008ApJ...687.1264M', 84),\n",
       " (37, 1.6, 0.8, u'2008ApJ...687.1264M', 85),\n",
       " (38, 0.4, 0.2, u'2008ApJ...687.1264M', 88),\n",
       " (39, 4.4, 2.2, u'2008ApJ...687.1264M', 95)]"
      ]
     },
     "execution_count": 37,
     "metadata": {},
     "output_type": "execute_result"
    }
   ],
   "source": [
    "cmd = '''\n",
    "SELECT * FROM ages\n",
    "'''\n",
    "c.execute(cmd)\n",
    "c.fetchall()"
   ]
  },
  {
   "cell_type": "code",
   "execution_count": 38,
   "metadata": {},
   "outputs": [
    {
     "name": "stdout",
     "output_type": "stream",
     "text": [
      "39\n",
      "(u'* eps Eri', 0.8, 0.4)\n",
      "(u'* tau Cet', 5.8, 2.9)\n",
      "(u'* e Eri', 6.1, 3.05)\n",
      "(u'* del Pav', 6.9, 3.45)\n",
      "(u'*  61 Vir', 6.1, 3.05)\n",
      "(u'* zet Tuc', 2.1, 1.05)\n",
      "(u'HD 192310', 8.9, 4.45)\n",
      "(u'HD 103095', 5.3, 2.65)\n",
      "(u'* alf Men', 5.5, 2.75)\n",
      "(u'HD 166620', 7.1, 3.55)\n",
      "(u'*  54 Psc', 7.7, 3.85)\n",
      "(u'HD  72673', 6.5, 3.25)\n",
      "(u'HD  69830', 6.1, 3.05)\n",
      "(u'HD  14412', 4.3, 2.15)\n",
      "(u'HD 158633', 5.9, 2.95)\n",
      "(u'HD 104304', 5.9, 2.95)\n",
      "(u'HD 170657', 2.6, 1.3)\n",
      "(u'*  58 Eri', 0.6, 0.3)\n",
      "(u'HD 154577', 4.8, 2.4)\n",
      "(u'*  10 Tau', 4.2, 2.1)\n",
      "(u'HD 145417', 8.8, 4.4)\n",
      "(u'*  47 UMa', 4.4, 2.2)\n",
      "(u'V* pi.01 UMa', 0.2, 0.1)\n",
      "(u'HD 144628', 6.8, 3.4)\n",
      "(u'* nu.02 Lup', 3.6, 1.8)\n",
      "(u'HD  52698', 2.5, 1.25)\n",
      "(u'HD 196761', 5.2, 2.6)\n",
      "(u'HD 205390', 1.4, 0.7)\n",
      "(u'* nu. Phe', 2.8, 1.4)\n",
      "(u'* mu. Ara', 6.5, 3.25)\n",
      "(u'*  51 Peg', 6.1, 3.05)\n",
      "(u'V* V1386 Ori', 0.6, 0.3)\n",
      "(u'* phi02 Cet', 1.7, 0.85)\n",
      "(u'HD  38858', 3.2, 1.6)\n",
      "(u'HD 135599', 1.3, 0.65)\n",
      "(u'HD 190404', 7.3, 3.65)\n",
      "(u'* tau Boo', 1.6, 0.8)\n",
      "(u'HD 118972', 0.4, 0.2)\n",
      "(u'* chi Her', 4.4, 2.2)\n"
     ]
    }
   ],
   "source": [
    "cmd = '''\n",
    "SELECT s.main_id, a.age, a.age_err \n",
    "FROM stars_FGK_nobinaries AS s\n",
    "INNER JOIN ages AS a ON a.sid = s.sid\n",
    "'''\n",
    "c.execute(cmd)\n",
    "rows = c.fetchall()\n",
    "print len(rows)\n",
    "for row in rows:\n",
    "    print row"
   ]
  },
  {
   "cell_type": "markdown",
   "metadata": {},
   "source": [
    "## Check with stars are missing from the MH08 sample"
   ]
  },
  {
   "cell_type": "markdown",
   "metadata": {},
   "source": [
    "Sample should (!) be complete within 16 pc for stars with spectral types F7-K2 (0.5 < B-V < 0.9). Is this the case or are there many stars in the <tt>stars_FGK_nobinaries</tt> table that fit these criteria but do not have ages reported in MH08?"
   ]
  },
  {
   "cell_type": "code",
   "execution_count": 12,
   "metadata": {},
   "outputs": [
    {
     "name": "stdout",
     "output_type": "stream",
     "text": [
      "52\n",
      "(u'HD 219134', 6.5324978704056935, u'K3V', u'WDS J23133+5710A')\n",
      "(u'HD 157881', 7.714674313451846, u'K7V', None)\n",
      "(u'HD 217357', 8.231008183268337, u'K7+Vk', None)\n",
      "(u'HD  32147', 8.84770968187175, u'K3+V', None)\n",
      "(u'* del Eri', 9.040773890245005, u'K0+IV', None)\n",
      "(u'HD 151288', 9.85109090980735, u'K7.5Ve', None)\n",
      "(u'HD 122064', 10.077749840015722, u'K3V', None)\n",
      "(u'HD 103932', 10.184253514585889, u'K4+V', None)\n",
      "(u'BD+36  2393', 10.958675928939561, u'K7.5Ve', None)\n",
      "(u'HD  74576', 11.18603267216423, u'K3V', None)\n",
      "(u'HD  85512', 11.284669325334761, u'K6Vk:', None)\n",
      "(u'V* V2689 Ori', 11.436845169133784, u'K6V', None)\n",
      "(u'HD 222237', 11.450740061330162, u'K3+V', None)\n",
      "(u'HD 125072', 11.840835489352129, u'K3IV', None)\n",
      "(u'HD 196877', 12.327416173570018, u'K7V', None)\n",
      "(u'HD  21531', 12.493753123438278, u'K5V', None)\n",
      "(u'HD 190007', 12.718795072230035, u'K5V', None)\n",
      "(u'HD 101581', 12.782819890067747, u'K4.5Vk:', None)\n",
      "(u'HD  82106', 12.782983292640836, u'K3V', None)\n",
      "(u'HD  40307', 12.941181038063895, u'K2.5V', None)\n",
      "(u'HD  27274', 13.057438365626554, u'K4.5Vk:', None)\n",
      "(u'HD 211970', 13.132648947221195, u'K7Vk:', None)\n",
      "(u'HD  29697', 13.238107215430336, u'K4V', None)\n",
      "(u'HD 128165', 13.243384267389224, u'K3', None)\n",
      "(u'HD 214749', 13.287270794578792, u'K4.5Vk', None)\n",
      "(u'BD+62   780', 13.513878753479823, u'K7V', None)\n",
      "(u'HD  10436', 13.515102451234132, u'K5Vbe', None)\n",
      "(u'HD  22496', 13.60092703918699, u'K5/M0V', None)\n",
      "(u'HD 281621', 13.925055352095024, u'K7V', None)\n",
      "(u'HD  23356', 13.95502017895918, u'K2V', None)\n",
      "(u'HD   5133', 13.976787351566518, u'K2.5Vk:', None)\n",
      "(u'HD 120467', 14.060762177674603, u'K6Va', None)\n",
      "(u'HD 110315', 14.106481363927472, u'K4.5V', None)\n",
      "(u'HD 150689', 14.210278009878984, u'K3V', None)\n",
      "(u'HD 234078', 14.248891080051697, u'K7V', None)\n",
      "(u'HD 173818', 14.256630758965997, u'K5V', None)\n",
      "(u'BD-08  2582', 14.51640062943113, u'K7V', None)\n",
      "(u'BD+30  2512', 14.522050281146894, u'K6V', None)\n",
      "(u'BD+40    45', 14.698295438677976, u'K7', None)\n",
      "(u'HD 142709', 14.73198830280129, u'K4V', None)\n",
      "(u'BD+33   529', 14.763089324071954, u'K4', None)\n",
      "(u'HD 218511', 14.837675826458543, u'K6V', None)\n",
      "(u'BD+63   137', 15.067706740237256, u'K7V', None)\n",
      "(u'HD 118926', 15.076839110526802, u'K5V', None)\n",
      "(u'HD  21197', 15.351032049884715, u'K4V', None)\n",
      "(u'HD 139763', 15.569945645319752, u'K6Vk', None)\n",
      "(u'HD 152705', 15.688464742528758, u'K3/4V', None)\n",
      "(u'HD 213042', 15.692773164102466, u'K4V', None)\n",
      "(u'BD-07   699', 15.69713323255774, u'K5V', None)\n",
      "(u'HD 203040', 15.785494078071897, u'K6.5Vk', None)\n",
      "(u'BD+41  2695', 15.786241658944565, u'K5V', None)\n",
      "(u'HD 191391', 15.80243167818664, u'K6Vk', None)\n"
     ]
    }
   ],
   "source": [
    "cmd = '''\n",
    "SELECT s.main_id, 1/(s.plx_value*1e-3) as d, s.sp_type, s.wds\n",
    "FROM stars_FGK_nobinaries AS s\n",
    "LEFT OUTER JOIN ages AS a ON a.sid = s.sid\n",
    "WHERE d < 16\n",
    "AND a.ageid IS NULL\n",
    "AND s.sp_type LIKE '%K%'\n",
    "'''\n",
    "c.execute(cmd)\n",
    "rows = c.fetchall()\n",
    "print len(rows)\n",
    "for row in rows:\n",
    "    print row"
   ]
  },
  {
   "cell_type": "markdown",
   "metadata": {},
   "source": [
    "Stars in simbad table and not in MH08, but still in the F7 - K2 spectral type range:\n",
    "- (u'HD  84117', 14.821555878006736, u'F9V', None): B - V = 5.47 - 4.94 = 0.53 (edge of range?)\n",
    "- (u'\\* gam Pav', 9.261831990367694, u'F9VFe-1.4CH-0.7', None): B-V just outside range\n",
    "- (u'\\* bet Hyi', 7.458790184232118, u'G0V', None): B-V = 0.62? so not sure why this is excluded.\n",
    "- (u'\\* del Eri', 9.040773890245005, u'K0+IV', None): B-V just outside range\n",
    "- (u'HD  23356', 13.95502017895918, u'K2V', None): B-V just outside range\n",
    "\n",
    "For stars that I'm not sure about (HD 84117 and \\* bet Hyi), I checked B-V using the references listed in Table 13 (#1/2) of MH08 and found consist results with what Simbad reports for B/V magnitudes.\n",
    "\n",
    "Also checked spectral types with some of the references in Table 13 (#8/11) of MH08 and also found consistent results. So I'm not sure off-hand why these were excluded from the MH08 sample."
   ]
  },
  {
   "cell_type": "code",
   "execution_count": 39,
   "metadata": {
    "collapsed": true
   },
   "outputs": [],
   "source": [
    "connection.commit()"
   ]
  },
  {
   "cell_type": "code",
   "execution_count": 40,
   "metadata": {
    "collapsed": true
   },
   "outputs": [],
   "source": [
    "connection.close()"
   ]
  },
  {
   "cell_type": "code",
   "execution_count": null,
   "metadata": {
    "collapsed": true
   },
   "outputs": [],
   "source": []
  }
 ],
 "metadata": {
  "kernelspec": {
   "display_name": "Python 2",
   "language": "python",
   "name": "python2"
  },
  "language_info": {
   "codemirror_mode": {
    "name": "ipython",
    "version": 2
   },
   "file_extension": ".py",
   "mimetype": "text/x-python",
   "name": "python",
   "nbconvert_exporter": "python",
   "pygments_lexer": "ipython2",
   "version": "2.7.13"
  }
 },
 "nbformat": 4,
 "nbformat_minor": 2
}
