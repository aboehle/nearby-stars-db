{
 "cells": [
  {
   "cell_type": "code",
   "execution_count": 2,
   "metadata": {
    "collapsed": true
   },
   "outputs": [],
   "source": [
    "import pandas\n",
    "import sqlite3"
   ]
  },
  {
   "cell_type": "code",
   "execution_count": 3,
   "metadata": {
    "collapsed": true
   },
   "outputs": [],
   "source": [
    "connection = sqlite3.connect('nearby_stars.db')\n",
    "c = connection.cursor()"
   ]
  },
  {
   "cell_type": "markdown",
   "metadata": {},
   "source": [
    "## Add full MH08 age table to database"
   ]
  },
  {
   "cell_type": "code",
   "execution_count": 8,
   "metadata": {
    "collapsed": true
   },
   "outputs": [],
   "source": [
    "age_tab = pandas.read_csv('mh08_agetable.csv')\n",
    "age_tab.to_sql('mh08_agetable', connection)"
   ]
  },
  {
   "cell_type": "code",
   "execution_count": 9,
   "metadata": {},
   "outputs": [
    {
     "data": {
      "text/plain": [
       "[(0, u'index', u'INTEGER', 0, None, 0),\n",
       " (1, u'HD', u'INTEGER', 0, None, 0),\n",
       " (2, u'GJ', u'TEXT', 0, None, 0),\n",
       " (3, u'OName', u'TEXT', 0, None, 0),\n",
       " (4, u'l_tau1', u'TEXT', 0, None, 0),\n",
       " (5, u'tau1', u'REAL', 0, None, 0),\n",
       " (6, u'l_tau2', u'TEXT', 0, None, 0),\n",
       " (7, u'tau2', u'REAL', 0, None, 0)]"
      ]
     },
     "execution_count": 9,
     "metadata": {},
     "output_type": "execute_result"
    }
   ],
   "source": [
    "c.execute('PRAGMA table_info(mh08_agetable);')\n",
    "c.fetchall()"
   ]
  },
  {
   "cell_type": "code",
   "execution_count": null,
   "metadata": {
    "collapsed": true
   },
   "outputs": [],
   "source": []
  },
  {
   "cell_type": "markdown",
   "metadata": {},
   "source": [
    "## Create ages table"
   ]
  },
  {
   "cell_type": "code",
   "execution_count": 4,
   "metadata": {},
   "outputs": [
    {
     "data": {
      "text/plain": [
       "<sqlite3.Cursor at 0x10d8d1c70>"
      ]
     },
     "execution_count": 4,
     "metadata": {},
     "output_type": "execute_result"
    }
   ],
   "source": [
    "#c.execute('DROP TABLE ages')"
   ]
  },
  {
   "cell_type": "code",
   "execution_count": 5,
   "metadata": {
    "collapsed": true
   },
   "outputs": [],
   "source": [
    "create_table = '''\n",
    "CREATE TABLE IF NOT EXISTS ages (\n",
    "sid INTEGER PRIMARY KEY,\n",
    "age REAL,\n",
    "age_err REAL,\n",
    "bibcode TEXT\n",
    ")\n",
    "'''"
   ]
  },
  {
   "cell_type": "code",
   "execution_count": 6,
   "metadata": {},
   "outputs": [
    {
     "data": {
      "text/plain": [
       "<sqlite3.Cursor at 0x10d8d1c70>"
      ]
     },
     "execution_count": 6,
     "metadata": {},
     "output_type": "execute_result"
    }
   ],
   "source": [
    "c.execute(create_table)"
   ]
  },
  {
   "cell_type": "markdown",
   "metadata": {},
   "source": [
    "## Create subquery connecting star in MH08 table to star in main simbad_FGK_nobinaries table"
   ]
  },
  {
   "cell_type": "code",
   "execution_count": 42,
   "metadata": {},
   "outputs": [
    {
     "name": "stdout",
     "output_type": "stream",
     "text": [
      "39\n",
      "(0, u'epsilon Eri', u'* eps Eri', u'HD 22049', u'HD  22049', u'144', u'144')\n",
      "(1, u'tau Cet', u'* tau Cet', u'HD 10700', u'HD  10700', u'71', u'71')\n",
      "(2, u'82 Eri', u'* e Eri', u'HD 20794', u'HD  20794', u'139', u'139')\n",
      "(3, u'delta Pav', u'* del Pav', u'HD 190248', u'HD 190248', u'780', u'780')\n",
      "(8, u'61 Vir', u'*  61 Vir', u'HD 115617', u'HD 115617', u'506', u'506')\n",
      "(9, u'zeta Tuc', u'* zet Tuc', u'HD 1581', u'HD   1581', u'17', u'17')\n",
      "(10, u'HR 7722', u'HD 192310', u'HD 192310', u'HD 192310', u'785', u'785')\n",
      "(13, u'CF UMa', u'HD 103095', u'HD 103095', u'HD 103095', u'451A', u'451')\n",
      "(18, u'alpha Men', u'* alf Men', u'HD 43834', u'HD  43834', u'231', u'231')\n",
      "(20, u'HR 6806', u'HD 166620', u'HD 166620', u'HD 166620', u'706', u'706')\n",
      "(21, u'54 Psc', u'*  54 Psc', u'HD 3651', u'HD   3651', u'27A', u'27')\n",
      "(27, u'HR 3384', u'HD  72673', u'HD 72673', u'HD  72673', u'309', u'309')\n",
      "(30, u'HR 3259', u'HD  69830', u'HD 69830', u'HD  69830', u'302', u'302')\n",
      "(36, u'HR 683', u'HD  14412', u'HD 14412', u'HD  14412', u'95', u'95')\n",
      "(35, u'HR 6518', u'HD 158633', u'HD 158633', u'HD 158633', u'675', u'675')\n",
      "(31, u'HR 4587', u'HD 104304', u'HD 104304', u'HD 104304', u'454', u'454')\n",
      "(40, u'NLTT 46596', u'HD 170657', u'HD 170657', u'HD 170657', u'716', u'716')\n",
      "(42, u'58 Eri', u'*  58 Eri', u'HD 30495', u'HD  30495', u'177', u'177')\n",
      "(49, u'NLTT 44221', u'HD 154577', u'HD 154577', u'HD 154577', u'656', u'656')\n",
      "(53, u'10 Tau', u'*  10 Tau', u'HD 22484', u'HD  22484', u'147', u'147')\n",
      "(48, u'LHS 413', u'HD 145417', u'HD 145417', u'HD 145417', u'615', u'615')\n",
      "(50, u'47 UMa', u'*  47 UMa', u'HD 95128', u'HD  95128', u'407', u'407')\n",
      "(60, u'3 UMa', u'V* pi.01 UMa', u'HD 72905', u'HD  72905', u'311', u'311')\n",
      "(72, u'NLTT 42064', u'HD 144628', u'HD 144628', u'HD 144628', u'613', u'613')\n",
      "(66, u'nu22 Lup', u'* nu.02 Lup', u'HD 136352', u'HD 136352', u'582', u'582')\n",
      "(63, u'NLTT 17311', u'HD  52698', u'HD 52698', u'HD  52698', u'259', u'259')\n",
      "(64, u'HR 7898', u'HD 196761', u'HD 196761', u'HD 196761', u'796', u'796')\n",
      "(70, u'NLTT 51629', u'HD 205390', u'HD 205390', u'HD 205390', u'833', u'833')\n",
      "(78, u'nu Phe', u'* nu. Phe', u'HD 7570', u'HD   7570', u'55', u'55')\n",
      "(83, u'mu Ara', u'* mu. Ara', u'HD 160691', u'HD 160691', u'691', u'691')\n",
      "(81, u'51 Peg', u'*  51 Peg', u'HD 217014', u'HD 217014', u'882', u'882')\n",
      "(90, u'V1386 Ori', u'V* V1386 Ori', u'HD 41593', u'HD  41593', u'227', u'227')\n",
      "(96, u'19 Cet', u'* phi02 Cet', u'HD 4813', u'HD   4813', u'37', u'37')\n",
      "(79, u'HR 2007', u'HD  38858', u'HD 38858', u'HD  38858', u'1085', u'1085')\n",
      "(94, u'V739 Ser', u'HD 135599', u'HD 135599', u'HD 135599', u'...', None)\n",
      "(84, u'LHS 481', u'HD 190404', u'HD 190404', u'HD 190404', u'778', u'778')\n",
      "(85, u'tau Boo', u'* tau Boo', u'HD 120136', u'HD 120136', u'527A', u'527')\n",
      "(88, u'NLTT 34858', u'HD 118972', u'HD 118972', u'HD 118972', u'1175', u'1175')\n",
      "(95, u'chi Her', u'* chi Her', u'HD 142373', u'HD 142373', u'602', u'602')\n"
     ]
    }
   ],
   "source": [
    "cmd = '''\n",
    "SELECT stars_FGK_nobinaries.sid, mh08_agetable.OName, stars_FGK_nobinaries.main_id, \n",
    "'HD ' || mh08_agetable.hd, stars_FGK_nobinaries.hd, mh08_agetable.gj, LTRIM(LTRIM(stars_FGK_nobinaries.GJ,'GJ'))\n",
    "FROM mh08_agetable\n",
    "    INNER JOIN stars_FGK_nobinaries \n",
    "    ON LTRIM(LTRIM(stars_FGK_nobinaries.hd,'HD')) LIKE mh08_agetable.hd\n",
    "    OR LTRIM(LTRIM(stars_FGK_nobinaries.GJ,'GJ')) LIKE mh08_agetable.gj\n",
    "'''\n",
    "c.execute(cmd)\n",
    "rows = c.fetchall()\n",
    "print len(rows)\n",
    "for row in rows:\n",
    "    print row"
   ]
  },
  {
   "cell_type": "markdown",
   "metadata": {},
   "source": [
    "39 is the same number of stars I found when querying Simbad with the MH08 sample list and eliminating binaries in the same way I did to create stars_FGK_nobinaries, so this cross match catches all of them!"
   ]
  },
  {
   "cell_type": "markdown",
   "metadata": {},
   "source": [
    "Now check query to get the columns that I actually want to put in the ages table.\n",
    "\n",
    "NOTES\n",
    "- Sec 4.4 states that tau2 are the preferred ages and that the conservative error is 50%, so I will directly put the error in now.\n",
    "- Found bibcode using ADS: 2008ApJ...687.1264M"
   ]
  },
  {
   "cell_type": "code",
   "execution_count": 44,
   "metadata": {},
   "outputs": [
    {
     "name": "stdout",
     "output_type": "stream",
     "text": [
      "39\n",
      "(0, 0.8, 0.4, u'2008ApJ...687.1264M')\n",
      "(1, 5.8, 2.9, u'2008ApJ...687.1264M')\n",
      "(2, 6.1, 3.05, u'2008ApJ...687.1264M')\n",
      "(3, 6.9, 3.45, u'2008ApJ...687.1264M')\n",
      "(8, 6.1, 3.05, u'2008ApJ...687.1264M')\n",
      "(9, 2.1, 1.05, u'2008ApJ...687.1264M')\n",
      "(10, 8.9, 4.45, u'2008ApJ...687.1264M')\n",
      "(13, 5.3, 2.65, u'2008ApJ...687.1264M')\n",
      "(18, 5.5, 2.75, u'2008ApJ...687.1264M')\n",
      "(20, 7.1, 3.55, u'2008ApJ...687.1264M')\n",
      "(21, 7.7, 3.85, u'2008ApJ...687.1264M')\n",
      "(27, 6.5, 3.25, u'2008ApJ...687.1264M')\n",
      "(30, 6.1, 3.05, u'2008ApJ...687.1264M')\n",
      "(36, 4.3, 2.15, u'2008ApJ...687.1264M')\n",
      "(35, 5.9, 2.95, u'2008ApJ...687.1264M')\n",
      "(31, 5.9, 2.95, u'2008ApJ...687.1264M')\n",
      "(40, 2.6, 1.3, u'2008ApJ...687.1264M')\n",
      "(42, 0.6, 0.3, u'2008ApJ...687.1264M')\n",
      "(49, 4.8, 2.4, u'2008ApJ...687.1264M')\n",
      "(53, 4.2, 2.1, u'2008ApJ...687.1264M')\n",
      "(48, 8.8, 4.4, u'2008ApJ...687.1264M')\n",
      "(50, 4.4, 2.2, u'2008ApJ...687.1264M')\n",
      "(60, 0.2, 0.1, u'2008ApJ...687.1264M')\n",
      "(72, 6.8, 3.4, u'2008ApJ...687.1264M')\n",
      "(66, 3.6, 1.8, u'2008ApJ...687.1264M')\n",
      "(63, 2.5, 1.25, u'2008ApJ...687.1264M')\n",
      "(64, 5.2, 2.6, u'2008ApJ...687.1264M')\n",
      "(70, 1.4, 0.7, u'2008ApJ...687.1264M')\n",
      "(78, 2.8, 1.4, u'2008ApJ...687.1264M')\n",
      "(83, 6.5, 3.25, u'2008ApJ...687.1264M')\n",
      "(81, 6.1, 3.05, u'2008ApJ...687.1264M')\n",
      "(90, 0.6, 0.3, u'2008ApJ...687.1264M')\n",
      "(96, 1.7, 0.85, u'2008ApJ...687.1264M')\n",
      "(79, 3.2, 1.6, u'2008ApJ...687.1264M')\n",
      "(94, 1.3, 0.65, u'2008ApJ...687.1264M')\n",
      "(84, 7.3, 3.65, u'2008ApJ...687.1264M')\n",
      "(85, 1.6, 0.8, u'2008ApJ...687.1264M')\n",
      "(88, 0.4, 0.2, u'2008ApJ...687.1264M')\n",
      "(95, 4.4, 2.2, u'2008ApJ...687.1264M')\n"
     ]
    }
   ],
   "source": [
    "cmd = '''\n",
    "SELECT stars_FGK_nobinaries.sid, mh08_agetable.tau2, 0.5*mh08_agetable.tau2, '2008ApJ...687.1264M'\n",
    "FROM mh08_agetable\n",
    "    INNER JOIN stars_FGK_nobinaries \n",
    "    ON LTRIM(LTRIM(stars_FGK_nobinaries.hd,'HD')) LIKE mh08_agetable.hd\n",
    "    OR LTRIM(LTRIM(stars_FGK_nobinaries.GJ,'GJ')) LIKE mh08_agetable.gj\n",
    "'''\n",
    "c.execute(cmd)\n",
    "rows = c.fetchall()\n",
    "print len(rows)\n",
    "for row in rows:\n",
    "    print row"
   ]
  },
  {
   "cell_type": "markdown",
   "metadata": {},
   "source": [
    "## Add rows to the ages table"
   ]
  },
  {
   "cell_type": "code",
   "execution_count": 46,
   "metadata": {},
   "outputs": [
    {
     "data": {
      "text/plain": [
       "<sqlite3.Cursor at 0x10d8d1c70>"
      ]
     },
     "execution_count": 46,
     "metadata": {},
     "output_type": "execute_result"
    }
   ],
   "source": [
    "cmd = '''\n",
    "INSERT INTO ages \n",
    "SELECT stars_FGK_nobinaries.sid, mh08_agetable.tau2, 0.5*mh08_agetable.tau2, '2008ApJ...687.1264M'\n",
    "FROM mh08_agetable\n",
    "    INNER JOIN stars_FGK_nobinaries \n",
    "    ON LTRIM(LTRIM(stars_FGK_nobinaries.hd,'HD')) LIKE mh08_agetable.hd\n",
    "    OR LTRIM(LTRIM(stars_FGK_nobinaries.GJ,'GJ')) LIKE mh08_agetable.gj\n",
    "'''\n",
    "c.execute(cmd)"
   ]
  },
  {
   "cell_type": "markdown",
   "metadata": {},
   "source": [
    "Check result!"
   ]
  },
  {
   "cell_type": "code",
   "execution_count": 47,
   "metadata": {},
   "outputs": [
    {
     "data": {
      "text/plain": [
       "[(0, 0.8, 0.4, u'2008ApJ...687.1264M'),\n",
       " (1, 5.8, 2.9, u'2008ApJ...687.1264M'),\n",
       " (2, 6.1, 3.05, u'2008ApJ...687.1264M'),\n",
       " (3, 6.9, 3.45, u'2008ApJ...687.1264M'),\n",
       " (8, 6.1, 3.05, u'2008ApJ...687.1264M'),\n",
       " (9, 2.1, 1.05, u'2008ApJ...687.1264M'),\n",
       " (10, 8.9, 4.45, u'2008ApJ...687.1264M'),\n",
       " (13, 5.3, 2.65, u'2008ApJ...687.1264M'),\n",
       " (18, 5.5, 2.75, u'2008ApJ...687.1264M'),\n",
       " (20, 7.1, 3.55, u'2008ApJ...687.1264M'),\n",
       " (21, 7.7, 3.85, u'2008ApJ...687.1264M'),\n",
       " (27, 6.5, 3.25, u'2008ApJ...687.1264M'),\n",
       " (30, 6.1, 3.05, u'2008ApJ...687.1264M'),\n",
       " (31, 5.9, 2.95, u'2008ApJ...687.1264M'),\n",
       " (35, 5.9, 2.95, u'2008ApJ...687.1264M'),\n",
       " (36, 4.3, 2.15, u'2008ApJ...687.1264M'),\n",
       " (40, 2.6, 1.3, u'2008ApJ...687.1264M'),\n",
       " (42, 0.6, 0.3, u'2008ApJ...687.1264M'),\n",
       " (48, 8.8, 4.4, u'2008ApJ...687.1264M'),\n",
       " (49, 4.8, 2.4, u'2008ApJ...687.1264M'),\n",
       " (50, 4.4, 2.2, u'2008ApJ...687.1264M'),\n",
       " (53, 4.2, 2.1, u'2008ApJ...687.1264M'),\n",
       " (60, 0.2, 0.1, u'2008ApJ...687.1264M'),\n",
       " (63, 2.5, 1.25, u'2008ApJ...687.1264M'),\n",
       " (64, 5.2, 2.6, u'2008ApJ...687.1264M'),\n",
       " (66, 3.6, 1.8, u'2008ApJ...687.1264M'),\n",
       " (70, 1.4, 0.7, u'2008ApJ...687.1264M'),\n",
       " (72, 6.8, 3.4, u'2008ApJ...687.1264M'),\n",
       " (78, 2.8, 1.4, u'2008ApJ...687.1264M'),\n",
       " (79, 3.2, 1.6, u'2008ApJ...687.1264M'),\n",
       " (81, 6.1, 3.05, u'2008ApJ...687.1264M'),\n",
       " (83, 6.5, 3.25, u'2008ApJ...687.1264M'),\n",
       " (84, 7.3, 3.65, u'2008ApJ...687.1264M'),\n",
       " (85, 1.6, 0.8, u'2008ApJ...687.1264M'),\n",
       " (88, 0.4, 0.2, u'2008ApJ...687.1264M'),\n",
       " (90, 0.6, 0.3, u'2008ApJ...687.1264M'),\n",
       " (94, 1.3, 0.65, u'2008ApJ...687.1264M'),\n",
       " (95, 4.4, 2.2, u'2008ApJ...687.1264M'),\n",
       " (96, 1.7, 0.85, u'2008ApJ...687.1264M')]"
      ]
     },
     "execution_count": 47,
     "metadata": {},
     "output_type": "execute_result"
    }
   ],
   "source": [
    "cmd = '''\n",
    "SELECT * FROM ages\n",
    "'''\n",
    "c.execute(cmd)\n",
    "c.fetchall()"
   ]
  },
  {
   "cell_type": "code",
   "execution_count": 51,
   "metadata": {},
   "outputs": [
    {
     "name": "stdout",
     "output_type": "stream",
     "text": [
      "39\n",
      "(0, 0.8, 0.4, u'2008ApJ...687.1264M', 0, u'* eps Eri', u'53.2326873475', u'-9.45825865694444', u'HD  22049', u'GJ   144', u'WDS J03329-0927A,WDS J03329-0927Aa,Ab', u'K2V', u'1989ApJS...71..245K', 310.94, 0.16, u'2007A&A...474..653V', 3.73, None, u'2002yCat.2237....0D', 3.3691, 0.004, u'2018yCat.1345....0G')\n",
      "(1, 5.8, 2.9, u'2008ApJ...687.1264M', 1, u'* tau Cet', u'26.0170142608333', u'-15.9374795977778', u'HD  10700', u'GJ    71', u'WDS J01441-1556A', u'G8V', u'1989ApJS...71..245K', 273.96, 0.17, u'2007A&A...474..653V', 3.5, None, u'2002yCat.2237....0D', 3.1336, 0.0075, u'2018yCat.1345....0G')\n",
      "(2, 6.1, 3.05, u'2008ApJ...687.1264M', 2, u'* e Eri', u'49.9818788966667', u'-43.0697826375', u'HD  20794', u'GJ   139', None, u'G6V', u'1989ApJS...71..245K', 165.47, 0.19, u'2007A&A...474..653V', 4.27, None, u'2002yCat.2237....0D', 3.9814, 0.0037, u'2018yCat.1345....0G')\n",
      "(3, 6.9, 3.45, u'2008ApJ...687.1264M', 3, u'* del Pav', u'302.18170612375', u'-66.1820675763889', u'HD 190248', u'GJ   780', None, u'G8IV', u'2006AJ....132..161G', 163.71, 0.17, u'2007A&A...474..653V', 3.56, None, u'2002yCat.2237....0D', 3.2664, 0.0025, u'2018yCat.1345....0G')\n",
      "(8, 6.1, 3.05, u'2008ApJ...687.1264M', 8, u'*  61 Vir', u'199.601309481667', u'-18.3111957355556', u'HD 115617', u'GJ   506', u'WDS J13184-1819A', u'G6.5V', u'1989ApJS...71..245K', 116.89, 0.22, u'2007A&A...474..653V', 4.74, 0.009000000000000001, u'1993A&AS..100..591O', 4.4772, 0.004, u'2018yCat.1345....0G')\n",
      "(9, 2.1, 1.05, u'2008ApJ...687.1264M', 9, u'* zet Tuc', u'5.01774988041667', u'-64.8747929888889', u'HD   1581', u'GJ    17', None, u'F9.5V', u'2006AJ....132..161G', 116.46, 0.16, u'2007A&A...474..653V', 4.23, None, u'2002yCat.2237....0D', 3.9872, 0.0081, u'2018yCat.1345....0G')\n",
      "(10, 8.9, 4.45, u'2008ApJ...687.1264M', 10, u'HD 192310', u'303.822465232751', u'-27.0329759957211', u'HD 192310', u'GJ   785', None, u'K2+V', u'2006AJ....132..161G', 113.6481, 0.1186, u'2018yCat.1345....0G', 5.723, 0.009000000000000001, u'2000A&A...355L..27H', 5.4532, 0.0014, u'2018yCat.1345....0G')\n",
      "(13, 5.3, 2.65, u'2008ApJ...687.1264M', 13, u'HD 103095', u'178.244868250647', u'37.7186778007958', u'HD 103095', u'GJ   451', None, u'K1V_Fe-1.5', u'2003AJ....126.2048G', 108.9551, 0.049, u'2018yCat.1345....0G', 6.45, None, u'2002yCat.2237....0D', 6.182, 0.0003, u'2018yCat.1345....0G')\n",
      "(18, 5.5, 2.75, u'2008ApJ...687.1264M', 18, u'* alf Men', u'92.5603088308903', u'-74.7530454408681', u'HD  43834', u'GJ   231', None, u'G7V', u'2006AJ....132..161G', 97.8983, 0.0719, u'2018yCat.1345....0G', 5.09, None, None, 4.8503, 0.0022, u'2018yCat.1345....0G')\n",
      "(20, 7.1, 3.55, u'2008ApJ...687.1264M', 20, u'HD 166620', u'272.405901171196', u'38.4577766448776', u'HD 166620', u'GJ   706', None, u'K2V', u'2003AJ....126.2048G', 90.1264, 0.02, u'2018yCat.1345....0G', 6.4, None, u'2002yCat.2237....0D', 6.1126, 0.0003, u'2018yCat.1345....0G')\n",
      "(21, 7.7, 3.85, u'2008ApJ...687.1264M', 21, u'*  54 Psc', u'9.84085629751208', u'21.2504766813144', u'HD   3651', u'GJ    27', u'WDS J00394+2115A', u'K0.5V', u'1989ApJS...71..245K', 89.7891, 0.0581, u'2018yCat.1345....0G', 5.88, 0.05, u'2009ApJ...694.1085V', 5.635, 0.0008, u'2018yCat.1345....0G')\n",
      "(27, 6.5, 3.25, u'2008ApJ...687.1264M', 27, u'HD  72673', u'128.214565963134', u'-31.500850807352', u'HD  72673', u'GJ   309', None, u'K1V', u'1989ApJS...71..245K', 82.09, 0.0294, u'2018yCat.1345....0G', 6.38, None, None, 6.151, 0.0003, u'2018yCat.1345....0G')\n",
      "(30, 6.1, 3.05, u'2008ApJ...687.1264M', 30, u'HD  69830', u'124.599779038536', u'-12.6321695007144', u'HD  69830', u'GJ   302', None, u'G8:V', u'1989ApJS...71..245K', 79.5945, 0.0607, u'2018yCat.1345....0G', 5.95, None, None, 5.7393, 0.0007, u'2018yCat.1345....0G')\n",
      "(31, 5.9, 2.95, u'2008ApJ...687.1264M', 31, u'HD 104304', u'180.185254830493', u'-10.4461263954408', u'HD 104304', u'GJ   454', None, u'G8IV', u'2006AJ....132..161G', 78.7565, 0.1206, u'2018yCat.1345....0G', 5.55, None, u'2002yCat.2237....0D', 5.3289, 0.0015, u'2018yCat.1345....0G')\n",
      "(35, 5.9, 2.95, u'2008ApJ...687.1264M', 35, u'HD 158633', u'261.250409461907', u'67.3067083726557', u'HD 158633', u'GJ   675', None, u'K0', u'1985ApJS...59..197B', 78.1653, 0.0266, u'2018yCat.1345....0G', 6.43, None, None, 6.2097, 0.0002, u'2018yCat.1345....0G')\n",
      "(36, 4.3, 2.15, u'2008ApJ...687.1264M', 36, u'HD  14412', u'34.7437695599448', u'-25.945687076905', u'HD  14412', u'GJ    95', None, u'G8V', u'2006AJ....132..161G', 77.9153, 0.0602, u'2018yCat.1345....0G', 6.34, None, None, 6.1311, 0.0005, u'2018yCat.1345....0G')\n",
      "(40, 2.6, 1.3, u'2008ApJ...687.1264M', 40, u'HD 170657', u'277.829005084719', u'-18.9088146012824', u'HD 170657', u'GJ   716', None, u'K2V', u'2006AJ....132..161G', 75.9773, 0.0458, u'2018yCat.1345....0G', 6.81, None, u'2010MNRAS.403.1949K', 6.5475, 0.0004, u'2018yCat.1345....0G')\n",
      "(42, 0.6, 0.3, u'2008ApJ...687.1264M', 42, u'*  58 Eri', u'71.9012156698201', u'-16.934456090932', u'HD  30495', u'GJ   177', None, u'G2.5IV-V', u'1989ApJS...71..245K', 75.5213, 0.0795, u'2018yCat.1345....0G', 5.5, None, None, 5.292999999999999, 0.0015, u'2018yCat.1345....0G')\n",
      "(48, 8.8, 4.4, u'2008ApJ...687.1264M', 48, u'HD 145417', u'243.452326965899', u'-57.5705121968851', u'HD 145417', u'GJ   615', None, u'K3VFe-1.7', u'2006AJ....132..161G', 73.4265, 0.0374, u'2018yCat.1345....0G', 7.54, None, u'2010MNRAS.403.1949K', 7.2546, 0.0002, u'2018yCat.1345....0G')\n",
      "(49, 4.8, 2.4, u'2008ApJ...687.1264M', 49, u'HD 154577', u'257.543128990087', u'-60.728771769936', u'HD 154577', u'GJ   656', None, u'K2.5Vk:', u'2006AJ....132..161G', 72.7317, 0.0467, u'2018yCat.1345....0G', 7.41, None, None, 7.1022, 0.0002, u'2018yCat.1345....0G')\n",
      "(50, 4.4, 2.2, u'2008ApJ...687.1264M', 50, u'*  47 UMa', u'164.866557768705', u'40.4302562191439', u'HD  95128', u'GJ   407', None, u'G1-VFe-0.5', u'1989ApJS...71..245K', 72.4528, 0.1507, u'2018yCat.1345....0G', 5.04, 0.05, u'2009ApJ...694.1085V', 4.8306, 0.0028, u'2018yCat.1345....0G')\n",
      "(53, 4.2, 2.1, u'2008ApJ...687.1264M', 53, u'*  10 Tau', u'54.21727000939', u'0.399593588260556', u'HD  22484', u'GJ   147', None, u'F9IV-V', u'1989ApJS...71..245K', 71.62, 0.54, u'2007A&A...474..653V', 4.3, 0.05, u'2009ApJ...694.1085V', 4.075, 0.0003, u'2018yCat.1345....0G')\n",
      "(60, 0.2, 0.1, u'2008ApJ...687.1264M', 60, u'V* pi.01 UMa', u'129.798768027211', u'65.020907853664', u'HD  72905', u'GJ   311', None, u'G0.5V', u'2001AJ....121.2148G', 69.2004, 0.0652, u'2018yCat.1345....0G', 5.64, None, u'2002yCat.2237....0D', 5.4796, 0.0009, u'2018yCat.1345....0G')\n",
      "(63, 2.5, 1.25, u'2008ApJ...687.1264M', 63, u'HD  52698', u'105.307185415982', u'-25.948740845306', u'HD  52698', u'GJ   259', None, u'K1V', u'2006A&A...460..695T', 68.1526, 0.0746, u'2018yCat.1345....0G', 6.688, None, u'2010MNRAS.403.1949K', 6.4533, 0.0003, u'2018yCat.1345....0G')\n",
      "(64, 5.2, 2.6, u'2008ApJ...687.1264M', 64, u'HD 196761', u'310.048977640405', u'-23.7738679651309', u'HD 196761', u'GJ   796', None, u'G7.5IV-V', u'1989ApJS...71..245K', 68.1348, 0.0682, u'2018yCat.1345....0G', 6.37, None, None, 6.1636, 0.0002, u'2018yCat.1345....0G')\n",
      "(66, 3.6, 1.8, u'2008ApJ...687.1264M', 66, u'* nu.02 Lup', u'230.45062965463', u'-48.3176284677703', u'HD 136352', u'GJ   582', None, u'G3/5V', u'1978MSS...C02....0H', 68.0818, 0.0915, u'2018yCat.1345....0G', 5.65, None, u'2002yCat.2237....0D', 5.4618, 0.0011, u'2018yCat.1345....0G')\n",
      "(70, 1.4, 0.7, u'2008ApJ...687.1264M', 70, u'HD 205390', u'324.171847434287', u'-50.8453856672401', u'HD 205390', u'GJ   833', None, u'K1V', u'2006A&A...460..695T', 67.5029, 0.0299, u'2018yCat.1345....0G', 7.157, None, u'2010MNRAS.403.1949K', 6.8831, 0.0004, u'2018yCat.1345....0G')\n",
      "(72, 6.8, 3.4, u'2008ApJ...687.1264M', 72, u'HD 144628', u'242.428310100618', u'-56.4451511529935', u'HD 144628', u'GJ   613', None, u'K2V', u'1989ApJS...71..245K', 67.4096, 0.0486, u'2018yCat.1345....0G', 7.124, None, u'2010MNRAS.403.1949K', 6.8515, 0.0002, u'2018yCat.1345....0G')\n",
      "(78, 2.8, 1.4, u'2008ApJ...687.1264M', 78, u'* nu. Phe', u'18.7963441219758', u'-45.5316687864624', u'HD   7570', u'GJ    55', None, u'F9VFe+0.4', u'2006AJ....132..161G', 65.8894, 0.1803, u'2018yCat.1345....0G', 4.96, None, u'2002yCat.2237....0D', 4.7638, 0.0032, u'2018yCat.1345....0G')\n",
      "(79, 3.2, 1.6, u'2008ApJ...687.1264M', 79, u'HD  38858', u'87.1455839388217', u'-4.09464431372389', u'HD  38858', u'GJ  1085', None, u'G2V', u'2003AJ....126.2048G', 65.5534, 0.0621, u'2018yCat.1345....0G', 5.97, None, u'2002yCat.2237....0D', 5.7923, 0.0009, u'2018yCat.1345....0G')\n",
      "(81, 6.1, 3.05, u'2008ApJ...687.1264M', 81, u'*  51 Peg', u'344.366585069781', u'20.7688284001983', u'HD 217014', u'GJ   882', u'WDS J22575+2046AB', u'G2IV', u'1989ApJS...71..245K', 64.6488, 0.1232, u'2018yCat.1345....0G', 5.46, 0.05, u'2009ApJ...694.1085V', 5.256, 0.002, u'2018yCat.1345....0G')\n",
      "(83, 6.5, 3.25, u'2008ApJ...687.1264M', 83, u'* mu. Ara', u'266.036265142615', u'-51.8340530692008', u'HD 160691', u'GJ   691', None, u'G3IV-V', u'2006AJ....132..161G', 64.0817, 0.1202, u'2018yCat.1345....0G', 5.15, None, None, 4.9046, 0.002, u'2018yCat.1345....0G')\n",
      "(84, 7.3, 3.65, u'2008ApJ...687.1264M', 84, u'HD 190404', u'300.967196180637', u'23.3406851207477', u'HD 190404', u'GJ   778', None, u'K1V', u'2010MNRAS.403.1949K', 64.0307, 0.03, u'2018yCat.1345....0G', 7.27, 0.009000000000000001, u'1991A&AS...89..415O', 7.0202, 0.0002, u'2018yCat.1345....0G')\n",
      "(85, 1.6, 0.8, u'2008ApJ...687.1264M', 85, u'* tau Boo', u'206.815597502309', u'17.4569042178508', u'HD 120136', u'GJ   527', u'WDS J13473+1727AB', u'F7IV-V', u'2001AJ....121.2148G', 64.03, 0.19, u'2007A&A...474..653V', 4.49, 0.05, u'2009ApJ...694.1085V', None, None, None)\n",
      "(88, 0.4, 0.2, u'2008ApJ...687.1264M', 88, u'HD 118972', u'205.267378858606', u'-34.4641581506564', u'HD 118972', u'GJ  1175', None, u'K0V', u'2006A&A...460..695T', 63.7208, 0.0573, u'2018yCat.1345....0G', 6.92, None, u'1970MNSSA..29....7C', 6.6804, 0.0005, u'2018yCat.1345....0G')\n",
      "(90, 0.6, 0.3, u'2008ApJ...687.1264M', 90, u'V* V1386 Ori', u'91.6686582205681', u'15.5421053385108', u'HD  41593', u'GJ   227', None, u'K0V', None, 63.3684, 0.0551, u'2018yCat.1345....0G', 6.74, None, u'2010MNRAS.403.1949K', 6.5242, 0.001, u'2018yCat.1345....0G')\n",
      "(94, 1.3, 0.65, u'2008ApJ...687.1264M', 94, u'HD 135599', u'228.996528936001', u'0.7963614233157', u'HD 135599', None, None, u'K0V', u'1999MSS...C05....0H', 63.2318, 0.0407, u'2018yCat.1345....0G', 6.905, None, u'2010MNRAS.403.1949K', 6.6866, 0.0004, u'2018yCat.1345....0G')\n",
      "(95, 4.4, 2.2, u'2008ApJ...687.1264M', 95, u'* chi Her', u'238.168921405049', u'42.4515141958648', u'HD 142373', u'GJ   602', None, u'F8VFe-2Hdel-1', u'1989ApJS...71..245K', 63.1627, 0.149, u'2018yCat.1345....0G', 4.62, None, u'2002yCat.2237....0D', 4.3655, 0.0037, u'2018yCat.1345....0G')\n",
      "(96, 1.7, 0.85, u'2008ApJ...687.1264M', 96, u'* phi02 Cet', u'12.5316191217328', u'-10.6443291141835', u'HD   4813', u'GJ    37', None, u'F7V', u'2003AJ....126.2048G', 62.9723, 0.1614, u'2018yCat.1345....0G', 5.19, None, None, 4.9961, 0.002, u'2018yCat.1345....0G')\n"
     ]
    }
   ],
   "source": [
    "cmd = '''\n",
    "SELECT * FROM ages\n",
    "INNER JOIN stars_FGK_nobinaries ON ages.sid = stars_FGK_nobinaries.sid\n",
    "'''\n",
    "c.execute(cmd)\n",
    "rows = c.fetchall()\n",
    "print len(rows)\n",
    "for row in rows:\n",
    "    print row"
   ]
  },
  {
   "cell_type": "code",
   "execution_count": 52,
   "metadata": {
    "collapsed": true
   },
   "outputs": [],
   "source": [
    "connection.commit()"
   ]
  },
  {
   "cell_type": "code",
   "execution_count": 53,
   "metadata": {
    "collapsed": true
   },
   "outputs": [],
   "source": [
    "connection.close()"
   ]
  },
  {
   "cell_type": "code",
   "execution_count": null,
   "metadata": {
    "collapsed": true
   },
   "outputs": [],
   "source": []
  }
 ],
 "metadata": {
  "kernelspec": {
   "display_name": "Python 2",
   "language": "python",
   "name": "python2"
  },
  "language_info": {
   "codemirror_mode": {
    "name": "ipython",
    "version": 2
   },
   "file_extension": ".py",
   "mimetype": "text/x-python",
   "name": "python",
   "nbconvert_exporter": "python",
   "pygments_lexer": "ipython2",
   "version": "2.7.13"
  }
 },
 "nbformat": 4,
 "nbformat_minor": 2
}
