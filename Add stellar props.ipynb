{
 "cells": [
  {
   "cell_type": "code",
   "execution_count": 122,
   "metadata": {
    "collapsed": true
   },
   "outputs": [],
   "source": [
    "import pandas\n",
    "import sqlite3\n",
    "import numpy as np"
   ]
  },
  {
   "cell_type": "code",
   "execution_count": 120,
   "metadata": {
    "collapsed": true
   },
   "outputs": [],
   "source": [
    "connection = sqlite3.connect('nearby_stars.db')\n",
    "c = connection.cursor()"
   ]
  },
  {
   "cell_type": "code",
   "execution_count": 124,
   "metadata": {},
   "outputs": [],
   "source": [
    "c.execute('DROP TABLE IF EXISTS mamajek_stellarproptable')\n",
    "age_tab = pandas.read_csv('EEM_dwarf_UBVIJHK_colors_Teff.txt',delim_whitespace=True,header=21,skipfooter=524,\n",
    "                          engine='python')\n",
    "                          #dtype = {'G-V':np.float,'V-Ic':np.float})"
   ]
  },
  {
   "cell_type": "code",
   "execution_count": 117,
   "metadata": {
    "collapsed": true
   },
   "outputs": [],
   "source": [
    "pandas.read_csv?"
   ]
  },
  {
   "cell_type": "code",
   "execution_count": 125,
   "metadata": {},
   "outputs": [
    {
     "data": {
      "text/plain": [
       "[(0, 'index', 'INTEGER', 0, None, 0),\n",
       " (1, '#SpT', 'TEXT', 0, None, 0),\n",
       " (2, 'Teff', 'INTEGER', 0, None, 0),\n",
       " (3, 'logT', 'REAL', 0, None, 0),\n",
       " (4, 'logL', 'TEXT', 0, None, 0),\n",
       " (5, 'Mbol', 'TEXT', 0, None, 0),\n",
       " (6, 'BCv', 'TEXT', 0, None, 0),\n",
       " (7, 'Mv', 'TEXT', 0, None, 0),\n",
       " (8, 'B-V', 'TEXT', 0, None, 0),\n",
       " (9, 'Bt-Vt', 'TEXT', 0, None, 0),\n",
       " (10, 'G-V', 'TEXT', 0, None, 0),\n",
       " (11, 'Bp-Rp', 'TEXT', 0, None, 0),\n",
       " (12, 'G-Rp', 'TEXT', 0, None, 0),\n",
       " (13, 'M_G', 'TEXT', 0, None, 0),\n",
       " (14, 'b-y', 'TEXT', 0, None, 0),\n",
       " (15, 'U-B', 'TEXT', 0, None, 0),\n",
       " (16, 'V-Rc', 'TEXT', 0, None, 0),\n",
       " (17, 'V-Ic', 'TEXT', 0, None, 0),\n",
       " (18, 'V-Ks', 'TEXT', 0, None, 0),\n",
       " (19, 'J-H', 'TEXT', 0, None, 0),\n",
       " (20, 'H-Ks', 'TEXT', 0, None, 0),\n",
       " (21, 'Ks-W1', 'TEXT', 0, None, 0),\n",
       " (22, 'W1-W2', 'TEXT', 0, None, 0),\n",
       " (23, 'W1-W3', 'TEXT', 0, None, 0),\n",
       " (24, 'W1-W4', 'TEXT', 0, None, 0),\n",
       " (25, 'M_J', 'TEXT', 0, None, 0),\n",
       " (26, 'M_Ks', 'TEXT', 0, None, 0),\n",
       " (27, 'i-z', 'TEXT', 0, None, 0),\n",
       " (28, 'z-Y', 'TEXT', 0, None, 0),\n",
       " (29, 'R_Rsun', 'TEXT', 0, None, 0),\n",
       " (30, 'Msun', 'TEXT', 0, None, 0),\n",
       " (31, '#SpT.1', 'TEXT', 0, None, 0)]"
      ]
     },
     "execution_count": 125,
     "metadata": {},
     "output_type": "execute_result"
    }
   ],
   "source": [
    "age_tab.to_sql('mamajek_stellarproptable', connection)\n",
    "c.execute('PRAGMA table_info(mamajek_stellarproptable)')\n",
    "c.fetchall()"
   ]
  },
  {
   "cell_type": "code",
   "execution_count": 131,
   "metadata": {},
   "outputs": [
    {
     "data": {
      "text/plain": [
       "[('G-V',),\n",
       " ('G-V',),\n",
       " ('G-V',),\n",
       " ('G-V',),\n",
       " ('G-V',),\n",
       " ('G-V',),\n",
       " ('G-V',),\n",
       " ('G-V',),\n",
       " ('G-V',),\n",
       " ('G-V',),\n",
       " ('G-V',),\n",
       " ('G-V',),\n",
       " ('G-V',),\n",
       " ('G-V',),\n",
       " ('G-V',),\n",
       " ('G-V',),\n",
       " ('G-V',),\n",
       " ('G-V',),\n",
       " ('G-V',),\n",
       " ('G-V',),\n",
       " ('G-V',),\n",
       " ('G-V',),\n",
       " ('G-V',),\n",
       " ('G-V',),\n",
       " ('G-V',),\n",
       " ('G-V',),\n",
       " ('G-V',),\n",
       " ('G-V',),\n",
       " ('G-V',),\n",
       " ('G-V',),\n",
       " ('G-V',),\n",
       " ('G-V',),\n",
       " ('G-V',),\n",
       " ('G-V',),\n",
       " ('G-V',),\n",
       " ('G-V',),\n",
       " ('G-V',),\n",
       " ('G-V',),\n",
       " ('G-V',),\n",
       " ('G-V',),\n",
       " ('G-V',),\n",
       " ('G-V',),\n",
       " ('G-V',),\n",
       " ('G-V',),\n",
       " ('G-V',),\n",
       " ('G-V',),\n",
       " ('G-V',),\n",
       " ('G-V',),\n",
       " ('G-V',),\n",
       " ('G-V',)]"
      ]
     },
     "execution_count": 131,
     "metadata": {},
     "output_type": "execute_result"
    }
   ],
   "source": [
    "c.execute(\"SELECT 'G-V' FROM mamajek_stellarproptable LIMIT 50\")\n",
    "c.fetchall()"
   ]
  },
  {
   "cell_type": "code",
   "execution_count": 115,
   "metadata": {},
   "outputs": [],
   "source": [
    "connection.commit()"
   ]
  },
  {
   "cell_type": "code",
   "execution_count": 116,
   "metadata": {
    "collapsed": true
   },
   "outputs": [],
   "source": [
    "c.close()"
   ]
  },
  {
   "cell_type": "code",
   "execution_count": null,
   "metadata": {
    "collapsed": true
   },
   "outputs": [],
   "source": []
  }
 ],
 "metadata": {
  "kernelspec": {
   "display_name": "Python 3",
   "language": "python",
   "name": "python3"
  },
  "language_info": {
   "codemirror_mode": {
    "name": "ipython",
    "version": 3
   },
   "file_extension": ".py",
   "mimetype": "text/x-python",
   "name": "python",
   "nbconvert_exporter": "python",
   "pygments_lexer": "ipython3",
   "version": "3.6.2"
  }
 },
 "nbformat": 4,
 "nbformat_minor": 2
}
