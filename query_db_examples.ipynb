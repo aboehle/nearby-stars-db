{
 "cells": [
  {
   "cell_type": "code",
   "execution_count": 1,
   "metadata": {
    "collapsed": true
   },
   "outputs": [],
   "source": [
    "import sqlite3"
   ]
  },
  {
   "cell_type": "code",
   "execution_count": 2,
   "metadata": {
    "collapsed": true
   },
   "outputs": [],
   "source": [
    "connection = sqlite3.connect('nearby_stars.db')"
   ]
  },
  {
   "cell_type": "code",
   "execution_count": 3,
   "metadata": {
    "collapsed": true
   },
   "outputs": [],
   "source": [
    "c = connection.cursor()"
   ]
  },
  {
   "cell_type": "markdown",
   "metadata": {},
   "source": [
    "## Get table information"
   ]
  },
  {
   "cell_type": "code",
   "execution_count": 4,
   "metadata": {},
   "outputs": [
    {
     "data": {
      "text/plain": [
       "[(0, u'id', u'INTEGER', 0, None, 1),\n",
       " (1, u'main_id', u'TEXT', 0, None, 0),\n",
       " (2, u'hd', u'TEXT', 0, None, 0),\n",
       " (3, u'gj', u'TEXT', 0, None, 0),\n",
       " (4, u'wds', u'TEXT', 0, None, 0),\n",
       " (5, u'ra', u'TEXT', 0, None, 0),\n",
       " (6, u'dec', u'TEXT', 0, None, 0),\n",
       " (7, u'plx', u'REAL', 0, None, 0),\n",
       " (8, u'plx_err', u'REAL', 0, None, 0),\n",
       " (9, u'sptype', u'TEXT', 0, None, 0),\n",
       " (10, u'V_mag', u'REAL', 0, None, 0),\n",
       " (11, u'V_mag_err', u'REAL', 0, None, 0),\n",
       " (12, u'G_mag', u'REAL', 0, None, 0),\n",
       " (13, u'G_mag_err', u'REAL', 0, None, 0)]"
      ]
     },
     "execution_count": 4,
     "metadata": {},
     "output_type": "execute_result"
    }
   ],
   "source": [
    "c.execute('PRAGMA table_info(stars_simbad);')\n",
    "c.fetchall()"
   ]
  },
  {
   "cell_type": "markdown",
   "metadata": {},
   "source": [
    "\"PRAGMA schema.table_info(table-name);\n",
    "\n",
    "This pragma returns one row for each column in the named table. Columns in the result set include the column name, data type, whether or not the column can be NULL, and the default value for the column. The \"pk\" column in the result set is zero for columns that are not part of the primary key, and is the index of the column in the primary key for columns that are part of the primary key.\"\n",
    "\n",
    "From: https://www.sqlite.org/pragma.html"
   ]
  },
  {
   "cell_type": "markdown",
   "metadata": {},
   "source": [
    "## Example SQL queries on the nearby_stars database"
   ]
  },
  {
   "cell_type": "markdown",
   "metadata": {},
   "source": [
    "The full stars_simbad table."
   ]
  },
  {
   "cell_type": "code",
   "execution_count": 32,
   "metadata": {},
   "outputs": [
    {
     "name": "stdout",
     "output_type": "stream",
     "text": [
      "452\n",
      "\n",
      "(1, u'*  61 Cyg B', u'HD 201092', u'GJ 820 B', u'WDS J21069+3845B', u'21 06 55.2640', u'+38 44 31.362', 286.1457, 0.059, u'K7V', 6.03000020981, None, 5.4236998558, 0.00150000001304)\n",
      "(2, u'*  61 Cyg A', u'HD 201091', u'GJ 820 A', u'WDS J21069+3845A', u'21 06 53.9396', u'+38 44 57.897', 285.9459, 0.1008, u'K5V', 5.21000003815, None, 4.71649980545, 0.00260000000708)\n",
      "(3, u'BD+40  4631', None, u'GJ 836.8', None, u'21 44 29.9616', u'+41 35 50.862', 50.4206, 0.0281, u'K8V', 9.67399978638, 0.019999999553, 9.03890037537, 0.000399999989895)\n",
      "(4, u'BD+45  4378', None, u'GJ 913', None, u'23 58 43.4881', u'+46 43 44.737', 58.4067, 0.8984, u'K7V', 9.61999988556, None, 8.87279987335, 0.000500000023749)\n",
      "(5, u'HD 200560', u'HD 200560', u'GJ 9717 A', u'WDS J21028+4551CD', u'21 02 40.7539', u'+45 53 05.165', 51.3456, 0.0324, u'K2.5V', 7.67999982834, None, 7.4156999588, 0.000300000014249)\n",
      "(6, u'HD 219134', u'HD 219134', u'GJ 892', u'WDS J23133+5710A', u'23 13 16.9747', u'+57 10 06.076', 153.0808, 0.0895, u'K3V', 5.57000017166, 0.00899999961257, 5.2079000473, 0.00159999995958)\n",
      "(7, u'* eta Cas B', u'HD 4614B', u'GJ 34 B', u'WDS J00491+5749B', u'00 49 05.1920', u'+57 49 04.170', 168.7521, 0.0377, u'K7Ve', 7.51000022888, None, 6.75470018387, 0.000399999989895)\n",
      "(8, u'* tet Per', u'HD 16895', u'GJ 107 A', u'WDS J02442+4914A', u'02 44 11.9870', u'+49 13 42.411', 89.87, 0.22, u'F8V', 4.11000013351, 0.0500000007451, 3.89170002937, 0.00400000018999)\n",
      "(9, u'HD 221354', u'HD 221354', u'GJ 895.4', None, u'23 31 22.2087', u'+59 09 55.866', 59.2528, 0.031, u'K0V', 6.73999977112, None, 6.52139997482, 0.000199999994948)\n",
      "(10, u'* bet Cas', u'HD 432', u'GJ 8', u'WDS J00092+5909A', u'00 09 10.6851', u'+59 08 59.212', 59.58, 0.38, u'F2III', 2.26999998093, None, None, None)\n"
     ]
    },
    {
     "data": {
      "text/plain": [
       "(('id', None, None, None, None, None, None),\n",
       " ('main_id', None, None, None, None, None, None),\n",
       " ('hd', None, None, None, None, None, None),\n",
       " ('gj', None, None, None, None, None, None),\n",
       " ('wds', None, None, None, None, None, None),\n",
       " ('ra', None, None, None, None, None, None),\n",
       " ('dec', None, None, None, None, None, None),\n",
       " ('plx', None, None, None, None, None, None),\n",
       " ('plx_err', None, None, None, None, None, None),\n",
       " ('sptype', None, None, None, None, None, None),\n",
       " ('V_mag', None, None, None, None, None, None),\n",
       " ('V_mag_err', None, None, None, None, None, None),\n",
       " ('G_mag', None, None, None, None, None, None),\n",
       " ('G_mag_err', None, None, None, None, None, None))"
      ]
     },
     "execution_count": 32,
     "metadata": {},
     "output_type": "execute_result"
    }
   ],
   "source": [
    "c.execute('SELECT * FROM stars_simbad')\n",
    "rows = c.fetchall()\n",
    "print len(rows)\n",
    "print\n",
    "for row in rows[0:10]:\n",
    "    print row\n",
    "    \n",
    "c.description"
   ]
  },
  {
   "cell_type": "markdown",
   "metadata": {},
   "source": [
    "Stars in the WDS."
   ]
  },
  {
   "cell_type": "code",
   "execution_count": 21,
   "metadata": {},
   "outputs": [
    {
     "name": "stdout",
     "output_type": "stream",
     "text": [
      "221\n",
      "\n",
      "(u'*  61 Cyg B', u'HD 201092', u'GJ 820 B', u'WDS J21069+3845B')\n",
      "(u'*  61 Cyg A', u'HD 201091', u'GJ 820 A', u'WDS J21069+3845A')\n",
      "(u'HD 200560', u'HD 200560', u'GJ 9717 A', u'WDS J21028+4551CD')\n",
      "(u'HD 219134', u'HD 219134', u'GJ 892', u'WDS J23133+5710A')\n",
      "(u'* eta Cas B', u'HD 4614B', u'GJ 34 B', u'WDS J00491+5749B')\n",
      "(u'* tet Per', u'HD 16895', u'GJ 107 A', u'WDS J02442+4914A')\n",
      "(u'* bet Cas', u'HD 432', u'GJ 8', u'WDS J00092+5909A')\n",
      "(u'* iot Per', u'HD 19373', u'GJ 124', u'WDS J03091+4937A')\n",
      "(u'HD  10780', u'HD 10780', u'GJ 75', u'WDS J01477+6351A')\n",
      "(u'* tet Cyg', u'HD 185395', u'GJ 765 A', u'WDS J19364+5013AB')\n"
     ]
    }
   ],
   "source": [
    "cmd = '''\n",
    "SELECT main_id,hd,gj,wds FROM stars_simbad\n",
    "WHERE wds NOT NULL\n",
    "'''\n",
    "\n",
    "c.execute(cmd)\n",
    "rows = c.fetchall()\n",
    "print len(rows)\n",
    "print\n",
    "for row in rows[0:10]:\n",
    "    print row"
   ]
  },
  {
   "cell_type": "markdown",
   "metadata": {},
   "source": [
    "Stars for which GJ/HD do not end in A/B/C but do have an entry in WDS."
   ]
  },
  {
   "cell_type": "code",
   "execution_count": 6,
   "metadata": {},
   "outputs": [
    {
     "name": "stdout",
     "output_type": "stream",
     "text": [
      "242\n",
      "\n",
      "(u'* eps Eri', u'HD 22049', u'GJ 144.0', u'WDS J03329-0927A')\n",
      "(u'* tau Cet', u'HD 10700', u'GJ 71.0', u'WDS J01441-1556A')\n",
      "(u'HD  88230', u'HD 88230', u'GJ 380', u'WDS J10114+4927A')\n",
      "(u'*  70 Oph', u'HD 165341', u'GJ 702', u'WDS J18055+0230AB')\n",
      "(u'V* V2215 Oph', u'HD 156026', u'GJ 664', None)\n",
      "(u'* e Eri', u'HD 20794', u'GJ 139', None)\n",
      "(u'* del Pav', u'HD 190248', u'GJ 780', None)\n",
      "(u'HD 219134', u'HD 219134', u'GJ 892', u'WDS J23133+5710A')\n",
      "(u'* ksi Boo', u'HD 131156', u'GJ 566', u'WDS J14514+1906AB')\n",
      "(u'HD   4628', u'HD 4628', u'GJ 33', u'WDS J00484+0517A')\n"
     ]
    }
   ],
   "source": [
    "cmd = '''\n",
    "SELECT main_id,hd,gj,wds FROM stars_simbad\n",
    "WHERE (main_id NOT LIKE '%A' AND main_id NOT LIKE '%B' AND main_id NOT LIKE '%C' AND main_id NOT LIKE '%D') AND \n",
    "  (hd NOT LIKE '%A' AND hd NOT LIKE '%B' AND hd NOT LIKE '%C' AND hd NOT LIKE '%D') AND\n",
    "  (gj NOT LIKE '%A' AND gj NOT LIKE '%B' AND hd NOT LIKE '%C' AND hd NOT LIKE '%D')\n",
    "ORDER BY plx DESC\n",
    "'''\n",
    "\n",
    "c.execute(cmd)\n",
    "rows = c.fetchall()\n",
    "print len(rows)\n",
    "print\n",
    "for row in rows[0:10]:\n",
    "    print row"
   ]
  },
  {
   "cell_type": "markdown",
   "metadata": {},
   "source": [
    "## Close connection when finished"
   ]
  },
  {
   "cell_type": "code",
   "execution_count": 23,
   "metadata": {},
   "outputs": [
    {
     "data": {
      "text/plain": [
       "<function close>"
      ]
     },
     "execution_count": 23,
     "metadata": {},
     "output_type": "execute_result"
    }
   ],
   "source": [
    "connection.close"
   ]
  },
  {
   "cell_type": "code",
   "execution_count": null,
   "metadata": {
    "collapsed": true
   },
   "outputs": [],
   "source": []
  }
 ],
 "metadata": {
  "kernelspec": {
   "display_name": "Python 2",
   "language": "python",
   "name": "python2"
  },
  "language_info": {
   "codemirror_mode": {
    "name": "ipython",
    "version": 2
   },
   "file_extension": ".py",
   "mimetype": "text/x-python",
   "name": "python",
   "nbconvert_exporter": "python",
   "pygments_lexer": "ipython2",
   "version": "2.7.13"
  }
 },
 "nbformat": 4,
 "nbformat_minor": 2
}
