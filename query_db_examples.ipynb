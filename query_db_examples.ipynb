{
 "cells": [
  {
   "cell_type": "code",
   "execution_count": 1,
   "metadata": {
    "collapsed": true
   },
   "outputs": [],
   "source": [
    "import sqlite3"
   ]
  },
  {
   "cell_type": "code",
   "execution_count": 2,
   "metadata": {
    "collapsed": true
   },
   "outputs": [],
   "source": [
    "connection = sqlite3.connect('nearby_stars.db')"
   ]
  },
  {
   "cell_type": "code",
   "execution_count": 3,
   "metadata": {
    "collapsed": true
   },
   "outputs": [],
   "source": [
    "c = connection.cursor()"
   ]
  },
  {
   "cell_type": "markdown",
   "metadata": {},
   "source": [
    "## Get table information"
   ]
  },
  {
   "cell_type": "code",
   "execution_count": 13,
   "metadata": {},
   "outputs": [
    {
     "data": {
      "text/plain": [
       "[(0, u'id', u'INTEGER', 0, None, 1),\n",
       " (1, u'main_id', u'TEXT', 0, None, 0),\n",
       " (2, u'hd', u'TEXT', 0, None, 0),\n",
       " (3, u'gj', u'TEXT', 0, None, 0),\n",
       " (4, u'wds', u'TEXT', 0, None, 0),\n",
       " (5, u'ra', u'TEXT', 0, None, 0),\n",
       " (6, u'dec', u'TEXT', 0, None, 0),\n",
       " (7, u'plx', u'REAL', 0, None, 0),\n",
       " (8, u'plx_err', u'REAL', 0, None, 0),\n",
       " (9, u'sptype', u'TEXT', 0, None, 0),\n",
       " (10, u'V_mag', u'REAL', 0, None, 0),\n",
       " (11, u'V_mag_err', u'REAL', 0, None, 0),\n",
       " (12, u'G_mag', u'REAL', 0, None, 0),\n",
       " (13, u'G_mag_err', u'REAL', 0, None, 0)]"
      ]
     },
     "execution_count": 13,
     "metadata": {},
     "output_type": "execute_result"
    }
   ],
   "source": [
    "c.execute('PRAGMA table_info(stars_simbad);')\n",
    "c.fetchall()"
   ]
  },
  {
   "cell_type": "markdown",
   "metadata": {},
   "source": [
    "\"PRAGMA schema.table_info(table-name);\n",
    "\n",
    "This pragma returns one row for each column in the named table. Columns in the result set include the column name, data type, whether or not the column can be NULL, and the default value for the column. The \"pk\" column in the result set is zero for columns that are not part of the primary key, and is the index of the column in the primary key for columns that are part of the primary key.\"\n",
    "\n",
    "From: https://www.sqlite.org/pragma.html"
   ]
  },
  {
   "cell_type": "code",
   "execution_count": 4,
   "metadata": {},
   "outputs": [
    {
     "data": {
      "text/plain": [
       "[(0, u'sid', u'INTEGER', 0, None, 1),\n",
       " (1, u'main_id', u'TEXT', 0, None, 0),\n",
       " (2, u'ra', u'REAL', 0, None, 0),\n",
       " (3, u'dec', u'REAL', 0, None, 0),\n",
       " (4, u'hd', u'TEXT', 0, None, 0),\n",
       " (5, u'gj', u'TEXT', 0, None, 0),\n",
       " (6, u'hip', u'TEXT', 0, None, 0),\n",
       " (7, u'wds', u'TEXT', 0, None, 0),\n",
       " (8, u'sp_type', u'TEXT', 0, None, 0),\n",
       " (9, u'sp_bibcode', u'TEXT', 0, None, 0),\n",
       " (10, u'plx_value', u'REAL', 0, None, 0),\n",
       " (11, u'plx_err', u'REAL', 0, None, 0),\n",
       " (12, u'plx_bibcode', u'TEXT', 0, None, 0),\n",
       " (13, u'v', u'REAL', 0, None, 0),\n",
       " (14, u'v_err', u'REAL', 0, None, 0),\n",
       " (15, u'v_bibcode', u'TEXT', 0, None, 0),\n",
       " (16, u'G', u'REAL', 0, None, 0),\n",
       " (17, u'G_err', u'REAL', 0, None, 0),\n",
       " (18, u'G_bibcode', u'TEXT', 0, None, 0),\n",
       " (19, u'r', u'REAL', 0, None, 0),\n",
       " (20, u'r_err', u'REAL', 0, None, 0),\n",
       " (21, u'r_bibcode', u'TEXT', 0, None, 0),\n",
       " (22, u'I', u'REAL', 0, None, 0),\n",
       " (23, u'I_err', u'REAL', 0, None, 0),\n",
       " (24, u'I_bibcode', u'TEXT', 0, None, 0),\n",
       " (25, u'J', u'REAL', 0, None, 0),\n",
       " (26, u'J_err', u'REAL', 0, None, 0),\n",
       " (27, u'J_bibcode', u'TEXT', 0, None, 0)]"
      ]
     },
     "execution_count": 4,
     "metadata": {},
     "output_type": "execute_result"
    }
   ],
   "source": [
    "c.execute('PRAGMA table_info(stars_FGK_nobinaries);')\n",
    "c.fetchall()"
   ]
  },
  {
   "cell_type": "code",
   "execution_count": 5,
   "metadata": {},
   "outputs": [
    {
     "data": {
      "text/plain": [
       "[(0, u'ageid', u'INTEGER', 0, None, 1),\n",
       " (1, u'age', u'REAL', 0, None, 0),\n",
       " (2, u'age_lo', u'REAL', 0, None, 0),\n",
       " (3, u'age_hi', u'REAL', 0, None, 0),\n",
       " (4, u'bibcode', u'TEXT', 0, None, 0),\n",
       " (5, u'sid', u'INTEGER', 0, None, 0)]"
      ]
     },
     "execution_count": 5,
     "metadata": {},
     "output_type": "execute_result"
    }
   ],
   "source": [
    "c.execute('PRAGMA table_info(ages);')\n",
    "c.fetchall()"
   ]
  },
  {
   "cell_type": "markdown",
   "metadata": {},
   "source": [
    "## Example SQL queries on the nearby_stars database"
   ]
  },
  {
   "cell_type": "markdown",
   "metadata": {},
   "source": [
    "The full stars_simbad table."
   ]
  },
  {
   "cell_type": "code",
   "execution_count": 37,
   "metadata": {},
   "outputs": [
    {
     "name": "stdout",
     "output_type": "stream",
     "text": [
      "\n",
      "(93,)\n"
     ]
    },
    {
     "data": {
      "text/plain": [
       "(('COUNT(*)', None, None, None, None, None, None),)"
      ]
     },
     "execution_count": 37,
     "metadata": {},
     "output_type": "execute_result"
    }
   ],
   "source": [
    "c.execute(\"SELECT COUNT(*) FROM stars_FGK_nobinaries WHERE sp_type LIKE 'K%' AND J > 6\")\n",
    "rows = c.fetchall()\n",
    "#print len(rows)\n",
    "print\n",
    "for row in rows:\n",
    "    print row\n",
    "    \n",
    "c.description"
   ]
  },
  {
   "cell_type": "markdown",
   "metadata": {},
   "source": [
    "Stars in the WDS."
   ]
  },
  {
   "cell_type": "code",
   "execution_count": 15,
   "metadata": {},
   "outputs": [
    {
     "name": "stdout",
     "output_type": "stream",
     "text": [
      "221\n",
      "\n",
      "(u'*  61 Cyg B', u'HD 201092', u'GJ 820 B', u'WDS J21069+3845B')\n",
      "(u'*  61 Cyg A', u'HD 201091', u'GJ 820 A', u'WDS J21069+3845A')\n",
      "(u'HD 200560', u'HD 200560', u'GJ 9717 A', u'WDS J21028+4551CD')\n",
      "(u'HD 219134', u'HD 219134', u'GJ 892', u'WDS J23133+5710A')\n",
      "(u'* eta Cas B', u'HD 4614B', u'GJ 34 B', u'WDS J00491+5749B')\n",
      "(u'* tet Per', u'HD 16895', u'GJ 107 A', u'WDS J02442+4914A')\n",
      "(u'* bet Cas', u'HD 432', u'GJ 8', u'WDS J00092+5909A')\n",
      "(u'* iot Per', u'HD 19373', u'GJ 124', u'WDS J03091+4937A')\n",
      "(u'HD  10780', u'HD 10780', u'GJ 75', u'WDS J01477+6351A')\n",
      "(u'* tet Cyg', u'HD 185395', u'GJ 765 A', u'WDS J19364+5013AB')\n"
     ]
    }
   ],
   "source": [
    "cmd = '''\n",
    "SELECT main_id,hd,gj,wds \n",
    "FROM stars_simbad\n",
    "WHERE wds NOT NULL\n",
    "'''\n",
    "\n",
    "c.execute(cmd)\n",
    "rows = c.fetchall()\n",
    "print len(rows)\n",
    "print\n",
    "for row in rows[0:10]:\n",
    "    print row"
   ]
  },
  {
   "cell_type": "markdown",
   "metadata": {},
   "source": [
    "Stars for which GJ/HD do not end in A/B/C but do have an entry in WDS."
   ]
  },
  {
   "cell_type": "code",
   "execution_count": 16,
   "metadata": {},
   "outputs": [
    {
     "name": "stdout",
     "output_type": "stream",
     "text": [
      "242\n",
      "\n",
      "(u'* eps Eri', u'HD 22049', u'GJ 144.0', u'WDS J03329-0927A')\n",
      "(u'* tau Cet', u'HD 10700', u'GJ 71.0', u'WDS J01441-1556A')\n",
      "(u'HD  88230', u'HD 88230', u'GJ 380', u'WDS J10114+4927A')\n",
      "(u'*  70 Oph', u'HD 165341', u'GJ 702', u'WDS J18055+0230AB')\n",
      "(u'V* V2215 Oph', u'HD 156026', u'GJ 664', None)\n",
      "(u'* e Eri', u'HD 20794', u'GJ 139', None)\n",
      "(u'* del Pav', u'HD 190248', u'GJ 780', None)\n",
      "(u'HD 219134', u'HD 219134', u'GJ 892', u'WDS J23133+5710A')\n",
      "(u'* ksi Boo', u'HD 131156', u'GJ 566', u'WDS J14514+1906AB')\n",
      "(u'HD   4628', u'HD 4628', u'GJ 33', u'WDS J00484+0517A')\n"
     ]
    }
   ],
   "source": [
    "cmd = '''\n",
    "SELECT main_id,hd,gj,wds FROM stars_simbad\n",
    "WHERE (main_id NOT LIKE '%A' AND main_id NOT LIKE '%B' AND main_id NOT LIKE '%C' AND main_id NOT LIKE '%D') AND \n",
    "  (hd NOT LIKE '%A' AND hd NOT LIKE '%B' AND hd NOT LIKE '%C' AND hd NOT LIKE '%D') AND\n",
    "  (gj NOT LIKE '%A' AND gj NOT LIKE '%B' AND hd NOT LIKE '%C' AND hd NOT LIKE '%D')\n",
    "ORDER BY plx DESC\n",
    "'''\n",
    "\n",
    "c.execute(cmd)\n",
    "rows = c.fetchall()\n",
    "print len(rows)\n",
    "print\n",
    "for row in rows[0:10]:\n",
    "    print row"
   ]
  },
  {
   "cell_type": "markdown",
   "metadata": {},
   "source": [
    "## Close connection when finished"
   ]
  },
  {
   "cell_type": "code",
   "execution_count": 18,
   "metadata": {
    "collapsed": true
   },
   "outputs": [],
   "source": [
    "connection.close()"
   ]
  },
  {
   "cell_type": "code",
   "execution_count": null,
   "metadata": {
    "collapsed": true
   },
   "outputs": [],
   "source": []
  }
 ],
 "metadata": {
  "kernelspec": {
   "display_name": "Python 2",
   "language": "python",
   "name": "python2"
  },
  "language_info": {
   "codemirror_mode": {
    "name": "ipython",
    "version": 2
   },
   "file_extension": ".py",
   "mimetype": "text/x-python",
   "name": "python",
   "nbconvert_exporter": "python",
   "pygments_lexer": "ipython2",
   "version": "2.7.13"
  }
 },
 "nbformat": 4,
 "nbformat_minor": 2
}
