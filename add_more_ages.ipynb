{
 "cells": [
  {
   "cell_type": "code",
   "execution_count": 2,
   "metadata": {
    "collapsed": true
   },
   "outputs": [],
   "source": [
    "import pandas\n",
    "import sqlite3\n",
    "import numpy as np\n",
    "import matplotlib.pyplot as plt"
   ]
  },
  {
   "cell_type": "code",
   "execution_count": 3,
   "metadata": {
    "collapsed": true
   },
   "outputs": [],
   "source": [
    "connection = sqlite3.connect('nearby_stars.db')\n",
    "c = connection.cursor()"
   ]
  },
  {
   "cell_type": "markdown",
   "metadata": {},
   "source": [
    "## Create power function"
   ]
  },
  {
   "cell_type": "code",
   "execution_count": 4,
   "metadata": {
    "collapsed": true
   },
   "outputs": [],
   "source": [
    "def power(base, exponent):\n",
    "    return base**exponent\n",
    "connection.create_function(\"power\", 2, power)"
   ]
  },
  {
   "cell_type": "markdown",
   "metadata": {},
   "source": [
    "## Add full age tables to database"
   ]
  },
  {
   "cell_type": "code",
   "execution_count": 3,
   "metadata": {
    "collapsed": true
   },
   "outputs": [],
   "source": [
    "age_tab = pandas.read_csv('gaspar13_agetable.csv')\n",
    "age_tab.to_sql('gaspar13_agetable', connection)"
   ]
  },
  {
   "cell_type": "code",
   "execution_count": 15,
   "metadata": {
    "collapsed": true
   },
   "outputs": [],
   "source": [
    "age_tab = pandas.read_csv('ramirez13_agetable.csv')\n",
    "age_tab.to_sql('ramirez13_agetable', connection)"
   ]
  },
  {
   "cell_type": "code",
   "execution_count": 88,
   "metadata": {
    "collapsed": true
   },
   "outputs": [],
   "source": [
    "age_tab = pandas.read_csv('ramirez12_agetable.csv')\n",
    "age_tab.to_sql('ramirez12_agetable', connection)"
   ]
  },
  {
   "cell_type": "code",
   "execution_count": 22,
   "metadata": {
    "collapsed": true
   },
   "outputs": [],
   "source": [
    "age_tab = pandas.read_csv('isaacson10_agetable.csv')\n",
    "age_tab.to_sql('isaacson10_agetable', connection)"
   ]
  },
  {
   "cell_type": "code",
   "execution_count": 61,
   "metadata": {
    "collapsed": true
   },
   "outputs": [],
   "source": [
    "for t in ['tsantaki13_agetable','casagrande11_agetable','chen01_agetable','david15_agetable','yee17_agetable']:\n",
    "    age_tab = pandas.read_csv('{:s}.csv'.format(t))\n",
    "    age_tab.to_sql(t, connection)"
   ]
  },
  {
   "cell_type": "code",
   "execution_count": 4,
   "metadata": {
    "collapsed": true
   },
   "outputs": [],
   "source": [
    "age_tab = pandas.read_csv('luck17_agetable.csv')\n",
    "age_tab.to_sql('luck17_agetable', connection)"
   ]
  },
  {
   "cell_type": "code",
   "execution_count": 107,
   "metadata": {
    "collapsed": true
   },
   "outputs": [],
   "source": [
    "age_tab = pandas.read_csv('riedel14_agetable.csv')\n",
    "age_tab.to_sql('riedel14_agetable', connection)"
   ]
  },
  {
   "cell_type": "code",
   "execution_count": 151,
   "metadata": {
    "collapsed": true
   },
   "outputs": [],
   "source": [
    "#age_tab = pandas.read_csv('brandt14_agetable.csv')\n",
    "#age_tab.to_sql('brandt14_agetable', connection)"
   ]
  },
  {
   "cell_type": "code",
   "execution_count": 152,
   "metadata": {
    "collapsed": true
   },
   "outputs": [],
   "source": [
    "age_tab = pandas.read_csv('miles17_agetable.csv')\n",
    "age_tab.to_sql('miles17_agetable', connection)"
   ]
  },
  {
   "cell_type": "code",
   "execution_count": 5,
   "metadata": {
    "collapsed": true
   },
   "outputs": [],
   "source": [
    "age_tab = pandas.read_csv('bryden09_agetable.csv')\n",
    "age_tab.to_sql('bryden09_agetable', connection)"
   ]
  },
  {
   "cell_type": "code",
   "execution_count": 4,
   "metadata": {},
   "outputs": [
    {
     "data": {
      "text/plain": [
       "[(0, u'index', u'INTEGER', 0, None, 0),\n",
       " (1, u'recno', u'INTEGER', 0, None, 0),\n",
       " (2, u'S', u'TEXT', 0, None, 0),\n",
       " (3, u'Name', u'TEXT', 0, None, 0),\n",
       " (4, u'n_Name', u'TEXT', 0, None, 0),\n",
       " (5, u'SpT', u'TEXT', 0, None, 0),\n",
       " (6, u'Age', u'REAL', 0, None, 0),\n",
       " (7, u'q_Age', u'REAL', 0, None, 0),\n",
       " (8, u'r_Age', u'TEXT', 0, None, 0),\n",
       " (9, u'P24', u'INTEGER', 0, None, 0),\n",
       " (10, u'P70', u'REAL', 0, None, 0),\n",
       " (11, u'P100', u'REAL', 0, None, 0),\n",
       " (12, u'F24', u'REAL', 0, None, 0),\n",
       " (13, u'e_F24', u'REAL', 0, None, 0),\n",
       " (14, u'R24', u'REAL', 0, None, 0),\n",
       " (15, u'F70', u'REAL', 0, None, 0),\n",
       " (16, u'e_F70', u'REAL', 0, None, 0),\n",
       " (17, u'chi70', u'REAL', 0, None, 0),\n",
       " (18, u'F100', u'REAL', 0, None, 0),\n",
       " (19, u'f_F100', u'TEXT', 0, None, 0),\n",
       " (20, u'e_F100', u'REAL', 0, None, 0),\n",
       " (21, u'chi100', u'REAL', 0, None, 0),\n",
       " (22, u'FIR?', u'TEXT', 0, None, 0),\n",
       " (23, u'DD', u'INTEGER', 0, None, 0),\n",
       " (24, u'_RA', u'REAL', 0, None, 0),\n",
       " (25, u'_DE', u'REAL', 0, None, 0)]"
      ]
     },
     "execution_count": 4,
     "metadata": {},
     "output_type": "execute_result"
    }
   ],
   "source": [
    "c.execute('PRAGMA table_info(gaspar13_agetable);')\n",
    "c.fetchall()"
   ]
  },
  {
   "cell_type": "code",
   "execution_count": 16,
   "metadata": {},
   "outputs": [
    {
     "data": {
      "text/plain": [
       "[(0, u'index', u'INTEGER', 0, None, 0),\n",
       " (1, u'Name', u'TEXT', 0, None, 0),\n",
       " (2, u'Plx', u'REAL', 0, None, 0),\n",
       " (3, u'Age', u'REAL', 0, None, 0),\n",
       " (4, u'Age_lo1sig', u'REAL', 0, None, 0),\n",
       " (5, u'Age_hi1sig', u'REAL', 0, None, 0),\n",
       " (6, u'Age_lo2sig', u'REAL', 0, None, 0),\n",
       " (7, u'Age_hi2sig', u'REAL', 0, None, 0)]"
      ]
     },
     "execution_count": 16,
     "metadata": {},
     "output_type": "execute_result"
    }
   ],
   "source": [
    "c.execute('PRAGMA table_info(ramirez13_agetable);')\n",
    "c.fetchall()"
   ]
  },
  {
   "cell_type": "code",
   "execution_count": 89,
   "metadata": {},
   "outputs": [
    {
     "data": {
      "text/plain": [
       "[(0, u'index', u'INTEGER', 0, None, 0),\n",
       " (1, u'HIP', u'INTEGER', 0, None, 0),\n",
       " (2, u'Age', u'REAL', 0, None, 0),\n",
       " (3, u'Age_lolim', u'REAL', 0, None, 0),\n",
       " (4, u'Age_hilim', u'REAL', 0, None, 0)]"
      ]
     },
     "execution_count": 89,
     "metadata": {},
     "output_type": "execute_result"
    }
   ],
   "source": [
    "c.execute('PRAGMA table_info(ramirez12_agetable);')\n",
    "c.fetchall()"
   ]
  },
  {
   "cell_type": "code",
   "execution_count": 23,
   "metadata": {},
   "outputs": [
    {
     "data": {
      "text/plain": [
       "[(0, u'index', u'INTEGER', 0, None, 0),\n",
       " (1, u'recno', u'INTEGER', 0, None, 0),\n",
       " (2, u'Name', u'TEXT', 0, None, 0),\n",
       " (3, u'HIP', u'REAL', 0, None, 0),\n",
       " (4, u'B-V', u'REAL', 0, None, 0),\n",
       " (5, u'SHK', u'REAL', 0, None, 0),\n",
       " (6, u'Jitter', u'REAL', 0, None, 0),\n",
       " (7, u'logRHK', u'REAL', 0, None, 0),\n",
       " (8, u'dMag', u'REAL', 0, None, 0),\n",
       " (9, u'Prot', u'REAL', 0, None, 0),\n",
       " (10, u'Age', u'REAL', 0, None, 0),\n",
       " (11, u'Obs', u'TEXT', 0, None, 0),\n",
       " (12, u'SimbadName', u'TEXT', 0, None, 0),\n",
       " (13, u'_RA', u'REAL', 0, None, 0),\n",
       " (14, u'_DE', u'REAL', 0, None, 0)]"
      ]
     },
     "execution_count": 23,
     "metadata": {},
     "output_type": "execute_result"
    }
   ],
   "source": [
    "c.execute('PRAGMA table_info(isaacson10_agetable);')\n",
    "c.fetchall()"
   ]
  },
  {
   "cell_type": "markdown",
   "metadata": {},
   "source": [
    "## Create subquery connecting star in Gaspar+2013 table to star in main simbad_FGK_nobinaries table"
   ]
  },
  {
   "cell_type": "code",
   "execution_count": 8,
   "metadata": {},
   "outputs": [
    {
     "name": "stdout",
     "output_type": "stream",
     "text": [
      "227\n",
      "(u'22049',)\n",
      "(u'10700',)\n",
      "(u'20794',)\n",
      "(u'190248',)\n",
      "(u'219134',)\n",
      "(u'2151',)\n",
      "(u'157881',)\n",
      "(u'217357',)\n",
      "(u'115617',)\n",
      "(u'1581',)\n",
      "(u'192310',)\n",
      "(u'32147',)\n",
      "(u'23249',)\n",
      "(u'103095',)\n",
      "(u'203608',)\n",
      "(u'151288',)\n",
      "(u'122064',)\n",
      "(u'103932',)\n",
      "(u'43834',)\n",
      "(None,)\n",
      "(u'166620',)\n",
      "(u'3651',)\n",
      "(u'74576',)\n",
      "(u'85512',)\n",
      "(u'245409',)\n",
      "(u'222237',)\n",
      "(u'125072',)\n",
      "(u'72673',)\n",
      "(u'196877',)\n",
      "(u'21531',)\n",
      "(u'69830',)\n",
      "(u'104304',)\n",
      "(u'190007',)\n",
      "(u'101581',)\n",
      "(u'82106',)\n",
      "(u'158633',)\n",
      "(u'14412',)\n",
      "(u'40307',)\n",
      "(u'27274',)\n",
      "(u'211970',)\n",
      "(u'170657',)\n",
      "(u'29697',)\n",
      "(u'30495',)\n",
      "(u'128165',)\n",
      "(u'214749',)\n",
      "(None,)\n",
      "(u'10436',)\n",
      "(u'22496',)\n",
      "(u'145417',)\n",
      "(u'154577',)\n",
      "(u'95128',)\n",
      "(u'281621',)\n",
      "(u'23356',)\n",
      "(u'22484',)\n",
      "(u'5133',)\n",
      "(u'120467',)\n",
      "(u'110315',)\n",
      "(u'150689',)\n",
      "(u'234078',)\n",
      "(u'173818',)\n",
      "(u'72905',)\n",
      "(None,)\n",
      "(None,)\n",
      "(u'52698',)\n",
      "(u'196761',)\n",
      "(u'197692',)\n",
      "(u'136352',)\n",
      "(None,)\n",
      "(u'142709',)\n",
      "(None,)\n",
      "(u'205390',)\n",
      "(u'84117',)\n",
      "(u'144628',)\n",
      "(u'218511',)\n",
      "(u'40136',)\n",
      "(u'105452',)\n",
      "(None,)\n",
      "(u'118926',)\n",
      "(u'7570',)\n",
      "(u'38858',)\n",
      "(u'21197',)\n",
      "(u'217014',)\n",
      "(u'139763',)\n",
      "(u'160691',)\n",
      "(u'190404',)\n",
      "(u'120136',)\n",
      "(u'152705',)\n",
      "(u'213042',)\n",
      "(u'118972',)\n",
      "(None,)\n",
      "(u'41593',)\n",
      "(u'203040',)\n",
      "(None,)\n",
      "(u'191391',)\n",
      "(u'135599',)\n",
      "(u'142373',)\n",
      "(u'4813',)\n",
      "(u'17230',)\n",
      "(u'202575',)\n",
      "(u'23484',)\n",
      "(u'109200',)\n",
      "(u'90589',)\n",
      "(u'24451',)\n",
      "(u'113538',)\n",
      "(u'128311',)\n",
      "(u'55',)\n",
      "(None,)\n",
      "(None,)\n",
      "(u'229590',)\n",
      "(u'130992',)\n",
      "(u'152391',)\n",
      "(u'193202',)\n",
      "(u'76151',)\n",
      "(u'55575',)\n",
      "(u'174080',)\n",
      "(u'221354',)\n",
      "(u'48948',)\n",
      "(u'177565',)\n",
      "(u'7924',)\n",
      "(u'111395',)\n",
      "(u'65583',)\n",
      "(None,)\n",
      "(u'62613',)\n",
      "(u'124642',)\n",
      "(u'47752',)\n",
      "(u'67199',)\n",
      "(u'94765',)\n",
      "(u'17051',)\n",
      "(u'10647',)\n",
      "(u'139664',)\n",
      "(u'193664',)\n",
      "(u'50692',)\n",
      "(u'143761',)\n",
      "(u'35650',)\n",
      "(u'148467',)\n",
      "(u'115383',)\n",
      "(u'110897',)\n",
      "(u'25004',)\n",
      "(None,)\n",
      "(u'23754',)\n",
      "(u'160915',)\n",
      "(None,)\n",
      "(None,)\n",
      "(u'152606',)\n",
      "(u'30876',)\n",
      "(u'204587',)\n",
      "(u'113194',)\n",
      "(u'102438',)\n",
      "(u'165499',)\n",
      "(None,)\n",
      "(u'132683',)\n",
      "(u'35854',)\n",
      "(u'189567',)\n",
      "(u'3765',)\n",
      "(u'145675',)\n",
      "(u'217486',)\n",
      "(u'2025',)\n",
      "(None,)\n",
      "(u'117176',)\n",
      "(u'693',)\n",
      "(u'48737',)\n",
      "(u'84035',)\n",
      "(u'117936',)\n",
      "(u'206860',)\n",
      "(None,)\n",
      "(u'69897',)\n",
      "(u'31560',)\n",
      "(u'222335',)\n",
      "(None,)\n",
      "(None,)\n",
      "(u'154088',)\n",
      "(u'39091',)\n",
      "(u'109085',)\n",
      "(u'82558',)\n",
      "(u'154345',)\n",
      "(u'87883',)\n",
      "(u'210302',)\n",
      "(u'53143',)\n",
      "(u'97503',)\n",
      "(u'158233',)\n",
      "(u'192961',)\n",
      "(u'25329',)\n",
      "(u'42807',)\n",
      "(u'49601',)\n",
      "(u'20280',)\n",
      "(None,)\n",
      "(u'25665',)\n",
      "(u'25457',)\n",
      "(u'170493',)\n",
      "(u'130004',)\n",
      "(u'266611',)\n",
      "(u'84737',)\n",
      "(None,)\n",
      "(u'52711',)\n",
      "(None,)\n",
      "(u'78366',)\n",
      "(u'168442',)\n",
      "(u'160964',)\n",
      "(u'170573',)\n",
      "(u'52919',)\n",
      "(None,)\n",
      "(u'220339',)\n",
      "(u'68834',)\n",
      "(u'173667',)\n",
      "(None,)\n",
      "(u'194640',)\n",
      "(u'130307',)\n",
      "(None,)\n",
      "(u'36435',)\n",
      "(u'71243',)\n",
      "(u'216520',)\n",
      "(u'188474',)\n",
      "(None,)\n",
      "(u'56533',)\n",
      "(None,)\n",
      "(None,)\n",
      "(u'192263',)\n",
      "(u'157347',)\n",
      "(None,)\n",
      "(u'136923',)\n",
      "(u'219764',)\n",
      "(u'189733',)\n",
      "(u'110810',)\n",
      "(None,)\n",
      "(None,)\n",
      "(u'97214',)\n",
      "(u'181321',)\n"
     ]
    }
   ],
   "source": [
    "cmd = '''\n",
    "SELECT LTRIM(LTRIM(stars_FGK_nobinaries.HD,'HD'))\n",
    "FROM stars_FGK_nobinaries\n",
    "    ---LEFT OUTER JOIN gaspar13_agetable\n",
    "    ---ON LTRIM(LTRIM(LTRIM(gaspar13_agetable.Name,'HD')),'0') LIKE LTRIM(LTRIM(stars_FGK_nobinaries.HD,'HD'))\n",
    "'''\n",
    "c.execute(cmd)\n",
    "rows = c.fetchall()\n",
    "print len(rows)\n",
    "for row in rows:\n",
    "    print row"
   ]
  },
  {
   "cell_type": "code",
   "execution_count": 9,
   "metadata": {},
   "outputs": [
    {
     "name": "stdout",
     "output_type": "stream",
     "text": [
      "374\n",
      "(u'HD 000038 ', u'38')\n",
      "(u'HD 000739 ', u'739')\n",
      "(u'HD 001237 ', u'1237')\n",
      "(u'HD 001326 ', u'1326')\n",
      "(u'HD 001404 ', u'1404')\n",
      "(u'HD 001581 ', u'1581')\n",
      "(u'HD 001835 ', u'1835')\n",
      "(u'HD 002262 ', u'2262')\n",
      "(u'HD 003196 ', u'3196')\n",
      "(u'HD 004391 ', u'4391')\n",
      "(u'HD 004628 ', u'4628')\n",
      "(u'HD 004676 ', u'4676')\n",
      "(u'HD 004747 ', u'4747')\n",
      "(u'HD 004967 ', u'4967')\n",
      "(u'HD 005448 ', u'5448')\n",
      "(u'HD 007439 ', u'7439')\n",
      "(u'HD 007570 ', u'7570')\n",
      "(u'HD 007788 ', u'7788')\n",
      "(u'HD 009540 ', u'9540')\n",
      "(u'HD 010307 ', u'10307')\n",
      "(u'HD 010361 ', u'10361')\n",
      "(u'HD 010476 ', u'10476')\n",
      "(u'HD 011171 ', u'11171')\n",
      "(u'HD 011636 ', u'11636')\n",
      "(u'HD 013161 ', u'13161')\n",
      "(u'HD 013974 ', u'13974')\n",
      "(u'HD 014055 ', u'14055')\n",
      "(u'HD 015008 ', u'15008')\n",
      "(u'HD 016160 ', u'16160')\n",
      "(u'HD 016555 ', u'16555')\n",
      "(u'HD 016673 ', u'16673')\n",
      "(u'HD 016754 ', u'16754')\n",
      "(u'HD 016765 ', u'16765')\n",
      "(u'HD 016970 ', u'16970')\n",
      "(u'HD 017051 ', u'17051')\n",
      "(u'HD 017093 ', u'17093')\n",
      "(u'HD 017206 ', u'17206')\n",
      "(u'HD 018978 ', u'18978')\n",
      "(u'HD 019107 ', u'19107')\n",
      "(u'HD 019305 ', u'19305')\n",
      "(u'HD 020010 ', u'20010')\n",
      "(u'HD 020320 ', u'20320')\n",
      "(u'HD 020630 ', u'20630')\n",
      "(u'HD 020794 ', u'20794')\n",
      "(u'HD 021197 ', u'21197')\n",
      "(u'HD 022001 ', u'22001')\n",
      "(u'HD 022484 ', u'22484')\n",
      "(u'HD 022496 ', u'22496')\n",
      "(u'HD 023281 ', u'23281')\n",
      "(u'HD 023754 ', u'23754')\n",
      "(u'HD 027290 ', u'27290')\n",
      "(u'HD 029875 ', u'29875')\n",
      "(u'HD 030652 ', u'30652')\n",
      "(u'HD 032450 ', u'32450')\n",
      "(u'HD 033111 ', u'33111')\n",
      "(u'HD 033262 ', u'33262')\n",
      "(u'HD 033793 ', u'33793')\n",
      "(u'HD 036435 ', u'36435')\n",
      "(u'HD 036705 ', u'36705')\n",
      "(u'HD 038393 ', u'38393')\n",
      "(u'HD 038678 ', u'38678')\n",
      "(u'HD 039091 ', u'39091')\n",
      "(u'HD 042581 ', u'42581')\n",
      "(u'HD 050241 ', u'50241')\n",
      "(u'HD 055892 ', u'55892')\n",
      "(u'HD 056537 ', u'56537')\n",
      "(u'HD 056986 ', u'56986')\n",
      "(u'HD 058946 ', u'58946')\n",
      "(u'HD 060179 ', u'60179')\n",
      "(u'HD 061421 ', u'61421')\n",
      "(u'HD 061606 ', u'61606')\n",
      "(u'HD 068146 ', u'68146')\n",
      "(u'HD 071155 ', u'71155')\n",
      "(u'HD 071243 ', u'71243')\n",
      "(u'HD 075632 ', u'75632')\n",
      "(u'HD 076644 ', u'76644')\n",
      "(u'HD 076932 ', u'76932')\n",
      "(u'HD 076943 ', u'76943')\n",
      "(u'HD 078045 ', u'78045')\n",
      "(u'HD 078154 ', u'78154')\n",
      "(u'HD 078209 ', u'78209')\n",
      "(u'HD 079096 ', u'79096')\n",
      "(u'HD 079210 ', u'79210')\n",
      "(u'HD 079439 ', u'79439')\n",
      "(u'HD 080081 ', u'80081')\n",
      "(u'HD 081997 ', u'81997')\n",
      "(u'HD 082328 ', u'82328')\n",
      "(u'HD 082885 ', u'82885')\n",
      "(u'HD 084737 ', u'84737')\n",
      "(u'HD 085376 ', u'85376')\n",
      "(u'HD 087696 ', u'87696')\n",
      "(u'HD 088955 ', u'88955')\n",
      "(u'HD 089021 ', u'89021')\n",
      "(u'HD 089125 ', u'89125')\n",
      "(u'HD 089269 ', u'89269')\n",
      "(u'HD 089449 ', u'89449')\n",
      "(u'HD 090132 ', u'90132')\n",
      "(u'HD 095418 ', u'95418')\n",
      "(u'HD 095608 ', u'95608')\n",
      "(u'HD 095735 ', u'95735')\n",
      "(u'HD 097584 ', u'97584')\n",
      "(u'HD 097603 ', u'97603')\n",
      "(u'HD 098231 ', u'98231')\n",
      "(u'HD 098712 ', u'98712')\n",
      "(u'HD 099211 ', u'99211')\n",
      "(u'HD 099491 ', u'99491')\n",
      "(u'HD 100180 ', u'100180')\n",
      "(u'HD 101177 ', u'101177')\n",
      "(u'HD 101501 ', u'101501')\n",
      "(u'HD 101581 ', u'101581')\n",
      "(u'HD 102124 ', u'102124')\n",
      "(u'HD 102365 ', u'102365')\n",
      "(u'HD 102647 ', u'102647')\n",
      "(u'HD 102870 ', u'102870')\n",
      "(u'HD 103287 ', u'103287')\n",
      "(u'HD 104513 ', u'104513')\n",
      "(u'HD 105452 ', u'105452')\n",
      "(u'HD 106516 ', u'106516')\n",
      "(u'HD 106591 ', u'106591')\n",
      "(u'HD 108767 ', u'108767')\n",
      "(u'HD 108954 ', u'108954')\n",
      "(u'HD 109085 ', u'109085')\n",
      "(u'HD 109358 ', u'109358')\n",
      "(u'HD 109536 ', u'109536')\n",
      "(u'HD 109787 ', u'109787')\n",
      "(u'HD 110304 ', u'110304')\n",
      "(u'HD 110315 ', u'110315')\n",
      "(u'HD 110379 ', u'110379')\n",
      "(u'HD 110411 ', u'110411')\n",
      "(u'HD 111631 ', u'111631')\n",
      "(u'HD 112758 ', u'112758')\n",
      "(u'HD 114378 ', u'114378')\n",
      "(u'HD 114710 ', u'114710')\n",
      "(u'HD 115617 ', u'115617')\n",
      "(u'HD 115892 ', u'115892')\n",
      "(u'HD 116442 ', u'116442')\n",
      "(u'HD 117043 ', u'117043')\n",
      "(u'HD 118098 ', u'118098')\n",
      "(u'HD 118926 ', u'118926')\n",
      "(u'HD 119756 ', u'119756')\n",
      "(u'HD 119850 ', u'119850')\n",
      "(u'HD 120036 ', u'120036')\n",
      "(u'HD 120467 ', u'120467')\n",
      "(u'HD 124580 ', u'124580')\n",
      "(u'HD 125161 ', u'125161')\n",
      "(u'HD 125162 ', u'125162')\n",
      "(u'HD 126660 ', u'126660')\n",
      "(u'HD 128167 ', u'128167')\n",
      "(u'HD 129502 ', u'129502')\n",
      "(u'HD 130109 ', u'130109')\n",
      "(u'HD 131156 ', u'131156')\n",
      "(u'HD 133640 ', u'133640')\n",
      "(u'HD 135204 ', u'135204')\n",
      "(u'HD 136923 ', u'136923')\n",
      "(u'HD 137107 ', u'137107')\n",
      "(u'HD 137763 ', u'137763')\n",
      "(u'HD 137898 ', u'137898')\n",
      "(u'HD 137909 ', u'137909')\n",
      "(u'HD 139006 ', u'139006')\n",
      "(u'HD 139763 ', u'139763')\n",
      "(u'HD 140436 ', u'140436')\n",
      "(u'HD 141004 ', u'141004')\n",
      "(u'HD 141272 ', u'141272')\n",
      "(u'HD 141795 ', u'141795')\n",
      "(u'HD 142267 ', u'142267')\n",
      "(u'HD 142373 ', u'142373')\n",
      "(u'HD 142860 ', u'142860')\n",
      "(u'HD 146361 ', u'146361')\n",
      "(u'HD 147379 ', u'147379')\n",
      "(u'HD 147584 ', u'147584')\n",
      "(u'HD 151288 ', u'151288')\n",
      "(u'HD 154494 ', u'154494')\n",
      "(u'HD 154577 ', u'154577')\n",
      "(u'HD 155876 ', u'155876')\n",
      "(u'HD 156164 ', u'156164')\n",
      "(u'HD 159560 ', u'159560')\n",
      "(u'HD 160032 ', u'160032')\n",
      "(u'HD 160922 ', u'160922')\n",
      "(u'HD 162003 ', u'162003')\n",
      "(u'HD 165040 ', u'165040')\n",
      "(u'HD 165189 ', u'165189')\n",
      "(u'HD 165777 ', u'165777')\n",
      "(u'HD 165908 ', u'165908')\n",
      "(u'HD 166348 ', u'166348')\n",
      "(u'HD 167425 ', u'167425')\n",
      "(u'HD 168151 ', u'168151')\n",
      "(u'HD 170153 ', u'170153')\n",
      "(u'HD 172555 ', u'172555')\n",
      "(u'HD 173739 ', u'173739')\n",
      "(u'HD 176051 ', u'176051')\n",
      "(u'HD 176687 ', u'176687')\n",
      "(u'HD 177196 ', u'177196')\n",
      "(u'HD 179930 ', u'179930')\n",
      "(u'HD 180161 ', u'180161')\n",
      "(u'HD 180777 ', u'180777')\n",
      "(u'HD 181321 ', u'181321')\n",
      "(u'HD 184006 ', u'184006')\n",
      "(u'HD 186219 ', u'186219')\n",
      "(u'HD 186408 ', u'186408')\n",
      "(u'HD 187642 ', u'187642')\n",
      "(u'HD 188228 ', u'188228')\n",
      "(u'HD 189245 ', u'189245')\n",
      "(u'HD 190007 ', u'190007')\n",
      "(u'HD 190422 ', u'190422')\n",
      "(u'HD 191849 ', u'191849')\n",
      "(u'HD 192310 ', u'192310')\n",
      "(u'HD 194640 ', u'194640')\n",
      "(u'HD 196877 ', u'196877')\n",
      "(u'HD 197076 ', u'197076')\n",
      "(u'HD 197157 ', u'197157')\n",
      "(u'HD 197692 ', u'197692')\n",
      "(u'HD 200525 ', u'200525')\n",
      "(u'HD 200779 ', u'200779')\n",
      "(u'HD 200968 ', u'200968')\n",
      "(u'HD 202275 ', u'202275')\n",
      "(u'HD 202560 ', u'202560')\n",
      "(u'HD 202730 ', u'202730')\n",
      "(u'HD 203244 ', u'203244')\n",
      "(u'HD 203608 ', u'203608')\n",
      "(u'HD 204961 ', u'204961')\n",
      "(u'HD 206826 ', u'206826')\n",
      "(u'HD 207098 ', u'207098')\n",
      "(u'HD 210027 ', u'210027')\n",
      "(u'HD 210049 ', u'210049')\n",
      "(u'HD 210418 ', u'210418')\n",
      "(u'HD 211970 ', u'211970')\n",
      "(u'HD 212330 ', u'212330')\n",
      "(u'HD 212698 ', u'212698')\n",
      "(u'HD 212728 ', u'212728')\n",
      "(u'HD 213398 ', u'213398')\n",
      "(u'HD 213845 ', u'213845')\n",
      "(u'HD 214749 ', u'214749')\n",
      "(u'HD 214953 ', u'214953')\n",
      "(u'HD 215648 ', u'215648')\n",
      "(u'HD 215789 ', u'215789')\n",
      "(u'HD 216133 ', u'216133')\n",
      "(u'HD 216803 ', u'216803')\n",
      "(u'HD 216899 ', u'216899')\n",
      "(u'HD 217107 ', u'217107')\n",
      "(u'HD 217987 ', u'217987')\n",
      "(u'HD 218511 ', u'218511')\n",
      "(u'HD 219571 ', u'219571')\n",
      "(u'HD 222335 ', u'222335')\n",
      "(u'HD 222345 ', u'222345')\n",
      "(u'HD 222368 ', u'222368')\n",
      "(u'HD 222603 ', u'222603')\n",
      "(u'HD 223352 ', u'223352')\n",
      "(u'HD 224953 ', u'224953')\n",
      "(u'HD 234078 ', u'234078')\n",
      "(u'HD 265866 ', u'265866')\n",
      "(u'HIP 000171', u'IP 000171')\n",
      "(u'HIP 000544', u'IP 000544')\n",
      "(u'HIP 000910', u'IP 000910')\n",
      "(u'HIP 002941', u'IP 002941')\n",
      "(u'HIP 003093', u'IP 003093')\n",
      "(u'HIP 003497', u'IP 003497')\n",
      "(u'HIP 003821', u'IP 003821')\n",
      "(u'HIP 003909', u'IP 003909')\n",
      "(u'HIP 004148', u'IP 004148')\n",
      "(u'HIP 007513', u'IP 007513')\n",
      "(u'HIP 007978', u'IP 007978')\n",
      "(u'HIP 008768', u'IP 008768')\n",
      "(u'HIP 010138', u'IP 010138')\n",
      "(u'HIP 010798', u'IP 010798')\n",
      "(u'HIP 011452', u'IP 011452')\n",
      "(u'HIP 011964', u'IP 011964')\n",
      "(u'HIP 012777', u'IP 012777')\n",
      "(u'HIP 013402', u'IP 013402')\n",
      "(u'HIP 014954', u'IP 014954')\n",
      "(u'HIP 015330', u'IP 015330')\n",
      "(u'HIP 015371', u'IP 015371')\n",
      "(u'HIP 015799', u'IP 015799')\n",
      "(u'HIP 016134', u'IP 016134')\n",
      "(u'HIP 017420', u'IP 017420')\n",
      "(u'HIP 017439', u'IP 017439')\n",
      "(u'HIP 019849', u'IP 019849')\n",
      "(u'HIP 019884', u'IP 019884')\n",
      "(u'HIP 022263', u'IP 022263')\n",
      "(u'HIP 023311', u'IP 023311')\n",
      "(u'HIP 027887', u'IP 027887')\n",
      "(u'HIP 028103', u'IP 028103')\n",
      "(u'HIP 028442', u'IP 028442')\n",
      "(u'HIP 029271', u'IP 029271')\n",
      "(u'HIP 029568', u'IP 029568')\n",
      "(u'HIP 032439', u'IP 032439')\n",
      "(u'HIP 032480', u'IP 032480')\n",
      "(u'HIP 033277', u'IP 033277')\n",
      "(u'HIP 034017', u'IP 034017')\n",
      "(u'HIP 034065', u'IP 034065')\n",
      "(u'HIP 035136', u'IP 035136')\n",
      "(u'HIP 036439', u'IP 036439')\n",
      "(u'HIP 038382', u'IP 038382')\n",
      "(u'HIP 038784', u'IP 038784')\n",
      "(u'HIP 040693', u'IP 040693')\n",
      "(u'HIP 040843', u'IP 040843')\n",
      "(u'HIP 042430', u'IP 042430')\n",
      "(u'HIP 042438', u'IP 042438')\n",
      "(u'HIP 043587', u'IP 043587')\n",
      "(u'HIP 043726', u'IP 043726')\n",
      "(u'HIP 044897', u'IP 044897')\n",
      "(u'HIP 045333', u'IP 045333')\n",
      "(u'HIP 045617', u'IP 045617')\n",
      "(u'HIP 046580', u'IP 046580')\n",
      "(u'HIP 049081', u'IP 049081')\n",
      "(u'HIP 049908', u'IP 049908')\n",
      "(u'HIP 051459', u'IP 051459')\n",
      "(u'HIP 051502', u'IP 051502')\n",
      "(u'HIP 053721', u'IP 053721')\n",
      "(u'HIP 054646', u'IP 054646')\n",
      "(u'HIP 056452', u'IP 056452')\n",
      "(u'HIP 057507', u'IP 057507')\n",
      "(u'HIP 057939', u'IP 057939')\n",
      "(u'HIP 058345', u'IP 058345')\n",
      "(u'HIP 062145', u'IP 062145')\n",
      "(u'HIP 062207', u'IP 062207')\n",
      "(u'HIP 062523', u'IP 062523')\n",
      "(u'HIP 064792', u'IP 064792')\n",
      "(u'HIP 064797', u'IP 064797')\n",
      "(u'HIP 065026', u'IP 065026')\n",
      "(u'HIP 065721', u'IP 065721')\n",
      "(u'HIP 067275', u'IP 067275')\n",
      "(u'HIP 067422', u'IP 067422')\n",
      "(u'HIP 067620', u'IP 067620')\n",
      "(u'HIP 068184', u'IP 068184')\n",
      "(u'HIP 068682', u'IP 068682')\n",
      "(u'HIP 069965', u'IP 069965')\n",
      "(u'HIP 070319', u'IP 070319')\n",
      "(u'HIP 070857', u'IP 070857')\n",
      "(u'HIP 071181', u'IP 071181')\n",
      "(u'HIP 071908', u'IP 071908')\n",
      "(u'HIP 072567', u'IP 072567')\n",
      "(u'HIP 072603', u'IP 072603')\n",
      "(u'HIP 072848', u'IP 072848')\n",
      "(u'HIP 073100', u'IP 073100')\n",
      "(u'HIP 073184', u'IP 073184')\n",
      "(u'HIP 073996', u'IP 073996')\n",
      "(u'HIP 077052', u'IP 077052')\n",
      "(u'HIP 078459', u'IP 078459')\n",
      "(u'HIP 078775', u'IP 078775')\n",
      "(u'HIP 079248', u'IP 079248')\n",
      "(u'HIP 080725', u'IP 080725')\n",
      "(u'HIP 082860', u'IP 082860')\n",
      "(u'HIP 083389', u'IP 083389')\n",
      "(u'HIP 084862', u'IP 084862')\n",
      "(u'HIP 085235', u'IP 085235')\n",
      "(u'HIP 085295', u'IP 085295')\n",
      "(u'HIP 086036', u'IP 086036')\n",
      "(u'HIP 086796', u'IP 086796')\n",
      "(u'HIP 088601', u'IP 088601')\n",
      "(u'HIP 088972', u'IP 088972')\n",
      "(u'HIP 089042', u'IP 089042')\n",
      "(u'HIP 091009', u'IP 091009')\n",
      "(u'HIP 092043', u'IP 092043')\n",
      "(u'HIP 095995', u'IP 095995')\n",
      "(u'HIP 096100', u'IP 096100')\n",
      "(u'HIP 096441', u'IP 096441')\n",
      "(u'HIP 097944', u'IP 097944')\n",
      "(u'HIP 098959', u'IP 098959')\n",
      "(u'HIP 099461', u'IP 099461')\n",
      "(u'HIP 101955', u'IP 101955')\n",
      "(u'HIP 101997', u'IP 101997')\n",
      "(u'HIP 103389', u'IP 103389')\n",
      "(u'HIP 104214', u'IP 104214')\n",
      "(u'HIP 105312', u'IP 105312')\n",
      "(u'HIP 106696', u'IP 106696')\n",
      "(u'HIP 107350', u'IP 107350')\n",
      "(u'HIP 107649', u'IP 107649')\n",
      "(u'HIP 108870', u'IP 108870')\n",
      "(u'HIP 109378', u'IP 109378')\n",
      "(u'HIP 109422', u'IP 109422')\n",
      "(u'HIP 113576', u'IP 113576')\n",
      "(u'HIP 114948', u'IP 114948')\n",
      "(u'HIP 116745', u'IP 116745')\n",
      "(u'HIP 120005', u'IP 120005')\n"
     ]
    }
   ],
   "source": [
    "cmd = '''\n",
    "SELECT gaspar13_agetable.Name, RTRIM(LTRIM(LTRIM(LTRIM(gaspar13_agetable.Name,'HD')),'0'))\n",
    "FROM gaspar13_agetable\n",
    "'''\n",
    "c.execute(cmd)\n",
    "rows = c.fetchall()\n",
    "print len(rows)\n",
    "for row in rows:\n",
    "    print row"
   ]
  },
  {
   "cell_type": "code",
   "execution_count": 45,
   "metadata": {
    "scrolled": true
   },
   "outputs": [
    {
     "name": "stdout",
     "output_type": "stream",
     "text": [
      "87\n",
      "(u'HD 001581 ', u'HD   1581', u'HIP   1599', 382.0)\n",
      "(u'HD 007570 ', u'HD   7570', u'HIP   5862', 530.0)\n",
      "(u'HD 017051 ', u'HD  17051', u'HIP  12653', 120.0)\n",
      "(u'HD 020794 ', u'HD  20794', u'HIP  15510', 620.0)\n",
      "(u'HD 021197 ', u'HD  21197', u'HIP  15919', 150.0)\n",
      "(u'HD 022484 ', u'HD  22484', u'HIP  16852', 670.0)\n",
      "(u'HD 022496 ', u'HD  22496', u'HIP  16711', 130.0)\n",
      "(u'HD 023754 ', u'HD  23754', u'HIP  17651', 400.0)\n",
      "(u'HD 036435 ', u'HD  36435', u'HIP  25544', 50.0)\n",
      "(u'HD 039091 ', u'HD  39091', u'HIP  26394', 580.0)\n",
      "(u'HD 071243 ', u'HD  71243', u'HIP  40702', 150.0)\n",
      "(u'HD 084737 ', u'HD  84737', u'HIP  48113', 930.0)\n",
      "(u'HD 101581 ', u'HD 101581', u'HIP  56998', 260.0)\n",
      "(u'HD 105452 ', u'HD 105452', u'HIP  59199', 100.0)\n",
      "(u'HD 109085 ', u'HD 109085', u'HIP  61174', 240.0)\n",
      "(u'HD 110315 ', u'HD 110315', u'HIP  61901', 660.0)\n",
      "(u'HD 115617 ', u'HD 115617', u'HIP  64924', 502.0)\n",
      "(u'HD 120467 ', u'HD 120467', u'HIP  67487', 435.0)\n",
      "(u'HD 136923 ', u'HD 136923', u'HIP  75277', 300.0)\n",
      "(u'HD 139763 ', u'HD 139763', u'HIP  76779', 160.0)\n",
      "(u'HD 142373 ', u'HD 142373', u'HIP  77760', 621.0)\n",
      "(u'HD 151288 ', u'HD 151288', u'HIP  82003', 260.0)\n",
      "(u'HD 154577 ', u'HD 154577', u'HIP  83990', 483.0)\n",
      "(u'HD 181321 ', u'HD 181321', u'HIP  95149', 15.0)\n",
      "(u'HD 190007 ', u'HD 190007', u'HIP  98698', 180.0)\n",
      "(u'HD 192310 ', u'HD 192310', u'HIP  99825', 610.0)\n",
      "(u'HD 194640 ', u'HD 194640', u'HIP 100925', 492.0)\n",
      "(u'HD 196877 ', u'HD 196877', u'HIP 102186', 455.0)\n",
      "(u'HD 197692 ', u'HD 197692', u'HIP 102485', 100.0)\n",
      "(u'HD 203608 ', u'HD 203608', u'HIP 105858', 57.0)\n",
      "(u'HD 211970 ', u'HD 211970', u'HIP 110443', 170.0)\n",
      "(u'HD 214749 ', u'HD 214749', u'HIP 111960', 60.0)\n",
      "(u'HD 218511 ', u'HD 218511', u'HIP 114361', 90.0)\n",
      "(u'HD 222335 ', u'HD 222335', u'HIP 116763', 336.0)\n",
      "(u'HD 234078 ', u'HD 234078', u'HIP  67691', 85.0)\n",
      "(u'HIP 000910', u'HD    693', u'HIP    910', 300.0)\n",
      "(u'HIP 003093', u'HD   3651', u'HIP   3093', 650.0)\n",
      "(u'HIP 003909', u'HD   4813', u'HIP   3909', 400.0)\n",
      "(u'HIP 004148', u'HD   5133', u'HIP   4148', 155.0)\n",
      "(u'HIP 007978', u'HD  10647', u'HIP   7978', 190.0)\n",
      "(u'HIP 010798', u'HD  14412', u'HIP  10798', 450.0)\n",
      "(u'HIP 016134', u'HD  21531', u'HIP  16134', 50.0)\n",
      "(u'HIP 017420', u'HD  23356', u'HIP  17420', 200.0)\n",
      "(u'HIP 017439', u'HD  23484', u'HIP  17439', 60.0)\n",
      "(u'HIP 019884', u'HD  27274', u'HIP  19884', 450.0)\n",
      "(u'HIP 022263', u'HD  30495', u'HIP  22263', 70.0)\n",
      "(u'HIP 023311', u'HD  32147', u'HIP  23311', 550.0)\n",
      "(u'HIP 027887', u'HD  40307', u'HIP  27887', 550.0)\n",
      "(u'HIP 028103', u'HD  40136', u'HIP  28103', 250.0)\n",
      "(u'HIP 029271', u'HD  43834', u'HIP  29271', 500.0)\n",
      "(u'HIP 033277', u'HD  50692', u'HIP  33277', 580.0)\n",
      "(u'HIP 034017', u'HD  52711', u'HIP  34017', 640.0)\n",
      "(u'HIP 035136', u'HD  55575', u'HIP  35136', 570.0)\n",
      "(u'HIP 038784', u'HD  62613', u'HIP  38784', 410.0)\n",
      "(u'HIP 040693', u'HD  69830', u'HIP  40693', 600.0)\n",
      "(u'HIP 040843', u'HD  69897', u'HIP  40843', 460.0)\n",
      "(u'HIP 042438', u'HD  72905', u'HIP  42438', 25.0)\n",
      "(u'HIP 043726', u'HD  76151', u'HIP  43726', 220.0)\n",
      "(u'HIP 044897', u'HD  78366', u'HIP  44897', 80.0)\n",
      "(u'HIP 046580', u'HD  82106', u'HIP  46580', 45.0)\n",
      "(u'HIP 053721', u'HD  95128', u'HIP  53721', 650.0)\n",
      "(u'HIP 057507', u'HD 102438', u'HIP  57507', 510.0)\n",
      "(u'HIP 057939', u'HD 103095', u'HIP  57939', 450.0)\n",
      "(u'HIP 058345', u'HD 103932', u'HIP  58345', 250.0)\n",
      "(u'HIP 062207', u'HD 110897', u'HIP  62207', 640.0)\n",
      "(u'HIP 062523', u'HD 111395', u'HIP  62523', 100.0)\n",
      "(u'HIP 064792', u'HD 115383', u'HIP  64792', 34.0)\n",
      "(u'HIP 065721', u'HD 117176', u'HIP  65721', 830.0)\n",
      "(u'HIP 067275', u'HD 120136', u'HIP  67275', 130.0)\n",
      "(u'HIP 068184', u'HD 122064', u'HIP  68184', 550.0)\n",
      "(u'HIP 071181', u'HD 128165', u'HIP  71181', 300.0)\n",
      "(u'HIP 078459', u'HD 143761', u'HIP  78459', 770.0)\n",
      "(u'HIP 079248', u'HD 145675', u'HIP  79248', 820.0)\n",
      "(u'HIP 083389', u'HD 154345', u'HIP  83389', 430.0)\n",
      "(u'HIP 085235', u'HD 158633', u'HIP  85235', 560.0)\n",
      "(u'HIP 085295', u'HD 157881', u'HIP  85295', 110.0)\n",
      "(u'HIP 086796', u'HD 160691', u'HIP  86796', 770.0)\n",
      "(u'HIP 088972', u'HD 166620', u'HIP  88972', 580.0)\n",
      "(u'HIP 089042', u'HD 165499', u'HIP  89042', 510.0)\n",
      "(u'HIP 092043', u'HD 173667', u'HIP  92043', 220.0)\n",
      "(u'HIP 098959', u'HD 189567', u'HIP  98959', 450.0)\n",
      "(u'HIP 101997', u'HD 196761', u'HIP 101997', 550.0)\n",
      "(u'HIP 106696', u'HD 205390', u'HIP 106696', 180.0)\n",
      "(u'HIP 107350', u'HD 206860', u'HIP 107350', 35.0)\n",
      "(u'HIP 109422', u'HD 210302', u'HIP 109422', 490.0)\n",
      "(u'HIP 113576', u'HD 217357', u'HIP 113576', 110.0)\n",
      "(u'HIP 116745', u'HD 222237', u'HIP 116745', 350.0)\n"
     ]
    }
   ],
   "source": [
    "cmd = '''\n",
    "SELECT gaspar13_agetable.Name, stars_FGK_nobinaries.HD, stars_FGK_nobinaries.HIP, gaspar13_agetable.Age\n",
    "FROM gaspar13_agetable\n",
    "    INNER JOIN stars_FGK_nobinaries\n",
    "    ON (RTRIM(LTRIM(LTRIM(LTRIM(gaspar13_agetable.Name,'HD')),'0')) LIKE LTRIM(LTRIM(stars_FGK_nobinaries.HD,'HD')))\n",
    "    OR (RTRIM(LTRIM(LTRIM(LTRIM(gaspar13_agetable.Name,'HIP')),'0')) LIKE LTRIM(LTRIM(stars_FGK_nobinaries.HIP,'HIP')))\n",
    "WHERE gaspar13_agetable.Age is NOT NULL\n",
    "    \n",
    "'''\n",
    "c.execute(cmd)\n",
    "rows = c.fetchall()\n",
    "print len(rows)\n",
    "for row in rows:\n",
    "    print row"
   ]
  },
  {
   "cell_type": "markdown",
   "metadata": {},
   "source": [
    "## Subquery for Ramirez+2013"
   ]
  },
  {
   "cell_type": "code",
   "execution_count": 61,
   "metadata": {
    "scrolled": true
   },
   "outputs": [
    {
     "name": "stdout",
     "output_type": "stream",
     "text": [
      "43\n",
      "(u'HIP  16537', u'HIP 16537 ', u'HD  22049', u'HIP 16537 ', 310.94, 9.45)\n",
      "(u'HIP   8102', u'HIP 8102  ', u'HD  10700', u'HIP 8102  ', 273.96, 13.16)\n",
      "(u'HIP  15510', u'HIP 15510 ', u'HD  20794', u'HIP 15510 ', 165.47, 14.26)\n",
      "(u'HIP  99240', u'HIP 99240 ', u'HD 190248', u'HIP 99240 ', 163.71, 10.65)\n",
      "(u'HIP 114622', u'HIP 114622', u'HD 219134', u'HIP 114622', 152.76, 10.93)\n",
      "(u'HIP   2021', u'HIP 2021  ', u'HD   2151', u'HIP 2021  ', 134.07, 6.09)\n",
      "(u'HIP  64924', u'HIP 64924 ', u'HD 115617', u'HIP 64924 ', 116.89, 9.18)\n",
      "(u'HIP   1599', u'HIP 1599  ', u'HD   1581', u'HIP 1599  ', 116.46, 6.31)\n",
      "(u'HIP  99825', u'HIP 99825 ', u'HD 192310', u'HIP 99825 ', 112.22, 9.41)\n",
      "(u'HIP  57939', u'HIP 57939 ', u'HD 103095', u'HIP 57939 ', 109.99, 13.88)\n",
      "(u'HIP 105858', u'HIP 105858', u'HD 203608', u'HIP 105858', 107.97, 6.86)\n",
      "(u'HIP  68184', u'HIP 68184 ', u'HD 122064', u'HIP 68184 ', 99.36, 13.89)\n",
      "(u'HIP  29271', u'HIP 29271 ', u'HD  43834', u'HIP 29271 ', 98.06, 6.28)\n",
      "(u'HIP   3093', u'HIP 3093  ', u'HD   3651', u'HIP 3093  ', 90.42, 1.96)\n",
      "(u'HIP  42808', u'HIP 42808 ', u'HD  74576', u'HIP 42808 ', 89.76, 2.96)\n",
      "(u'HIP  69972', u'HIP 69972 ', u'HD 125072', u'HIP 69972 ', 84.76, 8.67)\n",
      "(u'HIP  41926', u'HIP 41926 ', u'HD  72673', u'HIP 41926 ', 81.91, 8.67)\n",
      "(u'HIP  40693', u'HIP 40693 ', u'HD  69830', u'HIP 40693 ', 80.04, 4.86)\n",
      "(u'HIP  10798', u'HIP 10798 ', u'HD  14412', u'HIP 10798 ', 78.93, 3.45)\n",
      "(u'HIP  58576', u'HIP 58576 ', u'HD 104304', u'HIP 58576 ', 78.35, 7.93)\n",
      "(u'HIP  85235', u'HIP 85235 ', u'HD 158633', u'HIP 85235 ', 78.11, 8.67)\n",
      "(u'HIP  90790', u'HIP 90790 ', u'HD 170657', u'HIP 90790 ', 75.46, 4.94)\n",
      "(u'HIP  22263', u'HIP 22263 ', u'HD  30495', u'HIP 22263 ', 75.32, 2.3)\n",
      "(u'HIP  17420', u'HIP 17420 ', u'HD  23356', u'HIP 17420 ', 71.69, 11.67)\n",
      "(u'HIP  16852', u'HIP 16852 ', u'HD  22484', u'HIP 16852 ', 71.62, 5.88)\n",
      "(u'HIP  53721', u'HIP 53721 ', u'HD  95128', u'HIP 53721 ', 71.11, 6.33)\n",
      "(u'HIP   4148', u'HIP 4148  ', u'HD   5133', u'HIP 4148  ', 70.56, 7.23)\n",
      "(u'HIP  42438', u'HIP 42438 ', u'HD  72905', u'HIP 42438 ', 69.66, 1.15)\n",
      "(u'HIP  79190', u'HIP 79190 ', u'HD 144628', u'HIP 79190 ', 68.17, 8.67)\n",
      "(u'HIP  28103', u'HIP 28103 ', u'HD  40136', u'HIP 28103 ', 67.21, 1.26)\n",
      "(u'HIP   5862', u'HIP 5862  ', u'HD   7570', u'HIP 5862  ', 66.16, 3.92)\n",
      "(u'HIP  86796', u'HIP 86796 ', u'HD 160691', u'HIP 86796 ', 64.47, 8.18)\n",
      "(u'HIP 113357', u'HIP 113357', u'HD 217014', u'HIP 113357', 64.07, 5.05)\n",
      "(u'HIP  39157', u'HIP 39157 ', u'HD  65583', u'HIP 39157 ', 59.64, 14.14)\n",
      "(u'HIP   3206', u'HIP 3206  ', u'HD   3765', u'HIP 3206  ', 57.71, 3.45)\n",
      "(u'HIP   7978', u'HIP 7978  ', u'HD  10647', u'HIP 7978  ', 57.36, 1.5)\n",
      "(u'HIP  64792', u'HIP 64792 ', u'HD 115383', u'HIP 64792 ', 56.95, 4.27)\n",
      "(u'HIP 100017', u'HIP 100017', u'HD 193664', u'HIP 100017', 56.92, 3.91)\n",
      "(u'HIP 107350', u'HIP 107350', u'HD 206860', u'HIP 107350', 55.91, 3.17)\n",
      "(u'HIP  40843', u'HIP 40843 ', u'HD  69897', u'HIP 40843 ', 54.73, 3.39)\n",
      "(u'HIP  48113', u'HIP 48113 ', u'HD  84737', u'HIP 48113 ', 54.44, 6.45)\n",
      "(u'HIP  34017', u'HIP 34017 ', u'HD  52711', u'HIP 34017 ', 52.27, 6.03)\n",
      "(u'HIP  85042', u'HIP 85042 ', u'HD 157347', u'HIP 85042 ', 51.22, 5.88)\n"
     ]
    }
   ],
   "source": [
    "cmd = '''\n",
    "SELECT stars_FGK_nobinaries.hip, ramirez13_agetable.Name, \n",
    "stars_FGK_nobinaries.hd, ramirez13_agetable.Name, ramirez13_agetable.Plx, ramirez13_agetable.Age\n",
    "FROM ramirez13_agetable\n",
    "    INNER JOIN stars_FGK_nobinaries\n",
    "    ON (RTRIM(LTRIM(LTRIM(ramirez13_agetable.Name,'HIP'))) LIKE LTRIM(LTRIM(stars_FGK_nobinaries.HIP,'HIP')))\n",
    "    OR (RTRIM(LTRIM(LTRIM(ramirez13_agetable.Name,'HD'))) LIKE LTRIM(LTRIM(stars_FGK_nobinaries.HD,'HD')))\n",
    "WHERE ramirez13_agetable.Age IS NOT Null\n",
    "ORDER BY Plx DESC\n",
    "'''\n",
    "c.execute(cmd)\n",
    "rows = c.fetchall()\n",
    "print len(rows)\n",
    "for row in rows:\n",
    "    print row"
   ]
  },
  {
   "cell_type": "markdown",
   "metadata": {},
   "source": [
    "## Subquery for Ramirez+2012"
   ]
  },
  {
   "cell_type": "code",
   "execution_count": 92,
   "metadata": {
    "scrolled": true
   },
   "outputs": [
    {
     "name": "stdout",
     "output_type": "stream",
     "text": [
      "86\n",
      "(u'HIP   3206', 3206, 4.94)\n",
      "(u'HIP  40843', 40843, 3.3)\n",
      "(u'HIP  44897', 44897, 0.8)\n",
      "(u'HIP  53721', 53721, 6.82)\n",
      "(u'HIP  48113', 48113, 5.85)\n",
      "(u'HIP  34017', 34017, 6.8)\n",
      "(u'HIP  35136', 35136, 7.63)\n",
      "(u'HIP  42438', 42438, 0.2)\n",
      "(u'HIP  71395', 71395, 0.3)\n",
      "(u'HIP  67275', 67275, 0.4)\n",
      "(u'HIP  78459', 78459, 2.5)\n",
      "(u'HIP  77760', 77760, 6.85)\n",
      "(u'HIP  79248', 79248, 2.53)\n",
      "(u'HIP  62207', 62207, 9.45)\n",
      "(u'HIP  85235', 85235, 8.67)\n",
      "(u'HIP  68184', 68184, 8.71)\n",
      "(u'HIP 107350', 107350, 0.2)\n",
      "(u'HIP  98505', 98505, 0.4)\n",
      "(u'HIP 114622', 114622, 9.45)\n",
      "(u'HIP 100017', 100017, 4.81)\n",
      "(u'HIP 116763', 116763, 7.23)\n",
      "(u'HIP    910', 910, 5.65)\n",
      "(u'HIP   8102', 8102, 5.6)\n",
      "(u'HIP   3909', 3909, 1.72)\n",
      "(u'HIP   3093', 3093, 6.7)\n",
      "(u'HIP 113357', 113357, 5.2)\n",
      "(u'HIP  33817', 33817, 2.0)\n",
      "(u'HIP  22263', 22263, 0.4)\n",
      "(u'HIP  28103', 28103, 1.26)\n",
      "(u'HIP  27435', 27435, 7.5)\n",
      "(u'HIP  23311', 23311, 4.5)\n",
      "(u'HIP  18859', 18859, 2.65)\n",
      "(u'HIP  16852', 16852, 6.0)\n",
      "(u'HIP  29525', 29525, 0.4)\n",
      "(u'HIP  57507', 57507, 12.5)\n",
      "(u'HIP  64924', 64924, 4.2)\n",
      "(u'HIP  58576', 58576, 6.71)\n",
      "(u'HIP  64792', 64792, 0.1)\n",
      "(u'HIP  65721', 65721, 7.89)\n",
      "(u'HIP  46580', 46580, 0.4)\n",
      "(u'HIP  61901', 61901, 13.16)\n",
      "(u'HIP  62523', 62523, 4.94)\n",
      "(u'HIP  90790', 90790, 5.75)\n",
      "(u'HIP  99711', 99711, 1.5)\n",
      "(u'HIP  98698', 98698, 1.5)\n",
      "(u'HIP  85042', 85042, 7.95)\n",
      "(u'HIP  82588', 82588, 0.6)\n",
      "(u'HIP  92043', 92043, 2.46)\n",
      "(u'HIP  88972', 88972, 5.4)\n",
      "(u'HIP  26394', 26394, 3.0)\n",
      "(u'HIP   2021', 2021, 6.15)\n",
      "(u'HIP  12653', 12653, 0.7)\n",
      "(u'HIP  27887', 27887, 11.65)\n",
      "(u'HIP  25544', 25544, 0.5)\n",
      "(u'HIP  15510', 15510, 14.38)\n",
      "(u'HIP  22451', 22451, 10.16)\n",
      "(u'HIP   1599', 1599, 7.16)\n",
      "(u'HIP   7978', 7978, 1.29)\n",
      "(u'HIP   5862', 5862, 3.34)\n",
      "(u'HIP   4148', 4148, 7.23)\n",
      "(u'HIP  17420', 17420, 5.75)\n",
      "(u'HIP  10798', 10798, 6.43)\n",
      "(u'HIP  16537', 16537, 0.4)\n",
      "(u'HIP  29271', 29271, 4.9)\n",
      "(u'HIP  42808', 42808, 6.43)\n",
      "(u'HIP  41926', 41926, 8.67)\n",
      "(u'HIP  47592', 47592, 3.78)\n",
      "(u'HIP  40693', 40693, 7.4)\n",
      "(u'HIP  43726', 43726, 1.4)\n",
      "(u'HIP  79190', 79190, 12.39)\n",
      "(u'HIP  69972', 69972, 8.67)\n",
      "(u'HIP  75181', 75181, 14.11)\n",
      "(u'HIP  86796', 86796, 7.55)\n",
      "(u'HIP  62229', 62229, 10.16)\n",
      "(u'HIP  66765', 66765, 8.67)\n",
      "(u'HIP 116745', 116745, 13.14)\n",
      "(u'HIP 105858', 105858, 6.36)\n",
      "(u'HIP  98959', 98959, 11.69)\n",
      "(u'HIP  99240', 99240, 7.42)\n",
      "(u'HIP 106696', 106696, 7.18)\n",
      "(u'HIP 111960', 111960, 13.15)\n",
      "(u'HIP  89042', 89042, 5.33)\n",
      "(u'HIP  93858', 93858, 4.17)\n",
      "(u'HIP 100925', 100925, 6.43)\n",
      "(u'HIP 102485', 102485, 1.3)\n",
      "(u'HIP 101997', 101997, 9.41)\n"
     ]
    }
   ],
   "source": [
    "cmd = '''\n",
    "SELECT stars_FGK_nobinaries.hip, ramirez12_agetable.hip, ramirez12_agetable.Age\n",
    "FROM ramirez12_agetable\n",
    "    INNER JOIN stars_FGK_nobinaries\n",
    "    ON ramirez12_agetable.hip LIKE LTRIM(LTRIM(stars_FGK_nobinaries.HIP,'HIP'))\n",
    "WHERE ramirez12_agetable.Age IS NOT Null\n",
    "'''\n",
    "c.execute(cmd)\n",
    "rows = c.fetchall()\n",
    "print len(rows)\n",
    "for row in rows:\n",
    "    print row"
   ]
  },
  {
   "cell_type": "markdown",
   "metadata": {},
   "source": [
    "## Subquery for Isaacson+2010"
   ]
  },
  {
   "cell_type": "code",
   "execution_count": 41,
   "metadata": {
    "scrolled": true
   },
   "outputs": [
    {
     "name": "stdout",
     "output_type": "stream",
     "text": [
      "48\n",
      "(u'25329', u'D 25329', 6.05)\n",
      "(u'7924', u'D 7924', 4.65)\n",
      "(u'69897', u'D 69897', 3.57)\n",
      "(u'78366', u'D 78366', 0.86)\n",
      "(u'95128', u'D 95128', 6.1)\n",
      "(u'84737', u'D 84737', 8.19)\n",
      "(u'65583', u'D 65583', 6.52)\n",
      "(u'52711', u'D 52711', 6.4)\n",
      "(u'55575', u'D 55575', 6.31)\n",
      "(u'72905', u'D 72905', 0.13)\n",
      "(u'62613', u'D 62613', 4.95)\n",
      "(u'136923', u'D 136923', 1.96)\n",
      "(u'143761', u'D 143761', 7.57)\n",
      "(u'154345', u'D 154345', 3.74)\n",
      "(u'142373', u'D 142373', 5.9)\n",
      "(u'110897', u'D 110897', 6.08)\n",
      "(u'158633', u'D 158633', 5.84)\n",
      "(u'206860', u'D 206860', 0.28)\n",
      "(u'190404', u'D 190404', 7.17)\n",
      "(u'221354', u'D 221354', 7.84)\n",
      "(u'216520', u'D 216520', 5.19)\n",
      "(u'222335', u'D 222335', 3.6)\n",
      "(u'220339', u'D 220339', 4.2)\n",
      "(u'10700', u'D 10700', 6.15)\n",
      "(u'4813', u'D 4813', 4.19)\n",
      "(u'217014', u'D 217014', 7.62)\n",
      "(u'30495', u'D 30495', 0.78)\n",
      "(u'38858', u'D 38858', 5.72)\n",
      "(u'41593', u'D 41593', 0.32)\n",
      "(u'50692', u'D 50692', 6.53)\n",
      "(u'115617', u'D 115617', 5.9)\n",
      "(u'104304', u'D 104304', 7.35)\n",
      "(u'115383', u'D 115383', 0.38)\n",
      "(u'111395', u'D 111395', 0.79)\n",
      "(u'103095', u'D 103095', 0.53)\n",
      "(u'170657', u'D 170657', 1.26)\n",
      "(u'157347', u'D 157347', 5.81)\n",
      "(u'152391', u'D 152391', 0.78)\n",
      "(u'14412', u'D 14412', 3.79)\n",
      "(u'22049', u'D 22049', 0.42)\n",
      "(u'72673', u'D 72673', 5.59)\n",
      "(u'84117', u'D 84117', 7.03)\n",
      "(u'69830', u'D 69830', 6.36)\n",
      "(u'76151', u'D 76151', 1.82)\n",
      "(u'136352', u'D 136352', 5.34)\n",
      "(u'154088', u'D 154088', 8.3)\n",
      "(u'192310', u'D 192310', 6.8)\n",
      "(u'196761', u'D 196761', 5.35)\n"
     ]
    }
   ],
   "source": [
    "cmd = '''\n",
    "SELECT RTRIM(LTRIM(LTRIM(isaacson10_agetable.Name,'HD'))), RTRIM(LTRIM(LTRIM(isaacson10_agetable.Name,'HIP'))), isaacson10_agetable.Age\n",
    "FROM isaacson10_agetable\n",
    "    INNER JOIN stars_FGK_nobinaries\n",
    "    ON (RTRIM(LTRIM(LTRIM(isaacson10_agetable.Name,'HD'))) LIKE LTRIM(LTRIM(stars_FGK_nobinaries.HD,'HD'))) OR\n",
    "    (RTRIM(LTRIM(LTRIM(isaacson10_agetable.Name,'HIP'))) LIKE LTRIM(LTRIM(stars_FGK_nobinaries.hip,'HIP')))\n",
    "'''\n",
    "c.execute(cmd)\n",
    "rows = c.fetchall()\n",
    "print len(rows)\n",
    "for row in rows:\n",
    "    print row"
   ]
  },
  {
   "cell_type": "markdown",
   "metadata": {},
   "source": [
    "## Subquery for Tsantaki+2013"
   ]
  },
  {
   "cell_type": "code",
   "execution_count": 67,
   "metadata": {
    "scrolled": true
   },
   "outputs": [
    {
     "name": "stdout",
     "output_type": "stream",
     "text": [
      "40\n",
      "(u'55', u'D 55', 4.531000000000001, 3.824)\n",
      "(u'1581', u'D 1581', 2.191, 1.052)\n",
      "(u'2025', u'D 2025', 4.5569999999999995, 4.047)\n",
      "(u'22049', u'D 22049', 3.5780000000000003, 3.322)\n",
      "(u'23249', u'D 23249', 7.691, 0.37200000000000005)\n",
      "(u'23356', u'D 23356', 4.371, 4.407)\n",
      "(u'31560', u'D 31560', 4.376, 4.0680000000000005)\n",
      "(u'35854', u'D 35854', 4.8069999999999995, 4.047)\n",
      "(u'38858', u'D 38858', 2.01, 1.358)\n",
      "(u'39091', u'D 39091', 0.7709999999999999, 0.491)\n",
      "(u'40307', u'D 40307', 5.515, 3.946)\n",
      "(u'52919', u'D 52919', 4.408, 4.01)\n",
      "(u'69830', u'D 69830', 4.263999999999999, 4.178999999999999)\n",
      "(u'72673', u'D 72673', 7.07, 3.759)\n",
      "(u'76151', u'D 76151', 0.295, 0.21100000000000002)\n",
      "(u'85512', u'D 85512', 4.5569999999999995, 4.125)\n",
      "(u'101581', u'D 101581', 4.477, 4.032)\n",
      "(u'102438', u'D 102438', 10.021, 1.4680000000000002)\n",
      "(u'109200', u'D 109200', 7.689, 3.6319999999999997)\n",
      "(u'115617', u'D 115617', 8.986, 1.575)\n",
      "(u'125072', u'D 125072', 4.539, 4.141)\n",
      "(u'130992', u'D 130992', 4.32, 4.216)\n",
      "(u'142709', u'D 142709', 4.462, 4.048)\n",
      "(u'144628', u'D 144628', 6.093999999999999, 4.159)\n",
      "(u'154088', u'D 154088', 4.1530000000000005, 3.677)\n",
      "(u'154577', u'D 154577', 6.115, 4.118)\n",
      "(u'157347', u'D 157347', 6.14, 0.863)\n",
      "(u'160691', u'D 160691', 6.617000000000001, 0.515)\n",
      "(u'170493', u'D 170493', 4.4, 4.0280000000000005)\n",
      "(u'177565', u'D 177565', 1.127, 0.953)\n",
      "(u'189567', u'D 189567', 11.31, 0.466)\n",
      "(u'190248', u'D 190248', 8.477, 1.27)\n",
      "(u'192310', u'D 192310', 4.667, 3.5210000000000004)\n",
      "(u'192961', u'D 192961', 4.685, 4.104)\n",
      "(u'196761', u'D 196761', 6.973, 4.13)\n",
      "(u'213042', u'D 213042', 4.448, 4.042)\n",
      "(u'218511', u'D 218511', 4.34, 4.069)\n",
      "(u'220339', u'D 220339', 5.388999999999999, 4.175)\n",
      "(u'222237', u'D 222237', 4.692, 4.09)\n",
      "(u'222335', u'D 222335', 5.071000000000001, 4.315)\n"
     ]
    }
   ],
   "source": [
    "cmd = '''\n",
    "SELECT RTRIM(LTRIM(LTRIM(tsantaki13_agetable.Star,'HD'))), RTRIM(LTRIM(LTRIM(tsantaki13_agetable.Star,'HIP'))), \n",
    "tsantaki13_agetable.Age, tsantaki13_agetable.e_Age\n",
    "FROM tsantaki13_agetable\n",
    "    INNER JOIN stars_FGK_nobinaries\n",
    "    ON (RTRIM(LTRIM(LTRIM(tsantaki13_agetable.Star,'HD'))) LIKE LTRIM(LTRIM(stars_FGK_nobinaries.HD,'HD'))) OR\n",
    "    (RTRIM(LTRIM(LTRIM(tsantaki13_agetable.Star,'HIP'))) LIKE LTRIM(LTRIM(stars_FGK_nobinaries.hip,'HIP')))\n",
    "'''\n",
    "c.execute(cmd)\n",
    "rows = c.fetchall()\n",
    "print len(rows)\n",
    "for row in rows:\n",
    "    print row"
   ]
  },
  {
   "cell_type": "markdown",
   "metadata": {},
   "source": [
    "## Subquery for Casagrande+2011"
   ]
  },
  {
   "cell_type": "markdown",
   "metadata": {},
   "source": [
    "Has ages using two different isochrones. No additional stars added, so do not include this table for now."
   ]
  },
  {
   "cell_type": "code",
   "execution_count": 49,
   "metadata": {
    "scrolled": true
   },
   "outputs": [
    {
     "name": "stdout",
     "output_type": "stream",
     "text": [
      "498\n",
      "(18915, u'HD 25329', 7.41, 3.9, 11.39)\n",
      "(18915, u'HD 25329', 7.41, 3.9, 11.39)\n",
      "(18915, u'HD 25329', 7.41, 3.9, 11.39)\n",
      "(3206, u'HD 3765', 6.57, 2.1, 11.3)\n",
      "(3206, u'HD 3765', 6.57, 2.1, 11.3)\n",
      "(3206, u'HD 3765', 6.57, 2.1, 11.3)\n",
      "(3206, u'HD 3765', 6.57, 2.1, 11.3)\n",
      "(19422, u'HD 25665', 7.63, 2.69, 11.98)\n",
      "(8070, u'HD 10436', 7.88, 3.38, 11.94)\n",
      "(8070, u'HD 10436', 7.88, 3.38, 11.94)\n",
      "(18774, u'HD 24451', 7.74, 3.08, 11.97)\n",
      "(18774, u'HD 24451', 7.74, 3.08, 11.97)\n",
      "(40843, u'HD 69897', 2.35, 1.48, 3.09)\n",
      "(40843, u'HD 69897', 2.35, 1.48, 3.09)\n",
      "(40843, u'HD 69897', 2.35, 1.48, 3.09)\n",
      "(40843, u'HD 69897', 2.35, 1.48, 3.09)\n",
      "(40843, u'HD 69897', 2.35, 1.48, 3.09)\n",
      "(40843, u'HD 69897', 2.35, 1.48, 3.09)\n",
      "(40843, u'HD 69897', 2.35, 1.48, 3.09)\n",
      "(44897, u'HD 78366', 2.1, 0.68, 3.85)\n",
      "(44897, u'HD 78366', 2.1, 0.68, 3.85)\n",
      "(44897, u'HD 78366', 2.1, 0.68, 3.85)\n",
      "(44897, u'HD 78366', 2.1, 0.68, 3.85)\n",
      "(44897, u'HD 78366', 2.1, 0.68, 3.85)\n",
      "(53721, u'HD 95128', 6.25, 4.98, 7.51)\n",
      "(53721, u'HD 95128', 6.25, 4.98, 7.51)\n",
      "(53721, u'HD 95128', 6.25, 4.98, 7.51)\n",
      "(53721, u'HD 95128', 6.25, 4.98, 7.51)\n",
      "(53721, u'HD 95128', 6.25, 4.98, 7.51)\n",
      "(53721, u'HD 95128', 6.25, 4.98, 7.51)\n",
      "(53721, u'HD 95128', 6.25, 4.98, 7.51)\n",
      "(53721, u'HD 95128', 6.25, 4.98, 7.51)\n",
      "(47690, u'HD 84035', 6.72, 2.07, 11.52)\n",
      "(48113, u'HD 84737', 5.1, 4.39, 6.36)\n",
      "(48113, u'HD 84737', 5.1, 4.39, 6.36)\n",
      "(48113, u'HD 84737', 5.1, 4.39, 6.36)\n",
      "(48113, u'HD 84737', 5.1, 4.39, 6.36)\n",
      "(48113, u'HD 84737', 5.1, 4.39, 6.36)\n",
      "(48113, u'HD 84737', 5.1, 4.39, 6.36)\n",
      "(39157, u'HD 65583', 6.9, 2.25, 11.59)\n",
      "(39157, u'HD 65583', 6.9, 2.25, 11.59)\n",
      "(39157, u'HD 65583', 6.9, 2.25, 11.59)\n",
      "(39157, u'HD 65583', 6.9, 2.25, 11.59)\n",
      "(34017, u'HD 52711', 4.7, 2.44, 6.85)\n",
      "(34017, u'HD 52711', 4.7, 2.44, 6.85)\n",
      "(34017, u'HD 52711', 4.7, 2.44, 6.85)\n",
      "(34017, u'HD 52711', 4.7, 2.44, 6.85)\n",
      "(34017, u'HD 52711', 4.7, 2.44, 6.85)\n",
      "(34017, u'HD 52711', 4.7, 2.44, 6.85)\n",
      "(35136, u'HD 55575', 5.54, 3.61, 7.35)\n",
      "(35136, u'HD 55575', 5.54, 3.61, 7.35)\n",
      "(35136, u'HD 55575', 5.54, 3.61, 7.35)\n",
      "(35136, u'HD 55575', 5.54, 3.61, 7.35)\n",
      "(35136, u'HD 55575', 5.54, 3.61, 7.35)\n",
      "(35136, u'HD 55575', 5.54, 3.61, 7.35)\n",
      "(32769, u'HD 48948', 6.72, 2.05, 11.56)\n",
      "(42438, u'HD 72905', 2.5, 0.68, 5.44)\n",
      "(42438, u'HD 72905', 2.5, 0.68, 5.44)\n",
      "(42438, u'HD 72905', 2.5, 0.68, 5.44)\n",
      "(42438, u'HD 72905', 2.5, 0.68, 5.44)\n",
      "(42438, u'HD 72905', 2.5, 0.68, 5.44)\n",
      "(42438, u'HD 72905', 2.5, 0.68, 5.44)\n",
      "(42438, u'HD 72905', 2.5, 0.68, 5.44)\n",
      "(38784, u'HD 62613', 4.68, 1.4, 9.17)\n",
      "(38784, u'HD 62613', 4.68, 1.4, 9.17)\n",
      "(38784, u'HD 62613', 4.68, 1.4, 9.17)\n",
      "(38784, u'HD 62613', 4.68, 1.4, 9.17)\n",
      "(72312, u'HD 130307', 5.56, 1.49, 10.63)\n",
      "(72312, u'HD 130307', 5.56, 1.49, 10.63)\n",
      "(67275, u'HD 120136', 1.78, 0.65, 2.93)\n",
      "(67275, u'HD 120136', 1.78, 0.65, 2.93)\n",
      "(67275, u'HD 120136', 1.78, 0.65, 2.93)\n",
      "(67275, u'HD 120136', 1.78, 0.65, 2.93)\n",
      "(67275, u'HD 120136', 1.78, 0.65, 2.93)\n",
      "(78459, u'HD 143761', 7.82, 4.2, 11.1)\n",
      "(78459, u'HD 143761', 7.82, 4.2, 11.1)\n",
      "(78459, u'HD 143761', 7.82, 4.2, 11.1)\n",
      "(78459, u'HD 143761', 7.82, 4.2, 11.1)\n",
      "(78459, u'HD 143761', 7.82, 4.2, 11.1)\n",
      "(78459, u'HD 143761', 7.82, 4.2, 11.1)\n",
      "(83389, u'HD 154345', 5.39, 1.66, 10.22)\n",
      "(83389, u'HD 154345', 5.39, 1.66, 10.22)\n",
      "(83389, u'HD 154345', 5.39, 1.66, 10.22)\n",
      "(77760, u'HD 142373', 7.62, 7.0, 8.27)\n",
      "(77760, u'HD 142373', 7.62, 7.0, 8.27)\n",
      "(77760, u'HD 142373', 7.62, 7.0, 8.27)\n",
      "(77760, u'HD 142373', 7.62, 7.0, 8.27)\n",
      "(77760, u'HD 142373', 7.62, 7.0, 8.27)\n",
      "(77760, u'HD 142373', 7.62, 7.0, 8.27)\n",
      "(77760, u'HD 142373', 7.62, 7.0, 8.27)\n",
      "(62207, u'HD 110897', 5.1, 1.66, 9.34)\n",
      "(62207, u'HD 110897', 5.1, 1.66, 9.34)\n",
      "(62207, u'HD 110897', 5.1, 1.66, 9.34)\n",
      "(62207, u'HD 110897', 5.1, 1.66, 9.34)\n",
      "(62207, u'HD 110897', 5.1, 1.66, 9.34)\n",
      "(62207, u'HD 110897', 5.1, 1.66, 9.34)\n",
      "(71181, u'HD 128165', 6.84, 2.17, 11.61)\n",
      "(71181, u'HD 128165', 6.84, 2.17, 11.61)\n",
      "(71181, u'HD 128165', 6.84, 2.17, 11.61)\n",
      "(85235, u'HD 158633', 4.19, 1.03, 9.03)\n",
      "(85235, u'HD 158633', 4.19, 1.03, 9.03)\n",
      "(85235, u'HD 158633', 4.19, 1.03, 9.03)\n",
      "(85235, u'HD 158633', 4.19, 1.03, 9.03)\n",
      "(85235, u'HD 158633', 4.19, 1.03, 9.03)\n",
      "(85235, u'HD 158633', 4.19, 1.03, 9.03)\n",
      "(85235, u'HD 158633', 4.19, 1.03, 9.03)\n",
      "(105038, u'HD 202575', 7.63, 2.93, 11.91)\n",
      "(105038, u'HD 202575', 7.63, 2.93, 11.91)\n",
      "(107350, u'HD 206860', 2.45, 0.69, 5.13)\n",
      "(107350, u'HD 206860', 2.45, 0.69, 5.13)\n",
      "(107350, u'HD 206860', 2.45, 0.69, 5.13)\n",
      "(107350, u'HD 206860', 2.45, 0.69, 5.13)\n",
      "(107350, u'HD 206860', 2.45, 0.69, 5.13)\n",
      "(107350, u'HD 206860', 2.45, 0.69, 5.13)\n",
      "(107350, u'HD 206860', 2.45, 0.69, 5.13)\n",
      "(98505, u'HD 189733', 6.89, 2.28, 11.58)\n",
      "(98505, u'HD 189733', 6.89, 2.28, 11.58)\n",
      "(98505, u'HD 189733', 6.89, 2.28, 11.58)\n",
      "(98792, u'HD 190404', 7.26, 2.42, 11.79)\n",
      "(98792, u'HD 190404', 7.26, 2.42, 11.79)\n",
      "(98792, u'HD 190404', 7.26, 2.42, 11.79)\n",
      "(98792, u'HD 190404', 7.26, 2.42, 11.79)\n",
      "(114622, u'HD 219134', 6.51, 1.96, 11.45)\n",
      "(114622, u'HD 219134', 6.51, 1.96, 11.45)\n",
      "(114622, u'HD 219134', 6.51, 1.96, 11.45)\n",
      "(114622, u'HD 219134', 6.51, 1.96, 11.45)\n",
      "(100017, u'HD 193664', 2.74, 0.73, 5.99)\n",
      "(100017, u'HD 193664', 2.74, 0.73, 5.99)\n",
      "(100017, u'HD 193664', 2.74, 0.73, 5.99)\n",
      "(100017, u'HD 193664', 2.74, 0.73, 5.99)\n",
      "(1936, u'HD 2025', 6.7, 2.14, 11.49)\n",
      "(1936, u'HD 2025', 6.7, 2.14, 11.49)\n",
      "(116763, u'HD 222335', 5.53, 1.52, 10.62)\n",
      "(116763, u'HD 222335', 5.53, 1.52, 10.62)\n",
      "(116763, u'HD 222335', 5.53, 1.52, 10.62)\n",
      "(116763, u'HD 222335', 5.53, 1.52, 10.62)\n",
      "(116763, u'HD 222335', 5.53, 1.52, 10.62)\n",
      "(910, u'HD 693', 3.94, 3.52, 4.96)\n",
      "(910, u'HD 693', 3.94, 3.52, 4.96)\n",
      "(910, u'HD 693', 3.94, 3.52, 4.96)\n",
      "(910, u'HD 693', 3.94, 3.52, 4.96)\n",
      "(910, u'HD 693', 3.94, 3.52, 4.96)\n",
      "(115445, u'HD 220339', 6.19, 1.76, 11.19)\n",
      "(115445, u'HD 220339', 6.19, 1.76, 11.19)\n",
      "(115445, u'HD 220339', 6.19, 1.76, 11.19)\n",
      "(8102, u'HD 10700', 6.13, 1.81, 11.11)\n",
      "(8102, u'HD 10700', 6.13, 1.81, 11.11)\n",
      "(8102, u'HD 10700', 6.13, 1.81, 11.11)\n",
      "(8102, u'HD 10700', 6.13, 1.81, 11.11)\n",
      "(8102, u'HD 10700', 6.13, 1.81, 11.11)\n",
      "(8102, u'HD 10700', 6.13, 1.81, 11.11)\n",
      "(3909, u'HD 4813', 1.12, 0.32, 2.24)\n",
      "(3909, u'HD 4813', 1.12, 0.32, 2.24)\n",
      "(3909, u'HD 4813', 1.12, 0.32, 2.24)\n",
      "(3909, u'HD 4813', 1.12, 0.32, 2.24)\n",
      "(3909, u'HD 4813', 1.12, 0.32, 2.24)\n",
      "(3909, u'HD 4813', 1.12, 0.32, 2.24)\n",
      "(3909, u'HD 4813', 1.12, 0.32, 2.24)\n",
      "(3093, u'HD 3651', 6.6, 1.98, 11.48)\n",
      "(3093, u'HD 3651', 6.6, 1.98, 11.48)\n",
      "(3093, u'HD 3651', 6.6, 1.98, 11.48)\n",
      "(3093, u'HD 3651', 6.6, 1.98, 11.48)\n",
      "(3093, u'HD 3651', 6.6, 1.98, 11.48)\n",
      "(3093, u'HD 3651', 6.6, 1.98, 11.48)\n",
      "(113357, u'HD 217014', 5.33, 3.02, 7.44)\n",
      "(113357, u'HD 217014', 5.33, 3.02, 7.44)\n",
      "(113357, u'HD 217014', 5.33, 3.02, 7.44)\n",
      "(113357, u'HD 217014', 5.33, 3.02, 7.44)\n",
      "(113357, u'HD 217014', 5.33, 3.02, 7.44)\n",
      "(113357, u'HD 217014', 5.33, 3.02, 7.44)\n",
      "(25421, u'HD 35854', 6.33, 1.86, 11.28)\n",
      "(25421, u'HD 35854', 6.33, 1.86, 11.28)\n",
      "(22263, u'HD 30495', 1.26, 0.32, 2.87)\n",
      "(22263, u'HD 30495', 1.26, 0.32, 2.87)\n",
      "(22263, u'HD 30495', 1.26, 0.32, 2.87)\n",
      "(22263, u'HD 30495', 1.26, 0.32, 2.87)\n",
      "(22263, u'HD 30495', 1.26, 0.32, 2.87)\n",
      "(22263, u'HD 30495', 1.26, 0.32, 2.87)\n",
      "(22263, u'HD 30495', 1.26, 0.32, 2.87)\n",
      "(28103, u'HD 40136', 1.75, 1.46, 2.01)\n",
      "(28103, u'HD 40136', 1.75, 1.46, 2.01)\n",
      "(28103, u'HD 40136', 1.75, 1.46, 2.01)\n",
      "(28103, u'HD 40136', 1.75, 1.46, 2.01)\n",
      "(28103, u'HD 40136', 1.75, 1.46, 2.01)\n",
      "(27435, u'HD 38858', 1.77, 0.45, 4.15)\n",
      "(27435, u'HD 38858', 1.77, 0.45, 4.15)\n",
      "(27435, u'HD 38858', 1.77, 0.45, 4.15)\n",
      "(27435, u'HD 38858', 1.77, 0.45, 4.15)\n",
      "(27435, u'HD 38858', 1.77, 0.45, 4.15)\n",
      "(27435, u'HD 38858', 1.77, 0.45, 4.15)\n",
      "(23311, u'HD 32147', 5.32, 1.43, 10.45)\n",
      "(23311, u'HD 32147', 5.32, 1.43, 10.45)\n",
      "(23311, u'HD 32147', 5.32, 1.43, 10.45)\n",
      "(23311, u'HD 32147', 5.32, 1.43, 10.45)\n",
      "(18859, u'HD 25457', 1.46, 0.49, 2.6)\n",
      "(18859, u'HD 25457', 1.46, 0.49, 2.6)\n",
      "(18859, u'HD 25457', 1.46, 0.49, 2.6)\n",
      "(18859, u'HD 25457', 1.46, 0.49, 2.6)\n",
      "(16852, u'HD 22484', 4.48, 4.0, 5.52)\n",
      "(16852, u'HD 22484', 4.48, 4.0, 5.52)\n",
      "(16852, u'HD 22484', 4.48, 4.0, 5.52)\n",
      "(16852, u'HD 22484', 4.48, 4.0, 5.52)\n",
      "(16852, u'HD 22484', 4.48, 4.0, 5.52)\n",
      "(16852, u'HD 22484', 4.48, 4.0, 5.52)\n",
      "(16852, u'HD 22484', 4.48, 4.0, 5.52)\n",
      "(29525, u'HD 42807', 3.01, 0.75, 6.91)\n",
      "(29525, u'HD 42807', 3.01, 0.75, 6.91)\n",
      "(29525, u'HD 42807', 3.01, 0.75, 6.91)\n",
      "(32362, u'HD 48737', 1.6, 1.5, 1.71)\n",
      "(32362, u'HD 48737', 1.6, 1.5, 1.71)\n",
      "(33277, u'HD 50692', 4.57, 2.5, 6.49)\n",
      "(33277, u'HD 50692', 4.57, 2.5, 6.49)\n",
      "(33277, u'HD 50692', 4.57, 2.5, 6.49)\n",
      "(33277, u'HD 50692', 4.57, 2.5, 6.49)\n",
      "(32010, u'HD 47752', 7.28, 2.55, 11.79)\n",
      "(32010, u'HD 47752', 7.28, 2.55, 11.79)\n",
      "(57507, u'HD 102438', 4.94, 1.53, 9.42)\n",
      "(57507, u'HD 102438', 4.94, 1.53, 9.42)\n",
      "(57507, u'HD 102438', 4.94, 1.53, 9.42)\n",
      "(57507, u'HD 102438', 4.94, 1.53, 9.42)\n",
      "(58345, u'HD 103932', 6.66, 2.02, 11.51)\n",
      "(58345, u'HD 103932', 6.66, 2.02, 11.51)\n",
      "(58345, u'HD 103932', 6.66, 2.02, 11.51)\n",
      "(59199, u'HD 105452', 0.35, 0.08, 0.75)\n",
      "(59199, u'HD 105452', 0.35, 0.08, 0.75)\n",
      "(59199, u'HD 105452', 0.35, 0.08, 0.75)\n",
      "(59199, u'HD 105452', 0.35, 0.08, 0.75)\n",
      "(64924, u'HD 115617', 5.86, 1.7, 10.8)\n",
      "(64924, u'HD 115617', 5.86, 1.7, 10.8)\n",
      "(64924, u'HD 115617', 5.86, 1.7, 10.8)\n",
      "(64924, u'HD 115617', 5.86, 1.7, 10.8)\n",
      "(64924, u'HD 115617', 5.86, 1.7, 10.8)\n",
      "(64924, u'HD 115617', 5.86, 1.7, 10.8)\n",
      "(64924, u'HD 115617', 5.86, 1.7, 10.8)\n",
      "(64924, u'HD 115617', 5.86, 1.7, 10.8)\n",
      "(61174, u'HD 109085', 1.47, 1.21, 1.78)\n",
      "(61174, u'HD 109085', 1.47, 1.21, 1.78)\n",
      "(61174, u'HD 109085', 1.47, 1.21, 1.78)\n",
      "(54651, u'HD 97214', 7.01, 2.97, 11.31)\n",
      "(58576, u'HD 104304', 9.41, 6.27, 11.95)\n",
      "(58576, u'HD 104304', 9.41, 6.27, 11.95)\n",
      "(58576, u'HD 104304', 9.41, 6.27, 11.95)\n",
      "(58576, u'HD 104304', 9.41, 6.27, 11.95)\n",
      "(58576, u'HD 104304', 9.41, 6.27, 11.95)\n",
      "(58576, u'HD 104304', 9.41, 6.27, 11.95)\n",
      "(64792, u'HD 115383', 4.29, 3.59, 5.09)\n",
      "(64792, u'HD 115383', 4.29, 3.59, 5.09)\n",
      "(64792, u'HD 115383', 4.29, 3.59, 5.09)\n",
      "(64792, u'HD 115383', 4.29, 3.59, 5.09)\n",
      "(64792, u'HD 115383', 4.29, 3.59, 5.09)\n",
      "(64792, u'HD 115383', 4.29, 3.59, 5.09)\n",
      "(65721, u'HD 117176', 7.53, 6.5, 8.29)\n",
      "(65721, u'HD 117176', 7.53, 6.5, 8.29)\n",
      "(65721, u'HD 117176', 7.53, 6.5, 8.29)\n",
      "(65721, u'HD 117176', 7.53, 6.5, 8.29)\n",
      "(54810, u'HD 97503', 6.7, 2.07, 11.52)\n",
      "(54810, u'HD 97503', 6.7, 2.07, 11.52)\n",
      "(46580, u'HD 82106', 7.85, 3.04, 12.05)\n",
      "(46580, u'HD 82106', 7.85, 3.04, 12.05)\n",
      "(46580, u'HD 82106', 7.85, 3.04, 12.05)\n",
      "(46580, u'HD 82106', 7.85, 3.04, 12.05)\n",
      "(62523, u'HD 111395', 3.07, 0.9, 6.09)\n",
      "(62523, u'HD 111395', 3.07, 0.9, 6.09)\n",
      "(62523, u'HD 111395', 3.07, 0.9, 6.09)\n",
      "(62523, u'HD 111395', 3.07, 0.9, 6.09)\n",
      "(62523, u'HD 111395', 3.07, 0.9, 6.09)\n",
      "(57939, u'HD 103095', 11.46, 7.94, 12.83)\n",
      "(57939, u'HD 103095', 11.46, 7.94, 12.83)\n",
      "(57939, u'HD 103095', 11.46, 7.94, 12.83)\n",
      "(57939, u'HD 103095', 11.46, 7.94, 12.83)\n",
      "(57939, u'HD 103095', 11.46, 7.94, 12.83)\n",
      "(57939, u'HD 103095', 11.46, 7.94, 12.83)\n",
      "(86736, u'HD 160915', 2.08, 1.44, 2.67)\n",
      "(86736, u'HD 160915', 2.08, 1.44, 2.67)\n",
      "(99711, u'HD 192263', 5.65, 1.54, 10.75)\n",
      "(99711, u'HD 192263', 5.65, 1.54, 10.75)\n",
      "(99711, u'HD 192263', 5.65, 1.54, 10.75)\n",
      "(90656, u'HD 170493', 6.64, 2.04, 11.49)\n",
      "(90656, u'HD 170493', 6.64, 2.04, 11.49)\n",
      "(85042, u'HD 157347', 4.96, 1.75, 8.71)\n",
      "(85042, u'HD 157347', 4.96, 1.75, 8.71)\n",
      "(85042, u'HD 157347', 4.96, 1.75, 8.71)\n",
      "(85042, u'HD 157347', 4.96, 1.75, 8.71)\n",
      "(85042, u'HD 157347', 4.96, 1.75, 8.71)\n",
      "(85042, u'HD 157347', 4.96, 1.75, 8.71)\n",
      "(85042, u'HD 157347', 4.96, 1.75, 8.71)\n",
      "(82588, u'HD 152391', 6.82, 2.45, 11.26)\n",
      "(82588, u'HD 152391', 6.82, 2.45, 11.26)\n",
      "(82588, u'HD 152391', 6.82, 2.45, 11.26)\n",
      "(82588, u'HD 152391', 6.82, 2.45, 11.26)\n",
      "(92283, u'HD 174080', 6.76, 2.08, 11.56)\n",
      "(92283, u'HD 174080', 6.76, 2.08, 11.56)\n",
      "(92043, u'HD 173667', 2.5, 2.11, 2.85)\n",
      "(92043, u'HD 173667', 2.5, 2.11, 2.85)\n",
      "(92043, u'HD 173667', 2.5, 2.11, 2.85)\n",
      "(92043, u'HD 173667', 2.5, 2.11, 2.85)\n",
      "(92043, u'HD 173667', 2.5, 2.11, 2.85)\n",
      "(88972, u'HD 166620', 5.8, 1.72, 10.7)\n",
      "(88972, u'HD 166620', 5.8, 1.72, 10.7)\n",
      "(88972, u'HD 166620', 5.8, 1.72, 10.7)\n",
      "(88972, u'HD 166620', 5.8, 1.72, 10.7)\n",
      "(88972, u'HD 166620', 5.8, 1.72, 10.7)\n",
      "(26394, u'HD 39091', 3.07, 1.4, 4.7)\n",
      "(26394, u'HD 39091', 3.07, 1.4, 4.7)\n",
      "(26394, u'HD 39091', 3.07, 1.4, 4.7)\n",
      "(26394, u'HD 39091', 3.07, 1.4, 4.7)\n",
      "(2021, u'HD 2151', 5.47, 4.21, 6.02)\n",
      "(2021, u'HD 2151', 5.47, 4.21, 6.02)\n",
      "(2021, u'HD 2151', 5.47, 4.21, 6.02)\n",
      "(12653, u'HD 17051', 1.56, 0.46, 3.11)\n",
      "(12653, u'HD 17051', 1.56, 0.46, 3.11)\n",
      "(12653, u'HD 17051', 1.56, 0.46, 3.11)\n",
      "(27887, u'HD 40307', 6.76, 2.17, 11.49)\n",
      "(27887, u'HD 40307', 6.76, 2.17, 11.49)\n",
      "(27887, u'HD 40307', 6.76, 2.17, 11.49)\n",
      "(27887, u'HD 40307', 6.76, 2.17, 11.49)\n",
      "(25544, u'HD 36435', 5.3, 1.49, 10.37)\n",
      "(25544, u'HD 36435', 5.3, 1.49, 10.37)\n",
      "(25544, u'HD 36435', 5.3, 1.49, 10.37)\n",
      "(19884, u'HD 27274', 6.64, 2.0, 11.49)\n",
      "(19884, u'HD 27274', 6.64, 2.0, 11.49)\n",
      "(15510, u'HD 20794', 5.72, 2.05, 9.9)\n",
      "(15510, u'HD 20794', 5.72, 2.05, 9.9)\n",
      "(15510, u'HD 20794', 5.72, 2.05, 9.9)\n",
      "(15510, u'HD 20794', 5.72, 2.05, 9.9)\n",
      "(15510, u'HD 20794', 5.72, 2.05, 9.9)\n",
      "(17439, u'HD 23484', 6.45, 2.12, 11.16)\n",
      "(17439, u'HD 23484', 6.45, 2.12, 11.16)\n",
      "(22451, u'HD 30876', 5.2, 1.37, 10.32)\n",
      "(22451, u'HD 30876', 5.2, 1.37, 10.32)\n",
      "(1599, u'HD 1581', 2.52, 0.9, 4.38)\n",
      "(1599, u'HD 1581', 2.52, 0.9, 4.38)\n",
      "(1599, u'HD 1581', 2.52, 0.9, 4.38)\n",
      "(1599, u'HD 1581', 2.52, 0.9, 4.38)\n",
      "(1599, u'HD 1581', 2.52, 0.9, 4.38)\n",
      "(1599, u'HD 1581', 2.52, 0.9, 4.38)\n",
      "(7978, u'HD 10647', 1.23, 0.36, 2.44)\n",
      "(7978, u'HD 10647', 1.23, 0.36, 2.44)\n",
      "(7978, u'HD 10647', 1.23, 0.36, 2.44)\n",
      "(7978, u'HD 10647', 1.23, 0.36, 2.44)\n",
      "(5862, u'HD 7570', 3.62, 1.25, 6.13)\n",
      "(5862, u'HD 7570', 3.62, 1.25, 6.13)\n",
      "(5862, u'HD 7570', 3.62, 1.25, 6.13)\n",
      "(5862, u'HD 7570', 3.62, 1.25, 6.13)\n",
      "(5862, u'HD 7570', 3.62, 1.25, 6.13)\n",
      "(4148, u'HD 5133', 6.38, 1.86, 11.34)\n",
      "(4148, u'HD 5133', 6.38, 1.86, 11.34)\n",
      "(4148, u'HD 5133', 6.38, 1.86, 11.34)\n",
      "(4148, u'HD 5133', 6.38, 1.86, 11.34)\n",
      "(17651, u'HD 23754', 1.58, 1.36, 1.79)\n",
      "(17651, u'HD 23754', 1.58, 1.36, 1.79)\n",
      "(17651, u'HD 23754', 1.58, 1.36, 1.79)\n",
      "(10798, u'HD 14412', 4.27, 1.01, 9.24)\n",
      "(10798, u'HD 14412', 4.27, 1.01, 9.24)\n",
      "(10798, u'HD 14412', 4.27, 1.01, 9.24)\n",
      "(10798, u'HD 14412', 4.27, 1.01, 9.24)\n",
      "(10798, u'HD 14412', 4.27, 1.01, 9.24)\n",
      "(10798, u'HD 14412', 4.27, 1.01, 9.24)\n",
      "(10798, u'HD 14412', 4.27, 1.01, 9.24)\n",
      "(16537, u'HD 22049', 6.04, 1.74, 11.1)\n",
      "(16537, u'HD 22049', 6.04, 1.74, 11.1)\n",
      "(16537, u'HD 22049', 6.04, 1.74, 11.1)\n",
      "(16537, u'HD 22049', 6.04, 1.74, 11.1)\n",
      "(16537, u'HD 22049', 6.04, 1.74, 11.1)\n",
      "(16537, u'HD 22049', 6.04, 1.74, 11.1)\n",
      "(16537, u'HD 22049', 6.04, 1.74, 11.1)\n",
      "(15919, u'HD 21197', 6.73, 2.06, 11.53)\n",
      "(15919, u'HD 21197', 6.73, 2.06, 11.53)\n",
      "(15919, u'HD 21197', 6.73, 2.06, 11.53)\n",
      "(50954, u'HD 90589', 1.02, 0.71, 1.31)\n",
      "(50954, u'HD 90589', 1.02, 0.71, 1.31)\n",
      "(40702, u'HD 71243', 1.74, 1.6, 1.88)\n",
      "(40702, u'HD 71243', 1.74, 1.6, 1.88)\n",
      "(40702, u'HD 71243', 1.74, 1.6, 1.88)\n",
      "(29271, u'HD 43834', 5.07, 2.02, 8.14)\n",
      "(29271, u'HD 43834', 5.07, 2.02, 8.14)\n",
      "(29271, u'HD 43834', 5.07, 2.02, 8.14)\n",
      "(29271, u'HD 43834', 5.07, 2.02, 8.14)\n",
      "(29271, u'HD 43834', 5.07, 2.02, 8.14)\n",
      "(39342, u'HD 67199', 6.47, 2.04, 11.26)\n",
      "(56998, u'HD 101581', 7.45, 2.94, 11.86)\n",
      "(56998, u'HD 101581', 7.45, 2.94, 11.86)\n",
      "(56998, u'HD 101581', 7.45, 2.94, 11.86)\n",
      "(48331, u'HD 85512', 6.68, 2.04, 11.53)\n",
      "(48331, u'HD 85512', 6.68, 2.04, 11.53)\n",
      "(33690, u'HD 53143', 5.59, 1.73, 10.47)\n",
      "(42808, u'HD 74576', 7.54, 2.62, 11.9)\n",
      "(42808, u'HD 74576', 7.54, 2.62, 11.9)\n",
      "(42808, u'HD 74576', 7.54, 2.62, 11.9)\n",
      "(41926, u'HD 72673', 3.73, 0.84, 8.43)\n",
      "(41926, u'HD 72673', 3.73, 0.84, 8.43)\n",
      "(41926, u'HD 72673', 3.73, 0.84, 8.43)\n",
      "(41926, u'HD 72673', 3.73, 0.84, 8.43)\n",
      "(41926, u'HD 72673', 3.73, 0.84, 8.43)\n",
      "(41926, u'HD 72673', 3.73, 0.84, 8.43)\n",
      "(47592, u'HD 84117', 2.32, 1.3, 3.3)\n",
      "(47592, u'HD 84117', 2.32, 1.3, 3.3)\n",
      "(47592, u'HD 84117', 2.32, 1.3, 3.3)\n",
      "(47592, u'HD 84117', 2.32, 1.3, 3.3)\n",
      "(40693, u'HD 69830', 2.65, 0.67, 5.84)\n",
      "(40693, u'HD 69830', 2.65, 0.67, 5.84)\n",
      "(40693, u'HD 69830', 2.65, 0.67, 5.84)\n",
      "(40693, u'HD 69830', 2.65, 0.67, 5.84)\n",
      "(40693, u'HD 69830', 2.65, 0.67, 5.84)\n",
      "(40693, u'HD 69830', 2.65, 0.67, 5.84)\n",
      "(40693, u'HD 69830', 2.65, 0.67, 5.84)\n",
      "(40693, u'HD 69830', 2.65, 0.67, 5.84)\n",
      "(43726, u'HD 76151', 3.88, 1.26, 7.28)\n",
      "(43726, u'HD 76151', 3.88, 1.26, 7.28)\n",
      "(43726, u'HD 76151', 3.88, 1.26, 7.28)\n",
      "(43726, u'HD 76151', 3.88, 1.26, 7.28)\n",
      "(43726, u'HD 76151', 3.88, 1.26, 7.28)\n",
      "(43726, u'HD 76151', 3.88, 1.26, 7.28)\n",
      "(79537, u'HD 145417', 8.17, 4.32, 11.97)\n",
      "(79537, u'HD 145417', 8.17, 4.32, 11.97)\n",
      "(79190, u'HD 144628', 6.17, 1.77, 11.17)\n",
      "(79190, u'HD 144628', 6.17, 1.77, 11.17)\n",
      "(79190, u'HD 144628', 6.17, 1.77, 11.17)\n",
      "(79190, u'HD 144628', 6.17, 1.77, 11.17)\n",
      "(79190, u'HD 144628', 6.17, 1.77, 11.17)\n",
      "(69972, u'HD 125072', 7.54, 2.77, 11.89)\n",
      "(69972, u'HD 125072', 7.54, 2.77, 11.89)\n",
      "(69972, u'HD 125072', 7.54, 2.77, 11.89)\n",
      "(69972, u'HD 125072', 7.54, 2.77, 11.89)\n",
      "(75181, u'HD 136352', 5.93, 2.35, 9.69)\n",
      "(75181, u'HD 136352', 5.93, 2.35, 9.69)\n",
      "(75181, u'HD 136352', 5.93, 2.35, 9.69)\n",
      "(75181, u'HD 136352', 5.93, 2.35, 9.69)\n",
      "(83990, u'HD 154577', 6.42, 1.81, 11.4)\n",
      "(83990, u'HD 154577', 6.42, 1.81, 11.4)\n",
      "(83990, u'HD 154577', 6.42, 1.81, 11.4)\n",
      "(83990, u'HD 154577', 6.42, 1.81, 11.4)\n",
      "(81935, u'HD 150689', 7.2, 2.47, 11.76)\n",
      "(76829, u'HD 139664', 1.15, 0.52, 1.74)\n",
      "(76829, u'HD 139664', 1.15, 0.52, 1.74)\n",
      "(78170, u'HD 142709', 6.58, 1.99, 11.5)\n",
      "(78170, u'HD 142709', 6.58, 1.99, 11.5)\n",
      "(66765, u'HD 118972', 6.31, 1.97, 11.14)\n",
      "(66765, u'HD 118972', 6.31, 1.97, 11.14)\n",
      "(66765, u'HD 118972', 6.31, 1.97, 11.14)\n",
      "(72688, u'HD 130992', 7.05, 2.34, 11.71)\n",
      "(72688, u'HD 130992', 7.05, 2.34, 11.71)\n",
      "(116745, u'HD 222237', 6.97, 2.32, 11.62)\n",
      "(116745, u'HD 222237', 6.97, 2.32, 11.62)\n",
      "(116745, u'HD 222237', 6.97, 2.32, 11.62)\n",
      "(116745, u'HD 222237', 6.97, 2.32, 11.62)\n",
      "(105858, u'HD 203608', 3.39, 1.52, 5.23)\n",
      "(105858, u'HD 203608', 3.39, 1.52, 5.23)\n",
      "(105858, u'HD 203608', 3.39, 1.52, 5.23)\n",
      "(105858, u'HD 203608', 3.39, 1.52, 5.23)\n",
      "(105858, u'HD 203608', 3.39, 1.52, 5.23)\n",
      "(98959, u'HD 189567', 6.05, 3.27, 8.6)\n",
      "(98959, u'HD 189567', 6.05, 3.27, 8.6)\n",
      "(98959, u'HD 189567', 6.05, 3.27, 8.6)\n",
      "(98959, u'HD 189567', 6.05, 3.27, 8.6)\n",
      "(99240, u'HD 190248', 9.35, 7.96, 10.72)\n",
      "(99240, u'HD 190248', 9.35, 7.96, 10.72)\n",
      "(99240, u'HD 190248', 9.35, 7.96, 10.72)\n",
      "(99240, u'HD 190248', 9.35, 7.96, 10.72)\n",
      "(99240, u'HD 190248', 9.35, 7.96, 10.72)\n",
      "(106696, u'HD 205390', 6.07, 1.74, 11.01)\n",
      "(106696, u'HD 205390', 6.07, 1.74, 11.01)\n",
      "(106696, u'HD 205390', 6.07, 1.74, 11.01)\n",
      "(106696, u'HD 205390', 6.07, 1.74, 11.01)\n",
      "(109422, u'HD 210302', 0.89, 0.39, 1.52)\n",
      "(109422, u'HD 210302', 0.89, 0.39, 1.52)\n",
      "(110996, u'HD 213042', 7.27, 2.52, 11.81)\n",
      "(110996, u'HD 213042', 7.27, 2.52, 11.81)\n",
      "(89042, u'HD 165499', 6.19, 5.07, 7.29)\n",
      "(89042, u'HD 165499', 6.19, 5.07, 7.29)\n",
      "(89042, u'HD 165499', 6.19, 5.07, 7.29)\n",
      "(93858, u'HD 177565', 4.06, 1.37, 7.23)\n",
      "(93858, u'HD 177565', 4.06, 1.37, 7.23)\n",
      "(93858, u'HD 177565', 4.06, 1.37, 7.23)\n",
      "(95149, u'HD 181321', 1.23, 0.28, 3.21)\n",
      "(95149, u'HD 181321', 1.23, 0.28, 3.21)\n",
      "(100925, u'HD 194640', 5.78, 1.84, 10.4)\n",
      "(100925, u'HD 194640', 5.78, 1.84, 10.4)\n",
      "(100925, u'HD 194640', 5.78, 1.84, 10.4)\n",
      "(102485, u'HD 197692', 1.44, 1.01, 1.87)\n",
      "(102485, u'HD 197692', 1.44, 1.01, 1.87)\n",
      "(102485, u'HD 197692', 1.44, 1.01, 1.87)\n",
      "(102485, u'HD 197692', 1.44, 1.01, 1.87)\n",
      "(102485, u'HD 197692', 1.44, 1.01, 1.87)\n",
      "(99825, u'HD 192310', 6.21, 1.96, 11.0)\n",
      "(99825, u'HD 192310', 6.21, 1.96, 11.0)\n",
      "(99825, u'HD 192310', 6.21, 1.96, 11.0)\n",
      "(99825, u'HD 192310', 6.21, 1.96, 11.0)\n",
      "(99825, u'HD 192310', 6.21, 1.96, 11.0)\n",
      "(99825, u'HD 192310', 6.21, 1.96, 11.0)\n",
      "(99825, u'HD 192310', 6.21, 1.96, 11.0)\n",
      "(101997, u'HD 196761', 2.81, 0.68, 6.65)\n",
      "(101997, u'HD 196761', 2.81, 0.68, 6.65)\n",
      "(101997, u'HD 196761', 2.81, 0.68, 6.65)\n",
      "(101997, u'HD 196761', 2.81, 0.68, 6.65)\n",
      "(101997, u'HD 196761', 2.81, 0.68, 6.65)\n",
      "(101997, u'HD 196761', 2.81, 0.68, 6.65)\n",
      "(101997, u'HD 196761', 2.81, 0.68, 6.65)\n"
     ]
    }
   ],
   "source": [
    "cmd = '''\n",
    "SELECT t.HIP, t.Name, t.ageMP, t.age16P, t.age84P\n",
    "FROM casagrande11_agetable as t\n",
    "    INNER JOIN stars_FGK_nobinaries as s\n",
    "    ON t.HIP LIKE LTRIM(LTRIM(s.hip,'HIP')) OR\n",
    "    (RTRIM(LTRIM(LTRIM(t.Name,'HD'))) LIKE LTRIM(LTRIM(s.hip,'HD'))) OR\n",
    "    REPLACE(LTRIM(t.Name,'BD'),' ','') LIKE REPLACE(LTRIM(s.main_id,'BD'),' ','')\n",
    "    LEFT OUTER JOIN ages AS a ON a.sid = s.sid\n",
    "--WHERE a.sid IS NULL\n",
    "'''\n",
    "c.execute(cmd)\n",
    "rows = c.fetchall()\n",
    "print len(rows)\n",
    "for row in rows:\n",
    "    print row"
   ]
  },
  {
   "cell_type": "markdown",
   "metadata": {},
   "source": [
    "## Subquery for Chen+2001"
   ]
  },
  {
   "cell_type": "code",
   "execution_count": 154,
   "metadata": {
    "scrolled": true
   },
   "outputs": [
    {
     "name": "stdout",
     "output_type": "stream",
     "text": [
      "13\n",
      "(u'HD   693', u'*   6 Cet', u'693', u'D   693', u'HD693', 4.8, u' ')\n",
      "(u'HD  4813', u'* phi02 Cet', u'4813', u'D  4813', u'HD4813', 3.8, u' ')\n",
      "(u'HD 22484', u'*  10 Tau', u'22484', u'D 22484', u'HD22484', 6.3, u' ')\n",
      "(u'HD 25457', u'HD  25457', u'25457', u'D 25457', u'HD25457', 3.5, u' ')\n",
      "(u'HD 55575', u'HD  55575', u'55575', u'D 55575', u'HD55575', 10.6, u' ')\n",
      "(u'HD 69897', u'* chi Cnc', u'69897', u'D 69897', u'HD69897', 3.3, u' ')\n",
      "(u'HD 95128', u'*  47 UMa', u'95128', u'D 95128', u'HD95128', 12.1, u' ')\n",
      "(u'HD110897', u'*  10 CVn', u'110897', u'D110897', u'HD110897', 14.5, u' ')\n",
      "(u'HD142373', u'* chi Her', u'142373', u'D142373', u'HD142373', 9.7, u' ')\n",
      "(u'HD143761', u'* rho CrB', u'143761', u'D143761', u'HD143761', 11.2, u' ')\n",
      "(u'HD157347', u'HD 157347', u'157347', u'D157347', u'HD157347', 7.7, u' ')\n",
      "(u'HD203608', u'* gam Pav', u'203608', u'D203608', u'HD203608', 7.2, u' ')\n",
      "(u'HD206860', u'HD 206860', u'206860', u'D206860', u'HD206860', 9.9, u' ')\n"
     ]
    }
   ],
   "source": [
    "cmd = '''\n",
    "SELECT t.Name, s.main_id, RTRIM(LTRIM(LTRIM(t.Name,'HD'))), RTRIM(LTRIM(LTRIM(t.Name,'HIP'))), REPLACE(LTRIM(t.Name,'BD'),' ',''),\n",
    "t.Age, t.u_Age\n",
    "FROM chen01_agetable as t\n",
    "    INNER JOIN stars_FGK_nobinaries as s\n",
    "    ON \n",
    "    (RTRIM(LTRIM(LTRIM(t.Name,'HD'))) LIKE LTRIM(LTRIM(s.HD,'HD'))) OR\n",
    "    (RTRIM(LTRIM(LTRIM(t.Name,'HIP'))) LIKE LTRIM(LTRIM(s.hip,'HIP'))) OR\n",
    "    REPLACE(LTRIM(t.Name,'BD'),' ','') LIKE REPLACE(LTRIM(s.main_id,'BD'),' ','') OR\n",
    "    REPLACE(LTRIM(t.Name,'CD'),' ','') LIKE REPLACE(LTRIM(s.main_id,'CD'),' ','')\n",
    "'''\n",
    "c.execute(cmd)\n",
    "rows = c.fetchall()\n",
    "print len(rows)\n",
    "for row in rows:\n",
    "    print row"
   ]
  },
  {
   "cell_type": "markdown",
   "metadata": {},
   "source": [
    "## Subquery for David+2015"
   ]
  },
  {
   "cell_type": "code",
   "execution_count": 158,
   "metadata": {
    "scrolled": true
   },
   "outputs": [
    {
     "name": "stdout",
     "output_type": "stream",
     "text": [
      "11\n",
      "(28103, u'* eta Lep', 1.283, 1.394, 1.155, 1.779)\n",
      "(32362, u'* ksi Gem', 1.391, 1.698, 0.841, 4.34)\n",
      "(59199, u'* alf Crv', 0.558, 0.729, 0.398, 1.54)\n",
      "(61174, u'* eta Crv', 0.814, 1.012, 0.537, 2.243)\n",
      "(86736, u'*  58 Oph', 2.652, 2.558, 1.717, 3.236)\n",
      "(92043, u'* 110 Her', 3.185, 3.107, 2.234, 4.418)\n",
      "(17651, u'* tau06 Eri', 1.694, 2.0, 1.223, 4.097)\n",
      "(50954, u'* I Car', 0.977, 1.259, 0.75, 2.113)\n",
      "(40702, u'* alf Cha', 1.801, 1.939, 1.417, 2.567)\n",
      "(76829, u'* g Lup', 1.902, 1.995, 1.496, 2.441)\n",
      "(102485, u'* psi Cap', 1.907, 1.866, 1.403, 2.38)\n"
     ]
    }
   ],
   "source": [
    "cmd = '''\n",
    "SELECT t.HIP, s.main_id, t.Ageavg/1e3, t.Agemed/1e3, t.Age68lo/1e3, t.Age68up/1e3\n",
    "FROM david15_agetable as t\n",
    "    INNER JOIN stars_FGK_nobinaries as s\n",
    "    ON t.HIP LIKE LTRIM(LTRIM(s.hip,'HIP'))\n",
    "'''\n",
    "c.execute(cmd)\n",
    "rows = c.fetchall()\n",
    "print len(rows)\n",
    "for row in rows:\n",
    "    print row"
   ]
  },
  {
   "cell_type": "markdown",
   "metadata": {},
   "source": [
    "## Subquery for Yee+2017"
   ]
  },
  {
   "cell_type": "markdown",
   "metadata": {},
   "source": [
    "Age uncertainties really large from this source, and ages exceed age of the universe... hmm.\n",
    "\n",
    "<s>I will not add this table for now.</s>\n",
    "I will add these table without the uncertainties for now."
   ]
  },
  {
   "cell_type": "code",
   "execution_count": 99,
   "metadata": {
    "scrolled": true
   },
   "outputs": [
    {
     "name": "stdout",
     "output_type": "stream",
     "text": [
      "85\n",
      "(u'HD 128311', 8.91250938133744, 2.8840315031265997, 27.542287033381633)\n",
      "(u'HD 130307', 5.4954087385762485, 1.698243652461746, 17.78279410038923)\n",
      "(u'HD 170657', 6.456542290346563, 2.041737944669532, 20.417379446695318)\n",
      "(u'HD 189733', 7.762471166286928, 2.5118864315095824, 23.988329190194946)\n",
      "(u'HD 202575', 9.120108393559116, 3.090295432513592, 26.91534803926925)\n",
      "(u'HD 220339', 6.16595001861481, 1.8620871366628655, 20.417379446695232)\n",
      "(u'HD 31560', 10.0, 3.5481338923357604, 28.18382931264449)\n",
      "(u'HD 42807', 2.1379620895022327, 0.9772372209558111, 4.677351412871981)\n",
      "(u'HD 5133', 5.623413251903491, 1.698243652461746, 18.620871366628656)\n",
      "(u'HD 84737', 6.309573444801943, 4.7863009232264, 8.317637711026709)\n",
      "(u'HD 87883', 8.317637711026709, 2.754228703338163, 25.11886431509582)\n",
      "(u'HIP 105341', 4.3651583224016655, 1.3182567385564101, 14.45439770745928)\n",
      "(u'HIP 15095', 4.073802778041122, 1.2302687708123812, 13.489628825916505)\n",
      "(u'HIP 40375', 3.5481338923357604, 1.0715193052376093, 11.748975549395302)\n",
      "(u'HIP 54810', 3.801893963205613, 1.1481536214968842, 12.589254117941662)\n",
      "(u'HD 111631', 6.16595001861481, 1.9054607179632443, 19.952623149688748)\n",
      "(u'HD 157881', 4.4668359215096345, 1.348962882591656, 14.791083881682072)\n",
      "(u'HD 165222', 5.011872336272715, 1.513561248436207, 16.595869074375564)\n",
      "(u'HD 209290', 3.6307805477010175, 1.0964781961431873, 12.02264434617413)\n",
      "(u'HD 232979', 6.025595860743569, 1.8620871366628655, 19.498445997580415)\n",
      "(u'HD 245409', 4.570881896148752, 1.3803842646028865, 15.135612484362072)\n",
      "(u'HD 265866', 4.570881896148752, 1.3803842646028865, 15.135612484362072)\n",
      "(u'HD 28343', 5.888436553555884, 1.8197008586099825, 19.054607179632445)\n",
      "(u'GL 109', 5.248074602497733, 1.6218100973589331, 16.98243652461746)\n",
      "(u'GL 2066', 6.025595860743569, 1.8620871366628655, 19.498445997580415)\n",
      "(u'GL 273', 7.079457843841373, 2.29086765276777, 21.87761623949552)\n",
      "(u'GL 382', 5.623413251903491, 1.698243652461746, 18.620871366628656)\n",
      "(u'GL 393', 4.570881896148752, 1.3803842646028865, 15.135612484362072)\n",
      "(u'GL 514', 3.4673685045253095, 1.0471285480508985, 11.481536214968793)\n",
      "(u'GL 625', 5.623413251903491, 1.7378008287493762, 18.197008586099827)\n",
      "(u'GL 686', 4.265795188015934, 1.2589254117941713, 14.45439770745928)\n",
      "(u'GL 694', 5.248074602497733, 1.5848931924611174, 17.378008287493763)\n",
      "(u'GL 87', 5.4954087385762485, 1.659586907437563, 18.197008586099827)\n",
      "(u'GL 875', 5.888436553555884, 1.8197008586099825, 19.054607179632445)\n",
      "(u'GL 908', 5.248074602497733, 1.5848931924611174, 17.378008287493763)\n",
      "(u'HIP 104432', 5.011872336272715, 1.513561248436207, 16.595869074375564)\n",
      "(u'HIP 109388', 4.4668359215096345, 1.348962882591656, 14.791083881682072)\n",
      "(u'HIP 11048', 7.079457843841373, 2.29086765276777, 21.87761623949552)\n",
      "(u'HIP 115332', 4.7863009232263805, 1.4454397707459279, 15.84893192461111)\n",
      "(u'HIP 115562', 3.5481338923357604, 1.0715193052376093, 11.748975549395302)\n",
      "(u'HIP 15366', 5.754399373371567, 1.7782794100389228, 18.620871366628656)\n",
      "(u'HIP 1734', 4.897788193684456, 1.4791083881682072, 16.218100973589266)\n",
      "(u'HIP 21556', 3.5481338923357604, 1.0715193052376093, 11.748975549395302)\n",
      "(u'HIP 22762', 5.623413251903491, 1.7378008287493762, 18.197008586099827)\n",
      "(u'HIP 23512', 5.623413251903491, 1.698243652461746, 18.620871366628656)\n",
      "(u'HIP 36338', 4.897788193684456, 1.513561248436207, 15.84893192461111)\n",
      "(u'HIP 36834', 4.168693834703347, 1.2589254117941662, 13.80384264602881)\n",
      "(u'HIP 37217', 6.456542290346563, 1.9952623149688828, 20.892961308540407)\n",
      "(u'HIP 46769', 5.248074602497733, 1.5848931924611174, 17.378008287493763)\n",
      "(u'HIP 47513', 6.760829753919819, 2.1877616239495516, 20.892961308540407)\n",
      "(u'HIP 51007', 4.265795188015934, 1.2589254117941713, 14.45439770745928)\n",
      "(u'HIP 5643', 4.073802778041122, 1.2302687708123812, 13.489628825916505)\n",
      "(u'HIP 57050', 6.025595860743569, 1.8620871366628655, 19.498445997580415)\n",
      "(u'HIP 57548', 4.168693834703347, 1.2302687708123812, 14.125375446227498)\n",
      "(u'HIP 61706', 4.3651583224016655, 1.2882495516931376, 14.791083881682072)\n",
      "(u'HIP 65016', 7.413102413009161, 2.344228815319918, 23.44228815319918)\n",
      "(u'HIP 71253', 7.762471166286928, 2.5118864315095824, 23.988329190194946)\n",
      "(u'HIP 8051', 5.754399373371567, 1.7782794100389228, 18.620871366628656)\n",
      "(u'HIP 91699', 5.623413251903491, 1.7378008287493762, 18.197008586099827)\n",
      "(u'HD 10700', 12.30268770812381, 8.51138038202376, 17.78279410038923)\n",
      "(u'HD 115617', 9.332543007969925, 7.943282347242821, 10.964781961431873)\n",
      "(u'HD 117176', 10.471285480508985, 7.762471166286896, 14.125375446227554)\n",
      "(u'HD 119850', 6.918309709189363, 2.2387211385683377, 21.379620895022324)\n",
      "(u'HD 120136', 1.1748975549395304, 0.9120108393559115, 1.513561248436207)\n",
      "(u'HD 143761', 9.120108393559116, 7.244359600749921, 11.481536214968841)\n",
      "(u'HD 145675', 1.8620871366628655, 0.8128305161640995, 4.265795188015916)\n",
      "(u'HD 158633', 10.715193052376048, 5.011872336272715, 22.908676527677702)\n",
      "(u'HD 173667', 2.754228703338163, 2.570395782768865, 2.951209226666378)\n",
      "(u'HD 206860', 4.3651583224016655, 1.8620871366628733, 10.232929922807536)\n",
      "(u'HD 216899', 9.772372209558112, 3.981071705534969, 23.988329190194946)\n",
      "(u'HD 217014', 7.762471166286928, 4.7863009232263805, 12.589254117941714)\n",
      "(u'HD 217987', 4.570881896148752, 1.348962882591656, 15.488166189124795)\n",
      "(u'HD 219134', 13.182567385564047, 10.232929922807536, 16.98243652461739)\n",
      "(u'HD 22484', 5.128613839913658, 4.1686938347033635, 6.309573444801943)\n",
      "(u'HD 23249', 12.589254117941662, 10.232929922807536, 15.488166189124795)\n",
      "(u'HD 3651', 13.182567385564047, 9.772372209558071, 17.78279410038923)\n",
      "(u'HD 38858', 6.456542290346563, 3.3884415613920345, 12.30268770812381)\n",
      "(u'HD 48737', 1.698243652461746, 1.5848931924611174, 1.8197008586099825)\n",
      "(u'HD 69897', 5.370317963702533, 4.073802778041139, 7.079457843841373)\n",
      "(u'HD 7924', 5.128613839913658, 1.548816618912486, 16.98243652461746)\n",
      "(u'HD 95735', 8.128305161640995, 2.754228703338163, 23.988329190194946)\n",
      "(u'GL 144', 2.344228815319918, 0.954992586021433, 5.754399373371567)\n",
      "(u'HIP 57087', 4.168693834703347, 1.2589254117941662, 13.80384264602881)\n",
      "(u'HIP 74995', 4.073802778041122, 1.2022644346174132, 13.80384264602881)\n",
      "(u'HIP 83043', 7.762471166286928, 2.570395782768865, 23.442288153199275)\n"
     ]
    }
   ],
   "source": [
    "cmd = '''\n",
    "SELECT t.Name, POWER(10,t.logAge-9), POWER(10,logAge-t.e_logAge-9), POWER(10,logAge+t.e_logAge-9)\n",
    "--SELECT t.Name, POWER(10,t.logAge-9), t.e_logAge, POWER(10,t.e_logAge), POWER(10,t.e_logAge)/POWER(10,t.logAge-9)\n",
    "FROM yee17_agetable as t\n",
    "    INNER JOIN stars_FGK_nobinaries as s\n",
    "    ON (RTRIM(LTRIM(LTRIM(t.Name,'HD'))) LIKE LTRIM(LTRIM(s.HD,'HD'))) OR\n",
    "    (RTRIM(LTRIM(LTRIM(t.Name,'HIP'))) LIKE LTRIM(LTRIM(s.hip,'HIP'))) OR \n",
    "    (RTRIM(LTRIM(LTRIM(t.Name,'GL'))) LIKE LTRIM(LTRIM(s.gj,'GJ'))) \n",
    "--WHERE s.sp_type LIKE 'M%' AND 1e3/s.plx_value < 10\n",
    "'''\n",
    "c.execute(cmd)\n",
    "rows = c.fetchall()\n",
    "print len(rows)\n",
    "for row in rows:\n",
    "    print row"
   ]
  },
  {
   "cell_type": "markdown",
   "metadata": {},
   "source": [
    "## Subquery for Luck+2017"
   ]
  },
  {
   "cell_type": "code",
   "execution_count": 63,
   "metadata": {},
   "outputs": [
    {
     "name": "stdout",
     "output_type": "stream",
     "text": [
      "5\n",
      "(213, u'HD 232979', u'232979 ', 21553.0, 10.1, None, None, None, None, None, None, 302, u'HD 232979', u'69.4205447608177', u'52.8936141785169', u'HD 232979', u'GJ   172', u'HIP  21553', None, u'M0.5V', u'1989ApJS...71..245K', 100.7797, 0.064, u'2018yCat.1345....0G', 8.863, 0.1, u'2012yCat.1322....0Z', 7.9495, 0.0006, u'2018yCat.1345....0G')\n",
      "(451, u'V* DS Leo', u'95650  ', 53985.0, 11.8, None, None, None, None, None, None, 371, u'V* DS Leo', u'165.659758026371', u'21.9671401332591', u'HD  95650', u'GJ   410', u'HIP  53985', None, u'M1.0V', u'2013AJ....145..102L', 83.7765, 0.0573, u'2018yCat.1345....0G', 9.572000000000001, None, u'2010MNRAS.403.1949K', 8.807, 0.0008, u'2018yCat.1345....0G')\n",
      "(552, u'HD 122303', u'122303 ', 68469.0, 10.0, None, None, None, None, None, None, 312, u'HD 122303', u'210.2632841162', u'-2.65486525585167', u'HD 122303', u'GJ   536', u'HIP  68469', None, u'M0V', u'1986AJ.....92..139S', 96.0398, 0.0872, u'2018yCat.1345....0G', 9.707, None, u'2010MNRAS.403.1949K', 8.8588, 0.0014, u'2018yCat.1345....0G')\n",
      "(951, u'HD 216133', u'216133 ', 112774.0, 14.1, None, None, None, None, None, None, 501, u'HD 216133', u'342.58093424465', u'-7.0901058060582', u'HD 216133', u'GJ   875', u'HIP 112774', None, u'M0.5V', u'2010MNRAS.403.1949K', 68.9567, 0.0539, u'2018yCat.1345....0G', 9.847000000000001, None, u'2010MNRAS.403.1949K', 9.1303, 0.0006, u'2018yCat.1345....0G')\n",
      "(959, u'HD 217357', u'217357 ', 113576.0, 8.2, None, None, None, None, None, None, 7, u'HD 217357', u'345.067176987993', u'-22.5243476190278', u'HD 217357', u'GJ   884', u'HIP 113576', None, u'K7+Vk', u'2006AJ....132..161G', 121.4918, 0.0507, u'2018yCat.1345....0G', 7.869, None, u'2010MNRAS.403.1949K', 7.2521, 0.0006, u'2018yCat.1345....0G')\n"
     ]
    }
   ],
   "source": [
    "cmd = '''\n",
    "SELECT *\n",
    "FROM luck17_agetable as t\n",
    "    INNER JOIN stars_FGK_nobinaries as s\n",
    "    ON (RTRIM(LTRIM(LTRIM(t.HD,'HD'))) LIKE LTRIM(LTRIM(s.HD,'HD'))) OR\n",
    "    (RTRIM(LTRIM(LTRIM(t.HIP,'HIP'))) LIKE LTRIM(LTRIM(s.hip,'HIP')))\n",
    "    LEFT OUTER JOIN ages as a ON a.sid = s.sid\n",
    "WHERE a.sid IS Null\n",
    "--WHERE t.\"<Age>\" IS NULL\n",
    "'''\n",
    "c.execute(cmd)\n",
    "rows = c.fetchall()\n",
    "print len(rows)\n",
    "for row in rows:\n",
    "    print row"
   ]
  },
  {
   "cell_type": "markdown",
   "metadata": {},
   "source": [
    "Why did adding this table not increase # of stars with ages even with query result above?"
   ]
  },
  {
   "cell_type": "markdown",
   "metadata": {},
   "source": [
    "## Subquery for Riedel+2014"
   ]
  },
  {
   "cell_type": "code",
   "execution_count": 130,
   "metadata": {
    "scrolled": true
   },
   "outputs": [
    {
     "name": "stdout",
     "output_type": "stream",
     "text": [
      "4\n",
      "(334, u'L   34-26', None, u'L 34-26', 2.0, u'<')\n",
      "(269, u'G 154-44', u'GJ  1224', u'GJ 1224', 4.5, u'<')\n",
      "(240, u'G  99-49', u'GJ  3379', u'G 99-49', 3.0, u'<')\n",
      "(279, u'G  19-7', u'GJ  1207', u'GJ 1207', 3.0, u'<')\n"
     ]
    }
   ],
   "source": [
    "cmd = '''\n",
    "SELECT s.sid, s.main_id, s.GJ, t.Name, t.Age, t.l_Age\n",
    "FROM riedel14_agetable as t\n",
    "    INNER JOIN stars_FGK_nobinaries as s\n",
    "    ON REPLACE(t.Name,' ','') = REPLACE(s.main_id,' ','')\n",
    "        OR REPLACE(t.Name,' ','') = REPLACE(s.gj,' ','')\n",
    "'''\n",
    "c.execute(cmd)\n",
    "rows = c.fetchall()\n",
    "print len(rows)\n",
    "for row in rows:\n",
    "    print row"
   ]
  },
  {
   "cell_type": "markdown",
   "metadata": {},
   "source": [
    "## Subquery for Brandt+2014"
   ]
  },
  {
   "cell_type": "code",
   "execution_count": 147,
   "metadata": {
    "scrolled": true
   },
   "outputs": [
    {
     "name": "stdout",
     "output_type": "stream",
     "text": [
      "9\n",
      "(235, u'HIP 80824', u'BD-12  4523', u'GJ   628', u'HIP  80824', None, 3.98, 5.37, 7.19, 4.306456023547701)\n",
      "(251, u'HIP 37766', u'V* YZ CMi', u'GJ   285', u'HIP  37766', None, 0.061, 0.181, 0.3, 5.987357096754494)\n",
      "(260, u'HIP 53020', u'Wolf  358', u'GJ   402', u'HIP  53020', None, 5.16, 7.5, 9.55, 6.968781947509741)\n",
      "(261, u'HIP 51317', u'BD+01  2447', u'GJ   393', u'HIP  51317', None, 0.117, 0.13, 0.146, 7.032917570689612)\n",
      "(426, u'HIP 9291', u'Ross   15', u'GJ    82', u'HIP   9291', None, 0.023, 0.033, 0.304, 13.134822384364307)\n",
      "(525, u'HIP 112909', u'V* GT Peg', u'GJ  9799,GJ   875.1', u'HIP 112909', None, 0.021, 0.096, 0.202, 15.05638616619239)\n",
      "(526, u'HIP 37288', u'BD+02  1729', u'GJ   281', u'HIP  37288', None, 1.78, 2.62, 3.83, 15.057837152502763)\n",
      "(662, u'HIP 17695', u'G  80-21', None, u'HIP  17695', None, 0.084, 0.211, 0.339, 16.80217621786374)\n",
      "(670, u'HIP 65016', u'Ross 1007', u'GJ   507.1,GJ  9440', u'HIP  65016', None, 4.08, 5.62, 7.81, 16.861273869240822)\n"
     ]
    }
   ],
   "source": [
    "cmd = '''\n",
    "SELECT s.sid, t.Name, s.main_id, s.GJ, s.hip, s.hd, t.Age10/1e3, t.Age50/1e3, t.Age90/1e3, 1e3/s.plx_value\n",
    "FROM brandt14_agetable as t\n",
    "    INNER JOIN stars_FGK_nobinaries as s\n",
    "    ON REPLACE(t.Name,' ','') = REPLACE(s.main_id,' ','')\n",
    "        OR REPLACE(t.Name,' ','') = REPLACE(s.gj,' ','')\n",
    "        OR REPLACE(t.Name,' ','') = REPLACE(s.hip,' ','')\n",
    "        OR REPLACE(t.Name,' ','') = REPLACE(s.hd,' ','')\n",
    "'''\n",
    "c.execute(cmd)\n",
    "rows = c.fetchall()\n",
    "print len(rows)\n",
    "for row in rows:\n",
    "    print row"
   ]
  },
  {
   "cell_type": "markdown",
   "metadata": {},
   "source": [
    "## Subquery for Miles+2017"
   ]
  },
  {
   "cell_type": "code",
   "execution_count": 168,
   "metadata": {
    "scrolled": false
   },
   "outputs": [
    {
     "name": "stdout",
     "output_type": "stream",
     "text": [
      "4\n",
      "(u'GJ3136', u'G 173-39', u'GJ  3136', None, None, 0.1, 17.065341486015804, u'M4.0V')\n",
      "(u'G80-21', u'G  80-21', None, u'HIP  17695', None, 0.1, 16.80217621786374, u'M3.0V')\n",
      "(u'BD+012447', u'BD+01  2447', u'GJ   393', u'HIP  51317', None, 0.1, 7.032917570689612, u'M2.0Ve')\n",
      "(u'HD95650', u'V* DS Leo', u'GJ   410', u'HIP  53985', u'HD  95650', 0.3, 11.936521578246884, u'M1.0V')\n"
     ]
    }
   ],
   "source": [
    "cmd = '''\n",
    "SELECT t.Name, s.main_id, s.gj, s.hip, s.hd, t.Age/1e3, 1e3/s.plx_value, s.sp_type\n",
    "FROM miles17_agetable as t\n",
    "    INNER JOIN stars_FGK_nobinaries as s\n",
    "    ON REPLACE(t.Name,' ','') = REPLACE(s.main_id,' ','')\n",
    "        OR REPLACE(t.Name,' ','') = REPLACE(s.gj,' ','')\n",
    "        OR REPLACE(t.Name,' ','') = REPLACE(s.hip,' ','')\n",
    "        OR REPLACE(t.Name,' ','') = REPLACE(s.hd,' ','')\n",
    "--WHERE s.sp_type LIKE 'M%' AND 1e3/plx_value < 10\n",
    "WHERE t.Age/1e3 <> 5\n",
    "'''\n",
    "c.execute(cmd)\n",
    "rows = c.fetchall()\n",
    "print len(rows)\n",
    "for row in rows:\n",
    "    print row"
   ]
  },
  {
   "cell_type": "markdown",
   "metadata": {},
   "source": [
    "## Subquery for Bryden+2009"
   ]
  },
  {
   "cell_type": "code",
   "execution_count": 27,
   "metadata": {},
   "outputs": [
    {
     "name": "stdout",
     "output_type": "stream",
     "text": [
      "24\n",
      "(u'HD 3651   ', 6.2, u'54 Psc  ', u'*  54 Psc')\n",
      "(u'HD 10647  ', 2.0, u'        ', u'* q01 Eri')\n",
      "(u'HD 17051  ', 0.9, u'iot Hor ', u'* iot Hor')\n",
      "(u'HD 22049  ', 0.8, u'eps Eri ', u'* eps Eri')\n",
      "(u'HD 39091  ', 5.3, u'        ', u'* pi. Men')\n",
      "(u'HD 39091  ', 5.3, u'        ', u'* pi. Men')\n",
      "(u'HD 40307  ', 7.3, u'        ', u'HD  40307')\n",
      "(u'HD 69830  ', 6.0, u'        ', u'HD  69830')\n",
      "(u'HD 95128  ', 6.4, u'47 UMa  ', u'*  47 UMa')\n",
      "(u'HD 117176 ', 8.8, u'70 Vir  ', u'*  70 Vir')\n",
      "(u'HD 120136 ', 0.6, u'tau Boo ', u'* tau Boo')\n",
      "(u'HD 128311 ', 0.4, u'        ', u'HD 128311')\n",
      "(u'HD 143761 ', 4.5, u'rho CrB ', u'* rho CrB')\n",
      "(u'HD 145675 ', 8.1, u'14 Her  ', u'*  14 Her')\n",
      "(u'HD 154345 ', 5.0, u'        ', u'HD 154345')\n",
      "(u'HD 160691 ', 7.5, u'mu Ara  ', u'* mu. Ara')\n",
      "(u'HD 189733 ', 0.9, u'        ', u'HD 189733')\n",
      "(u'HD 192263 ', 0.4, u'        ', u'HD 192263')\n",
      "(u'HD 217014 ', 7.3, u'51 Peg  ', u'*  51 Peg')\n",
      "(u'GJ 436    ', 10.1, u'        ', u'Ross  905')\n",
      "(u'GJ 581    ', 1.0, u'        ', u'BD-07  4003')\n",
      "(u'GJ 674    ', 0.2, u'        ', u'CD-46 11540')\n",
      "(u'GJ 832    ', 8.4, u'        ', u'HD 204961')\n",
      "(u'GJ 849    ', 0.6, u'        ', u'BD-05  5715')\n"
     ]
    }
   ],
   "source": [
    "cmd = '''\n",
    "SELECT t.Name, t.Age, t.OName, s.main_id\n",
    "FROM bryden09_agetable as t\n",
    "    INNER JOIN stars_FGK_nobinaries as s\n",
    "    ON REPLACE(t.Name,' ','') = REPLACE(s.main_id,' ','')\n",
    "        OR REPLACE(t.Name,' ','') = REPLACE(s.gj,' ','')\n",
    "        OR REPLACE(t.Name,' ','') = REPLACE(s.hd,' ','')\n",
    "        OR REPLACE(t.Oname,' ','') = REPLACE(REPLACE(s.main_id,' ',''),'*','')\n",
    "--WHERE s.sp_type LIKE 'M%' AND 1e3/plx_value < 10\n",
    "'''\n",
    "c.execute(cmd)\n",
    "rows = c.fetchall()\n",
    "print len(rows)\n",
    "for row in rows:\n",
    "    print row"
   ]
  },
  {
   "cell_type": "markdown",
   "metadata": {},
   "source": [
    "## Add new ages to table"
   ]
  },
  {
   "cell_type": "markdown",
   "metadata": {},
   "source": [
    "(Added spectral type constraint below to only add ages for M stars)"
   ]
  },
  {
   "cell_type": "code",
   "execution_count": 26,
   "metadata": {},
   "outputs": [
    {
     "name": "stdout",
     "output_type": "stream",
     "text": [
      "13\n"
     ]
    }
   ],
   "source": [
    "cmd = '''\n",
    "SELECT * FROM ages WHERE bibcode = ''\n",
    "'''\n",
    "c.execute(cmd)\n",
    "rows=c.fetchall()\n",
    "print len(rows)"
   ]
  },
  {
   "cell_type": "code",
   "execution_count": 27,
   "metadata": {},
   "outputs": [
    {
     "data": {
      "text/plain": [
       "<sqlite3.Cursor at 0x108aa9880>"
      ]
     },
     "execution_count": 27,
     "metadata": {},
     "output_type": "execute_result"
    }
   ],
   "source": [
    "cmd = '''\n",
    "DELETE FROM ages\n",
    "WHERE bibcode = ''\n",
    "'''\n",
    "c.execute(cmd)"
   ]
  },
  {
   "cell_type": "code",
   "execution_count": 16,
   "metadata": {},
   "outputs": [
    {
     "data": {
      "text/plain": [
       "<sqlite3.Cursor at 0x10ae7a490>"
      ]
     },
     "execution_count": 16,
     "metadata": {},
     "output_type": "execute_result"
    }
   ],
   "source": [
    "cmd = '''\n",
    "INSERT INTO ages (age, bibcode, sid)\n",
    "SELECT gaspar13_agetable.Age/100, '2013ApJ...768...25G', stars_FGK_nobinaries.sid\n",
    "FROM gaspar13_agetable\n",
    "    INNER JOIN stars_FGK_nobinaries\n",
    "    ON (RTRIM(LTRIM(LTRIM(LTRIM(gaspar13_agetable.Name,'HD')),'0')) LIKE LTRIM(LTRIM(stars_FGK_nobinaries.HD,'HD')))\n",
    "    OR (RTRIM(LTRIM(LTRIM(LTRIM(gaspar13_agetable.Name,'HIP')),'0')) LIKE LTRIM(LTRIM(stars_FGK_nobinaries.HIP,'HIP')))\n",
    "WHERE gaspar13_agetable.Age is NOT NULL\n",
    "AND stars_FGK_nobinaries.sp_type LIKE 'M%'\n",
    "'''\n",
    "c.execute(cmd)"
   ]
  },
  {
   "cell_type": "code",
   "execution_count": 17,
   "metadata": {},
   "outputs": [
    {
     "data": {
      "text/plain": [
       "<sqlite3.Cursor at 0x10ae7a490>"
      ]
     },
     "execution_count": 17,
     "metadata": {},
     "output_type": "execute_result"
    }
   ],
   "source": [
    "cmd = '''\n",
    "INSERT INTO ages (age, age_lo, age_hi, bibcode, sid)\n",
    "SELECT ramirez13_agetable.Age, ramirez13_agetable.Age_lo1sig, ramirez13_agetable.Age_hi1sig,  \n",
    "'2013ApJ...764...78R', stars_FGK_nobinaries.sid\n",
    "FROM ramirez13_agetable\n",
    "    INNER JOIN stars_FGK_nobinaries\n",
    "    ON (RTRIM(LTRIM(LTRIM(ramirez13_agetable.Name,'HIP'))) LIKE LTRIM(LTRIM(stars_FGK_nobinaries.HIP,'HIP')))\n",
    "    OR (RTRIM(LTRIM(LTRIM(ramirez13_agetable.Name,'HD'))) LIKE LTRIM(LTRIM(stars_FGK_nobinaries.HD,'HD')))\n",
    "WHERE ramirez13_agetable.Age is NOT NULL\n",
    "AND stars_FGK_nobinaries.sp_type LIKE 'M%'\n",
    "'''\n",
    "c.execute(cmd)"
   ]
  },
  {
   "cell_type": "code",
   "execution_count": 18,
   "metadata": {},
   "outputs": [
    {
     "data": {
      "text/plain": [
       "<sqlite3.Cursor at 0x10ae7a490>"
      ]
     },
     "execution_count": 18,
     "metadata": {},
     "output_type": "execute_result"
    }
   ],
   "source": [
    "cmd = '''\n",
    "INSERT INTO ages (age, age_lo, age_hi, bibcode, sid)\n",
    "SELECT ramirez12_agetable.Age, ramirez12_agetable.Age_lolim, ramirez12_agetable.Age_hilim,\n",
    "'2012ApJ...756...46R', stars_FGK_nobinaries.sid\n",
    "FROM ramirez12_agetable\n",
    "    INNER JOIN stars_FGK_nobinaries\n",
    "    ON ramirez12_agetable.hip LIKE LTRIM(LTRIM(stars_FGK_nobinaries.HIP,'HIP'))\n",
    "WHERE ramirez12_agetable.Age IS NOT Null\n",
    "AND stars_FGK_nobinaries.sp_type LIKE 'M%'\n",
    "'''\n",
    "c.execute(cmd)"
   ]
  },
  {
   "cell_type": "code",
   "execution_count": 33,
   "metadata": {},
   "outputs": [
    {
     "name": "stdout",
     "output_type": "stream",
     "text": [
      "48\n"
     ]
    }
   ],
   "source": [
    "cmd = '''\n",
    "SELECT * FROM ages WHERE bibcode = '2010ApJ...725..875I'\n",
    "'''\n",
    "c.execute(cmd)\n",
    "rows=c.fetchall()\n",
    "print len(rows)"
   ]
  },
  {
   "cell_type": "code",
   "execution_count": 22,
   "metadata": {},
   "outputs": [
    {
     "data": {
      "text/plain": [
       "<sqlite3.Cursor at 0x10ae7a490>"
      ]
     },
     "execution_count": 22,
     "metadata": {},
     "output_type": "execute_result"
    }
   ],
   "source": [
    "#cmd = '''\n",
    "#DELETE FROM ages\n",
    "#WHERE bibcode = '2010ApJ...725..875I'\n",
    "#'''\n",
    "#c.execute(cmd)"
   ]
  },
  {
   "cell_type": "code",
   "execution_count": 32,
   "metadata": {},
   "outputs": [
    {
     "data": {
      "text/plain": [
       "<sqlite3.Cursor at 0x10ae7a490>"
      ]
     },
     "execution_count": 32,
     "metadata": {},
     "output_type": "execute_result"
    }
   ],
   "source": [
    "cmd = '''\n",
    "INSERT INTO ages (age, bibcode, sid)\n",
    "SELECT isaacson10_agetable.Age, '2010ApJ...725..875I', stars_FGK_nobinaries.sid\n",
    "FROM isaacson10_agetable\n",
    "    INNER JOIN stars_FGK_nobinaries\n",
    "    ON (RTRIM(LTRIM(LTRIM(isaacson10_agetable.Name,'HD'))) LIKE LTRIM(LTRIM(stars_FGK_nobinaries.HD,'HD'))) OR\n",
    "    (RTRIM(LTRIM(LTRIM(isaacson10_agetable.Name,'HIP'))) LIKE LTRIM(LTRIM(stars_FGK_nobinaries.hip,'HIP')))\n",
    "--WHERE stars_FGK_nobinaries.sp_type LIKE 'M%'\n",
    "'''\n",
    "c.execute(cmd)"
   ]
  },
  {
   "cell_type": "code",
   "execution_count": 38,
   "metadata": {},
   "outputs": [
    {
     "name": "stdout",
     "output_type": "stream",
     "text": [
      "40\n"
     ]
    }
   ],
   "source": [
    "cmd = '''\n",
    "SELECT * FROM ages WHERE bibcode = '2013A&A...555A.150T'\n",
    "'''\n",
    "c.execute(cmd)\n",
    "rows=c.fetchall()\n",
    "print len(rows)"
   ]
  },
  {
   "cell_type": "code",
   "execution_count": 36,
   "metadata": {},
   "outputs": [
    {
     "data": {
      "text/plain": [
       "<sqlite3.Cursor at 0x10ae7a490>"
      ]
     },
     "execution_count": 36,
     "metadata": {},
     "output_type": "execute_result"
    }
   ],
   "source": [
    "#cmd = '''\n",
    "#DELETE FROM ages\n",
    "#WHERE bibcode = '2013A&A...555A.150T'\n",
    "#'''\n",
    "#c.execute(cmd)"
   ]
  },
  {
   "cell_type": "code",
   "execution_count": 37,
   "metadata": {},
   "outputs": [
    {
     "data": {
      "text/plain": [
       "<sqlite3.Cursor at 0x10ae7a490>"
      ]
     },
     "execution_count": 37,
     "metadata": {},
     "output_type": "execute_result"
    }
   ],
   "source": [
    "cmd = '''\n",
    "INSERT INTO ages (age, age_lo, age_hi, bibcode, sid)\n",
    "SELECT t.Age, t.Age - t.e_Age, t.Age + t.e_Age, '2013A&A...555A.150T', s.sid\n",
    "FROM tsantaki13_agetable as t\n",
    "    INNER JOIN stars_FGK_nobinaries as s\n",
    "    ON (RTRIM(LTRIM(LTRIM(t.Star,'HD'))) LIKE LTRIM(LTRIM(s.HD,'HD'))) OR\n",
    "    (RTRIM(LTRIM(LTRIM(t.Star,'HIP'))) LIKE LTRIM(LTRIM(s.hip,'HIP')))\n",
    "--WHERE s.sp_type LIKE 'M%'\n",
    "'''\n",
    "c.execute(cmd)"
   ]
  },
  {
   "cell_type": "code",
   "execution_count": 39,
   "metadata": {},
   "outputs": [
    {
     "data": {
      "text/plain": [
       "<sqlite3.Cursor at 0x10ae7a490>"
      ]
     },
     "execution_count": 39,
     "metadata": {},
     "output_type": "execute_result"
    }
   ],
   "source": [
    "cmd = '''\n",
    "INSERT INTO ages (age, bibcode, sid)\n",
    "SELECT t.Age, '2001A&A...371..943C', s.sid\n",
    "FROM chen01_agetable as t\n",
    "    INNER JOIN stars_FGK_nobinaries as s\n",
    "    ON \n",
    "    (RTRIM(LTRIM(LTRIM(t.Name,'HD'))) LIKE LTRIM(LTRIM(s.HD,'HD'))) OR\n",
    "    (RTRIM(LTRIM(LTRIM(t.Name,'HIP'))) LIKE LTRIM(LTRIM(s.hip,'HIP'))) OR\n",
    "    REPLACE(LTRIM(t.Name,'BD'),' ','') LIKE REPLACE(LTRIM(s.main_id,'BD'),' ','') OR\n",
    "    REPLACE(LTRIM(t.Name,'CD'),' ','') LIKE REPLACE(LTRIM(s.main_id,'CD'),' ','')\n",
    "WHERE s.sp_type LIKE 'M%'\n",
    "'''\n",
    "c.execute(cmd)"
   ]
  },
  {
   "cell_type": "code",
   "execution_count": 40,
   "metadata": {},
   "outputs": [
    {
     "data": {
      "text/plain": [
       "<sqlite3.Cursor at 0x10ae7a490>"
      ]
     },
     "execution_count": 40,
     "metadata": {},
     "output_type": "execute_result"
    }
   ],
   "source": [
    "cmd = '''\n",
    "INSERT INTO ages (age, age_lo, age_hi, bibcode, sid)\n",
    "SELECT t.Agemed/1e3, t.Age68lo/1e3, t.Age68up/1e3, '2015ApJ...804..146D', s.sid\n",
    "FROM david15_agetable as t\n",
    "    INNER JOIN stars_FGK_nobinaries as s\n",
    "    ON t.HIP LIKE LTRIM(LTRIM(s.hip,'HIP'))\n",
    "WHERE s.sp_type LIKE 'M%'\n",
    "'''\n",
    "c.execute(cmd)"
   ]
  },
  {
   "cell_type": "code",
   "execution_count": 101,
   "metadata": {},
   "outputs": [
    {
     "data": {
      "text/plain": [
       "<sqlite3.Cursor at 0x10b045f80>"
      ]
     },
     "execution_count": 101,
     "metadata": {},
     "output_type": "execute_result"
    }
   ],
   "source": [
    "cmd = '''\n",
    "INSERT INTO ages (age, bibcode, sid)\n",
    "SELECT POWER(10,t.logAge-9), '2017ApJ...836...77Y', s.sid\n",
    "FROM yee17_agetable as t\n",
    "    INNER JOIN stars_FGK_nobinaries as s\n",
    "    ON (RTRIM(LTRIM(LTRIM(t.Name,'HD'))) LIKE LTRIM(LTRIM(s.HD,'HD'))) OR\n",
    "    (RTRIM(LTRIM(LTRIM(t.Name,'HIP'))) LIKE LTRIM(LTRIM(s.hip,'HIP'))) OR \n",
    "    (RTRIM(LTRIM(LTRIM(t.Name,'GL'))) LIKE LTRIM(LTRIM(s.gj,'GJ'))) \n",
    "'''\n",
    "c.execute(cmd)"
   ]
  },
  {
   "cell_type": "code",
   "execution_count": 64,
   "metadata": {},
   "outputs": [
    {
     "data": {
      "text/plain": [
       "<sqlite3.Cursor at 0x10af45f80>"
      ]
     },
     "execution_count": 64,
     "metadata": {},
     "output_type": "execute_result"
    }
   ],
   "source": [
    "cmd = '''\n",
    "DELETE FROM ages\n",
    "WHERE bibcode = '2017AJ....153...21L'\n",
    "'''\n",
    "c.execute(cmd)"
   ]
  },
  {
   "cell_type": "code",
   "execution_count": 65,
   "metadata": {},
   "outputs": [
    {
     "data": {
      "text/plain": [
       "<sqlite3.Cursor at 0x10af45f80>"
      ]
     },
     "execution_count": 65,
     "metadata": {},
     "output_type": "execute_result"
    }
   ],
   "source": [
    "cmd = '''\n",
    "INSERT INTO ages (age, bibcode, sid)\n",
    "SELECT t.\"<Age>\", '2017AJ....153...21L', s.sid\n",
    "FROM luck17_agetable as t\n",
    "    INNER JOIN stars_FGK_nobinaries as s\n",
    "    ON (RTRIM(LTRIM(LTRIM(t.HD,'HD'))) LIKE LTRIM(LTRIM(s.HD,'HD'))) OR\n",
    "    (RTRIM(LTRIM(LTRIM(t.HIP,'HIP'))) LIKE LTRIM(LTRIM(s.hip,'HIP')))\n",
    "--WHERE s.sp_type LIKE 'M%'\n",
    "WHERE t.\"<Age>\" IS NOT NULL\n",
    "'''\n",
    "c.execute(cmd)"
   ]
  },
  {
   "cell_type": "code",
   "execution_count": 131,
   "metadata": {},
   "outputs": [
    {
     "data": {
      "text/plain": [
       "<sqlite3.Cursor at 0x113dfdea0>"
      ]
     },
     "execution_count": 131,
     "metadata": {},
     "output_type": "execute_result"
    }
   ],
   "source": [
    "cmd = '''\n",
    "INSERT INTO ages (age, age_lo, age_hi, bibcode, sid)\n",
    "SELECT t.Age, 0, t.Age, '2014AJ....147...85R', s.sid\n",
    "FROM riedel14_agetable as t\n",
    "    INNER JOIN stars_FGK_nobinaries as s\n",
    "    ON REPLACE(t.Name,' ','') = REPLACE(s.main_id,' ','')\n",
    "        OR REPLACE(t.Name,' ','') = REPLACE(s.gj,' ','')\n",
    "'''\n",
    "c.execute(cmd)"
   ]
  },
  {
   "cell_type": "code",
   "execution_count": 148,
   "metadata": {},
   "outputs": [
    {
     "data": {
      "text/plain": [
       "<sqlite3.Cursor at 0x113737110>"
      ]
     },
     "execution_count": 148,
     "metadata": {},
     "output_type": "execute_result"
    }
   ],
   "source": [
    "cmd = '''\n",
    "INSERT INTO ages (age, age_lo, age_hi, bibcode, sid)\n",
    "SELECT  t.Age50/1e3, t.Age10/1e3,  t.Age90/1e3, '2014ApJ...794..159B', s.sid\n",
    "FROM brandt14_agetable as t\n",
    "    INNER JOIN stars_FGK_nobinaries as s\n",
    "    ON REPLACE(t.Name,' ','') = REPLACE(s.main_id,' ','')\n",
    "        OR REPLACE(t.Name,' ','') = REPLACE(s.gj,' ','')\n",
    "        OR REPLACE(t.Name,' ','') = REPLACE(s.hip,' ','')\n",
    "        OR REPLACE(t.Name,' ','') = REPLACE(s.hd,' ','')\n",
    "'''\n",
    "c.execute(cmd)"
   ]
  },
  {
   "cell_type": "markdown",
   "metadata": {},
   "source": [
    "Exclude those with 5 Gyr age, bc that was only a nominal assumption."
   ]
  },
  {
   "cell_type": "code",
   "execution_count": 169,
   "metadata": {},
   "outputs": [
    {
     "data": {
      "text/plain": [
       "<sqlite3.Cursor at 0x113fd9b20>"
      ]
     },
     "execution_count": 169,
     "metadata": {},
     "output_type": "execute_result"
    }
   ],
   "source": [
    "cmd = '''\n",
    "INSERT INTO ages (age, bibcode, sid)\n",
    "SELECT t.Age/1e3, '2017AJ....154...67M', s.sid\n",
    "FROM miles17_agetable as t\n",
    "    INNER JOIN stars_FGK_nobinaries as s\n",
    "    ON REPLACE(t.Name,' ','') = REPLACE(s.main_id,' ','')\n",
    "        OR REPLACE(t.Name,' ','') = REPLACE(s.gj,' ','')\n",
    "        OR REPLACE(t.Name,' ','') = REPLACE(s.hip,' ','')\n",
    "        OR REPLACE(t.Name,' ','') = REPLACE(s.hd,' ','')\n",
    "WHERE t.Age/1e3 <> 5\n",
    "'''\n",
    "c.execute(cmd)"
   ]
  },
  {
   "cell_type": "code",
   "execution_count": 28,
   "metadata": {},
   "outputs": [
    {
     "data": {
      "text/plain": [
       "<sqlite3.Cursor at 0x111e8c500>"
      ]
     },
     "execution_count": 28,
     "metadata": {},
     "output_type": "execute_result"
    }
   ],
   "source": [
    "cmd = '''\n",
    "INSERT INTO ages (age, bibcode, sid)\n",
    "SELECT t.Age, '2009ApJ...705.1226B', s.sid\n",
    "FROM bryden09_agetable as t\n",
    "    INNER JOIN stars_FGK_nobinaries as s\n",
    "    ON REPLACE(t.Name,' ','') = REPLACE(s.main_id,' ','')\n",
    "        OR REPLACE(t.Name,' ','') = REPLACE(s.gj,' ','')\n",
    "        OR REPLACE(t.Name,' ','') = REPLACE(s.hd,' ','')\n",
    "        OR REPLACE(t.Oname,' ','') = REPLACE(REPLACE(s.main_id,' ',''),'*','')\n",
    "'''\n",
    "c.execute(cmd)"
   ]
  },
  {
   "cell_type": "markdown",
   "metadata": {},
   "source": [
    "### Manual ages"
   ]
  },
  {
   "cell_type": "code",
   "execution_count": null,
   "metadata": {
    "collapsed": true
   },
   "outputs": [],
   "source": [
    "cmd = '''\n",
    "INSERT INTO ages (age, age_lo, age_hi, bib)\n",
    "\n",
    "'''"
   ]
  },
  {
   "cell_type": "code",
   "execution_count": 29,
   "metadata": {
    "collapsed": true
   },
   "outputs": [],
   "source": [
    "connection.commit()"
   ]
  },
  {
   "cell_type": "code",
   "execution_count": 30,
   "metadata": {
    "collapsed": true
   },
   "outputs": [],
   "source": [
    "c.close()"
   ]
  },
  {
   "cell_type": "markdown",
   "metadata": {
    "collapsed": true
   },
   "source": [
    "## Check table"
   ]
  },
  {
   "cell_type": "code",
   "execution_count": 128,
   "metadata": {
    "collapsed": true
   },
   "outputs": [],
   "source": [
    "connection = sqlite3.connect('nearby_stars.db')\n",
    "c = connection.cursor()"
   ]
  },
  {
   "cell_type": "markdown",
   "metadata": {},
   "source": [
    "What percentage of stars within 10 pc have ages?"
   ]
  },
  {
   "cell_type": "code",
   "execution_count": 129,
   "metadata": {},
   "outputs": [
    {
     "name": "stdout",
     "output_type": "stream",
     "text": [
      "43 94\n",
      "51\n"
     ]
    }
   ],
   "source": [
    "cmd = '''\n",
    "SELECT COUNT(DISTINCT s.sid)\n",
    "FROM ages as a\n",
    "    INNER JOIN stars_FGK_nobinaries AS s ON s.sid = a.sid\n",
    "WHERE (1e3/s.plx_value) < 10\n",
    "'''\n",
    "c.execute(cmd)\n",
    "num_yage = c.fetchall()[0][0]\n",
    "\n",
    "cmd = '''\n",
    "SELECT COUNT(*)\n",
    "FROM stars_FGK_nobinaries AS s\n",
    "WHERE (1e3/s.plx_value) < 10\n",
    "'''\n",
    "c.execute(cmd)\n",
    "num_nage = c.fetchall()[0][0]\n",
    "print num_yage, num_nage\n",
    "print num_nage - num_yage"
   ]
  },
  {
   "cell_type": "markdown",
   "metadata": {},
   "source": [
    "Number of stars with at least one age measurement:"
   ]
  },
  {
   "cell_type": "code",
   "execution_count": 71,
   "metadata": {},
   "outputs": [
    {
     "name": "stdout",
     "output_type": "stream",
     "text": [
      "(176,)\n"
     ]
    }
   ],
   "source": [
    "cmd = '''\n",
    "SELECT COUNT (DISTINCT stars_FGK_nobinaries.sid)\n",
    "FROM  ages \n",
    "INNER JOIN stars_FGK_nobinaries ON stars_FGK_nobinaries.sid = ages.sid\n",
    "'''\n",
    "c.execute(cmd)\n",
    "rows = c.fetchall()\n",
    "for row in rows:\n",
    "    print row"
   ]
  },
  {
   "cell_type": "markdown",
   "metadata": {},
   "source": [
    "Number of stars with more than one age measurement:"
   ]
  },
  {
   "cell_type": "code",
   "execution_count": 76,
   "metadata": {},
   "outputs": [
    {
     "name": "stdout",
     "output_type": "stream",
     "text": [
      "(141,)\n"
     ]
    }
   ],
   "source": [
    "cmd = '''\n",
    "SELECT COUNT(*)\n",
    "FROM (SELECT COUNT(*)\n",
    "FROM  ages \n",
    "INNER JOIN stars_FGK_nobinaries ON stars_FGK_nobinaries.sid = ages.sid\n",
    "GROUP BY stars_FGK_nobinaries.sid\n",
    "HAVING COUNT(*) > 1)\n",
    "'''\n",
    "c.execute(cmd)\n",
    "rows = c.fetchall()\n",
    "for row in rows:\n",
    "    print row"
   ]
  },
  {
   "cell_type": "markdown",
   "metadata": {},
   "source": [
    "Range of ages for stars with multiple measurements."
   ]
  },
  {
   "cell_type": "code",
   "execution_count": 6,
   "metadata": {
    "scrolled": true
   },
   "outputs": [
    {
     "name": "stdout",
     "output_type": "stream",
     "text": [
      "141\n",
      "(0, u'* eps Eri', 0.4, 10.34, 224.24906536031972)\n",
      "(1, u'* tau Cet', 5.6, 13.16, 96.86098654708519)\n",
      "(2, u'* e Eri', 5.72, 14.38, 92.79897128161166)\n",
      "(3, u'* del Pav', 6.9, 10.65, 43.81148211323224)\n",
      "(4, u'HD 219134', 4.62, 10.93, 80.10155506188511)\n",
      "(5, u'* bet Hyi', 5.47, 6.15, 11.518915866741963)\n",
      "(6, u'HD 157881', 1.1, 3.44, 103.08370044052863)\n",
      "(7, u'HD 217357', 1.1, 1.1, 0.0)\n",
      "(8, u'*  61 Vir', 4.2, 9.18, 78.86610182912345)\n",
      "(9, u'* zet Tuc', 2.1, 7.16, 125.96987676859882)\n",
      "(10, u'HD 192310', 4.667, 9.41, 65.5020024858445)\n",
      "(11, u'HD  32147', 4.5, 6.21, 31.769623780771017)\n",
      "(12, u'* del Eri', 7.3, 7.691, 5.2164632112600895)\n",
      "(13, u'HD 103095', 0.53, 13.88, 195.60439560439562)\n",
      "(14, u'* gam Pav', 0.57, 7.2, 135.97210828547992)\n",
      "(15, u'HD 151288', 2.6, 5.65, 73.93939393939394)\n",
      "(16, u'HD 122064', 5.5, 13.89, 96.93818601964182)\n",
      "(17, u'HD 103932', 2.5, 10.74, 124.2211055276382)\n",
      "(18, u'* alf Men', 4.9, 6.28, 25.794392523364486)\n",
      "(20, u'HD 166620', 4.35, 7.1, 48.33040421792619)\n",
      "(21, u'*  54 Psc', 1.96, 7.7, 101.77304964539006)\n",
      "(22, u'HD  74576', 2.96, 7.54, 81.1577082102776)\n",
      "(23, u'HD  85512', 4.5569999999999995, 6.68, 37.785885912610134)\n",
      "(25, u'HD 222237', 3.5, 13.14, 136.24478835417992)\n",
      "(26, u'HD 125072', 4.539, 8.67, 56.16778272544955)\n",
      "(27, u'HD  72673', 3.73, 8.67, 73.67636092468307)\n",
      "(29, u'HD  21531', 0.5, 4.18, 157.26495726495727)\n",
      "(30, u'HD  69830', 2.65, 7.4, 92.85504838236733)\n",
      "(31, u'HD 104304', 5.9, 9.41, 48.32491968793025)\n",
      "(32, u'HD 190007', 1.5, 10.17, 193.09576837416483)\n",
      "(33, u'HD 101581', 2.6, 7.45, 100.1583258759551)\n",
      "(34, u'HD  82106', 0.4, 7.85, 276.9516728624535)\n",
      "(35, u'HD 158633', 4.19, 8.67, 67.96705678370176)\n",
      "(36, u'HD  14412', 3.45, 6.43, 66.68797953964194)\n",
      "(37, u'HD  40307', 5.5, 11.65, 83.60237892948174)\n",
      "(38, u'HD  27274', 4.5, 6.64, 38.42010771992818)\n",
      "(40, u'HD 170657', 1.26, 7.95, 148.66666666666666)\n",
      "(42, u'*  58 Eri', 0.4, 3.4, 222.45762711864407)\n",
      "(43, u'HD 128165', 3.0, 6.84, 74.90247074122237)\n",
      "(44, u'HD 214749', 0.6, 13.15, 189.10095429432445)\n",
      "(46, u'HD  10436', 1.16, 7.88, 148.67256637168143)\n",
      "(48, u'HD 145417', 8.17, 8.8, 7.424867413081919)\n",
      "(49, u'HD 154577', 4.8, 6.42, 29.235280848184075)\n",
      "(50, u'*  47 UMa', 3.3, 12.1, 135.90733590733592)\n",
      "(52, u'HD  23356', 0.95, 11.67, 216.64443636069677)\n",
      "(53, u'*  10 Tau', 4.2, 6.92, 47.035573122529634)\n",
      "(54, u'HD   5133', 1.55, 7.23, 101.47387226440377)\n",
      "(55, u'HD 120467', 4.35, 9.25, 72.05882352941177)\n",
      "(56, u'HD 110315', 6.6, 13.16, 69.54063604240284)\n",
      "(58, u'HD 234078', 0.85, 3.56, 122.90249433106575)\n",
      "(60, u'V* pi.01 UMa', 0.13, 6.02, 394.5454545454546)\n",
      "(63, u'HD  52698', 2.0, 4.6, 85.7142857142857)\n",
      "(64, u'HD 196761', 2.81, 9.41, 104.82608399700497)\n",
      "(65, u'* psi Cap', 1.0, 1.866, 62.881208248620396)\n",
      "(66, u'* nu.02 Lup', 3.6, 14.11, 145.06556245686681)\n",
      "(68, u'HD 142709', 4.462, 6.58, 38.36261546821229)\n",
      "(70, u'HD 205390', 1.4, 7.18, 140.54711246200606)\n",
      "(71, u'HD  84117', 2.16, 7.03, 127.40353172007848)\n",
      "(72, u'HD 144628', 6.093999999999999, 12.39, 78.45678396969396)\n",
      "(73, u'HD 218511', 0.9, 4.34, 131.29770992366412)\n",
      "(74, u'* eta Lep', 1.26, 2.5, 75.94316511513964)\n",
      "(75, u'* alf Crv', 0.35, 1.34, 115.82334015794092)\n",
      "(78, u'* nu. Phe', 2.8, 5.3, 65.85879873551106)\n",
      "(79, u'HD  38858', 1.77, 8.16, 135.1904090267983)\n",
      "(80, u'HD  21197', 1.5, 10.0, 139.8793198025233)\n",
      "(81, u'*  51 Peg', 4.32, 7.62, 58.89351576442594)\n",
      "(83, u'* mu. Ara', 6.5, 8.18, 22.984102662325224)\n",
      "(84, u'HD 190404', 6.49, 7.3, 11.481218993621539)\n",
      "(85, u'* tau Boo', 0.4, 1.78, 111.6504854368932)\n",
      "(87, u'HD 213042', 4.448, 7.27, 48.16521590715138)\n",
      "(88, u'HD 118972', 0.4, 8.67, 161.31339401820549)\n",
      "(90, u'V* V1386 Ori', 0.32, 5.58, 242.76923076923077)\n",
      "(94, u'HD 135599', 1.3, 9.88, 153.48837209302323)\n",
      "(95, u'* chi Her', 4.4, 9.7, 73.75745526838965)\n",
      "(96, u'* phi02 Cet', 1.12, 4.19, 117.56017505470459)\n",
      "(98, u'HD 202575', 2.2, 7.63, 110.47812817904374)\n",
      "(99, u'HD  23484', 0.6, 6.45, 165.95744680851064)\n",
      "(101, u'* I Car', 1.02, 1.259, 20.97411145239139)\n",
      "(102, u'HD  24451', 4.47, 7.74, 53.562653562653566)\n",
      "(104, u'HD 128311', 0.3, 5.79, 180.29556650246306)\n",
      "(109, u'HD 130992', 4.32, 7.05, 48.021108179419514)\n",
      "(110, u'HD 152391', 0.6, 6.82, 193.76947040498447)\n",
      "(112, u'HD  76151', 0.295, 4.56, 180.78417520310845)\n",
      "(113, u'HD  55575', 5.54, 10.6, 70.5226480836237)\n",
      "(114, u'HD 174080', 5.57, 6.76, 19.302514193025132)\n",
      "(115, u'HD 221354', 6.36, 7.84, 20.845070422535205)\n",
      "(117, u'HD 177565', 1.127, 4.17, 97.56332157742867)\n",
      "(118, u'HD   7924', 1.64, 4.65, 95.70747217806043)\n",
      "(119, u'HD 111395', 0.79, 4.94, 154.38988095238096)\n",
      "(120, u'HD  65583', 6.52, 14.14, 81.78159377515429)\n",
      "(122, u'HD  62613', 1.95, 4.95, 76.53061224489797)\n",
      "(124, u'HD  47752', 5.11, 7.28, 35.02824858757062)\n",
      "(127, u'* iot Hor', 0.7, 1.56, 74.56647398843931)\n",
      "(128, u'* q01 Eri', 1.23, 1.9, 45.270270270270274)\n",
      "(129, u'* g Lup', 1.15, 1.995, 53.736089030206685)\n",
      "(130, u'HD 193664', 2.74, 4.81, 56.55737704918032)\n",
      "(131, u'*  37 Gem', 4.57, 6.53, 35.99632690541782)\n",
      "(132, u'* rho CrB', 2.5, 12.25, 119.29037520391516)\n",
      "(135, u'* e Vir', 0.1, 9.0, 290.53318824809577)\n",
      "(136, u'*  10 CVn', 5.1, 14.5, 116.91542288557213)\n",
      "(139, u'* tau06 Eri', 1.58, 4.0, 95.77836411609498)\n",
      "(140, u'*  58 Oph', 2.08, 2.558, 20.61233290211297)\n",
      "(144, u'HD  30876', 5.2, 10.16, 64.58333333333334)\n",
      "(147, u'HD 102438', 4.94, 12.5, 92.87184054543779)\n",
      "(148, u'* iot Pav', 5.1, 6.19, 19.675090252707594)\n",
      "(151, u'HD  35854', 4.8069999999999995, 6.33, 27.35027386190178)\n",
      "(152, u'HD 189567', 4.5, 11.69, 85.72280178837556)\n",
      "(153, u'HD   3765', 3.45, 6.57, 58.29051844932275)\n",
      "(154, u'*  14 Her', 2.53, 9.22, 100.60150375939853)\n",
      "(156, u'HD   2025', 4.5569999999999995, 6.7, 38.07408723460959)\n",
      "(158, u'*  70 Vir', 7.53, 9.12, 19.36662606577343)\n",
      "(159, u'*   6 Cet', 3.0, 6.69, 76.61960132890366)\n",
      "(160, u'* ksi Gem', 1.6, 1.698, 5.9429957550030235)\n",
      "(163, u'HD 206860', 0.2, 9.9, 316.9934640522876)\n",
      "(165, u'* chi Cnc', 2.35, 4.6, 62.97481007596959)\n",
      "(167, u'HD 222335', 3.36, 7.23, 78.05251905933606)\n",
      "(170, u'HD 154088', 4.1530000000000005, 8.3, 66.60242511844535)\n",
      "(171, u'* pi. Men', 0.7709999999999999, 5.8, 159.13297998576058)\n",
      "(172, u'* eta Crv', 1.012, 2.4, 85.29291274068004)\n",
      "(174, u'HD 154345', 3.74, 5.39, 36.85778108711838)\n",
      "(176, u'* tau PsA', 0.89, 4.9, 138.51468048359243)\n",
      "(178, u'HD  97503', 5.67, 6.7, 16.65319320937753)\n",
      "(181, u'HD  25329', 5.94, 7.41, 22.73195876288659)\n",
      "(182, u'HD  42807', 0.4, 5.51, 171.8609865470852)\n",
      "(187, u'HD  25457', 1.46, 3.5, 82.50758341759354)\n",
      "(188, u'HD 170493', 4.4, 6.64, 40.57971014492753)\n",
      "(191, u'*  15 LMi', 5.1, 9.3, 57.86452353616534)\n",
      "(193, u'HD  52711', 3.02, 6.8, 68.00599700149925)\n",
      "(195, u'HD  78366', 0.8, 2.37, 113.27561327561327)\n",
      "(201, u'HD 220339', 4.2, 6.19, 37.83509728119653)\n",
      "(203, u'* 110 Her', 2.2, 3.58, 49.83028814905756)\n",
      "(205, u'HD 194640', 4.92, 6.43, 26.44483362521891)\n",
      "(206, u'HD 130307', 5.56, 9.63, 53.58788676761028)\n",
      "(208, u'HD  36435', 0.5, 5.3, 228.57142857142856)\n",
      "(209, u'* alf Cha', 1.5, 1.939, 25.429619617686814)\n",
      "(210, u'HD 216520', 4.84, 5.19, 6.979062811565314)\n",
      "(216, u'HD 192263', 1.5, 5.65, 122.7810650887574)\n",
      "(217, u'HD 157347', 4.26, 7.95, 60.49180327868853)\n",
      "(219, u'HD 136923', 1.96, 3.0, 41.935483870967744)\n",
      "(221, u'HD 189733', 0.4, 6.89, 199.07975460122694)\n",
      "(226, u'HD 181321', 0.15, 1.23, 156.52173913043478)\n"
     ]
    }
   ],
   "source": [
    "cmd = '''\n",
    "SELECT stars_FGK_nobinaries.sid, stars_FGK_nobinaries.main_id, MIN(ages.age), MAX(ages.age), \n",
    "100*(MAX(ages.age) - MIN(ages.age))/AVG(ages.age)\n",
    "FROM  ages \n",
    "INNER JOIN stars_FGK_nobinaries ON stars_FGK_nobinaries.sid = ages.sid\n",
    "GROUP BY stars_FGK_nobinaries.sid\n",
    "HAVING COUNT(*) > 1\n",
    "ORDER BY stars_FGK_nobinaries.sid\n",
    "'''\n",
    "c.execute(cmd)\n",
    "rows = c.fetchall()\n",
    "print len(rows)\n",
    "for row in rows:\n",
    "    print row"
   ]
  },
  {
   "cell_type": "markdown",
   "metadata": {},
   "source": [
    "Stars whose only age measurement is **only** from a given bibcode:"
   ]
  },
  {
   "cell_type": "code",
   "execution_count": 77,
   "metadata": {},
   "outputs": [
    {
     "name": "stdout",
     "output_type": "stream",
     "text": [
      "10\n",
      "(24, u'V* V2689 Ori', 1, u'2017AJ....153...21L', 4.56)\n",
      "(41, u'HD  29697', 1, u'2017AJ....153...21L', 6.18)\n",
      "(59, u'HD 173818', 1, u'2017AJ....153...21L', 6.43)\n",
      "(123, u'HD 124642', 1, u'2017AJ....153...21L', 5.52)\n",
      "(126, u'HD  94765', 1, u'2017AJ....153...21L', 4.49)\n",
      "(175, u'HD  87883', 1, u'2017AJ....153...21L', 6.53)\n",
      "(197, u'HD 160964', 1, u'2017AJ....153...21L', 2.53)\n",
      "(348, u'HD  28343', 1, u'2017AJ....153...21L', 4.79)\n",
      "(494, u'HD  23453', 1, u'2017AJ....153...21L', 1.73)\n",
      "(495, u'HD 184489', 1, u'2017AJ....153...21L', 5.29)\n"
     ]
    }
   ],
   "source": [
    "cmd = '''\n",
    "SELECT stars_FGK_nobinaries.sid, stars_FGK_nobinaries.main_id, COUNT(*), ages.bibcode, ages.age\n",
    "FROM  ages \n",
    "INNER JOIN stars_FGK_nobinaries ON stars_FGK_nobinaries.sid = ages.sid\n",
    "GROUP BY stars_FGK_nobinaries.sid\n",
    "HAVING COUNT(*)= 1 AND ages.bibcode = '2017AJ....153...21L'\n",
    "ORDER BY stars_FGK_nobinaries.sid\n",
    "'''\n",
    "c.execute(cmd)\n",
    "rows = c.fetchall()\n",
    "print len(rows)\n",
    "for row in rows:\n",
    "    print row"
   ]
  },
  {
   "cell_type": "markdown",
   "metadata": {},
   "source": [
    "Stars with measurements from a given bibcode:"
   ]
  },
  {
   "cell_type": "code",
   "execution_count": 51,
   "metadata": {},
   "outputs": [
    {
     "name": "stdout",
     "output_type": "stream",
     "text": [
      "11\n",
      "(65, u'* psi Cap', u'2015ApJ...804..146D', 1.866)\n",
      "(74, u'* eta Lep', u'2015ApJ...804..146D', 1.394)\n",
      "(75, u'* alf Crv', u'2015ApJ...804..146D', 0.729)\n",
      "(101, u'* I Car', u'2015ApJ...804..146D', 1.259)\n",
      "(129, u'* g Lup', u'2015ApJ...804..146D', 1.995)\n",
      "(139, u'* tau06 Eri', u'2015ApJ...804..146D', 2.0)\n",
      "(140, u'*  58 Oph', u'2015ApJ...804..146D', 2.558)\n",
      "(160, u'* ksi Gem', u'2015ApJ...804..146D', 1.698)\n",
      "(172, u'* eta Crv', u'2015ApJ...804..146D', 1.012)\n",
      "(203, u'* 110 Her', u'2015ApJ...804..146D', 3.107)\n",
      "(209, u'* alf Cha', u'2015ApJ...804..146D', 1.939)\n"
     ]
    }
   ],
   "source": [
    "cmd = '''\n",
    "SELECT stars_FGK_nobinaries.sid, stars_FGK_nobinaries.main_id, ages.bibcode, ages.age\n",
    "FROM  ages \n",
    "INNER JOIN stars_FGK_nobinaries ON stars_FGK_nobinaries.sid = ages.sid\n",
    "WHERE ages.bibcode = '2015ApJ...804..146D'\n",
    "ORDER BY stars_FGK_nobinaries.sid\n",
    "'''\n",
    "c.execute(cmd)\n",
    "rows = c.fetchall()\n",
    "print len(rows)\n",
    "for row in rows:\n",
    "    print row"
   ]
  },
  {
   "cell_type": "markdown",
   "metadata": {},
   "source": [
    "Which stars have no age measurements?"
   ]
  },
  {
   "cell_type": "code",
   "execution_count": 54,
   "metadata": {
    "scrolled": true
   },
   "outputs": [
    {
     "name": "stdout",
     "output_type": "stream",
     "text": [
      "75\n",
      "(228, u'Ross  154', None, u'HIP  92403', 2.9751031468261004)\n",
      "(229, u'HD 217987', u'HD 217987', u'HIP 114046', 3.287105670585992)\n",
      "(230, u'Ross  128', None, u'HIP  57548', 3.3748746655921065)\n",
      "(231, u'V* YZ Cet', None, u'HIP   5643', 3.7124651213901845)\n",
      "(232, u'BD+05  1668', None, u'HIP  36208', 3.8025705376834735)\n",
      "(235, u'BD-12  4523', None, u'HIP  80824', 4.306456023547701)\n",
      "(236, u'HD 225213', u'HD 225213', u'HIP    439', 4.345311474099119)\n",
      "(237, u'CD-46 11540', None, u'HIP  85523', 4.549565698458425)\n",
      "(238, u'HD 204961', u'HD 204961', u'HIP 106440', 4.96506333186533)\n",
      "(239, u'CD-44 11909', None, u'HIP  86214', 5.00743353508283)\n",
      "(240, u'G  99-49', None, None, 5.206502922149765)\n",
      "(241, u'G 254-29', None, u'HIP  57544', 5.255896458839761)\n",
      "(242, u'LP  656-38', None, None, 5.375676461686748)\n",
      "(243, u'HD 119850', u'HD 119850', u'HIP  67155', 5.43526705641155)\n",
      "(244, u'HD 265866', u'HD 265866', u'HIP  33226', 5.581472191431101)\n",
      "(245, u'LP  816-60', None, u'HIP 103039', 5.614057149978975)\n",
      "(246, u'HD  42581', u'HD  42581', u'HIP  29295', 5.757201539475692)\n",
      "(247, u'Ross   47', None, u'HIP  26857', 5.7901599705396665)\n",
      "(248, u'L  205-128', None, u'HIP  86990', 5.887156168002953)\n",
      "(249, u'V* BR Psc', None, u'HIP 117473', 5.904634252192833)\n",
      "(250, u'CD-40  9712', None, u'HIP  76074', 5.916900680088564)\n",
      "(251, u'V* YZ CMi', None, u'HIP  37766', 5.987357096754494)\n",
      "(253, u'BD-11  3759', None, u'HIP  71253', 6.245546144905414)\n",
      "(254, u'BD-07  4003', None, u'HIP  74995', 6.299244342648656)\n",
      "(255, u'G 202-48', None, u'HIP  80459', 6.473707038861663)\n",
      "(256, u'L  100-115', None, None, 6.5027285448974395)\n",
      "(257, u'L  471-42', None, None, 6.673682931989165)\n",
      "(258, u'Ross  104', None, u'HIP  53767', 6.750904452424014)\n",
      "(259, u'HD 216899', u'HD 216899', u'HIP 113296', 6.867627173003083)\n",
      "(260, u'Wolf  358', None, u'HIP  53020', 6.968781947509741)\n",
      "(261, u'BD+01  2447', None, u'HIP  51317', 7.032917570689613)\n",
      "(262, u'HD 156384C', u'HD 156384C', None, 7.245479002239577)\n",
      "(263, u'L  499-56', None, None, 7.446570854121678)\n",
      "(264, u'BD+11  2576', None, u'HIP  65859', 7.619465601160598)\n",
      "(265, u'V* VX Ari', None, u'HIP  12781', 7.681258497392212)\n",
      "(266, u'V* AN Sex', None, u'HIP  49986', 7.704831006089128)\n",
      "(267, u'G 192-13', None, None, 7.724459268540053)\n",
      "(268, u'HD 165222', u'HD 165222', u'HIP  88574', 7.728441127054026)\n",
      "(269, u'G 154-44', None, None, 7.962594914131376)\n",
      "(270, u'LP  399-68', None, u'HIP  61874', 8.04812132703863)\n",
      "(271, u'Wolf  437', None, u'HIP  62452', 8.07614186550801)\n",
      "(272, u'G 262-15', None, u'HIP 101180', 8.080514243926483)\n",
      "(273, u'L  674-15', None, None, 8.11553931004931)\n",
      "(274, u'BD+18  3421', None, u'HIP  86287', 8.159209013641382)\n",
      "(275, u'G 227-29', None, None, 8.23045267489712)\n",
      "(7, u'HD 217357', u'HD 217357', u'HIP 113576', 8.231008183268337)\n",
      "(276, u'Ross  318', None, u'HIP   4856', 8.235624511524522)\n",
      "(277, u'Ross   64', None, None, 8.493218165295012)\n",
      "(278, u'L   49-19', None, u'HIP 113229', 8.590128053038885)\n",
      "(279, u'G  19-7', None, None, 8.693089602282457)\n",
      "(280, u'MCC 135', None, u'HIP  57802', 8.761354715711562)\n",
      "(281, u'BD-05  5715', None, u'HIP 109388', 8.802816901408452)\n",
      "(282, u'G 111-47', None, u'HIP  38956', 8.842538268294991)\n",
      "(283, u'Ross  695', None, u'HIP  60559', 8.870186593245174)\n",
      "(284, u'G 113-20', None, u'HIP  40501', 8.941192880306934)\n",
      "(285, u'CD-31  9113', None, u'HIP  56528', 9.066939400203823)\n",
      "(286, u'V* V374 Peg', None, u'HIP 108706', 9.10405203147817)\n",
      "(287, u'Ross 1015', None, u'HIP  66906', 9.189039681030055)\n",
      "(288, u'LP  776-46', None, u'HIP  23512', 9.231368559620332)\n",
      "(289, u'Ross  837', None, None, 9.352384764591124)\n",
      "(290, u'CD-30   731', None, u'HIP   9786', 9.371245644713586)\n",
      "(291, u'CD-45  5378', None, u'HIP  47780', 9.415202916453255)\n",
      "(292, u'L  678-39', None, u'HIP  47103', 9.44438672874777)\n",
      "(293, u'G 222-11', None, u'HIP  29277', 9.461266049855194)\n",
      "(294, u'HD 285968', u'HD 285968', u'HIP  21932', 9.473043035087203)\n",
      "(295, u'CD-51  6859', None, u'HIP  61629', 9.47757700057434)\n",
      "(296, u'BD+43  2796', None, u'HIP  86776', 9.525188408226715)\n",
      "(297, u'G  42-24', None, None, 9.569258947017884)\n",
      "(298, u'Wolf 1069', None, None, 9.586064163361872)\n",
      "(299, u'CD-48 11837', None, u'HIP  86057', 9.675858732462506)\n",
      "(300, u'Ross  905', None, u'HIP  57087', 9.7559547909055)\n",
      "(301, u'G  48-20', None, u'HIP  46655', 9.901068523315036)\n",
      "(302, u'HD 232979', u'HD 232979', u'HIP  21553', 9.922633228715702)\n",
      "(303, u'G 160-28', None, None, 9.944321742563387)\n",
      "(304, u'G  36-24', None, None, 9.971730145038814)\n"
     ]
    }
   ],
   "source": [
    "cmd = '''\n",
    "SELECT s.sid, s.main_id, s.hd, s.hip, 1/(s.plx_value*1e-3) as d\n",
    "FROM  stars_FGK_nobinaries as s\n",
    "LEFT OUTER JOIN ages as a ON s.sid = a.sid\n",
    "WHERE a.Age IS Null AND d < 10\n",
    "ORDER BY d\n",
    "'''\n",
    "c.execute(cmd)\n",
    "rows = c.fetchall()\n",
    "print len(rows)\n",
    "for row in rows:\n",
    "    print row"
   ]
  },
  {
   "cell_type": "code",
   "execution_count": 85,
   "metadata": {},
   "outputs": [
    {
     "name": "stdout",
     "output_type": "stream",
     "text": [
      "1\n",
      "(222, u'HD 110810', 1, u'2012ApJ...756...46R', 10.16)\n"
     ]
    }
   ],
   "source": [
    "cmd = '''\n",
    "SELECT stars_FGK_nobinaries.sid, stars_FGK_nobinaries.main_id, COUNT(*), ages.bibcode, ages.age\n",
    "FROM  ages \n",
    "INNER JOIN stars_FGK_nobinaries ON stars_FGK_nobinaries.sid = ages.sid\n",
    "GROUP BY stars_FGK_nobinaries.sid\n",
    "HAVING COUNT(*)= 1 AND ages.bibcode = '2012ApJ...756...46R'\n",
    "ORDER BY stars_FGK_nobinaries.sid\n",
    "'''\n",
    "c.execute(cmd)\n",
    "rows = c.fetchall()\n",
    "print len(rows)\n",
    "for row in rows:\n",
    "    print row"
   ]
  },
  {
   "cell_type": "markdown",
   "metadata": {},
   "source": [
    "What percentage of FGK stars lack age measurements and what are the parallaxes of the two stellar samples?"
   ]
  },
  {
   "cell_type": "code",
   "execution_count": 80,
   "metadata": {
    "collapsed": true
   },
   "outputs": [],
   "source": [
    "cmd = '''\n",
    "SELECT stars_FGK_nobinaries.plx_value, stars_FGK_nobinaries.sp_type\n",
    "FROM  ages \n",
    "INNER JOIN stars_FGK_nobinaries ON stars_FGK_nobinaries.sid = ages.sid\n",
    "WHERE (stars_FGK_nobinaries.sp_type LIKE 'F%' \n",
    "    OR stars_FGK_nobinaries.sp_type LIKE 'G%' \n",
    "    OR stars_FGK_nobinaries.sp_type LIKE 'K%')\n",
    "GROUP BY stars_FGK_nobinaries.sid\n",
    "'''\n",
    "c.execute(cmd)\n",
    "plx_yesage = c.fetchall()\n",
    "\n",
    "cmd = '''\n",
    "SELECT stars_FGK_nobinaries.plx_value, stars_FGK_nobinaries.sp_type\n",
    "FROM  stars_FGK_nobinaries\n",
    "LEFT OUTER JOIN ages ON stars_FGK_nobinaries.sid = ages.sid\n",
    "WHERE ages.age IS Null \n",
    "    AND (stars_FGK_nobinaries.sp_type LIKE 'F%' \n",
    "    OR stars_FGK_nobinaries.sp_type LIKE 'G%' \n",
    "    OR stars_FGK_nobinaries.sp_type LIKE 'K%')\n",
    "GROUP BY stars_FGK_nobinaries.sid\n",
    "'''\n",
    "c.execute(cmd)\n",
    "plx_noage = c.fetchall()"
   ]
  },
  {
   "cell_type": "code",
   "execution_count": 81,
   "metadata": {},
   "outputs": [
    {
     "data": {
      "image/png": "[encoded data removed]",
      "text/plain": [
       "<matplotlib.figure.Figure at 0x10b064e90>"
      ]
     },
     "metadata": {},
     "output_type": "display_data"
    }
   ],
   "source": [
    "plt.figure(figsize=(10,5))\n",
    "plt.hist(zip(*plx_yesage)[0],histtype='step',\n",
    "         label='Plx of stars with at least 1 age meas.\\n({:1.0f}% of stars)'.format(100*float(len(plx_yesage))/(len(plx_yesage) + len(plx_noage))),\n",
    "         bins = np.linspace(50,300,50))\n",
    "plt.hist(zip(*plx_noage)[0],histtype='step',label='Plx of stars with no age meas.',\n",
    "         bins = np.linspace(50,300,50),linestyle='dashed')\n",
    "plt.legend()\n",
    "plt.xlim(40,300)\n",
    "plt.xlabel('Parallax (mas)')\n",
    "plt.ylabel('Number')\n",
    "#axdist = plt.gca().twiny()\n",
    "#axdist.hist(1/(np.array(plx_noage)[:,0]*1e-3),histtype='step',\n",
    "#           bins = np.linspace(50,300,25),linestyle='dashed')\n",
    "#axdist.set_xlim(1/40e-3,1/300e-3)\n",
    "#axdist.set_xlabel('Distance (pc)')\n",
    "plt.show()"
   ]
  },
  {
   "cell_type": "markdown",
   "metadata": {},
   "source": [
    "Difference is more clear in a CDF in terms of distance:"
   ]
  },
  {
   "cell_type": "code",
   "execution_count": 82,
   "metadata": {},
   "outputs": [
    {
     "data": {
      "image/png": "[encoded data removed]",
      "text/plain": [
       "<matplotlib.figure.Figure at 0x113715d50>"
      ]
     },
     "metadata": {},
     "output_type": "display_data"
    }
   ],
   "source": [
    "plt.figure(figsize=(10,5))\n",
    "plt.hist(1e3/np.array(zip(*plx_yesage)[0]),histtype='step',\n",
    "         label='Plx of stars with at least 1 age meas.\\n({:1.0f}% of stars)'.format(100*float(len(plx_yesage))/(len(plx_yesage) + len(plx_noage))),\n",
    "         bins = np.linspace(0,20,50),cumulative=1,normed=True)\n",
    "plt.hist(1e3/np.array(zip(*plx_noage)[0]),histtype='step',label='Plx of stars with no age meas.',\n",
    "         bins = np.linspace(0,20,50),cumulative=1,normed=True)\n",
    "plt.legend(loc='upper left')\n",
    "plt.ylabel('Percentage')\n",
    "plt.xlabel('Distance (pc)')\n",
    "plt.show()"
   ]
  },
  {
   "cell_type": "markdown",
   "metadata": {},
   "source": [
    "Spectral types of stars with and without age measurements."
   ]
  },
  {
   "cell_type": "code",
   "execution_count": 83,
   "metadata": {},
   "outputs": [
    {
     "name": "stdout",
     "output_type": "stream",
     "text": [
      "[ 100.           97.77777778   60.64516129]\n"
     ]
    }
   ],
   "source": [
    "percen_FGK_yesage = np.zeros(3)\n",
    "\n",
    "tot_stars = float(len(plx_yesage) + len(plx_noage))\n",
    "\n",
    "for i, stype in enumerate(['F','G','K']):\n",
    "    \n",
    "    tot_stars = float(len(np.where(np.char.find(np.array(zip(*plx_yesage)[1]),stype) == 0)[0]) +\\\n",
    "                     len(np.where(np.char.find(np.array(zip(*plx_noage)[1]),stype) == 0)[0]))\n",
    "    \n",
    "    percen_FGK_yesage[i] = len(np.where(np.char.find(np.array(zip(*plx_yesage)[1]),stype) == 0)[0]) / tot_stars\n",
    "    \n",
    "print percen_FGK_yesage*100."
   ]
  },
  {
   "cell_type": "code",
   "execution_count": 84,
   "metadata": {},
   "outputs": [
    {
     "data": {
      "image/png": "[encoded data removed]",
      "text/plain": [
       "<matplotlib.figure.Figure at 0x1138b2390>"
      ]
     },
     "metadata": {},
     "output_type": "display_data"
    }
   ],
   "source": [
    "plt.figure(figsize=(10,5))\n",
    "plt.bar(range(3),height=percen_FGK_yesage*100)\n",
    "plt.ylabel('Percentage of stars with age measurements')\n",
    "plt.xticks(range(3),['F-type\\nstars','G-type\\nstars','K-type\\nstars'],fontsize='18')\n",
    "for i, stype in enumerate(['F','G','K']):\n",
    "    plt.text(i,percen_FGK_yesage[i]*100./2.,'{:1.0f}%'.format(percen_FGK_yesage[i]*100.),\n",
    "            horizontalalignment='center',fontsize='xx-large')\n",
    "plt.show()"
   ]
  },
  {
   "cell_type": "code",
   "execution_count": 348,
   "metadata": {
    "collapsed": true
   },
   "outputs": [],
   "source": [
    "c.close()"
   ]
  },
  {
   "cell_type": "code",
   "execution_count": null,
   "metadata": {
    "collapsed": true
   },
   "outputs": [],
   "source": []
  }
 ],
 "metadata": {
  "kernelspec": {
   "display_name": "Python 2",
   "language": "python",
   "name": "python2"
  },
  "language_info": {
   "codemirror_mode": {
    "name": "ipython",
    "version": 2
   },
   "file_extension": ".py",
   "mimetype": "text/x-python",
   "name": "python",
   "nbconvert_exporter": "python",
   "pygments_lexer": "ipython2",
   "version": "2.7.13"
  }
 },
 "nbformat": 4,
 "nbformat_minor": 2
}
