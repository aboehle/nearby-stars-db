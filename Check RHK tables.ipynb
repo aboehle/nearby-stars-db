{
 "cells": [
  {
   "cell_type": "code",
   "execution_count": 1,
   "metadata": {
    "collapsed": true
   },
   "outputs": [],
   "source": [
    "import pandas\n",
    "import sqlite3\n",
    "import numpy as np\n",
    "import matplotlib.pyplot as plt"
   ]
  },
  {
   "cell_type": "code",
   "execution_count": 2,
   "metadata": {
    "collapsed": true
   },
   "outputs": [],
   "source": [
    "connection = sqlite3.connect('nearby_stars.db')\n",
    "c = connection.cursor()"
   ]
  },
  {
   "cell_type": "markdown",
   "metadata": {},
   "source": [
    "## Add RHK tables"
   ]
  },
  {
   "cell_type": "code",
   "execution_count": 3,
   "metadata": {
    "collapsed": true
   },
   "outputs": [],
   "source": [
    "rhk_tab = pandas.read_csv('gray06_rhktable.csv')\n",
    "rhk_tab.to_sql('gray06_rhktable', connection)"
   ]
  },
  {
   "cell_type": "code",
   "execution_count": 36,
   "metadata": {
    "collapsed": true
   },
   "outputs": [],
   "source": [
    "rhk_tab = pandas.read_csv('gray03_rhktable.csv')\n",
    "rhk_tab.to_sql('gray03_rhktable', connection)"
   ]
  },
  {
   "cell_type": "code",
   "execution_count": 81,
   "metadata": {
    "collapsed": true
   },
   "outputs": [],
   "source": [
    "rhk_tab = pandas.read_csv('jenkins06_rhktable.csv')\n",
    "rhk_tab.to_sql('jenkins06_rhktable', connection)"
   ]
  },
  {
   "cell_type": "code",
   "execution_count": 83,
   "metadata": {},
   "outputs": [],
   "source": [
    "rhk_tab = pandas.read_csv('jenkins11_rhktable.csv')\n",
    "rhk_tab.to_sql('jenkins11_rhktable', connection)"
   ]
  },
  {
   "cell_type": "markdown",
   "metadata": {},
   "source": [
    "## Subquery for Gray+2006"
   ]
  },
  {
   "cell_type": "code",
   "execution_count": 80,
   "metadata": {
    "scrolled": false
   },
   "outputs": [
    {
     "name": "stdout",
     "output_type": "stream",
     "text": [
      "21\n",
      "(None, u'HIP 105341', None, u'K6.5Vk', 15.785494078071897)\n",
      "(None, u'HIP  99385', None, u'K6Vk', 15.80243167818664)\n",
      "(None, u'HIP  63833', None, u'K9Vk:', 16.289324465425096)\n",
      "(None, u'HIP  25283', None, u'K6V', 17.47933942080461)\n",
      "(None, u'HIP  18450', None, u'K6Vk:', 17.568671544901132)\n",
      "(None, u'HIP  92444', None, u'K8Vk', 17.661042213423098)\n",
      "(None, u'HIP  82834', None, u'K8Vk', 17.66547248072697)\n",
      "(None, u'HIP 106147', None, u'K7Vk:', 17.722609264316766)\n",
      "(None, u'HIP  63618', None, u'K5Vk:', 17.730590765553718)\n",
      "(None, u'HIP  73457', None, u'K8Vk', 17.850321484289932)\n",
      "(None, u'HIP 113697', None, u'K3+V', 17.946716199603376)\n",
      "(None, u'HIP  85561', None, u'K5V', 18.393206285326453)\n",
      "(None, u'HIP  15095', None, u'K5.5Vk:', 18.667303843971208)\n",
      "(None, u'HIP  31555', None, u'K8Vk', 18.937959245511706)\n",
      "(None, u'HIP  89825', None, u'K7Vk', 19.04090939383265)\n",
      "(None, u'HIP  90945', None, u'K4.5Vk:', 19.09533920960572)\n",
      "(None, u'HIP  38910', None, u'K4.5Vk:', 19.418342955122267)\n",
      "(None, u'HIP  98130', None, u'K3.5Vk:', 19.582079264340443)\n",
      "(None, u'HIP  34890', None, u'K6Vk:', 19.620846757262655)\n",
      "(None, u'HIP   3261', None, u'K9V', 19.625467576765015)\n",
      "(None, u'HIP 115123', None, u'K5Vk:', 19.76503328431605)\n"
     ]
    }
   ],
   "source": [
    "cmd = '''\n",
    "SELECT a.sid, t.Name, a.age, s.sp_type, 1e3/s.plx_value as d\n",
    "FROM gray06_rhktable as t\n",
    "    INNER JOIN stars_FGK_nobinaries as s\n",
    "    ON (RTRIM(LTRIM(LTRIM(t.Name,'HD'))) LIKE LTRIM(LTRIM(s.HD,'HD'))) OR\n",
    "    RTRIM(RTRIM('' || t.HIP,'0'),'.') = LTRIM(LTRIM(s.hip,'HIP'))\n",
    "    LEFT OUTER JOIN ages as a\n",
    "    ON a.sid = s.sid\n",
    "WHERE a.sid IS NULL\n",
    "ORDER BY d\n",
    "'''\n",
    "c.execute(cmd)\n",
    "rows = c.fetchall()\n",
    "print len(rows)\n",
    "for row in rows:\n",
    "    print row"
   ]
  },
  {
   "cell_type": "markdown",
   "metadata": {},
   "source": [
    "## Subquery for Gray+2003"
   ]
  },
  {
   "cell_type": "code",
   "execution_count": 79,
   "metadata": {
    "scrolled": true
   },
   "outputs": [
    {
     "name": "stdout",
     "output_type": "stream",
     "text": [
      "12\n",
      "(u'BD+30  2512', u'K6V', 14.522050281146894)\n",
      "(u'BD+63   137', u'K7V', 15.067706740237258)\n",
      "(u'HD  17230', u'K6V', 16.151748911372124)\n",
      "(u'HD 193202', u'K7V', 16.82289528757057)\n",
      "(u'HD 148467', u'K6V', 17.52912903016588)\n",
      "(u'HD 117936', u'K3V', 18.05386551314502)\n",
      "(u'V* V376 Gem', u'K2.5V', 18.15976232503069)\n",
      "(u'HD  49601', u'K6V', 18.66113799351712)\n",
      "(u'HD 130004', u'K0V', 18.81230399930771)\n",
      "(u'BD+06  2986', u'K8V', 19.015998159251378)\n",
      "(u'HD  68834', u'K5V', 19.187044907278608)\n",
      "(u'BD+40  4631', u'K8V', 19.833163429233288)\n"
     ]
    }
   ],
   "source": [
    "cmd = '''\n",
    "SELECT s.main_id, s.sp_type, 1e3/s.plx_value as d\n",
    "FROM gray03_rhktable as t\n",
    "    INNER JOIN stars_FGK_nobinaries as s\n",
    "    ON REPLACE(t.\"BD/HD\",' ','') LIKE REPLACE(s.main_id,' ','') OR\n",
    "    t.\"BD/HD\" LIKE s.HD OR\n",
    "    RTRIM(RTRIM('' || t.HIP,'0'),'.') = LTRIM(LTRIM(s.hip,'HIP'))\n",
    "    LEFT OUTER JOIN ages as a\n",
    "    ON a.sid = s.sid\n",
    "WHERE a.sid IS NULL\n",
    "ORDER BY d\n",
    "'''\n",
    "c.execute(cmd)\n",
    "rows = c.fetchall()\n",
    "print len(rows)\n",
    "for row in rows:\n",
    "    print row"
   ]
  },
  {
   "cell_type": "markdown",
   "metadata": {},
   "source": [
    "## Subquery for Jenkins+2006"
   ]
  },
  {
   "cell_type": "markdown",
   "metadata": {},
   "source": [
    "No new stars."
   ]
  },
  {
   "cell_type": "code",
   "execution_count": 106,
   "metadata": {
    "scrolled": true
   },
   "outputs": [
    {
     "name": "stdout",
     "output_type": "stream",
     "text": [
      "0\n"
     ]
    }
   ],
   "source": [
    "cmd = '''\n",
    "SELECT s.main_id, s.sp_type, 1e3/s.plx_value as d\n",
    "FROM jenkins06_rhktable as t\n",
    "    INNER JOIN stars_FGK_nobinaries as s\n",
    "    ON t.Star LIKE s.HD OR\n",
    "    LTRIM(LTRIM(t.Star,'GL')) LIKE LTRIM(LTRIM(s.GJ,'GJ'))\n",
    "    LEFT OUTER JOIN ages as a\n",
    "    ON a.sid = s.sid\n",
    "WHERE a.sid IS NULL\n",
    "ORDER BY d\n",
    "'''\n",
    "#cmd = '''\n",
    "#SELECT s.GJ\n",
    "#FROM stars_FGK_nobinaries as s\n",
    "#WHERE LTRIM(LTRIM(s.GJ,'GJ')) IN (\n",
    "#SELECT LTRIM(LTRIM(t.Star,'GL'))\n",
    "#FROM jenkins06_rhktable as t\n",
    "#WHERE t.Star NOT LIKE 'HD%')\n",
    "#'''\n",
    "c.execute(cmd)\n",
    "rows = c.fetchall()\n",
    "print len(rows)\n",
    "for row in rows:\n",
    "    print row"
   ]
  },
  {
   "cell_type": "markdown",
   "metadata": {},
   "source": [
    "## Subquery for Jenkins+2011"
   ]
  },
  {
   "cell_type": "markdown",
   "metadata": {},
   "source": [
    "No new stars."
   ]
  },
  {
   "cell_type": "code",
   "execution_count": 116,
   "metadata": {
    "scrolled": true
   },
   "outputs": [
    {
     "name": "stdout",
     "output_type": "stream",
     "text": [
      "0\n"
     ]
    }
   ],
   "source": [
    "cmd = '''\n",
    "SELECT s.main_id, s.sp_type, 1e3/s.plx_value as d\n",
    "--SELECT t.HIP, '' || t.HIP\n",
    "FROM jenkins11_rhktable as t\n",
    "    INNER JOIN stars_FGK_nobinaries as s\n",
    "    ON '' || t.HIP = LTRIM(LTRIM(s.hip,'HIP'))\n",
    "    LEFT OUTER JOIN ages as a\n",
    "    ON a.sid = s.sid\n",
    "WHERE a.sid IS NULL\n",
    "ORDER BY d\n",
    "'''\n",
    "c.execute(cmd)\n",
    "rows = c.fetchall()\n",
    "print len(rows)\n",
    "for row in rows:\n",
    "    print row"
   ]
  },
  {
   "cell_type": "code",
   "execution_count": null,
   "metadata": {
    "collapsed": true
   },
   "outputs": [],
   "source": []
  }
 ],
 "metadata": {
  "kernelspec": {
   "display_name": "Python 2",
   "language": "python",
   "name": "python2"
  },
  "language_info": {
   "codemirror_mode": {
    "name": "ipython",
    "version": 2
   },
   "file_extension": ".py",
   "mimetype": "text/x-python",
   "name": "python",
   "nbconvert_exporter": "python",
   "pygments_lexer": "ipython2",
   "version": "2.7.13"
  }
 },
 "nbformat": 4,
 "nbformat_minor": 2
}
